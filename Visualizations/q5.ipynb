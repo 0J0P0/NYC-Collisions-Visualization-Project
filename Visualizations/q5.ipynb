{
 "cells": [
  {
   "cell_type": "code",
   "execution_count": null,
   "metadata": {},
   "outputs": [],
   "source": [
    "import pandas as pd\n",
    "import altair as alt\n",
    "\n",
    "dir = '../Data'\n",
    "\n",
    "weather = pd.read_csv(f'{dir}/weather_clean.csv')\n",
    "collisions = pd.read_csv(f'{dir}/collisions_clean.csv')\n",
    "weather_aggregated = pd.read_csv(f'{dir}/weather_aggregated.csv')\n",
    "\n",
    "alt.data_transformers.enable(\"vegafusion\")\n",
    "# select the year from the CRASH DATE column\n",
    "collisions['YEAR'] = collisions['CRASH DATE'].astype(str).str[:4]"
   ]
  },
  {
   "cell_type": "code",
   "execution_count": null,
   "metadata": {},
   "outputs": [],
   "source": [
    "weather_aggregated['DATE'] = pd.to_datetime(weather_aggregated['DATE']).dt.strftime('%Y-%m-%d')\n",
    "weather_aggregated.head()"
   ]
  },
  {
   "cell_type": "markdown",
   "metadata": {},
   "source": [
    "## Is there a correlation between weather conditions and accidents?"
   ]
  },
  {
   "cell_type": "code",
   "execution_count": null,
   "metadata": {},
   "outputs": [],
   "source": [
    "collisions['CRASH DATE'] = pd.to_datetime(collisions['CRASH DATE']).dt.strftime('%Y-%m-%d')\n",
    "\n",
    "collisions_by_day = collisions[['CRASH DATE', 'COLLISION_ID']].groupby(['CRASH DATE']).count().reset_index()\n",
    "collisions_by_day.head()"
   ]
  },
  {
   "cell_type": "code",
   "execution_count": null,
   "metadata": {},
   "outputs": [],
   "source": [
    "merged_data = pd.merge(weather_aggregated, collisions_by_day, left_on='DATE', right_on='CRASH DATE')\n",
    "merged_data.drop(columns=['CRASH DATE'], inplace=True)\n",
    "merged_data.rename(columns={'COLLISION_ID': 'COLLISION COUNT'}, inplace=True)\n",
    "merged_data.head()"
   ]
  },
  {
   "cell_type": "code",
   "execution_count": null,
   "metadata": {},
   "outputs": [],
   "source": [
    "merged_data.describe()"
   ]
  },
  {
   "cell_type": "code",
   "execution_count": null,
   "metadata": {},
   "outputs": [],
   "source": [
    "merged_data['BEAUFORT_SCALE'] = merged_data['BEAUFORT_SCALE'].astype('category')\n",
    "merged_data['PRCP_SCALE'] = merged_data['PRCP_SCALE'].astype('category')\n",
    "\n",
    "# min temperature is 11, max temperature is 29\n",
    "bin_edges = list(range(10, 30, 2))\n",
    "merged_data['TEMP_SCALE'] = pd.cut(merged_data['MEAN_TEMP'], bins=bin_edges, right=False)"
   ]
  },
  {
   "cell_type": "code",
   "execution_count": null,
   "metadata": {},
   "outputs": [],
   "source": [
    "merged_data['CASES_COUNT'] = 1"
   ]
  },
  {
   "cell_type": "code",
   "execution_count": null,
   "metadata": {},
   "outputs": [],
   "source": [
    "agg_data = merged_data.groupby(['BEAUFORT_SCALE', 'TEMP_SCALE']).agg({'COLLISION COUNT': 'sum', 'CASES_COUNT': 'sum'}).reset_index()\n",
    "\n",
    "# change teh column type to categorical\n",
    "agg_data['BEAUFORT_SCALE'] = agg_data['BEAUFORT_SCALE'].astype('category')\n",
    "agg_data['TEMP_SCALE'] = agg_data['TEMP_SCALE'].astype('str')\n",
    "\n",
    "agg_data['NORMALIZED_COLLISION_COUNT'] = agg_data['COLLISION COUNT'] / agg_data['CASES_COUNT']\n",
    "\n",
    "agg_data.head()"
   ]
  },
  {
   "cell_type": "code",
   "execution_count": null,
   "metadata": {},
   "outputs": [],
   "source": [
    "# fill nan of NORMALIZED_COLLISION_COUNT with 0\n",
    "#agg_data['NORMALIZED_COLLISION_COUNT'].fillna(0, inplace=True)"
   ]
  },
  {
   "cell_type": "markdown",
   "metadata": {},
   "source": [
    "Given that in summertime there is nearly no rain, we decided for this first visualization to only analyze the data given the categorized average daily speed of wind and the average daily temperature. Since we want to encode two keys, wind and temperature, and a value, number of crashes, a heatmap seems to be a good option. To do so we also categorized the temperature taking into account the maximum and minimum temperatures registered. The result is correct and relatively easy to interpret, but at the same time there are values missing for some combinations, which is expectable since the climate does not usually vary much in the same season. "
   ]
  },
  {
   "cell_type": "code",
   "execution_count": null,
   "metadata": {},
   "outputs": [],
   "source": [
    "alt.Chart(agg_data).mark_rect().encode(\n",
    "    x=alt.X('TEMP_SCALE:O',\n",
    "            title='Temperature Scale',\n",
    "            axis=alt.Axis(labelAngle=0)),\n",
    "    y=alt.Y('BEAUFORT_SCALE:N',\n",
    "            \n",
    "            title='Beaufort Scale'),\n",
    "    color=alt.Color('NORMALIZED_COLLISION_COUNT:Q',\n",
    "                    scale=alt.Scale(range=['#f0fff1', '#5603ad']),\n",
    "                    title='Collision Count')\n",
    ").properties(\n",
    "    width=500,\n",
    "    height=300,\n",
    "    title='Collision Count by Beaufort Scale and Precipitation Scale'\n",
    ")"
   ]
  },
  {
   "cell_type": "code",
   "execution_count": null,
   "metadata": {},
   "outputs": [],
   "source": [
    "merged_data.columns"
   ]
  },
  {
   "cell_type": "markdown",
   "metadata": {},
   "source": [
    "The other option we consider to be useful is a small multiples of the scatterplots of collisions versus the three weather variables (precipitation, temperature and wind speed). This visualization is simple and clear to show if there is any correlation between the number of accidents and this meterological factors. "
   ]
  },
  {
   "cell_type": "code",
   "execution_count": null,
   "metadata": {},
   "outputs": [],
   "source": [
    "t1 = alt.Chart(merged_data).mark_point(\n",
    "    filled=True,\n",
    "    size=100,\n",
    "    opacity=0.5\n",
    ").encode(\n",
    "    x=alt.X('MEAN_TEMP:Q',\n",
    "            title='Mean Temperature',\n",
    "            scale=alt.Scale(domain=[10, 30])),\n",
    "    y=alt.Y('COLLISION COUNT:Q',\n",
    "            title='Number of Collisions'),\n",
    "    color=alt.Color('year(DATE):N',\n",
    "                    title='Year')\n",
    ").properties(\n",
    "    title='Number of Collisions by Mean Temperature'\n",
    ")\n",
    "\n",
    "t2 = alt.Chart(merged_data).mark_point(\n",
    "    filled=True,\n",
    "    size=100,\n",
    "    opacity=0.5\n",
    ").encode(\n",
    "    x=alt.X('PRCP:Q',\n",
    "            title='Precipitation'),\n",
    "    y=alt.Y('COLLISION COUNT:Q',\n",
    "            title='Number of Collisions'),\n",
    "    color=alt.Color('year(DATE):N',\n",
    "                    title='Year'),\n",
    ").properties(\n",
    "    title='Number of Collisions by Precipitation'\n",
    ")\n",
    "\n",
    "t3 = alt.Chart(merged_data).mark_point(\n",
    "    filled=True,\n",
    "    size=100,\n",
    "    opacity=0.5\n",
    ").encode(\n",
    "    x=alt.X('AWND:Q',\n",
    "            scale=alt.Scale(domain=[1, 6.5]),\n",
    "            title='Wind Speed'),\n",
    "    y=alt.Y('COLLISION COUNT:Q',\n",
    "            title='Number of Collisions'),\n",
    "    color=alt.Color('year(DATE):N',\n",
    "                    scale=alt.Scale(range=['#A7C9C7', '#8367C7']),\n",
    "                    title='Year'),\n",
    ").properties(\n",
    "    title='Number of Collisions by Wind Speed'\n",
    ")\n",
    "\n",
    "t1 | t2 | t3"
   ]
  },
  {
   "cell_type": "markdown",
   "metadata": {},
   "source": [
    "Since we are alredy using a heatmap for another question, we decided to use the small multiples for the scatterplots. As mentioned, this option is effective and really allows the user to see if there is any clear correlation. The main disadvantage of this plot is that it may occupy more space than other options."
   ]
  }
 ],
 "metadata": {
  "kernelspec": {
   "display_name": "Python 3",
   "language": "python",
   "name": "python3"
  },
  "language_info": {
   "codemirror_mode": {
    "name": "ipython",
    "version": 3
   },
   "file_extension": ".py",
   "mimetype": "text/x-python",
   "name": "python",
   "nbconvert_exporter": "python",
   "pygments_lexer": "ipython3",
   "version": "3.11.5"
  }
 },
 "nbformat": 4,
 "nbformat_minor": 2
}
