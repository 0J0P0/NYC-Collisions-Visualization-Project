{
 "cells": [
  {
   "cell_type": "code",
   "execution_count": 1,
   "metadata": {},
   "outputs": [
    {
     "data": {
      "text/plain": [
       "DataTransformerRegistry.enable('vegafusion')"
      ]
     },
     "execution_count": 1,
     "metadata": {},
     "output_type": "execute_result"
    }
   ],
   "source": [
    "import pandas as pd\n",
    "import altair as alt\n",
    "\n",
    "dir = '../Data'\n",
    "\n",
    "weather = pd.read_csv(f'{dir}/weather_clean.csv')\n",
    "collisions = pd.read_csv(f'{dir}/collisions_clean.csv')\n",
    "\n",
    "alt.data_transformers.enable(\"vegafusion\")"
   ]
  },
  {
   "cell_type": "code",
   "execution_count": 2,
   "metadata": {},
   "outputs": [],
   "source": [
    "colors = ({\n",
    "    'sequential': ['#5803AD', '#7FDFA1'],\n",
    "    'categorical': []\n",
    "})"
   ]
  },
  {
   "cell_type": "code",
   "execution_count": 3,
   "metadata": {},
   "outputs": [],
   "source": [
    "# select the year from the CRASH DATE column\n",
    "collisions['YEAR'] = collisions['CRASH DATE'].astype(str).str[:4]"
   ]
  },
  {
   "cell_type": "markdown",
   "metadata": {},
   "source": [
    "## At what time of the day are accidents more common?"
   ]
  },
  {
   "cell_type": "code",
   "execution_count": 4,
   "metadata": {},
   "outputs": [],
   "source": [
    "collisions['YEAR'] = collisions['CRASH DATE'].astype(str).str[:4]"
   ]
  },
  {
   "cell_type": "markdown",
   "metadata": {},
   "source": [
    "Since we aggregated the count accidents by time of the day in hours, we consider that a line chart is a great option to represent the evolution of total car crashes per hours. Also, this type of chart allows to separate the data by years (2018, 2020) very easlily to add extra information. As we can see the result clearly shows the top hours with more crashes and allows an easy comparison between hours and years."
   ]
  },
  {
   "cell_type": "code",
   "execution_count": 5,
   "metadata": {},
   "outputs": [
    {
     "data": {
      "text/html": [
       "\n",
       "<style>\n",
       "  #altair-viz-dce65496c63641a98490407160a3701d.vega-embed {\n",
       "    width: 100%;\n",
       "    display: flex;\n",
       "  }\n",
       "\n",
       "  #altair-viz-dce65496c63641a98490407160a3701d.vega-embed details,\n",
       "  #altair-viz-dce65496c63641a98490407160a3701d.vega-embed details summary {\n",
       "    position: relative;\n",
       "  }\n",
       "</style>\n",
       "<div id=\"altair-viz-dce65496c63641a98490407160a3701d\"></div>\n",
       "<script type=\"text/javascript\">\n",
       "  var VEGA_DEBUG = (typeof VEGA_DEBUG == \"undefined\") ? {} : VEGA_DEBUG;\n",
       "  (function(spec, embedOpt){\n",
       "    let outputDiv = document.currentScript.previousElementSibling;\n",
       "    if (outputDiv.id !== \"altair-viz-dce65496c63641a98490407160a3701d\") {\n",
       "      outputDiv = document.getElementById(\"altair-viz-dce65496c63641a98490407160a3701d\");\n",
       "    }\n",
       "    const paths = {\n",
       "      \"vega\": \"https://cdn.jsdelivr.net/npm/vega@5?noext\",\n",
       "      \"vega-lib\": \"https://cdn.jsdelivr.net/npm/vega-lib?noext\",\n",
       "      \"vega-lite\": \"https://cdn.jsdelivr.net/npm/vega-lite@5.14.1?noext\",\n",
       "      \"vega-embed\": \"https://cdn.jsdelivr.net/npm/vega-embed@6?noext\",\n",
       "    };\n",
       "\n",
       "    function maybeLoadScript(lib, version) {\n",
       "      var key = `${lib.replace(\"-\", \"\")}_version`;\n",
       "      return (VEGA_DEBUG[key] == version) ?\n",
       "        Promise.resolve(paths[lib]) :\n",
       "        new Promise(function(resolve, reject) {\n",
       "          var s = document.createElement('script');\n",
       "          document.getElementsByTagName(\"head\")[0].appendChild(s);\n",
       "          s.async = true;\n",
       "          s.onload = () => {\n",
       "            VEGA_DEBUG[key] = version;\n",
       "            return resolve(paths[lib]);\n",
       "          };\n",
       "          s.onerror = () => reject(`Error loading script: ${paths[lib]}`);\n",
       "          s.src = paths[lib];\n",
       "        });\n",
       "    }\n",
       "\n",
       "    function showError(err) {\n",
       "      outputDiv.innerHTML = `<div class=\"error\" style=\"color:red;\">${err}</div>`;\n",
       "      throw err;\n",
       "    }\n",
       "\n",
       "    function displayChart(vegaEmbed) {\n",
       "      vegaEmbed(outputDiv, spec, embedOpt)\n",
       "        .catch(err => showError(`Javascript Error: ${err.message}<br>This usually means there's a typo in your chart specification. See the javascript console for the full traceback.`));\n",
       "    }\n",
       "\n",
       "    if(typeof define === \"function\" && define.amd) {\n",
       "      requirejs.config({paths});\n",
       "      require([\"vega-embed\"], displayChart, err => showError(`Error loading script: ${err.message}`));\n",
       "    } else {\n",
       "      maybeLoadScript(\"vega\", \"5\")\n",
       "        .then(() => maybeLoadScript(\"vega-lite\", \"5.14.1\"))\n",
       "        .then(() => maybeLoadScript(\"vega-embed\", \"6\"))\n",
       "        .catch(showError)\n",
       "        .then(() => displayChart(vegaEmbed));\n",
       "    }\n",
       "  })({\"$schema\": \"https://vega.github.io/schema/vega/v5.json\", \"data\": [{\"name\": \"source_0\", \"values\": [{\"YEAR\": \"2020\", \"CRASH TIME INTERVAL\": 18, \"count\": 2235}, {\"YEAR\": \"2020\", \"CRASH TIME INTERVAL\": 9, \"count\": 1502}, {\"YEAR\": \"2020\", \"CRASH TIME INTERVAL\": 22, \"count\": 1474}, {\"YEAR\": \"2020\", \"CRASH TIME INTERVAL\": 5, \"count\": 547}, {\"YEAR\": \"2020\", \"CRASH TIME INTERVAL\": 17, \"count\": 2435}, {\"YEAR\": \"2020\", \"CRASH TIME INTERVAL\": 7, \"count\": 983}, {\"YEAR\": \"2020\", \"CRASH TIME INTERVAL\": 2, \"count\": 706}, {\"YEAR\": \"2020\", \"CRASH TIME INTERVAL\": 21, \"count\": 1525}, {\"YEAR\": \"2020\", \"CRASH TIME INTERVAL\": 20, \"count\": 1689}, {\"YEAR\": \"2020\", \"CRASH TIME INTERVAL\": 19, \"count\": 1875}, {\"YEAR\": \"2020\", \"CRASH TIME INTERVAL\": 23, \"count\": 1340}, {\"YEAR\": \"2020\", \"CRASH TIME INTERVAL\": 4, \"count\": 520}, {\"YEAR\": \"2020\", \"CRASH TIME INTERVAL\": 12, \"count\": 1896}, {\"YEAR\": \"2020\", \"CRASH TIME INTERVAL\": 0, \"count\": 1689}, {\"YEAR\": \"2020\", \"CRASH TIME INTERVAL\": 15, \"count\": 2188}, {\"YEAR\": \"2020\", \"CRASH TIME INTERVAL\": 14, \"count\": 2254}, {\"YEAR\": \"2020\", \"CRASH TIME INTERVAL\": 13, \"count\": 2069}, {\"YEAR\": \"2020\", \"CRASH TIME INTERVAL\": 10, \"count\": 1509}, {\"YEAR\": \"2020\", \"CRASH TIME INTERVAL\": 8, \"count\": 1423}, {\"YEAR\": \"2020\", \"CRASH TIME INTERVAL\": 11, \"count\": 1756}, {\"YEAR\": \"2020\", \"CRASH TIME INTERVAL\": 6, \"count\": 781}, {\"YEAR\": \"2018\", \"CRASH TIME INTERVAL\": 14, \"count\": 5581}, {\"YEAR\": \"2018\", \"CRASH TIME INTERVAL\": 21, \"count\": 2847}, {\"YEAR\": \"2018\", \"CRASH TIME INTERVAL\": 7, \"count\": 2340}, {\"YEAR\": \"2018\", \"CRASH TIME INTERVAL\": 20, \"count\": 3091}, {\"YEAR\": \"2018\", \"CRASH TIME INTERVAL\": 17, \"count\": 5749}, {\"YEAR\": \"2018\", \"CRASH TIME INTERVAL\": 23, \"count\": 2189}, {\"YEAR\": \"2018\", \"CRASH TIME INTERVAL\": 18, \"count\": 4796}, {\"YEAR\": \"2018\", \"CRASH TIME INTERVAL\": 13, \"count\": 4737}, {\"YEAR\": \"2018\", \"CRASH TIME INTERVAL\": 0, \"count\": 2937}, {\"YEAR\": \"2018\", \"CRASH TIME INTERVAL\": 19, \"count\": 3861}, {\"YEAR\": \"2018\", \"CRASH TIME INTERVAL\": 11, \"count\": 4231}, {\"YEAR\": \"2020\", \"CRASH TIME INTERVAL\": 3, \"count\": 555}, {\"YEAR\": \"2020\", \"CRASH TIME INTERVAL\": 1, \"count\": 923}, {\"YEAR\": \"2020\", \"CRASH TIME INTERVAL\": 16, \"count\": 2483}, {\"YEAR\": \"2018\", \"CRASH TIME INTERVAL\": 16, \"count\": 6037}, {\"YEAR\": \"2018\", \"CRASH TIME INTERVAL\": 9, \"count\": 4171}, {\"YEAR\": \"2018\", \"CRASH TIME INTERVAL\": 5, \"count\": 993}, {\"YEAR\": \"2018\", \"CRASH TIME INTERVAL\": 15, \"count\": 5328}, {\"YEAR\": \"2018\", \"CRASH TIME INTERVAL\": 10, \"count\": 3861}, {\"YEAR\": \"2018\", \"CRASH TIME INTERVAL\": 12, \"count\": 4575}, {\"YEAR\": \"2018\", \"CRASH TIME INTERVAL\": 2, \"count\": 934}, {\"YEAR\": \"2018\", \"CRASH TIME INTERVAL\": 6, \"count\": 1635}, {\"YEAR\": \"2018\", \"CRASH TIME INTERVAL\": 22, \"count\": 2629}, {\"YEAR\": \"2018\", \"CRASH TIME INTERVAL\": 1, \"count\": 1245}, {\"YEAR\": \"2018\", \"CRASH TIME INTERVAL\": 4, \"count\": 892}, {\"YEAR\": \"2018\", \"CRASH TIME INTERVAL\": 8, \"count\": 3955}, {\"YEAR\": \"2018\", \"CRASH TIME INTERVAL\": 3, \"count\": 769}]}, {\"name\": \"data_0\", \"values\": [{\"CRASH TIME INTERVAL\": 18, \"YEAR\": \"2020\", \"count\": 2235}, {\"CRASH TIME INTERVAL\": 9, \"YEAR\": \"2020\", \"count\": 1502}, {\"CRASH TIME INTERVAL\": 22, \"YEAR\": \"2020\", \"count\": 1474}, {\"CRASH TIME INTERVAL\": 5, \"YEAR\": \"2020\", \"count\": 547}, {\"CRASH TIME INTERVAL\": 17, \"YEAR\": \"2020\", \"count\": 2435}, {\"CRASH TIME INTERVAL\": 7, \"YEAR\": \"2020\", \"count\": 983}, {\"CRASH TIME INTERVAL\": 2, \"YEAR\": \"2020\", \"count\": 706}, {\"CRASH TIME INTERVAL\": 21, \"YEAR\": \"2020\", \"count\": 1525}, {\"CRASH TIME INTERVAL\": 20, \"YEAR\": \"2020\", \"count\": 1689}, {\"CRASH TIME INTERVAL\": 19, \"YEAR\": \"2020\", \"count\": 1875}, {\"CRASH TIME INTERVAL\": 23, \"YEAR\": \"2020\", \"count\": 1340}, {\"CRASH TIME INTERVAL\": 4, \"YEAR\": \"2020\", \"count\": 520}, {\"CRASH TIME INTERVAL\": 12, \"YEAR\": \"2020\", \"count\": 1896}, {\"CRASH TIME INTERVAL\": 0, \"YEAR\": \"2020\", \"count\": 1689}, {\"CRASH TIME INTERVAL\": 15, \"YEAR\": \"2020\", \"count\": 2188}, {\"CRASH TIME INTERVAL\": 14, \"YEAR\": \"2020\", \"count\": 2254}, {\"CRASH TIME INTERVAL\": 13, \"YEAR\": \"2020\", \"count\": 2069}, {\"CRASH TIME INTERVAL\": 10, \"YEAR\": \"2020\", \"count\": 1509}, {\"CRASH TIME INTERVAL\": 8, \"YEAR\": \"2020\", \"count\": 1423}, {\"CRASH TIME INTERVAL\": 11, \"YEAR\": \"2020\", \"count\": 1756}, {\"CRASH TIME INTERVAL\": 6, \"YEAR\": \"2020\", \"count\": 781}, {\"CRASH TIME INTERVAL\": 14, \"YEAR\": \"2018\", \"count\": 5581}, {\"CRASH TIME INTERVAL\": 21, \"YEAR\": \"2018\", \"count\": 2847}, {\"CRASH TIME INTERVAL\": 7, \"YEAR\": \"2018\", \"count\": 2340}, {\"CRASH TIME INTERVAL\": 20, \"YEAR\": \"2018\", \"count\": 3091}, {\"CRASH TIME INTERVAL\": 17, \"YEAR\": \"2018\", \"count\": 5749}, {\"CRASH TIME INTERVAL\": 23, \"YEAR\": \"2018\", \"count\": 2189}, {\"CRASH TIME INTERVAL\": 18, \"YEAR\": \"2018\", \"count\": 4796}, {\"CRASH TIME INTERVAL\": 13, \"YEAR\": \"2018\", \"count\": 4737}, {\"CRASH TIME INTERVAL\": 0, \"YEAR\": \"2018\", \"count\": 2937}, {\"CRASH TIME INTERVAL\": 19, \"YEAR\": \"2018\", \"count\": 3861}, {\"CRASH TIME INTERVAL\": 11, \"YEAR\": \"2018\", \"count\": 4231}, {\"CRASH TIME INTERVAL\": 3, \"YEAR\": \"2020\", \"count\": 555}, {\"CRASH TIME INTERVAL\": 1, \"YEAR\": \"2020\", \"count\": 923}, {\"CRASH TIME INTERVAL\": 16, \"YEAR\": \"2020\", \"count\": 2483}, {\"CRASH TIME INTERVAL\": 16, \"YEAR\": \"2018\", \"count\": 6037}, {\"CRASH TIME INTERVAL\": 9, \"YEAR\": \"2018\", \"count\": 4171}, {\"CRASH TIME INTERVAL\": 5, \"YEAR\": \"2018\", \"count\": 993}, {\"CRASH TIME INTERVAL\": 15, \"YEAR\": \"2018\", \"count\": 5328}, {\"CRASH TIME INTERVAL\": 10, \"YEAR\": \"2018\", \"count\": 3861}, {\"CRASH TIME INTERVAL\": 12, \"YEAR\": \"2018\", \"count\": 4575}, {\"CRASH TIME INTERVAL\": 2, \"YEAR\": \"2018\", \"count\": 934}, {\"CRASH TIME INTERVAL\": 6, \"YEAR\": \"2018\", \"count\": 1635}, {\"CRASH TIME INTERVAL\": 22, \"YEAR\": \"2018\", \"count\": 2629}, {\"CRASH TIME INTERVAL\": 1, \"YEAR\": \"2018\", \"count\": 1245}, {\"CRASH TIME INTERVAL\": 4, \"YEAR\": \"2018\", \"count\": 892}, {\"CRASH TIME INTERVAL\": 8, \"YEAR\": \"2018\", \"count\": 3955}, {\"CRASH TIME INTERVAL\": 3, \"YEAR\": \"2018\", \"count\": 769}]}, {\"name\": \"source_0_x_domain_CRASH TIME INTERVAL_0\", \"values\": [{\"CRASH TIME INTERVAL\": 18}, {\"CRASH TIME INTERVAL\": 9}, {\"CRASH TIME INTERVAL\": 22}, {\"CRASH TIME INTERVAL\": 5}, {\"CRASH TIME INTERVAL\": 17}, {\"CRASH TIME INTERVAL\": 7}, {\"CRASH TIME INTERVAL\": 2}, {\"CRASH TIME INTERVAL\": 21}, {\"CRASH TIME INTERVAL\": 20}, {\"CRASH TIME INTERVAL\": 19}, {\"CRASH TIME INTERVAL\": 23}, {\"CRASH TIME INTERVAL\": 4}, {\"CRASH TIME INTERVAL\": 12}, {\"CRASH TIME INTERVAL\": 0}, {\"CRASH TIME INTERVAL\": 15}, {\"CRASH TIME INTERVAL\": 14}, {\"CRASH TIME INTERVAL\": 13}, {\"CRASH TIME INTERVAL\": 10}, {\"CRASH TIME INTERVAL\": 8}, {\"CRASH TIME INTERVAL\": 11}, {\"CRASH TIME INTERVAL\": 6}, {\"CRASH TIME INTERVAL\": 3}, {\"CRASH TIME INTERVAL\": 1}, {\"CRASH TIME INTERVAL\": 16}]}, {\"name\": \"data_0_x_domain_CRASH TIME INTERVAL_1\", \"values\": [{\"CRASH TIME INTERVAL\": 18}, {\"CRASH TIME INTERVAL\": 9}, {\"CRASH TIME INTERVAL\": 22}, {\"CRASH TIME INTERVAL\": 5}, {\"CRASH TIME INTERVAL\": 17}, {\"CRASH TIME INTERVAL\": 7}, {\"CRASH TIME INTERVAL\": 2}, {\"CRASH TIME INTERVAL\": 21}, {\"CRASH TIME INTERVAL\": 20}, {\"CRASH TIME INTERVAL\": 19}, {\"CRASH TIME INTERVAL\": 23}, {\"CRASH TIME INTERVAL\": 4}, {\"CRASH TIME INTERVAL\": 12}, {\"CRASH TIME INTERVAL\": 0}, {\"CRASH TIME INTERVAL\": 15}, {\"CRASH TIME INTERVAL\": 14}, {\"CRASH TIME INTERVAL\": 13}, {\"CRASH TIME INTERVAL\": 10}, {\"CRASH TIME INTERVAL\": 8}, {\"CRASH TIME INTERVAL\": 11}, {\"CRASH TIME INTERVAL\": 6}, {\"CRASH TIME INTERVAL\": 3}, {\"CRASH TIME INTERVAL\": 1}, {\"CRASH TIME INTERVAL\": 16}]}], \"signals\": [{\"name\": \"x_step\", \"value\": 20}, {\"name\": \"width\", \"update\": \"bandspace(domain('x').length, 1, 0.5) * x_step\"}], \"marks\": [{\"type\": \"group\", \"name\": \"layer_0_pathgroup\", \"from\": {\"facet\": {\"data\": \"source_0\", \"name\": \"faceted_path_layer_0_main\", \"groupby\": [\"YEAR\"]}}, \"encode\": {\"update\": {\"height\": {\"field\": {\"signal\": null, \"datum\": null, \"group\": \"height\", \"parent\": null}}, \"width\": {\"field\": {\"signal\": null, \"datum\": null, \"group\": \"width\", \"parent\": null}}}}, \"marks\": [{\"type\": \"area\", \"name\": \"layer_0_marks\", \"from\": {\"data\": \"faceted_path_layer_0_main\"}, \"sort\": {\"field\": \"datum[\\\"CRASH TIME INTERVAL\\\"]\"}, \"encode\": {\"update\": {\"defined\": {\"signal\": \"isValid(datum[\\\"count\\\"]) && isFinite(+datum[\\\"count\\\"])\"}, \"orient\": {\"value\": \"vertical\"}, \"x\": {\"field\": \"CRASH TIME INTERVAL\", \"scale\": \"x\"}, \"y2\": {\"value\": 0, \"scale\": \"y\"}, \"fillOpacity\": {\"value\": 0.8}, \"tooltip\": {\"signal\": \"{\\\"count\\\": format(datum[\\\"count\\\"], \\\"\\\"), \\\"CRASH TIME INTERVAL\\\": isValid(datum[\\\"CRASH TIME INTERVAL\\\"]) ? datum[\\\"CRASH TIME INTERVAL\\\"] : \\\"\\\"+datum[\\\"CRASH TIME INTERVAL\\\"]}\"}, \"fill\": {\"field\": \"YEAR\", \"scale\": \"color\"}, \"description\": {\"signal\": \"\\\"Hour of the Day: \\\" + (isValid(datum[\\\"CRASH TIME INTERVAL\\\"]) ? datum[\\\"CRASH TIME INTERVAL\\\"] : \\\"\\\"+datum[\\\"CRASH TIME INTERVAL\\\"]) + \\\"; Number of Collisions: \\\" + (format(datum[\\\"count\\\"], \\\"\\\")) + \\\"; Year: \\\" + (isValid(datum[\\\"YEAR\\\"]) ? datum[\\\"YEAR\\\"] : \\\"\\\"+datum[\\\"YEAR\\\"]) + \\\"; count: \\\" + (format(datum[\\\"count\\\"], \\\"\\\")) + \\\"; CRASH TIME INTERVAL: \\\" + (isValid(datum[\\\"CRASH TIME INTERVAL\\\"]) ? datum[\\\"CRASH TIME INTERVAL\\\"] : \\\"\\\"+datum[\\\"CRASH TIME INTERVAL\\\"])\"}, \"y\": {\"field\": \"count\", \"scale\": \"y\"}}}, \"style\": [\"area\"]}]}, {\"type\": \"group\", \"name\": \"layer_1_pathgroup\", \"from\": {\"facet\": {\"data\": \"source_0\", \"name\": \"faceted_path_layer_1_main\", \"groupby\": [\"YEAR\"]}}, \"encode\": {\"update\": {\"height\": {\"field\": {\"signal\": null, \"datum\": null, \"group\": \"height\", \"parent\": null}}, \"width\": {\"field\": {\"signal\": null, \"datum\": null, \"group\": \"width\", \"parent\": null}}}}, \"marks\": [{\"type\": \"line\", \"name\": \"layer_1_marks\", \"from\": {\"data\": \"faceted_path_layer_1_main\"}, \"sort\": {\"field\": \"datum[\\\"CRASH TIME INTERVAL\\\"]\"}, \"encode\": {\"update\": {\"y\": {\"field\": \"count\", \"scale\": \"y\"}, \"defined\": {\"signal\": \"isValid(datum[\\\"count\\\"]) && isFinite(+datum[\\\"count\\\"])\"}, \"stroke\": {\"field\": \"YEAR\", \"scale\": \"color\"}, \"description\": {\"signal\": \"\\\"Hour of the Day: \\\" + (isValid(datum[\\\"CRASH TIME INTERVAL\\\"]) ? datum[\\\"CRASH TIME INTERVAL\\\"] : \\\"\\\"+datum[\\\"CRASH TIME INTERVAL\\\"]) + \\\"; Number of Collisions: \\\" + (format(datum[\\\"count\\\"], \\\"\\\")) + \\\"; Year: \\\" + (isValid(datum[\\\"YEAR\\\"]) ? datum[\\\"YEAR\\\"] : \\\"\\\"+datum[\\\"YEAR\\\"]) + \\\"; count: \\\" + (format(datum[\\\"count\\\"], \\\"\\\")) + \\\"; CRASH TIME INTERVAL: \\\" + (isValid(datum[\\\"CRASH TIME INTERVAL\\\"]) ? datum[\\\"CRASH TIME INTERVAL\\\"] : \\\"\\\"+datum[\\\"CRASH TIME INTERVAL\\\"])\"}, \"tooltip\": {\"signal\": \"{\\\"count\\\": format(datum[\\\"count\\\"], \\\"\\\"), \\\"CRASH TIME INTERVAL\\\": isValid(datum[\\\"CRASH TIME INTERVAL\\\"]) ? datum[\\\"CRASH TIME INTERVAL\\\"] : \\\"\\\"+datum[\\\"CRASH TIME INTERVAL\\\"]}\"}, \"x\": {\"field\": \"CRASH TIME INTERVAL\", \"scale\": \"x\"}}}, \"style\": [\"line\"]}]}, {\"type\": \"symbol\", \"name\": \"layer_2_marks\", \"from\": {\"data\": \"data_0\"}, \"encode\": {\"update\": {\"description\": {\"signal\": \"\\\"Hour of the Day: \\\" + (isValid(datum[\\\"CRASH TIME INTERVAL\\\"]) ? datum[\\\"CRASH TIME INTERVAL\\\"] : \\\"\\\"+datum[\\\"CRASH TIME INTERVAL\\\"]) + \\\"; Number of Collisions: \\\" + (format(datum[\\\"count\\\"], \\\"\\\")) + \\\"; Year: \\\" + (isValid(datum[\\\"YEAR\\\"]) ? datum[\\\"YEAR\\\"] : \\\"\\\"+datum[\\\"YEAR\\\"]) + \\\"; count: \\\" + (format(datum[\\\"count\\\"], \\\"\\\")) + \\\"; CRASH TIME INTERVAL: \\\" + (isValid(datum[\\\"CRASH TIME INTERVAL\\\"]) ? datum[\\\"CRASH TIME INTERVAL\\\"] : \\\"\\\"+datum[\\\"CRASH TIME INTERVAL\\\"])\"}, \"tooltip\": {\"signal\": \"{\\\"count\\\": format(datum[\\\"count\\\"], \\\"\\\"), \\\"CRASH TIME INTERVAL\\\": isValid(datum[\\\"CRASH TIME INTERVAL\\\"]) ? datum[\\\"CRASH TIME INTERVAL\\\"] : \\\"\\\"+datum[\\\"CRASH TIME INTERVAL\\\"]}\"}, \"fill\": {\"field\": \"YEAR\", \"scale\": \"color\"}, \"y\": {\"field\": \"count\", \"scale\": \"y\"}, \"opacity\": {\"value\": 1}, \"ariaRoleDescription\": {\"value\": \"point\"}, \"x\": {\"field\": \"CRASH TIME INTERVAL\", \"scale\": \"x\"}}}, \"style\": [\"point\"]}], \"scales\": [{\"name\": \"x\", \"type\": \"point\", \"domain\": {\"fields\": [{\"data\": \"source_0_x_domain_CRASH TIME INTERVAL_0\", \"field\": \"CRASH TIME INTERVAL\"}, {\"data\": \"data_0_x_domain_CRASH TIME INTERVAL_1\", \"field\": \"CRASH TIME INTERVAL\"}], \"sort\": true}, \"range\": {\"step\": {\"signal\": \"x_step\"}}, \"padding\": 0.5}, {\"name\": \"y\", \"type\": \"linear\", \"domain\": {\"fields\": [{\"data\": \"source_0\", \"field\": \"count\"}, {\"data\": \"data_0\", \"field\": \"count\"}]}, \"range\": [{\"signal\": \"height\"}, 0], \"zero\": true, \"nice\": true}, {\"name\": \"color\", \"type\": \"ordinal\", \"domain\": [\"2018\", \"2020\"], \"range\": [\"lightblue\", \"lightgreen\"]}], \"axes\": [{\"scale\": \"y\", \"minExtent\": 0, \"tickCount\": {\"signal\": \"ceil(height/40)\"}, \"zindex\": 0, \"labels\": false, \"aria\": false, \"grid\": true, \"domain\": false, \"maxExtent\": 0, \"orient\": \"left\", \"ticks\": false, \"gridScale\": \"x\"}, {\"scale\": \"x\", \"grid\": false, \"zindex\": 0, \"labelAngle\": 0, \"labelBaseline\": \"top\", \"title\": \"Hour of the Day\", \"orient\": \"bottom\"}, {\"scale\": \"y\", \"grid\": false, \"title\": \"Number of Collisions\", \"labelOverlap\": true, \"tickCount\": {\"signal\": \"ceil(height/40)\"}, \"orient\": \"left\", \"zindex\": 0}], \"title\": {\"text\": \"Number of Collisions by Hour of the Day\", \"frame\": \"group\"}, \"background\": \"white\", \"style\": \"cell\", \"legends\": [{\"title\": \"Year\", \"fill\": \"color\", \"symbolType\": \"circle\", \"stroke\": \"color\", \"encode\": {\"symbols\": {\"update\": {\"opacity\": {\"value\": 1}}}}}], \"padding\": 5, \"height\": 300}, {\"mode\": \"vega\"});\n",
       "</script>"
      ],
      "text/plain": [
       "alt.Chart(...)"
      ]
     },
     "execution_count": 5,
     "metadata": {},
     "output_type": "execute_result"
    }
   ],
   "source": [
    "df = collisions[['COLLISION_ID', 'CRASH TIME INTERVAL', 'YEAR']]\n",
    "\n",
    "alt.Chart(df).mark_area(\n",
    "    point=True,\n",
    "    fillOpacity=0.8,\n",
    "    line=True,\n",
    "    tooltip=True\n",
    "    # interpolate='monotone'\n",
    ").transform_aggregate(\n",
    "    count='count()',\n",
    "    groupby=['YEAR', 'CRASH TIME INTERVAL']\n",
    ").encode(\n",
    "    x=alt.X('CRASH TIME INTERVAL:O', title='Hour of the Day', axis=alt.Axis(labelAngle=0)),\n",
    "    y=alt.Y('count:Q', title='Number of Collisions', stack=None),\n",
    "    color=alt.Color('YEAR:N', title='Year', scale=alt.Scale(domain=['2018', '2020'], range=['lightblue', 'lightgreen'])),\n",
    "    tooltip=['count:Q', 'CRASH TIME INTERVAL:O']\n",
    ").properties(\n",
    "    title='Number of Collisions by Hour of the Day'\n",
    ")"
   ]
  },
  {
   "cell_type": "markdown",
   "metadata": {},
   "source": [
    "Another option we considered is a heatmap. This time we also add the day of the week and not only the time of the day, so this visualization not only helps knowing in which time of the day there are more crashes but also allows us to answer the question that asks us to analyze if there are more crashes in weekends or in weekdays, giving more detail and context to the first question. We consider the result to be pretty useful and clear. The only issue is that this visualization does not allow to compare between years, however this is not an important problem since, as mentioned, there is a specific visualization for that task."
   ]
  },
  {
   "cell_type": "code",
   "execution_count": 6,
   "metadata": {},
   "outputs": [
    {
     "data": {
      "text/html": [
       "<div>\n",
       "<style scoped>\n",
       "    .dataframe tbody tr th:only-of-type {\n",
       "        vertical-align: middle;\n",
       "    }\n",
       "\n",
       "    .dataframe tbody tr th {\n",
       "        vertical-align: top;\n",
       "    }\n",
       "\n",
       "    .dataframe thead th {\n",
       "        text-align: right;\n",
       "    }\n",
       "</style>\n",
       "<table border=\"1\" class=\"dataframe\">\n",
       "  <thead>\n",
       "    <tr style=\"text-align: right;\">\n",
       "      <th></th>\n",
       "      <th>COLLISION_ID</th>\n",
       "      <th>DAY NAME</th>\n",
       "      <th>CRASH DATE</th>\n",
       "      <th>CRASH MOMENT</th>\n",
       "      <th>CRASH TIME INTERVAL</th>\n",
       "      <th>BOROUGH</th>\n",
       "      <th>ZIP CODE</th>\n",
       "      <th>STREET NAME</th>\n",
       "      <th>NUMBER OF INJURED</th>\n",
       "      <th>NUMBER OF KILLED</th>\n",
       "      <th>CONTRIBUTING FACTOR VEHICLE 1</th>\n",
       "      <th>VEHICLE TYPE CODE 1</th>\n",
       "      <th>LATITUDE</th>\n",
       "      <th>LONGITUDE</th>\n",
       "      <th>YEAR</th>\n",
       "    </tr>\n",
       "  </thead>\n",
       "  <tbody>\n",
       "    <tr>\n",
       "      <th>0</th>\n",
       "      <td>4345591</td>\n",
       "      <td>Sunday</td>\n",
       "      <td>2020-09-06 00:00:00+00:00</td>\n",
       "      <td>Night</td>\n",
       "      <td>18</td>\n",
       "      <td>QUEENS</td>\n",
       "      <td>NaN</td>\n",
       "      <td>WHITESTONE EXPRESSWAY</td>\n",
       "      <td>0.0</td>\n",
       "      <td>2.0</td>\n",
       "      <td>Unsafe Lane Changing</td>\n",
       "      <td>VAN</td>\n",
       "      <td>40.771038</td>\n",
       "      <td>-73.83413</td>\n",
       "      <td>2020</td>\n",
       "    </tr>\n",
       "  </tbody>\n",
       "</table>\n",
       "</div>"
      ],
      "text/plain": [
       "   COLLISION_ID DAY NAME                 CRASH DATE CRASH MOMENT  \\\n",
       "0       4345591   Sunday  2020-09-06 00:00:00+00:00        Night   \n",
       "\n",
       "   CRASH TIME INTERVAL BOROUGH  ZIP CODE            STREET NAME  \\\n",
       "0                   18  QUEENS       NaN  WHITESTONE EXPRESSWAY   \n",
       "\n",
       "   NUMBER OF INJURED  NUMBER OF KILLED CONTRIBUTING FACTOR VEHICLE 1  \\\n",
       "0                0.0               2.0          Unsafe Lane Changing   \n",
       "\n",
       "  VEHICLE TYPE CODE 1   LATITUDE  LONGITUDE  YEAR  \n",
       "0                 VAN  40.771038  -73.83413  2020  "
      ]
     },
     "execution_count": 6,
     "metadata": {},
     "output_type": "execute_result"
    }
   ],
   "source": [
    "collisions.head(1)"
   ]
  },
  {
   "cell_type": "code",
   "execution_count": 7,
   "metadata": {},
   "outputs": [
    {
     "data": {
      "text/html": [
       "\n",
       "<style>\n",
       "  #altair-viz-64f6819ab4ef47de98fe1bd26032f375.vega-embed {\n",
       "    width: 100%;\n",
       "    display: flex;\n",
       "  }\n",
       "\n",
       "  #altair-viz-64f6819ab4ef47de98fe1bd26032f375.vega-embed details,\n",
       "  #altair-viz-64f6819ab4ef47de98fe1bd26032f375.vega-embed details summary {\n",
       "    position: relative;\n",
       "  }\n",
       "</style>\n",
       "<div id=\"altair-viz-64f6819ab4ef47de98fe1bd26032f375\"></div>\n",
       "<script type=\"text/javascript\">\n",
       "  var VEGA_DEBUG = (typeof VEGA_DEBUG == \"undefined\") ? {} : VEGA_DEBUG;\n",
       "  (function(spec, embedOpt){\n",
       "    let outputDiv = document.currentScript.previousElementSibling;\n",
       "    if (outputDiv.id !== \"altair-viz-64f6819ab4ef47de98fe1bd26032f375\") {\n",
       "      outputDiv = document.getElementById(\"altair-viz-64f6819ab4ef47de98fe1bd26032f375\");\n",
       "    }\n",
       "    const paths = {\n",
       "      \"vega\": \"https://cdn.jsdelivr.net/npm/vega@5?noext\",\n",
       "      \"vega-lib\": \"https://cdn.jsdelivr.net/npm/vega-lib?noext\",\n",
       "      \"vega-lite\": \"https://cdn.jsdelivr.net/npm/vega-lite@5.14.1?noext\",\n",
       "      \"vega-embed\": \"https://cdn.jsdelivr.net/npm/vega-embed@6?noext\",\n",
       "    };\n",
       "\n",
       "    function maybeLoadScript(lib, version) {\n",
       "      var key = `${lib.replace(\"-\", \"\")}_version`;\n",
       "      return (VEGA_DEBUG[key] == version) ?\n",
       "        Promise.resolve(paths[lib]) :\n",
       "        new Promise(function(resolve, reject) {\n",
       "          var s = document.createElement('script');\n",
       "          document.getElementsByTagName(\"head\")[0].appendChild(s);\n",
       "          s.async = true;\n",
       "          s.onload = () => {\n",
       "            VEGA_DEBUG[key] = version;\n",
       "            return resolve(paths[lib]);\n",
       "          };\n",
       "          s.onerror = () => reject(`Error loading script: ${paths[lib]}`);\n",
       "          s.src = paths[lib];\n",
       "        });\n",
       "    }\n",
       "\n",
       "    function showError(err) {\n",
       "      outputDiv.innerHTML = `<div class=\"error\" style=\"color:red;\">${err}</div>`;\n",
       "      throw err;\n",
       "    }\n",
       "\n",
       "    function displayChart(vegaEmbed) {\n",
       "      vegaEmbed(outputDiv, spec, embedOpt)\n",
       "        .catch(err => showError(`Javascript Error: ${err.message}<br>This usually means there's a typo in your chart specification. See the javascript console for the full traceback.`));\n",
       "    }\n",
       "\n",
       "    if(typeof define === \"function\" && define.amd) {\n",
       "      requirejs.config({paths});\n",
       "      require([\"vega-embed\"], displayChart, err => showError(`Error loading script: ${err.message}`));\n",
       "    } else {\n",
       "      maybeLoadScript(\"vega\", \"5\")\n",
       "        .then(() => maybeLoadScript(\"vega-lite\", \"5.14.1\"))\n",
       "        .then(() => maybeLoadScript(\"vega-embed\", \"6\"))\n",
       "        .catch(showError)\n",
       "        .then(() => displayChart(vegaEmbed));\n",
       "    }\n",
       "  })({\"$schema\": \"https://vega.github.io/schema/vega/v5.json\", \"data\": [{\"name\": \"source_0\"}, {\"name\": \"data_0\", \"values\": [{\"CRASH TIME INTERVAL\": 18, \"DAY NAME\": \"Sunday\", \"__count\": 785}, {\"CRASH TIME INTERVAL\": 9, \"DAY NAME\": \"Sunday\", \"__count\": 421}, {\"CRASH TIME INTERVAL\": 22, \"DAY NAME\": \"Thursday\", \"__count\": 573}, {\"CRASH TIME INTERVAL\": 5, \"DAY NAME\": \"Thursday\", \"__count\": 220}, {\"CRASH TIME INTERVAL\": 17, \"DAY NAME\": \"Saturday\", \"__count\": 968}, {\"CRASH TIME INTERVAL\": 7, \"DAY NAME\": \"Thursday\", \"__count\": 544}, {\"CRASH TIME INTERVAL\": 22, \"DAY NAME\": \"Saturday\", \"__count\": 724}, {\"CRASH TIME INTERVAL\": 2, \"DAY NAME\": \"Thursday\", \"__count\": 163}, {\"CRASH TIME INTERVAL\": 21, \"DAY NAME\": \"Saturday\", \"__count\": 680}, {\"CRASH TIME INTERVAL\": 20, \"DAY NAME\": \"Monday\", \"__count\": 596}, {\"CRASH TIME INTERVAL\": 2, \"DAY NAME\": \"Friday\", \"__count\": 187}, {\"CRASH TIME INTERVAL\": 17, \"DAY NAME\": \"Friday\", \"__count\": 1367}, {\"CRASH TIME INTERVAL\": 19, \"DAY NAME\": \"Thursday\", \"__count\": 884}, {\"CRASH TIME INTERVAL\": 17, \"DAY NAME\": \"Tuesday\", \"__count\": 1318}, {\"CRASH TIME INTERVAL\": 23, \"DAY NAME\": \"Monday\", \"__count\": 356}, {\"CRASH TIME INTERVAL\": 2, \"DAY NAME\": \"Sunday\", \"__count\": 451}, {\"CRASH TIME INTERVAL\": 19, \"DAY NAME\": \"Sunday\", \"__count\": 701}, {\"CRASH TIME INTERVAL\": 4, \"DAY NAME\": \"Sunday\", \"__count\": 393}, {\"CRASH TIME INTERVAL\": 12, \"DAY NAME\": \"Wednesday\", \"__count\": 932}, {\"CRASH TIME INTERVAL\": 12, \"DAY NAME\": \"Sunday\", \"__count\": 721}, {\"CRASH TIME INTERVAL\": 0, \"DAY NAME\": \"Saturday\", \"__count\": 805}, {\"CRASH TIME INTERVAL\": 0, \"DAY NAME\": \"Thursday\", \"__count\": 566}, {\"CRASH TIME INTERVAL\": 19, \"DAY NAME\": \"Wednesday\", \"__count\": 838}, {\"CRASH TIME INTERVAL\": 12, \"DAY NAME\": \"Saturday\", \"__count\": 863}, {\"CRASH TIME INTERVAL\": 15, \"DAY NAME\": \"Sunday\", \"__count\": 836}, {\"CRASH TIME INTERVAL\": 18, \"DAY NAME\": \"Friday\", \"__count\": 1185}, {\"CRASH TIME INTERVAL\": 15, \"DAY NAME\": \"Monday\", \"__count\": 1125}, {\"CRASH TIME INTERVAL\": 9, \"DAY NAME\": \"Wednesday\", \"__count\": 796}, {\"CRASH TIME INTERVAL\": 4, \"DAY NAME\": \"Tuesday\", \"__count\": 130}, {\"CRASH TIME INTERVAL\": 14, \"DAY NAME\": \"Sunday\", \"__count\": 932}, {\"CRASH TIME INTERVAL\": 20, \"DAY NAME\": \"Saturday\", \"__count\": 717}, {\"CRASH TIME INTERVAL\": 13, \"DAY NAME\": \"Friday\", \"__count\": 1068}, {\"CRASH TIME INTERVAL\": 10, \"DAY NAME\": \"Sunday\", \"__count\": 469}, {\"CRASH TIME INTERVAL\": 15, \"DAY NAME\": \"Thursday\", \"__count\": 1154}, {\"CRASH TIME INTERVAL\": 7, \"DAY NAME\": \"Saturday\", \"__count\": 296}, {\"CRASH TIME INTERVAL\": 8, \"DAY NAME\": \"Sunday\", \"__count\": 369}, {\"CRASH TIME INTERVAL\": 11, \"DAY NAME\": \"Saturday\", \"__count\": 795}, {\"CRASH TIME INTERVAL\": 6, \"DAY NAME\": \"Saturday\", \"__count\": 267}, {\"CRASH TIME INTERVAL\": 17, \"DAY NAME\": \"Monday\", \"__count\": 1168}, {\"CRASH TIME INTERVAL\": 14, \"DAY NAME\": \"Thursday\", \"__count\": 1146}, {\"CRASH TIME INTERVAL\": 21, \"DAY NAME\": \"Tuesday\", \"__count\": 577}, {\"CRASH TIME INTERVAL\": 7, \"DAY NAME\": \"Friday\", \"__count\": 533}, {\"CRASH TIME INTERVAL\": 20, \"DAY NAME\": \"Thursday\", \"__count\": 716}, {\"CRASH TIME INTERVAL\": 23, \"DAY NAME\": \"Wednesday\", \"__count\": 454}, {\"CRASH TIME INTERVAL\": 18, \"DAY NAME\": \"Tuesday\", \"__count\": 1092}, {\"CRASH TIME INTERVAL\": 13, \"DAY NAME\": \"Wednesday\", \"__count\": 945}, {\"CRASH TIME INTERVAL\": 18, \"DAY NAME\": \"Monday\", \"__count\": 906}, {\"CRASH TIME INTERVAL\": 0, \"DAY NAME\": \"Wednesday\", \"__count\": 558}, {\"CRASH TIME INTERVAL\": 14, \"DAY NAME\": \"Wednesday\", \"__count\": 1152}, {\"CRASH TIME INTERVAL\": 11, \"DAY NAME\": \"Monday\", \"__count\": 908}, {\"CRASH TIME INTERVAL\": 11, \"DAY NAME\": \"Tuesday\", \"__count\": 901}, {\"CRASH TIME INTERVAL\": 19, \"DAY NAME\": \"Monday\", \"__count\": 779}, {\"CRASH TIME INTERVAL\": 18, \"DAY NAME\": \"Saturday\", \"__count\": 899}, {\"CRASH TIME INTERVAL\": 13, \"DAY NAME\": \"Thursday\", \"__count\": 976}, {\"CRASH TIME INTERVAL\": 18, \"DAY NAME\": \"Thursday\", \"__count\": 1091}, {\"CRASH TIME INTERVAL\": 3, \"DAY NAME\": \"Thursday\", \"__count\": 145}, {\"CRASH TIME INTERVAL\": 4, \"DAY NAME\": \"Wednesday\", \"__count\": 127}, {\"CRASH TIME INTERVAL\": 8, \"DAY NAME\": \"Tuesday\", \"__count\": 1004}, {\"CRASH TIME INTERVAL\": 13, \"DAY NAME\": \"Monday\", \"__count\": 954}, {\"CRASH TIME INTERVAL\": 1, \"DAY NAME\": \"Monday\", \"__count\": 284}, {\"CRASH TIME INTERVAL\": 10, \"DAY NAME\": \"Thursday\", \"__count\": 892}, {\"CRASH TIME INTERVAL\": 16, \"DAY NAME\": \"Thursday\", \"__count\": 1292}, {\"CRASH TIME INTERVAL\": 8, \"DAY NAME\": \"Wednesday\", \"__count\": 893}, {\"CRASH TIME INTERVAL\": 21, \"DAY NAME\": \"Sunday\", \"__count\": 651}, {\"CRASH TIME INTERVAL\": 1, \"DAY NAME\": \"Saturday\", \"__count\": 476}, {\"CRASH TIME INTERVAL\": 0, \"DAY NAME\": \"Friday\", \"__count\": 689}, {\"CRASH TIME INTERVAL\": 16, \"DAY NAME\": \"Wednesday\", \"__count\": 1215}, {\"CRASH TIME INTERVAL\": 13, \"DAY NAME\": \"Tuesday\", \"__count\": 1093}, {\"CRASH TIME INTERVAL\": 15, \"DAY NAME\": \"Tuesday\", \"__count\": 1144}, {\"CRASH TIME INTERVAL\": 0, \"DAY NAME\": \"Monday\", \"__count\": 693}, {\"CRASH TIME INTERVAL\": 9, \"DAY NAME\": \"Monday\", \"__count\": 882}, {\"CRASH TIME INTERVAL\": 9, \"DAY NAME\": \"Saturday\", \"__count\": 516}, {\"CRASH TIME INTERVAL\": 12, \"DAY NAME\": \"Thursday\", \"__count\": 973}, {\"CRASH TIME INTERVAL\": 8, \"DAY NAME\": \"Monday\", \"__count\": 884}, {\"CRASH TIME INTERVAL\": 0, \"DAY NAME\": \"Sunday\", \"__count\": 812}, {\"CRASH TIME INTERVAL\": 14, \"DAY NAME\": \"Saturday\", \"__count\": 1028}, {\"CRASH TIME INTERVAL\": 12, \"DAY NAME\": \"Friday\", \"__count\": 1003}, {\"CRASH TIME INTERVAL\": 16, \"DAY NAME\": \"Monday\", \"__count\": 1274}, {\"CRASH TIME INTERVAL\": 6, \"DAY NAME\": \"Sunday\", \"__count\": 234}, {\"CRASH TIME INTERVAL\": 11, \"DAY NAME\": \"Friday\", \"__count\": 918}, {\"CRASH TIME INTERVAL\": 19, \"DAY NAME\": \"Friday\", \"__count\": 879}, {\"CRASH TIME INTERVAL\": 11, \"DAY NAME\": \"Thursday\", \"__count\": 924}, {\"CRASH TIME INTERVAL\": 14, \"DAY NAME\": \"Tuesday\", \"__count\": 1252}, {\"CRASH TIME INTERVAL\": 20, \"DAY NAME\": \"Sunday\", \"__count\": 686}, {\"CRASH TIME INTERVAL\": 16, \"DAY NAME\": \"Saturday\", \"__count\": 1073}, {\"CRASH TIME INTERVAL\": 23, \"DAY NAME\": \"Friday\", \"__count\": 650}, {\"CRASH TIME INTERVAL\": 23, \"DAY NAME\": \"Thursday\", \"__count\": 463}, {\"CRASH TIME INTERVAL\": 16, \"DAY NAME\": \"Tuesday\", \"__count\": 1302}, {\"CRASH TIME INTERVAL\": 3, \"DAY NAME\": \"Monday\", \"__count\": 135}, {\"CRASH TIME INTERVAL\": 16, \"DAY NAME\": \"Friday\", \"__count\": 1383}, {\"CRASH TIME INTERVAL\": 5, \"DAY NAME\": \"Friday\", \"__count\": 224}, {\"CRASH TIME INTERVAL\": 8, \"DAY NAME\": \"Friday\", \"__count\": 851}, {\"CRASH TIME INTERVAL\": 12, \"DAY NAME\": \"Tuesday\", \"__count\": 1014}, {\"CRASH TIME INTERVAL\": 12, \"DAY NAME\": \"Monday\", \"__count\": 965}, {\"CRASH TIME INTERVAL\": 17, \"DAY NAME\": \"Sunday\", \"__count\": 869}, {\"CRASH TIME INTERVAL\": 20, \"DAY NAME\": \"Friday\", \"__count\": 762}, {\"CRASH TIME INTERVAL\": 3, \"DAY NAME\": \"Friday\", \"__count\": 152}, {\"CRASH TIME INTERVAL\": 6, \"DAY NAME\": \"Friday\", \"__count\": 400}, {\"CRASH TIME INTERVAL\": 7, \"DAY NAME\": \"Tuesday\", \"__count\": 589}, {\"CRASH TIME INTERVAL\": 10, \"DAY NAME\": \"Monday\", \"__count\": 856}, {\"CRASH TIME INTERVAL\": 22, \"DAY NAME\": \"Sunday\", \"__count\": 626}, {\"CRASH TIME INTERVAL\": 10, \"DAY NAME\": \"Friday\", \"__count\": 780}, {\"CRASH TIME INTERVAL\": 15, \"DAY NAME\": \"Wednesday\", \"__count\": 1084}, {\"CRASH TIME INTERVAL\": 17, \"DAY NAME\": \"Wednesday\", \"__count\": 1172}, {\"CRASH TIME INTERVAL\": 0, \"DAY NAME\": \"Tuesday\", \"__count\": 503}, {\"CRASH TIME INTERVAL\": 23, \"DAY NAME\": \"Tuesday\", \"__count\": 439}, {\"CRASH TIME INTERVAL\": 14, \"DAY NAME\": \"Monday\", \"__count\": 1061}, {\"CRASH TIME INTERVAL\": 6, \"DAY NAME\": \"Monday\", \"__count\": 406}, {\"CRASH TIME INTERVAL\": 23, \"DAY NAME\": \"Saturday\", \"__count\": 666}, {\"CRASH TIME INTERVAL\": 17, \"DAY NAME\": \"Thursday\", \"__count\": 1322}, {\"CRASH TIME INTERVAL\": 21, \"DAY NAME\": \"Thursday\", \"__count\": 618}, {\"CRASH TIME INTERVAL\": 19, \"DAY NAME\": \"Tuesday\", \"__count\": 818}, {\"CRASH TIME INTERVAL\": 15, \"DAY NAME\": \"Saturday\", \"__count\": 897}, {\"CRASH TIME INTERVAL\": 14, \"DAY NAME\": \"Friday\", \"__count\": 1264}, {\"CRASH TIME INTERVAL\": 5, \"DAY NAME\": \"Sunday\", \"__count\": 258}, {\"CRASH TIME INTERVAL\": 22, \"DAY NAME\": \"Wednesday\", \"__count\": 543}, {\"CRASH TIME INTERVAL\": 11, \"DAY NAME\": \"Sunday\", \"__count\": 675}, {\"CRASH TIME INTERVAL\": 9, \"DAY NAME\": \"Thursday\", \"__count\": 980}, {\"CRASH TIME INTERVAL\": 6, \"DAY NAME\": \"Wednesday\", \"__count\": 350}, {\"CRASH TIME INTERVAL\": 9, \"DAY NAME\": \"Tuesday\", \"__count\": 1052}, {\"CRASH TIME INTERVAL\": 11, \"DAY NAME\": \"Wednesday\", \"__count\": 866}, {\"CRASH TIME INTERVAL\": 20, \"DAY NAME\": \"Tuesday\", \"__count\": 669}, {\"CRASH TIME INTERVAL\": 16, \"DAY NAME\": \"Sunday\", \"__count\": 981}, {\"CRASH TIME INTERVAL\": 7, \"DAY NAME\": \"Monday\", \"__count\": 544}, {\"CRASH TIME INTERVAL\": 10, \"DAY NAME\": \"Saturday\", \"__count\": 665}, {\"CRASH TIME INTERVAL\": 10, \"DAY NAME\": \"Wednesday\", \"__count\": 800}, {\"CRASH TIME INTERVAL\": 1, \"DAY NAME\": \"Tuesday\", \"__count\": 189}, {\"CRASH TIME INTERVAL\": 9, \"DAY NAME\": \"Friday\", \"__count\": 1026}, {\"CRASH TIME INTERVAL\": 21, \"DAY NAME\": \"Monday\", \"__count\": 543}, {\"CRASH TIME INTERVAL\": 6, \"DAY NAME\": \"Tuesday\", \"__count\": 384}, {\"CRASH TIME INTERVAL\": 22, \"DAY NAME\": \"Monday\", \"__count\": 454}, {\"CRASH TIME INTERVAL\": 19, \"DAY NAME\": \"Saturday\", \"__count\": 837}, {\"CRASH TIME INTERVAL\": 21, \"DAY NAME\": \"Friday\", \"__count\": 687}, {\"CRASH TIME INTERVAL\": 4, \"DAY NAME\": \"Thursday\", \"__count\": 144}, {\"CRASH TIME INTERVAL\": 7, \"DAY NAME\": \"Wednesday\", \"__count\": 558}, {\"CRASH TIME INTERVAL\": 15, \"DAY NAME\": \"Friday\", \"__count\": 1276}, {\"CRASH TIME INTERVAL\": 18, \"DAY NAME\": \"Wednesday\", \"__count\": 1073}, {\"CRASH TIME INTERVAL\": 23, \"DAY NAME\": \"Sunday\", \"__count\": 501}, {\"CRASH TIME INTERVAL\": 8, \"DAY NAME\": \"Saturday\", \"__count\": 480}, {\"CRASH TIME INTERVAL\": 8, \"DAY NAME\": \"Thursday\", \"__count\": 897}, {\"CRASH TIME INTERVAL\": 4, \"DAY NAME\": \"Monday\", \"__count\": 146}, {\"CRASH TIME INTERVAL\": 4, \"DAY NAME\": \"Saturday\", \"__count\": 328}, {\"CRASH TIME INTERVAL\": 2, \"DAY NAME\": \"Saturday\", \"__count\": 368}, {\"CRASH TIME INTERVAL\": 22, \"DAY NAME\": \"Tuesday\", \"__count\": 507}, {\"CRASH TIME INTERVAL\": 13, \"DAY NAME\": \"Saturday\", \"__count\": 898}, {\"CRASH TIME INTERVAL\": 20, \"DAY NAME\": \"Wednesday\", \"__count\": 634}, {\"CRASH TIME INTERVAL\": 3, \"DAY NAME\": \"Tuesday\", \"__count\": 102}, {\"CRASH TIME INTERVAL\": 5, \"DAY NAME\": \"Monday\", \"__count\": 215}, {\"CRASH TIME INTERVAL\": 3, \"DAY NAME\": \"Sunday\", \"__count\": 363}, {\"CRASH TIME INTERVAL\": 1, \"DAY NAME\": \"Sunday\", \"__count\": 526}, {\"CRASH TIME INTERVAL\": 6, \"DAY NAME\": \"Thursday\", \"__count\": 375}, {\"CRASH TIME INTERVAL\": 1, \"DAY NAME\": \"Wednesday\", \"__count\": 212}, {\"CRASH TIME INTERVAL\": 3, \"DAY NAME\": \"Wednesday\", \"__count\": 135}, {\"CRASH TIME INTERVAL\": 21, \"DAY NAME\": \"Wednesday\", \"__count\": 616}, {\"CRASH TIME INTERVAL\": 22, \"DAY NAME\": \"Friday\", \"__count\": 676}, {\"CRASH TIME INTERVAL\": 2, \"DAY NAME\": \"Wednesday\", \"__count\": 162}, {\"CRASH TIME INTERVAL\": 2, \"DAY NAME\": \"Tuesday\", \"__count\": 135}, {\"CRASH TIME INTERVAL\": 5, \"DAY NAME\": \"Tuesday\", \"__count\": 179}, {\"CRASH TIME INTERVAL\": 10, \"DAY NAME\": \"Tuesday\", \"__count\": 908}, {\"CRASH TIME INTERVAL\": 13, \"DAY NAME\": \"Sunday\", \"__count\": 872}, {\"CRASH TIME INTERVAL\": 4, \"DAY NAME\": \"Friday\", \"__count\": 144}, {\"CRASH TIME INTERVAL\": 7, \"DAY NAME\": \"Sunday\", \"__count\": 259}, {\"CRASH TIME INTERVAL\": 5, \"DAY NAME\": \"Saturday\", \"__count\": 271}, {\"CRASH TIME INTERVAL\": 2, \"DAY NAME\": \"Monday\", \"__count\": 174}, {\"CRASH TIME INTERVAL\": 5, \"DAY NAME\": \"Wednesday\", \"__count\": 173}, {\"CRASH TIME INTERVAL\": 1, \"DAY NAME\": \"Thursday\", \"__count\": 211}, {\"CRASH TIME INTERVAL\": 3, \"DAY NAME\": \"Saturday\", \"__count\": 292}, {\"CRASH TIME INTERVAL\": 1, \"DAY NAME\": \"Friday\", \"__count\": 270}]}, {\"name\": \"data_0_x_domain_CRASH TIME INTERVAL\", \"values\": [{\"CRASH TIME INTERVAL\": 18}, {\"CRASH TIME INTERVAL\": 9}, {\"CRASH TIME INTERVAL\": 22}, {\"CRASH TIME INTERVAL\": 5}, {\"CRASH TIME INTERVAL\": 17}, {\"CRASH TIME INTERVAL\": 7}, {\"CRASH TIME INTERVAL\": 2}, {\"CRASH TIME INTERVAL\": 21}, {\"CRASH TIME INTERVAL\": 20}, {\"CRASH TIME INTERVAL\": 19}, {\"CRASH TIME INTERVAL\": 23}, {\"CRASH TIME INTERVAL\": 4}, {\"CRASH TIME INTERVAL\": 12}, {\"CRASH TIME INTERVAL\": 0}, {\"CRASH TIME INTERVAL\": 15}, {\"CRASH TIME INTERVAL\": 14}, {\"CRASH TIME INTERVAL\": 13}, {\"CRASH TIME INTERVAL\": 10}, {\"CRASH TIME INTERVAL\": 8}, {\"CRASH TIME INTERVAL\": 11}, {\"CRASH TIME INTERVAL\": 6}, {\"CRASH TIME INTERVAL\": 3}, {\"CRASH TIME INTERVAL\": 1}, {\"CRASH TIME INTERVAL\": 16}]}, {\"name\": \"source_0_y_domain_DAY NAME\", \"values\": [{\"DAY NAME\": \"Sunday\", \"sort_field\": 6.0}, {\"DAY NAME\": \"Thursday\", \"sort_field\": 3.0}, {\"DAY NAME\": \"Saturday\", \"sort_field\": 5.0}, {\"DAY NAME\": \"Monday\", \"sort_field\": 0.0}, {\"DAY NAME\": \"Friday\", \"sort_field\": 4.0}, {\"DAY NAME\": \"Tuesday\", \"sort_field\": 1.0}, {\"DAY NAME\": \"Wednesday\", \"sort_field\": 2.0}]}, {\"name\": \"data_0_color_domain___count\", \"values\": [{\"min\": 102, \"max\": 1383}]}], \"signals\": [{\"name\": \"x_step\", \"value\": 20}, {\"name\": \"width\", \"update\": \"bandspace(domain('x').length, 0, 0) * x_step\"}, {\"name\": \"y_step\", \"value\": 20}, {\"name\": \"height\", \"update\": \"bandspace(domain('y').length, 0, 0) * y_step\"}], \"marks\": [{\"type\": \"rect\", \"name\": \"marks\", \"from\": {\"data\": \"data_0\"}, \"encode\": {\"update\": {\"tooltip\": {\"signal\": \"{\\\"Count of Records\\\": format(datum[\\\"__count\\\"], \\\"\\\")}\"}, \"x\": {\"field\": \"CRASH TIME INTERVAL\", \"scale\": \"x\"}, \"width\": {\"signal\": \"max(0.25, bandwidth('x'))\"}, \"y\": {\"field\": \"DAY NAME\", \"scale\": \"y\"}, \"height\": {\"signal\": \"max(0.25, bandwidth('y'))\"}, \"description\": {\"signal\": \"\\\"Hour of the Day: \\\" + (isValid(datum[\\\"CRASH TIME INTERVAL\\\"]) ? datum[\\\"CRASH TIME INTERVAL\\\"] : \\\"\\\"+datum[\\\"CRASH TIME INTERVAL\\\"]) + \\\"; Day of the Week: \\\" + (isValid(datum[\\\"DAY NAME\\\"]) ? datum[\\\"DAY NAME\\\"] : \\\"\\\"+datum[\\\"DAY NAME\\\"]) + \\\"; Number of Collisions: \\\" + (format(datum[\\\"__count\\\"], \\\"\\\")) + \\\"; Count of Records: \\\" + (format(datum[\\\"__count\\\"], \\\"\\\"))\"}, \"fill\": {\"field\": \"__count\", \"scale\": \"color\"}}}, \"style\": [\"rect\"]}], \"scales\": [{\"name\": \"x\", \"type\": \"band\", \"domain\": {\"data\": \"data_0_x_domain_CRASH TIME INTERVAL\", \"field\": \"CRASH TIME INTERVAL\", \"sort\": true}, \"range\": {\"step\": {\"signal\": \"x_step\"}}, \"paddingInner\": 0, \"paddingOuter\": 0}, {\"name\": \"y\", \"type\": \"band\", \"domain\": {\"data\": \"source_0_y_domain_DAY NAME\", \"field\": \"DAY NAME\", \"sort\": {\"op\": \"max\", \"field\": \"sort_field\"}}, \"range\": {\"step\": {\"signal\": \"y_step\"}}, \"paddingOuter\": 0, \"paddingInner\": 0}, {\"name\": \"color\", \"type\": \"linear\", \"domain\": [{\"signal\": \"(data(\\\"data_0_color_domain___count\\\")[0] || {}).min\"}, {\"signal\": \"(data(\\\"data_0_color_domain___count\\\")[0] || {}).max\"}], \"range\": [\"#f0fff1\", \"#5603ad\"], \"zero\": false, \"interpolate\": \"hcl\"}], \"axes\": [{\"scale\": \"x\", \"labelBaseline\": \"top\", \"orient\": \"bottom\", \"title\": \"Hour of the Day\", \"zindex\": 1, \"labelAngle\": 0, \"grid\": false}, {\"scale\": \"y\", \"zindex\": 1, \"orient\": \"left\", \"title\": \"Day of the Week\", \"grid\": false}], \"title\": {\"text\": \"Number of Collisions by Hour of the Day and Day of the Week in 2018\", \"frame\": \"group\"}, \"style\": \"cell\", \"legends\": [{\"title\": \"Number of Collisions\", \"fill\": \"color\", \"gradientLength\": {\"signal\": \"clamp(height, 64, 200)\"}}], \"background\": \"white\", \"padding\": 5}, {\"mode\": \"vega\"});\n",
       "</script>"
      ],
      "text/plain": [
       "alt.Chart(...)"
      ]
     },
     "execution_count": 7,
     "metadata": {},
     "output_type": "execute_result"
    }
   ],
   "source": [
    "c1 = alt.Chart(collisions[['CRASH TIME INTERVAL', 'DAY NAME', 'YEAR']]).mark_rect(\n",
    "    tooltip=True\n",
    ").encode(\n",
    "    x=alt.X('CRASH TIME INTERVAL:N',\n",
    "            title='Hour of the Day',\n",
    "            axis=alt.Axis(labelAngle=0)),\n",
    "    y=alt.Y('DAY NAME:N',\n",
    "            sort=['Monday', 'Tuesday', 'Wednesday', 'Thursday', 'Friday', 'Saturday', 'Sunday'],\n",
    "            title='Day of the Week'),\n",
    "    color=alt.Color('count():Q',\n",
    "                    title='Number of Collisions',\n",
    "                    scale=alt.Scale(range=['#f0fff1', '#5603ad'])),\n",
    "    tooltip=['count()']\n",
    ").properties(\n",
    "    title='Number of Collisions by Hour of the Day and Day of the Week in 2018'\n",
    ")\n",
    "\n",
    "c1"
   ]
  },
  {
   "cell_type": "markdown",
   "metadata": {},
   "source": [
    "While the line chart is a great option, we concluded that the best option for this case is the heatmap. This is mainly because it gives an extra layer of detail and this detail complements the visualization for the first question. The color palette chosen also allows people affected by color blindness to be able to draw conclusions without any difficulties."
   ]
  }
 ],
 "metadata": {
  "kernelspec": {
   "display_name": "Python 3",
   "language": "python",
   "name": "python3"
  },
  "language_info": {
   "codemirror_mode": {
    "name": "ipython",
    "version": 3
   },
   "file_extension": ".py",
   "mimetype": "text/x-python",
   "name": "python",
   "nbconvert_exporter": "python",
   "pygments_lexer": "ipython3",
   "version": "3.9.13"
  }
 },
 "nbformat": 4,
 "nbformat_minor": 2
}
