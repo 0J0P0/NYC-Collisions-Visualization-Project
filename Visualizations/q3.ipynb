{
 "cells": [
  {
   "cell_type": "code",
   "execution_count": null,
   "metadata": {},
   "outputs": [],
   "source": [
    "import pandas as pd\n",
    "import altair as alt\n",
    "\n",
    "dir = '../Data'\n",
    "\n",
    "weather = pd.read_csv(f'{dir}/weather_clean.csv')\n",
    "collisions = pd.read_csv(f'{dir}/collisions_clean.csv')\n",
    "\n",
    "alt.data_transformers.enable(\"vegafusion\")"
   ]
  },
  {
   "cell_type": "code",
   "execution_count": null,
   "metadata": {},
   "outputs": [],
   "source": [
    "colors = ({\n",
    "    'sequential': ['#5803AD', '#7FDFA1'],\n",
    "    'categorical': []\n",
    "})"
   ]
  },
  {
   "cell_type": "code",
   "execution_count": null,
   "metadata": {},
   "outputs": [],
   "source": [
    "# select the year from the CRASH DATE column\n",
    "collisions['YEAR'] = collisions['YEAR'].astype(str)"
   ]
  },
  {
   "cell_type": "markdown",
   "metadata": {},
   "source": [
    "## At what time of the day are accidents more common?"
   ]
  },
  {
   "cell_type": "code",
   "execution_count": null,
   "metadata": {},
   "outputs": [],
   "source": [
    "collisions['YEAR'] = collisions['CRASH DATE'].astype(str).str[:4]"
   ]
  },
  {
   "cell_type": "markdown",
   "metadata": {},
   "source": [
    "Since we aggregated the count accidents by time of the day in hours, we consider that a line chart is a great option to represent the evolution of total car crashes per hours. Also, this type of chart allows to separate the data by years (2018, 2020) very easlily to add extra information. As we can see the result clearly shows the top hours with more crashes and allows an easy comparison between hours and years."
   ]
  },
  {
   "cell_type": "code",
   "execution_count": null,
   "metadata": {},
   "outputs": [],
   "source": [
    "df = collisions[['COLLISION_ID', 'CRASH TIME INTERVAL', 'YEAR']]\n",
    "\n",
    "alt.Chart(df).mark_area(\n",
    "    point=True,\n",
    "    fillOpacity=0.8,\n",
    "    line=True,\n",
    "    tooltip=True\n",
    "    # interpolate='monotone'\n",
    ").transform_aggregate(\n",
    "    count='count()',\n",
    "    groupby=['YEAR', 'CRASH TIME INTERVAL']\n",
    ").encode(\n",
    "    x=alt.X('CRASH TIME INTERVAL:O', title='Hour of the Day', axis=alt.Axis(labelAngle=0)),\n",
    "    y=alt.Y('count:Q', title='Number of Collisions', stack=None),\n",
    "    color=alt.Color('YEAR:N', title='Year', scale=alt.Scale(domain=['2018', '2020'], range=['lightblue', 'lightgreen'])),\n",
    "    tooltip=['count:Q', 'CRASH TIME INTERVAL:O']\n",
    ").properties(\n",
    "    title='Number of Collisions by Hour of the Day'\n",
    ")"
   ]
  },
  {
   "cell_type": "markdown",
   "metadata": {},
   "source": [
    "Another option we considered is a heatmap. This time we also add the day of the week and not only the time of the day, so this visualization not only helps knowing in which time of the day there are more crashes but also allows us to answer the question that asks us to analyze if there are more crashes in weekends or in weekdays, giving more detail and context to the first question. We consider the result to be pretty useful and clear. The only issue is that this visualization does not allow to compare between years, however this is not an important problem since, as mentioned, there is a specific visualization for that task."
   ]
  },
  {
   "cell_type": "code",
   "execution_count": null,
   "metadata": {},
   "outputs": [],
   "source": [
    "collisions.head(1)"
   ]
  },
  {
   "cell_type": "code",
   "execution_count": null,
   "metadata": {},
   "outputs": [],
   "source": [
    "c1 = alt.Chart(collisions[['CRASH TIME INTERVAL', 'DAY NAME', 'YEAR']]).mark_rect(\n",
    "    tooltip=True\n",
    ").encode(\n",
    "    x=alt.X('CRASH TIME INTERVAL:N',\n",
    "            title='Hour of the Day',\n",
    "            axis=alt.Axis(labelAngle=0)),\n",
    "    y=alt.Y('DAY NAME:N',\n",
    "            sort=['Monday', 'Tuesday', 'Wednesday', 'Thursday', 'Friday', 'Saturday', 'Sunday'],\n",
    "            title='Day of the Week'),\n",
    "    color=alt.Color('count():Q',\n",
    "                    title='Number of Collisions',\n",
    "                    scale=alt.Scale(range=['#f0fff1', '#5603ad'])),\n",
    "    tooltip=['count()']\n",
    ").properties(\n",
    "    title='Number of Collisions by Hour of the Day and Day of the Week in 2018'\n",
    ")\n",
    "\n",
    "c1"
   ]
  },
  {
   "cell_type": "markdown",
   "metadata": {},
   "source": [
    "While the line chart is a great option, we concluded that the best option for this case is the heatmap. This is mainly because it gives an extra layer of detail and this detail complements the visualization for the first question. The color palette chosen also allows people affected by color blindness to be able to draw conclusions without any difficulties."
   ]
  }
 ],
 "metadata": {
  "kernelspec": {
   "display_name": "Python 3",
   "language": "python",
   "name": "python3"
  },
  "language_info": {
   "codemirror_mode": {
    "name": "ipython",
    "version": 3
   },
   "file_extension": ".py",
   "mimetype": "text/x-python",
   "name": "python",
   "nbconvert_exporter": "python",
   "pygments_lexer": "ipython3",
   "version": "3.11.5"
  }
 },
 "nbformat": 4,
 "nbformat_minor": 2
}
