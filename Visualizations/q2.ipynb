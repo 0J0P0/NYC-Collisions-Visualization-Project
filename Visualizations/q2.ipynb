{
 "cells": [
  {
   "cell_type": "code",
   "execution_count": null,
   "metadata": {},
   "outputs": [],
   "source": [
    "import pandas as pd\n",
    "import altair as alt\n",
    "\n",
    "dir = '../Data'\n",
    "\n",
    "weather = pd.read_csv(f'{dir}/weather_clean.csv')\n",
    "collisions = pd.read_csv(f'{dir}/collisions_clean.csv')\n",
    "\n",
    "alt.data_transformers.enable(\"vegafusion\")"
   ]
  },
  {
   "cell_type": "code",
   "execution_count": null,
   "metadata": {},
   "outputs": [],
   "source": [
    "colores_hex = [\n",
    "    '#a3ffd6',  # Verde agua intenso\n",
    "    '#d69bf5',  # Púrpura intenso\n",
    "    '#ff8080',  # Rojo intenso\n",
    "    '#80ff80',  # Verde intenso\n",
    "    '#80bfff',  # Azul intenso\n",
    "    '#ffff66',  # Amarillo intenso\n",
    "    '#ffcc66',  # Naranja intenso\n",
    "    '#c9cba3',  # Púrpura intenso\n",
    "    '#66cccc',  # Verde azulado intenso\n",
    "    '#ff66b3',  # Rosa intenso\n",
    "    '#ffb056',  # Verde claro intenso\n",
    "    '#98c1d9',  # Rojo anaranjado intenso\n",
    "    '#ffafcc'   # Verde intenso\n",
    "]\n"
   ]
  },
  {
   "cell_type": "code",
   "execution_count": null,
   "metadata": {},
   "outputs": [],
   "source": [
    "# select the year from the CRASH DATE column\n",
    "collisions['YEAR'] = collisions['CRASH DATE'].astype(str).str[:4]"
   ]
  },
  {
   "cell_type": "markdown",
   "metadata": {},
   "source": [
    "## Is there any type of vehicle more prone to participate in accidents?"
   ]
  },
  {
   "cell_type": "code",
   "execution_count": null,
   "metadata": {},
   "outputs": [],
   "source": [
    "collisions[\"VEHICLE TYPE CODE 1\"].unique()"
   ]
  },
  {
   "cell_type": "markdown",
   "metadata": {},
   "source": [
    "Given that we aggregated the type of vehicles to a total of just 14 classes, the bar chart is again the initial option that comes to our mind. "
   ]
  },
  {
   "cell_type": "code",
   "execution_count": null,
   "metadata": {},
   "outputs": [],
   "source": [
    "df = collisions[['VEHICLE TYPE CODE 1']]\n",
    "\n",
    "alt.Chart(df).mark_bar().encode(\n",
    "    x=alt.X('VEHICLE TYPE CODE 1:N', title='Vehicle Type', axis=alt.Axis(labelAngle=-45)),\n",
    "    y=alt.Y('count():Q', title='Number of Collisions')\n",
    ").properties(\n",
    "    width=500,\n",
    "    height=200,\n",
    "    title='Number of Collisions by Vehicle Type'\n",
    ").configure_mark(\n",
    "    color='lightblue'\n",
    ")"
   ]
  },
  {
   "cell_type": "markdown",
   "metadata": {},
   "source": [
    "The result is decent but at the same time there are some classes barely noticeable. We want to clarify that the answer of this question is impossible with the available data, since we would need the traffic percenatge or proportion of every type of vehicle to determine if there is a vehicle more prone to have crashes than others. This happens because, for example, there are much more cars than ambulances, so the number of total car crashes is much bigger than the numbe of total ambulance crashes, and without the traffic proportions we can't really say if one of the vehicles is more prone to have an accident than the others. \n",
    "\n",
    "Having stated this, we thought that polar area charts could be a good option to make the classes with less crashes more noticeable. We are aware that the comparison between areas is more difficult, however we believe that the main (erroneous for the reasons previously explained) conclusions for the question are still clear enough and pretty understandable."
   ]
  },
  {
   "cell_type": "markdown",
   "metadata": {},
   "source": [
    "HACER SORT DEL CIRCULO"
   ]
  },
  {
   "cell_type": "code",
   "execution_count": null,
   "metadata": {},
   "outputs": [],
   "source": [
    "df = collisions[['VEHICLE TYPE CODE 1']]\n",
    "\n",
    "c1 = alt.Chart(collisions).encode(\n",
    "    alt.Theta(\"VEHICLE TYPE CODE 1:N\",\n",
    "              stack = True,\n",
    "              sort=alt.EncodingSortField(field=\"count\", op=\"count\", order='descending')),\n",
    "    alt.Radius(\"count()\",\n",
    "               scale=alt.Scale(type=\"sqrt\", zero=True, rangeMin=20)),\n",
    "    color=alt.Color(\"VEHICLE TYPE CODE 1:N\",\n",
    "                    sort=alt.EncodingSortField(field=\"count\", op=\"count\", order='descending'),\n",
    "                    scale=alt.Scale(range=colores_hex),\n",
    "                    legend=alt.Legend(title=\"Vehicle Type\")),\n",
    ").mark_arc(\n",
    "    innerRadius=5, stroke=\"#fff\"\n",
    ")\n",
    "\n",
    "text = c1.mark_text(\n",
    "    align='center',\n",
    "    baseline='middle',\n",
    "    radiusOffset=15,\n",
    "    fontSize=10,\n",
    ").encode(\n",
    "    text='count()'\n",
    ")\n",
    "\n",
    "alt.layer(c1 + text).properties(\n",
    "    title='Number of Collisions by Vehicle Type'\n",
    ")"
   ]
  },
  {
   "cell_type": "code",
   "execution_count": null,
   "metadata": {},
   "outputs": [],
   "source": [
    "collisions.columns"
   ]
  },
  {
   "cell_type": "code",
   "execution_count": null,
   "metadata": {},
   "outputs": [],
   "source": [
    "# create a new column that sums NUMBER OF PERSONS INJURED and NUMBER OF PERSONS KILLED\n",
    "collisions['TOTAL INJURED/KILLED'] = collisions['NUMBER OF INJURED'] + collisions['NUMBER OF KILLED']"
   ]
  },
  {
   "cell_type": "markdown",
   "metadata": {},
   "source": [
    "We consider that a lollipop chart can also be useful since it allows an easy comparison of several instances. The result is the following and the result is similar to the one of a typical barchart. Simple and effective, but with the same problem of some types of vehicle being unnoticeable and impossible to differentiate (the ones with the lowest counts of crashes)."
   ]
  },
  {
   "cell_type": "code",
   "execution_count": null,
   "metadata": {},
   "outputs": [],
   "source": [
    "df = collisions[['VEHICLE TYPE CODE 1', 'TOTAL INJURED/KILLED']]\n",
    "\n",
    "df1 = df.groupby('VEHICLE TYPE CODE 1').sum(\"TOTAL INJURED/KILLED\").reset_index()\n",
    "df2 = df.groupby('VEHICLE TYPE CODE 1').count().reset_index()\n",
    "\n",
    "df2.columns = ['VEHICLE TYPE CODE 1', 'TOTAL COLLISIONS']\n",
    "\n",
    "df = pd.merge(df1, df2, on='VEHICLE TYPE CODE 1')\n",
    "\n",
    "\n",
    "lolli = alt.Chart(df).mark_bar(\n",
    "    size=3\n",
    ").encode(\n",
    "    x=alt.X('TOTAL COLLISIONS:Q',\n",
    "            title='Total Collisions'),\n",
    "    y=alt.Y('VEHICLE TYPE CODE 1:N',\n",
    "            title='Vehicle Type',\n",
    "            sort=alt.EncodingSortField(field=\"TOTAL COLLISIONS\", order=\"descending\"),\n",
    "            axis=alt.Axis(labelAngle=0, grid=True)),\n",
    "    color=alt.Color('VEHICLE TYPE CODE 1:N',\n",
    "                    title='Vehicle Type',\n",
    "                    legend=None),\n",
    ")\n",
    "\n",
    "pop = alt.Chart(df).mark_circle(\n",
    "    tooltip=True,\n",
    "    size=80,\n",
    "    opacity=1\n",
    ").encode(\n",
    "    x=alt.X('TOTAL COLLISIONS:Q',\n",
    "            title='Total Collisions'),\n",
    "    y=alt.Y('VEHICLE TYPE CODE 1:N',\n",
    "            title='Vehicle Type',\n",
    "            sort=alt.EncodingSortField(\n",
    "                field=\"TOTAL COLLISIONS\",\n",
    "                order=\"descending\"),\n",
    "            axis=alt.Axis(labelAngle=0, grid=True)),\n",
    "    color=alt.Color('VEHICLE TYPE CODE 1:N',\n",
    "                    title='Vehicle Type',\n",
    "                    legend=None),\n",
    "    tooltip=['VEHICLE TYPE CODE 1:N', 'TOTAL COLLISIONS:Q', 'TOTAL INJURED/KILLED:Q']\n",
    ").properties(\n",
    "    title='Lollipop Plot of Collisions by Vehicle Type and Contributing Factor'\n",
    ")\n",
    "\n",
    "lolli + pop"
   ]
  },
  {
   "cell_type": "markdown",
   "metadata": {},
   "source": [
    "Finally, to add some extra information to the plot, we decided to encode the total number of injured/killed per type of vehicle with the size of the lollipop. However this produces..."
   ]
  },
  {
   "cell_type": "markdown",
   "metadata": {},
   "source": [
    "BOLUDO, NORMALIZÁ EL NUMERO DE HERIDOS/MUERTOS POR EL NUMERO DE CRASHES PARA QUE SE PUEDAN VER MEJOR LAS BOLITAS"
   ]
  },
  {
   "cell_type": "code",
   "execution_count": null,
   "metadata": {},
   "outputs": [],
   "source": [
    "lolli = alt.Chart(df).mark_bar(\n",
    "    size=2\n",
    ").encode(\n",
    "    x=alt.X('TOTAL COLLISIONS:Q',\n",
    "            title='Total Collisions'),\n",
    "    y=alt.Y('VEHICLE TYPE CODE 1:N',\n",
    "            title='Vehicle Type',\n",
    "            sort=alt.EncodingSortField(field=\"TOTAL COLLISIONS\", order=\"descending\"),\n",
    "            axis=alt.Axis(labelAngle=0, grid=True)),\n",
    "    color=alt.Color('VEHICLE TYPE CODE 1:N',\n",
    "                    title='Vehicle Type',\n",
    "                    legend=None),\n",
    ")\n",
    "\n",
    "pop = alt.Chart(df).mark_circle(\n",
    "    tooltip=True,\n",
    "    opacity=1\n",
    ").encode(\n",
    "    x=alt.X('TOTAL COLLISIONS:Q',\n",
    "            title='Total Collisions'),\n",
    "    y=alt.Y('VEHICLE TYPE CODE 1:N',\n",
    "            title='Vehicle Type',\n",
    "            sort=alt.EncodingSortField(\n",
    "                field=\"TOTAL COLLISIONS\",\n",
    "                order=\"descending\"),\n",
    "            axis=alt.Axis(labelAngle=0, grid=True)),\n",
    "    size=alt.Size('TOTAL INJURED/KILLED:Q',\n",
    "                    title='Total Injured/Killed'),\n",
    "    color=alt.Color('VEHICLE TYPE CODE 1:N',\n",
    "                    title='Vehicle Type',\n",
    "                    legend=None),\n",
    "    tooltip=['VEHICLE TYPE CODE 1:N', 'TOTAL COLLISIONS:Q', 'TOTAL INJURED/KILLED:Q']\n",
    ").properties(\n",
    "    title='Lollipop Plot of Collisions by Vehicle Type and Contributing Factor'\n",
    ")\n",
    "\n",
    "lolli + pop"
   ]
  }
 ],
 "metadata": {
  "kernelspec": {
   "display_name": "Python 3",
   "language": "python",
   "name": "python3"
  },
  "language_info": {
   "codemirror_mode": {
    "name": "ipython",
    "version": 3
   },
   "file_extension": ".py",
   "mimetype": "text/x-python",
   "name": "python",
   "nbconvert_exporter": "python",
   "pygments_lexer": "ipython3",
   "version": "3.11.5"
  }
 },
 "nbformat": 4,
 "nbformat_minor": 2
}
