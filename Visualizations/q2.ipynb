{
 "cells": [
  {
   "cell_type": "code",
   "execution_count": 11,
   "metadata": {},
   "outputs": [
    {
     "data": {
      "text/plain": [
       "DataTransformerRegistry.enable('vegafusion')"
      ]
     },
     "execution_count": 11,
     "metadata": {},
     "output_type": "execute_result"
    }
   ],
   "source": [
    "import pandas as pd\n",
    "import altair as alt\n",
    "\n",
    "dir = '../Data'\n",
    "\n",
    "weather = pd.read_csv(f'{dir}/weather_clean.csv')\n",
    "collisions = pd.read_csv(f'{dir}/collisions_clean.csv')\n",
    "\n",
    "alt.data_transformers.enable(\"vegafusion\")"
   ]
  },
  {
   "cell_type": "code",
   "execution_count": 12,
   "metadata": {},
   "outputs": [],
   "source": [
    "colores_hex = [\n",
    "    '#a3ffd6',  # Verde agua intenso\n",
    "    '#d69bf5',  # Púrpura intenso\n",
    "    '#ff8080',  # Rojo intenso\n",
    "    '#80ff80',  # Verde intenso\n",
    "    '#80bfff',  # Azul intenso\n",
    "    '#ffff66',  # Amarillo intenso\n",
    "    '#ffcc66',  # Naranja intenso\n",
    "    '#c9cba3',  # Púrpura intenso\n",
    "    '#66cccc',  # Verde azulado intenso\n",
    "    '#ff66b3',  # Rosa intenso\n",
    "    '#ffb056',  # Verde claro intenso\n",
    "    '#98c1d9',  # Rojo anaranjado intenso\n",
    "    '#ffafcc'   # Verde intenso\n",
    "]\n"
   ]
  },
  {
   "cell_type": "code",
   "execution_count": 13,
   "metadata": {},
   "outputs": [],
   "source": [
    "# select the year from the CRASH DATE column\n",
    "collisions['YEAR'] = collisions['CRASH DATE'].astype(str).str[:4]"
   ]
  },
  {
   "cell_type": "markdown",
   "metadata": {},
   "source": [
    "## Is there any type of vehicle more prone to participate in accidents?"
   ]
  },
  {
   "cell_type": "code",
   "execution_count": 14,
   "metadata": {},
   "outputs": [
    {
     "data": {
      "text/plain": [
       "array(['VAN', 'CAR', 'BUS', 'TRACTOR', 'TAXI', 'SCOOTER', 'TRUCK',\n",
       "       'MOTORCYCLE', 'BICYCLE', 'OTHERS', 'AMBULANCE', 'FDNY', 'UNKNOWN'],\n",
       "      dtype=object)"
      ]
     },
     "execution_count": 14,
     "metadata": {},
     "output_type": "execute_result"
    }
   ],
   "source": [
    "collisions[\"VEHICLE TYPE CODE 1\"].unique()"
   ]
  },
  {
   "cell_type": "markdown",
   "metadata": {},
   "source": [
    "Given that we aggregated the type of vehicles to a total of just 13 classes, the bar chart is the first option that comes to our mind. "
   ]
  },
  {
   "cell_type": "code",
   "execution_count": 15,
   "metadata": {},
   "outputs": [
    {
     "data": {
      "text/html": [
       "\n",
       "<style>\n",
       "  #altair-viz-8a455b2950104bfda120f73b5a19f8d1.vega-embed {\n",
       "    width: 100%;\n",
       "    display: flex;\n",
       "  }\n",
       "\n",
       "  #altair-viz-8a455b2950104bfda120f73b5a19f8d1.vega-embed details,\n",
       "  #altair-viz-8a455b2950104bfda120f73b5a19f8d1.vega-embed details summary {\n",
       "    position: relative;\n",
       "  }\n",
       "</style>\n",
       "<div id=\"altair-viz-8a455b2950104bfda120f73b5a19f8d1\"></div>\n",
       "<script type=\"text/javascript\">\n",
       "  var VEGA_DEBUG = (typeof VEGA_DEBUG == \"undefined\") ? {} : VEGA_DEBUG;\n",
       "  (function(spec, embedOpt){\n",
       "    let outputDiv = document.currentScript.previousElementSibling;\n",
       "    if (outputDiv.id !== \"altair-viz-8a455b2950104bfda120f73b5a19f8d1\") {\n",
       "      outputDiv = document.getElementById(\"altair-viz-8a455b2950104bfda120f73b5a19f8d1\");\n",
       "    }\n",
       "    const paths = {\n",
       "      \"vega\": \"https://cdn.jsdelivr.net/npm/vega@5?noext\",\n",
       "      \"vega-lib\": \"https://cdn.jsdelivr.net/npm/vega-lib?noext\",\n",
       "      \"vega-lite\": \"https://cdn.jsdelivr.net/npm/vega-lite@5.14.1?noext\",\n",
       "      \"vega-embed\": \"https://cdn.jsdelivr.net/npm/vega-embed@6?noext\",\n",
       "    };\n",
       "\n",
       "    function maybeLoadScript(lib, version) {\n",
       "      var key = `${lib.replace(\"-\", \"\")}_version`;\n",
       "      return (VEGA_DEBUG[key] == version) ?\n",
       "        Promise.resolve(paths[lib]) :\n",
       "        new Promise(function(resolve, reject) {\n",
       "          var s = document.createElement('script');\n",
       "          document.getElementsByTagName(\"head\")[0].appendChild(s);\n",
       "          s.async = true;\n",
       "          s.onload = () => {\n",
       "            VEGA_DEBUG[key] = version;\n",
       "            return resolve(paths[lib]);\n",
       "          };\n",
       "          s.onerror = () => reject(`Error loading script: ${paths[lib]}`);\n",
       "          s.src = paths[lib];\n",
       "        });\n",
       "    }\n",
       "\n",
       "    function showError(err) {\n",
       "      outputDiv.innerHTML = `<div class=\"error\" style=\"color:red;\">${err}</div>`;\n",
       "      throw err;\n",
       "    }\n",
       "\n",
       "    function displayChart(vegaEmbed) {\n",
       "      vegaEmbed(outputDiv, spec, embedOpt)\n",
       "        .catch(err => showError(`Javascript Error: ${err.message}<br>This usually means there's a typo in your chart specification. See the javascript console for the full traceback.`));\n",
       "    }\n",
       "\n",
       "    if(typeof define === \"function\" && define.amd) {\n",
       "      requirejs.config({paths});\n",
       "      require([\"vega-embed\"], displayChart, err => showError(`Error loading script: ${err.message}`));\n",
       "    } else {\n",
       "      maybeLoadScript(\"vega\", \"5\")\n",
       "        .then(() => maybeLoadScript(\"vega-lite\", \"5.14.1\"))\n",
       "        .then(() => maybeLoadScript(\"vega-embed\", \"6\"))\n",
       "        .catch(showError)\n",
       "        .then(() => displayChart(vegaEmbed));\n",
       "    }\n",
       "  })({\"$schema\": \"https://vega.github.io/schema/vega/v5.json\", \"data\": [{\"name\": \"source_0\", \"values\": [{\"VEHICLE TYPE CODE 1\": \"VAN\", \"__count\": 41651}, {\"VEHICLE TYPE CODE 1\": \"CAR\", \"__count\": 54690}, {\"VEHICLE TYPE CODE 1\": \"BUS\", \"__count\": 1430}, {\"VEHICLE TYPE CODE 1\": \"TRACTOR\", \"__count\": 1098}, {\"VEHICLE TYPE CODE 1\": \"TAXI\", \"__count\": 4806}, {\"VEHICLE TYPE CODE 1\": \"SCOOTER\", \"__count\": 324}, {\"VEHICLE TYPE CODE 1\": \"TRUCK\", \"__count\": 6684}, {\"VEHICLE TYPE CODE 1\": \"MOTORCYCLE\", \"__count\": 1275}, {\"VEHICLE TYPE CODE 1\": \"BICYCLE\", \"__count\": 2083}, {\"VEHICLE TYPE CODE 1\": \"OTHERS\", \"__count\": 414}, {\"VEHICLE TYPE CODE 1\": \"AMBULANCE\", \"__count\": 470}, {\"VEHICLE TYPE CODE 1\": \"FDNY\", \"__count\": 76}, {\"VEHICLE TYPE CODE 1\": \"UNKNOWN\", \"__count\": 739}]}, {\"name\": \"source_0_x_domain_VEHICLE TYPE CODE 1\", \"values\": [{\"VEHICLE TYPE CODE 1\": \"VAN\"}, {\"VEHICLE TYPE CODE 1\": \"CAR\"}, {\"VEHICLE TYPE CODE 1\": \"BUS\"}, {\"VEHICLE TYPE CODE 1\": \"TRACTOR\"}, {\"VEHICLE TYPE CODE 1\": \"TAXI\"}, {\"VEHICLE TYPE CODE 1\": \"SCOOTER\"}, {\"VEHICLE TYPE CODE 1\": \"TRUCK\"}, {\"VEHICLE TYPE CODE 1\": \"MOTORCYCLE\"}, {\"VEHICLE TYPE CODE 1\": \"BICYCLE\"}, {\"VEHICLE TYPE CODE 1\": \"OTHERS\"}, {\"VEHICLE TYPE CODE 1\": \"AMBULANCE\"}, {\"VEHICLE TYPE CODE 1\": \"FDNY\"}, {\"VEHICLE TYPE CODE 1\": \"UNKNOWN\"}]}, {\"name\": \"source_0_y_domain___count\", \"values\": [{\"min\": 76, \"max\": 54690}]}], \"marks\": [{\"type\": \"rect\", \"name\": \"marks\", \"from\": {\"data\": \"source_0\"}, \"encode\": {\"update\": {\"y\": {\"field\": \"__count\", \"scale\": \"y\"}, \"y2\": {\"value\": 0, \"scale\": \"y\"}, \"x\": {\"field\": \"VEHICLE TYPE CODE 1\", \"scale\": \"x\"}, \"ariaRoleDescription\": {\"value\": \"bar\"}, \"fill\": {\"value\": \"lightblue\"}, \"description\": {\"signal\": \"\\\"Vehicle Type: \\\" + (isValid(datum[\\\"VEHICLE TYPE CODE 1\\\"]) ? datum[\\\"VEHICLE TYPE CODE 1\\\"] : \\\"\\\"+datum[\\\"VEHICLE TYPE CODE 1\\\"]) + \\\"; Number of Collisions: \\\" + (format(datum[\\\"__count\\\"], \\\"\\\"))\"}, \"width\": {\"signal\": \"max(0.25, bandwidth('x'))\"}}}, \"style\": [\"bar\"]}], \"scales\": [{\"name\": \"x\", \"type\": \"band\", \"domain\": {\"data\": \"source_0_x_domain_VEHICLE TYPE CODE 1\", \"field\": \"VEHICLE TYPE CODE 1\", \"sort\": true}, \"range\": [0, {\"signal\": \"width\"}], \"paddingOuter\": 0.05, \"paddingInner\": 0.1}, {\"name\": \"y\", \"type\": \"linear\", \"domain\": [{\"signal\": \"(data(\\\"source_0_y_domain___count\\\")[0] || {}).min\"}, {\"signal\": \"(data(\\\"source_0_y_domain___count\\\")[0] || {}).max\"}], \"range\": [{\"signal\": \"height\"}, 0], \"nice\": true, \"zero\": true}], \"axes\": [{\"scale\": \"y\", \"gridScale\": \"x\", \"minExtent\": 0, \"domain\": false, \"maxExtent\": 0, \"ticks\": false, \"orient\": \"left\", \"grid\": true, \"tickCount\": {\"signal\": \"ceil(height/40)\"}, \"labels\": false, \"aria\": false, \"zindex\": 0}, {\"scale\": \"x\", \"grid\": false, \"orient\": \"bottom\", \"labelAngle\": 315, \"labelAlign\": \"right\", \"labelBaseline\": \"top\", \"zindex\": 0, \"title\": \"Vehicle Type\"}, {\"scale\": \"y\", \"title\": \"Number of Collisions\", \"labelOverlap\": true, \"zindex\": 0, \"orient\": \"left\", \"grid\": false, \"tickCount\": {\"signal\": \"ceil(height/40)\"}}], \"title\": {\"text\": \"Number of Collisions by Vehicle Type\", \"frame\": \"group\"}, \"background\": \"white\", \"height\": 200, \"padding\": 5, \"width\": 500, \"style\": \"cell\"}, {\"mode\": \"vega\"});\n",
       "</script>"
      ],
      "text/plain": [
       "alt.Chart(...)"
      ]
     },
     "execution_count": 15,
     "metadata": {},
     "output_type": "execute_result"
    }
   ],
   "source": [
    "df = collisions[['VEHICLE TYPE CODE 1']]\n",
    "\n",
    "alt.Chart(df).mark_bar().encode(\n",
    "    x=alt.X('VEHICLE TYPE CODE 1:N', title='Vehicle Type', axis=alt.Axis(labelAngle=-45)),\n",
    "    y=alt.Y('count():Q', title='Number of Collisions')\n",
    ").properties(\n",
    "    width=500,\n",
    "    height=200,\n",
    "    title='Number of Collisions by Vehicle Type'\n",
    ").configure_mark(\n",
    "    color='lightblue'\n",
    ")"
   ]
  },
  {
   "cell_type": "markdown",
   "metadata": {},
   "source": [
    "The result is decent but at the same time there are some classes barely noticeable. We want to clarify that the answer of this question is impossible with the available data, since we would need the traffic percenatge or proportion of every type of vehicle to determine if there is a vehicle more prone to have crashes than others. This happens because, for example, there are much more cars than ambulances, so the number of total car crashes is much bigger than the numbe of total ambulance crashes, and without the traffic proportions we can't really say if one of the vehicles is more prone to have an accident than the others. \n",
    "\n",
    "Having stated this, we thought that polar area charts could be a good option to make the classes with less crashes more noticeable. We are aware that the comparison between areas is more difficult, however we believe that the main (erroneous for the reasons previously explained) conclusions for the question are still clear enough and pretty understandable."
   ]
  },
  {
   "cell_type": "code",
   "execution_count": 16,
   "metadata": {},
   "outputs": [
    {
     "data": {
      "text/html": [
       "\n",
       "<style>\n",
       "  #altair-viz-601df039ee1b41d98b6c39dbf1e4776e.vega-embed {\n",
       "    width: 100%;\n",
       "    display: flex;\n",
       "  }\n",
       "\n",
       "  #altair-viz-601df039ee1b41d98b6c39dbf1e4776e.vega-embed details,\n",
       "  #altair-viz-601df039ee1b41d98b6c39dbf1e4776e.vega-embed details summary {\n",
       "    position: relative;\n",
       "  }\n",
       "</style>\n",
       "<div id=\"altair-viz-601df039ee1b41d98b6c39dbf1e4776e\"></div>\n",
       "<script type=\"text/javascript\">\n",
       "  var VEGA_DEBUG = (typeof VEGA_DEBUG == \"undefined\") ? {} : VEGA_DEBUG;\n",
       "  (function(spec, embedOpt){\n",
       "    let outputDiv = document.currentScript.previousElementSibling;\n",
       "    if (outputDiv.id !== \"altair-viz-601df039ee1b41d98b6c39dbf1e4776e\") {\n",
       "      outputDiv = document.getElementById(\"altair-viz-601df039ee1b41d98b6c39dbf1e4776e\");\n",
       "    }\n",
       "    const paths = {\n",
       "      \"vega\": \"https://cdn.jsdelivr.net/npm/vega@5?noext\",\n",
       "      \"vega-lib\": \"https://cdn.jsdelivr.net/npm/vega-lib?noext\",\n",
       "      \"vega-lite\": \"https://cdn.jsdelivr.net/npm/vega-lite@5.14.1?noext\",\n",
       "      \"vega-embed\": \"https://cdn.jsdelivr.net/npm/vega-embed@6?noext\",\n",
       "    };\n",
       "\n",
       "    function maybeLoadScript(lib, version) {\n",
       "      var key = `${lib.replace(\"-\", \"\")}_version`;\n",
       "      return (VEGA_DEBUG[key] == version) ?\n",
       "        Promise.resolve(paths[lib]) :\n",
       "        new Promise(function(resolve, reject) {\n",
       "          var s = document.createElement('script');\n",
       "          document.getElementsByTagName(\"head\")[0].appendChild(s);\n",
       "          s.async = true;\n",
       "          s.onload = () => {\n",
       "            VEGA_DEBUG[key] = version;\n",
       "            return resolve(paths[lib]);\n",
       "          };\n",
       "          s.onerror = () => reject(`Error loading script: ${paths[lib]}`);\n",
       "          s.src = paths[lib];\n",
       "        });\n",
       "    }\n",
       "\n",
       "    function showError(err) {\n",
       "      outputDiv.innerHTML = `<div class=\"error\" style=\"color:red;\">${err}</div>`;\n",
       "      throw err;\n",
       "    }\n",
       "\n",
       "    function displayChart(vegaEmbed) {\n",
       "      vegaEmbed(outputDiv, spec, embedOpt)\n",
       "        .catch(err => showError(`Javascript Error: ${err.message}<br>This usually means there's a typo in your chart specification. See the javascript console for the full traceback.`));\n",
       "    }\n",
       "\n",
       "    if(typeof define === \"function\" && define.amd) {\n",
       "      requirejs.config({paths});\n",
       "      require([\"vega-embed\"], displayChart, err => showError(`Error loading script: ${err.message}`));\n",
       "    } else {\n",
       "      maybeLoadScript(\"vega\", \"5\")\n",
       "        .then(() => maybeLoadScript(\"vega-lite\", \"5.14.1\"))\n",
       "        .then(() => maybeLoadScript(\"vega-embed\", \"6\"))\n",
       "        .catch(showError)\n",
       "        .then(() => displayChart(vegaEmbed));\n",
       "    }\n",
       "  })({\"$schema\": \"https://vega.github.io/schema/vega/v5.json\", \"data\": [{\"name\": \"source_0\"}, {\"name\": \"data_0\", \"values\": [{\"VEHICLE TYPE CODE 1\": \"VAN\", \"__count\": 41651}, {\"VEHICLE TYPE CODE 1\": \"CAR\", \"__count\": 54690}, {\"VEHICLE TYPE CODE 1\": \"BUS\", \"__count\": 1430}, {\"VEHICLE TYPE CODE 1\": \"TRACTOR\", \"__count\": 1098}, {\"VEHICLE TYPE CODE 1\": \"TAXI\", \"__count\": 4806}, {\"VEHICLE TYPE CODE 1\": \"SCOOTER\", \"__count\": 324}, {\"VEHICLE TYPE CODE 1\": \"TRUCK\", \"__count\": 6684}, {\"VEHICLE TYPE CODE 1\": \"MOTORCYCLE\", \"__count\": 1275}, {\"VEHICLE TYPE CODE 1\": \"BICYCLE\", \"__count\": 2083}, {\"VEHICLE TYPE CODE 1\": \"OTHERS\", \"__count\": 414}, {\"VEHICLE TYPE CODE 1\": \"AMBULANCE\", \"__count\": 470}, {\"VEHICLE TYPE CODE 1\": \"FDNY\", \"__count\": 76}, {\"VEHICLE TYPE CODE 1\": \"UNKNOWN\", \"__count\": 739}]}, {\"name\": \"source_0_theta_domain_VEHICLE TYPE CODE 1\", \"values\": [{\"VEHICLE TYPE CODE 1\": \"VAN\", \"sort_field\": 41651}, {\"VEHICLE TYPE CODE 1\": \"CAR\", \"sort_field\": 54690}, {\"VEHICLE TYPE CODE 1\": \"BUS\", \"sort_field\": 1430}, {\"VEHICLE TYPE CODE 1\": \"TRACTOR\", \"sort_field\": 1098}, {\"VEHICLE TYPE CODE 1\": \"TAXI\", \"sort_field\": 4806}, {\"VEHICLE TYPE CODE 1\": \"SCOOTER\", \"sort_field\": 324}, {\"VEHICLE TYPE CODE 1\": \"TRUCK\", \"sort_field\": 6684}, {\"VEHICLE TYPE CODE 1\": \"MOTORCYCLE\", \"sort_field\": 1275}, {\"VEHICLE TYPE CODE 1\": \"BICYCLE\", \"sort_field\": 2083}, {\"VEHICLE TYPE CODE 1\": \"OTHERS\", \"sort_field\": 414}, {\"VEHICLE TYPE CODE 1\": \"AMBULANCE\", \"sort_field\": 470}, {\"VEHICLE TYPE CODE 1\": \"FDNY\", \"sort_field\": 76}, {\"VEHICLE TYPE CODE 1\": \"UNKNOWN\", \"sort_field\": 739}]}, {\"name\": \"source_0_color_domain_VEHICLE TYPE CODE 1\", \"values\": [{\"VEHICLE TYPE CODE 1\": \"VAN\", \"sort_field\": 41651}, {\"VEHICLE TYPE CODE 1\": \"CAR\", \"sort_field\": 54690}, {\"VEHICLE TYPE CODE 1\": \"BUS\", \"sort_field\": 1430}, {\"VEHICLE TYPE CODE 1\": \"TRACTOR\", \"sort_field\": 1098}, {\"VEHICLE TYPE CODE 1\": \"TAXI\", \"sort_field\": 4806}, {\"VEHICLE TYPE CODE 1\": \"SCOOTER\", \"sort_field\": 324}, {\"VEHICLE TYPE CODE 1\": \"TRUCK\", \"sort_field\": 6684}, {\"VEHICLE TYPE CODE 1\": \"MOTORCYCLE\", \"sort_field\": 1275}, {\"VEHICLE TYPE CODE 1\": \"BICYCLE\", \"sort_field\": 2083}, {\"VEHICLE TYPE CODE 1\": \"OTHERS\", \"sort_field\": 414}, {\"VEHICLE TYPE CODE 1\": \"AMBULANCE\", \"sort_field\": 470}, {\"VEHICLE TYPE CODE 1\": \"FDNY\", \"sort_field\": 76}, {\"VEHICLE TYPE CODE 1\": \"UNKNOWN\", \"sort_field\": 739}]}], \"marks\": [{\"type\": \"arc\", \"name\": \"marks\", \"from\": {\"data\": \"data_0\"}, \"encode\": {\"update\": {\"outerRadius\": {\"field\": \"__count\", \"scale\": \"radius\"}, \"x\": {\"signal\": \"width\", \"mult\": 0.5}, \"startAngle\": {\"field\": \"VEHICLE TYPE CODE 1\", \"scale\": \"theta\"}, \"stroke\": {\"value\": \"#fff\"}, \"description\": {\"signal\": \"\\\"VEHICLE TYPE CODE 1: \\\" + (isValid(datum[\\\"VEHICLE TYPE CODE 1\\\"]) ? datum[\\\"VEHICLE TYPE CODE 1\\\"] : \\\"\\\"+datum[\\\"VEHICLE TYPE CODE 1\\\"]) + \\\"; Count of Records: \\\" + (format(datum[\\\"__count\\\"], \\\"\\\"))\"}, \"endAngle\": {\"field\": \"VEHICLE TYPE CODE 1\", \"scale\": \"theta\", \"offset\": {\"signal\": \"bandwidth('theta')\"}}, \"fill\": {\"field\": \"VEHICLE TYPE CODE 1\", \"scale\": \"color\"}, \"innerRadius\": {\"value\": 5}, \"y\": {\"signal\": \"height\", \"mult\": 0.5}}}, \"style\": [\"arc\"]}], \"scales\": [{\"name\": \"theta\", \"type\": \"band\", \"domain\": {\"data\": \"source_0_theta_domain_VEHICLE TYPE CODE 1\", \"field\": \"VEHICLE TYPE CODE 1\", \"sort\": {\"op\": \"max\", \"field\": \"sort_field\", \"order\": \"descending\"}}, \"range\": [0, 6.283185307179586]}, {\"name\": \"radius\", \"type\": \"sqrt\", \"domain\": {\"data\": \"data_0\", \"field\": \"__count\"}, \"range\": [20, {\"signal\": \"min(width,height)/2\"}], \"zero\": true}, {\"name\": \"color\", \"type\": \"ordinal\", \"domain\": {\"data\": \"source_0_color_domain_VEHICLE TYPE CODE 1\", \"field\": \"VEHICLE TYPE CODE 1\", \"sort\": {\"op\": \"max\", \"field\": \"sort_field\", \"order\": \"descending\"}}, \"range\": [\"#a3ffd6\", \"#d69bf5\", \"#ff8080\", \"#80ff80\", \"#80bfff\", \"#ffff66\", \"#ffcc66\", \"#c9cba3\", \"#66cccc\", \"#ff66b3\", \"#ffb056\", \"#98c1d9\", \"#ffafcc\"]}], \"background\": \"white\", \"padding\": 5, \"width\": 300, \"legends\": [{\"title\": \"Vehicle Type\", \"fill\": \"color\", \"symbolType\": \"circle\", \"encode\": {\"symbols\": {\"update\": {\"stroke\": {\"value\": \"#fff\"}}}}}], \"height\": 300, \"style\": \"view\"}, {\"mode\": \"vega\"});\n",
       "</script>"
      ],
      "text/plain": [
       "alt.Chart(...)"
      ]
     },
     "execution_count": 16,
     "metadata": {},
     "output_type": "execute_result"
    }
   ],
   "source": [
    "alt.Chart(collisions).encode(\n",
    "    alt.Theta(\"VEHICLE TYPE CODE 1:N\",\n",
    "              stack = True,\n",
    "              sort=alt.EncodingSortField(field=\"count\", op=\"count\", order='descending')),\n",
    "    alt.Radius(\"count()\",\n",
    "               scale=alt.Scale(type=\"sqrt\", zero=True, rangeMin=20)),\n",
    "    color=alt.Color(\"VEHICLE TYPE CODE 1:N\",\n",
    "                    sort=alt.EncodingSortField(field=\"count\", op=\"count\", order='descending'),\n",
    "                    scale=alt.Scale(range=colores_hex),\n",
    "                    legend=alt.Legend(title=\"Vehicle Type\")),\n",
    ").mark_arc(\n",
    "    innerRadius=5, stroke=\"#fff\"\n",
    ")"
   ]
  },
  {
   "cell_type": "markdown",
   "metadata": {},
   "source": [
    "The choice of this palette with no colors being extremely similar or much more appealing than others allows for a good idenftification of the thirteen instances. The strength of the chart is taht allows to see the groups with less total crashes, so the user can compare the smaller classes aswell as the bigger ones. However, the problem is, as explained previously, that areas are much more difficult to compare than lenghts, so although the user can say which are bigger than others (since its ordered by size), he can't really quantify how much bigger are ones from others."
   ]
  },
  {
   "cell_type": "markdown",
   "metadata": {},
   "source": [
    "To solve this problem, we determined that the solution would be to aggregate the numbers with the actual counts of crashes to each of the instances. Which resulted in the following plot:"
   ]
  },
  {
   "cell_type": "code",
   "execution_count": 28,
   "metadata": {},
   "outputs": [
    {
     "data": {
      "text/html": [
       "\n",
       "<style>\n",
       "  #altair-viz-7e5bd0c8b5504a7ab17570ed549695e4.vega-embed {\n",
       "    width: 100%;\n",
       "    display: flex;\n",
       "  }\n",
       "\n",
       "  #altair-viz-7e5bd0c8b5504a7ab17570ed549695e4.vega-embed details,\n",
       "  #altair-viz-7e5bd0c8b5504a7ab17570ed549695e4.vega-embed details summary {\n",
       "    position: relative;\n",
       "  }\n",
       "</style>\n",
       "<div id=\"altair-viz-7e5bd0c8b5504a7ab17570ed549695e4\"></div>\n",
       "<script type=\"text/javascript\">\n",
       "  var VEGA_DEBUG = (typeof VEGA_DEBUG == \"undefined\") ? {} : VEGA_DEBUG;\n",
       "  (function(spec, embedOpt){\n",
       "    let outputDiv = document.currentScript.previousElementSibling;\n",
       "    if (outputDiv.id !== \"altair-viz-7e5bd0c8b5504a7ab17570ed549695e4\") {\n",
       "      outputDiv = document.getElementById(\"altair-viz-7e5bd0c8b5504a7ab17570ed549695e4\");\n",
       "    }\n",
       "    const paths = {\n",
       "      \"vega\": \"https://cdn.jsdelivr.net/npm/vega@5?noext\",\n",
       "      \"vega-lib\": \"https://cdn.jsdelivr.net/npm/vega-lib?noext\",\n",
       "      \"vega-lite\": \"https://cdn.jsdelivr.net/npm/vega-lite@5.14.1?noext\",\n",
       "      \"vega-embed\": \"https://cdn.jsdelivr.net/npm/vega-embed@6?noext\",\n",
       "    };\n",
       "\n",
       "    function maybeLoadScript(lib, version) {\n",
       "      var key = `${lib.replace(\"-\", \"\")}_version`;\n",
       "      return (VEGA_DEBUG[key] == version) ?\n",
       "        Promise.resolve(paths[lib]) :\n",
       "        new Promise(function(resolve, reject) {\n",
       "          var s = document.createElement('script');\n",
       "          document.getElementsByTagName(\"head\")[0].appendChild(s);\n",
       "          s.async = true;\n",
       "          s.onload = () => {\n",
       "            VEGA_DEBUG[key] = version;\n",
       "            return resolve(paths[lib]);\n",
       "          };\n",
       "          s.onerror = () => reject(`Error loading script: ${paths[lib]}`);\n",
       "          s.src = paths[lib];\n",
       "        });\n",
       "    }\n",
       "\n",
       "    function showError(err) {\n",
       "      outputDiv.innerHTML = `<div class=\"error\" style=\"color:red;\">${err}</div>`;\n",
       "      throw err;\n",
       "    }\n",
       "\n",
       "    function displayChart(vegaEmbed) {\n",
       "      vegaEmbed(outputDiv, spec, embedOpt)\n",
       "        .catch(err => showError(`Javascript Error: ${err.message}<br>This usually means there's a typo in your chart specification. See the javascript console for the full traceback.`));\n",
       "    }\n",
       "\n",
       "    if(typeof define === \"function\" && define.amd) {\n",
       "      requirejs.config({paths});\n",
       "      require([\"vega-embed\"], displayChart, err => showError(`Error loading script: ${err.message}`));\n",
       "    } else {\n",
       "      maybeLoadScript(\"vega\", \"5\")\n",
       "        .then(() => maybeLoadScript(\"vega-lite\", \"5.14.1\"))\n",
       "        .then(() => maybeLoadScript(\"vega-embed\", \"6\"))\n",
       "        .catch(showError)\n",
       "        .then(() => displayChart(vegaEmbed));\n",
       "    }\n",
       "  })({\"$schema\": \"https://vega.github.io/schema/vega/v5.json\", \"data\": [{\"name\": \"source_0\"}, {\"name\": \"data_0\", \"values\": [{\"VEHICLE TYPE CODE 1\": \"VAN\", \"__count\": 41651}, {\"VEHICLE TYPE CODE 1\": \"CAR\", \"__count\": 54690}, {\"VEHICLE TYPE CODE 1\": \"BUS\", \"__count\": 1430}, {\"VEHICLE TYPE CODE 1\": \"TRACTOR\", \"__count\": 1098}, {\"VEHICLE TYPE CODE 1\": \"TAXI\", \"__count\": 4806}, {\"VEHICLE TYPE CODE 1\": \"SCOOTER\", \"__count\": 324}, {\"VEHICLE TYPE CODE 1\": \"TRUCK\", \"__count\": 6684}, {\"VEHICLE TYPE CODE 1\": \"MOTORCYCLE\", \"__count\": 1275}, {\"VEHICLE TYPE CODE 1\": \"BICYCLE\", \"__count\": 2083}, {\"VEHICLE TYPE CODE 1\": \"OTHERS\", \"__count\": 414}, {\"VEHICLE TYPE CODE 1\": \"AMBULANCE\", \"__count\": 470}, {\"VEHICLE TYPE CODE 1\": \"FDNY\", \"__count\": 76}, {\"VEHICLE TYPE CODE 1\": \"UNKNOWN\", \"__count\": 739}]}, {\"name\": \"source_0_theta_domain_VEHICLE TYPE CODE 1\", \"values\": [{\"VEHICLE TYPE CODE 1\": \"VAN\", \"sort_field\": 41651}, {\"VEHICLE TYPE CODE 1\": \"CAR\", \"sort_field\": 54690}, {\"VEHICLE TYPE CODE 1\": \"BUS\", \"sort_field\": 1430}, {\"VEHICLE TYPE CODE 1\": \"TRACTOR\", \"sort_field\": 1098}, {\"VEHICLE TYPE CODE 1\": \"TAXI\", \"sort_field\": 4806}, {\"VEHICLE TYPE CODE 1\": \"SCOOTER\", \"sort_field\": 324}, {\"VEHICLE TYPE CODE 1\": \"TRUCK\", \"sort_field\": 6684}, {\"VEHICLE TYPE CODE 1\": \"MOTORCYCLE\", \"sort_field\": 1275}, {\"VEHICLE TYPE CODE 1\": \"BICYCLE\", \"sort_field\": 2083}, {\"VEHICLE TYPE CODE 1\": \"OTHERS\", \"sort_field\": 414}, {\"VEHICLE TYPE CODE 1\": \"AMBULANCE\", \"sort_field\": 470}, {\"VEHICLE TYPE CODE 1\": \"FDNY\", \"sort_field\": 76}, {\"VEHICLE TYPE CODE 1\": \"UNKNOWN\", \"sort_field\": 739}]}, {\"name\": \"source_0_color_domain_VEHICLE TYPE CODE 1\", \"values\": [{\"VEHICLE TYPE CODE 1\": \"VAN\", \"sort_field\": 41651}, {\"VEHICLE TYPE CODE 1\": \"CAR\", \"sort_field\": 54690}, {\"VEHICLE TYPE CODE 1\": \"BUS\", \"sort_field\": 1430}, {\"VEHICLE TYPE CODE 1\": \"TRACTOR\", \"sort_field\": 1098}, {\"VEHICLE TYPE CODE 1\": \"TAXI\", \"sort_field\": 4806}, {\"VEHICLE TYPE CODE 1\": \"SCOOTER\", \"sort_field\": 324}, {\"VEHICLE TYPE CODE 1\": \"TRUCK\", \"sort_field\": 6684}, {\"VEHICLE TYPE CODE 1\": \"MOTORCYCLE\", \"sort_field\": 1275}, {\"VEHICLE TYPE CODE 1\": \"BICYCLE\", \"sort_field\": 2083}, {\"VEHICLE TYPE CODE 1\": \"OTHERS\", \"sort_field\": 414}, {\"VEHICLE TYPE CODE 1\": \"AMBULANCE\", \"sort_field\": 470}, {\"VEHICLE TYPE CODE 1\": \"FDNY\", \"sort_field\": 76}, {\"VEHICLE TYPE CODE 1\": \"UNKNOWN\", \"sort_field\": 739}]}], \"marks\": [{\"type\": \"arc\", \"name\": \"layer_0_layer_0_marks\", \"from\": {\"data\": \"data_0\"}, \"encode\": {\"update\": {\"endAngle\": {\"field\": \"VEHICLE TYPE CODE 1\", \"scale\": \"theta\", \"offset\": {\"signal\": \"bandwidth('theta')\"}}, \"fill\": {\"field\": \"VEHICLE TYPE CODE 1\", \"scale\": \"color\"}, \"description\": {\"signal\": \"\\\"VEHICLE TYPE CODE 1: \\\" + (isValid(datum[\\\"VEHICLE TYPE CODE 1\\\"]) ? datum[\\\"VEHICLE TYPE CODE 1\\\"] : \\\"\\\"+datum[\\\"VEHICLE TYPE CODE 1\\\"]) + \\\"; Count of Records: \\\" + (format(datum[\\\"__count\\\"], \\\"\\\"))\"}, \"stroke\": {\"value\": \"#fff\"}, \"outerRadius\": {\"field\": \"__count\", \"scale\": \"radius\"}, \"y\": {\"signal\": \"height\", \"mult\": 0.5}, \"x\": {\"signal\": \"width\", \"mult\": 0.5}, \"innerRadius\": {\"value\": 5}, \"startAngle\": {\"field\": \"VEHICLE TYPE CODE 1\", \"scale\": \"theta\"}}}, \"style\": [\"arc\"]}, {\"type\": \"text\", \"name\": \"layer_0_layer_1_marks\", \"from\": {\"data\": \"data_0\"}, \"encode\": {\"update\": {\"fontSize\": {\"value\": 12.5}, \"text\": {\"signal\": \"format(datum[\\\"__count\\\"], \\\"\\\")\"}, \"description\": {\"signal\": \"\\\"VEHICLE TYPE CODE 1: \\\" + (isValid(datum[\\\"VEHICLE TYPE CODE 1\\\"]) ? datum[\\\"VEHICLE TYPE CODE 1\\\"] : \\\"\\\"+datum[\\\"VEHICLE TYPE CODE 1\\\"]) + \\\"; Count of Records: \\\" + (format(datum[\\\"__count\\\"], \\\"\\\"))\"}, \"align\": {\"value\": \"center\"}, \"baseline\": {\"value\": \"middle\"}, \"radius\": {\"field\": \"__count\", \"scale\": \"radius\", \"offset\": 20}, \"theta\": {\"field\": \"VEHICLE TYPE CODE 1\", \"scale\": \"theta\", \"band\": 0.5}, \"y\": {\"signal\": \"height\", \"mult\": 0.5}, \"x\": {\"signal\": \"width\", \"mult\": 0.5}, \"fill\": {\"field\": \"VEHICLE TYPE CODE 1\", \"scale\": \"color\"}}}, \"style\": [\"text\"]}], \"scales\": [{\"name\": \"theta\", \"type\": \"band\", \"domain\": {\"data\": \"source_0_theta_domain_VEHICLE TYPE CODE 1\", \"field\": \"VEHICLE TYPE CODE 1\", \"sort\": {\"op\": \"max\", \"field\": \"sort_field\", \"order\": \"descending\"}}, \"range\": [0, 6.283185307179586]}, {\"name\": \"radius\", \"type\": \"sqrt\", \"domain\": {\"data\": \"data_0\", \"field\": \"__count\"}, \"range\": [20, {\"signal\": \"min(width,height)/2\"}], \"zero\": true}, {\"name\": \"color\", \"type\": \"ordinal\", \"domain\": {\"data\": \"source_0_color_domain_VEHICLE TYPE CODE 1\", \"field\": \"VEHICLE TYPE CODE 1\", \"sort\": {\"op\": \"max\", \"field\": \"sort_field\", \"order\": \"descending\"}}, \"range\": [\"#a3ffd6\", \"#d69bf5\", \"#ff8080\", \"#80ff80\", \"#80bfff\", \"#ffff66\", \"#ffcc66\", \"#c9cba3\", \"#66cccc\", \"#ff66b3\", \"#ffb056\", \"#98c1d9\", \"#ffafcc\"]}], \"title\": {\"text\": \"Number of Collisions by Vehicle Type\", \"frame\": \"group\"}, \"legends\": [{\"title\": \"Vehicle Type\", \"fill\": \"color\", \"symbolType\": \"circle\", \"encode\": {\"symbols\": {\"update\": {\"stroke\": {\"value\": \"#fff\"}}}}}], \"style\": \"view\", \"background\": \"white\", \"width\": 300, \"padding\": 5, \"height\": 300}, {\"mode\": \"vega\"});\n",
       "</script>"
      ],
      "text/plain": [
       "alt.LayerChart(...)"
      ]
     },
     "execution_count": 28,
     "metadata": {},
     "output_type": "execute_result"
    }
   ],
   "source": [
    "c1 = alt.Chart(collisions).encode(\n",
    "    alt.Theta(\"VEHICLE TYPE CODE 1:N\",\n",
    "              stack = True,\n",
    "              sort=alt.EncodingSortField(field=\"count\", op=\"count\", order='descending')),\n",
    "    alt.Radius(\"count()\",\n",
    "               scale=alt.Scale(type=\"sqrt\", zero=True, rangeMin=20)),\n",
    "    color=alt.Color(\"VEHICLE TYPE CODE 1:N\",\n",
    "                    sort=alt.EncodingSortField(field=\"count\", op=\"count\", order='descending'),\n",
    "                    scale=alt.Scale(range=colores_hex),\n",
    "                    legend=alt.Legend(title=\"Vehicle Type\")),\n",
    ").mark_arc(\n",
    "    innerRadius=5, stroke=\"#fff\"\n",
    ")\n",
    "\n",
    "text = c1.mark_text(\n",
    "    align='center',\n",
    "    baseline='middle',\n",
    "    radiusOffset=20,\n",
    "    fontSize=12.5,\n",
    ").encode(\n",
    "    text='count()'\n",
    ")\n",
    "\n",
    "alt.layer(c1 + text).properties(\n",
    "    title='Number of Collisions by Vehicle Type'\n",
    ")"
   ]
  },
  {
   "cell_type": "code",
   "execution_count": 18,
   "metadata": {},
   "outputs": [],
   "source": [
    "# create a new column that sums NUMBER OF PERSONS INJURED and NUMBER OF PERSONS KILLED\n",
    "collisions['TOTAL INJURED/KILLED'] = collisions['NUMBER OF INJURED'] + collisions['NUMBER OF KILLED']"
   ]
  },
  {
   "cell_type": "markdown",
   "metadata": {},
   "source": [
    "The last option we considered is a lollipop chart since it allows an easy comparison of several instances. The result is the following and it is similar to the one of a typical barchart. Simple and effective, but with the same problem of some types of vehicle being unnoticeable and impossible to differentiate (the ones with the lowest counts of crashes)."
   ]
  },
  {
   "cell_type": "code",
   "execution_count": 19,
   "metadata": {},
   "outputs": [
    {
     "data": {
      "text/html": [
       "\n",
       "<style>\n",
       "  #altair-viz-b687c31e8a554e7598709df7c1cc3dba.vega-embed {\n",
       "    width: 100%;\n",
       "    display: flex;\n",
       "  }\n",
       "\n",
       "  #altair-viz-b687c31e8a554e7598709df7c1cc3dba.vega-embed details,\n",
       "  #altair-viz-b687c31e8a554e7598709df7c1cc3dba.vega-embed details summary {\n",
       "    position: relative;\n",
       "  }\n",
       "</style>\n",
       "<div id=\"altair-viz-b687c31e8a554e7598709df7c1cc3dba\"></div>\n",
       "<script type=\"text/javascript\">\n",
       "  var VEGA_DEBUG = (typeof VEGA_DEBUG == \"undefined\") ? {} : VEGA_DEBUG;\n",
       "  (function(spec, embedOpt){\n",
       "    let outputDiv = document.currentScript.previousElementSibling;\n",
       "    if (outputDiv.id !== \"altair-viz-b687c31e8a554e7598709df7c1cc3dba\") {\n",
       "      outputDiv = document.getElementById(\"altair-viz-b687c31e8a554e7598709df7c1cc3dba\");\n",
       "    }\n",
       "    const paths = {\n",
       "      \"vega\": \"https://cdn.jsdelivr.net/npm/vega@5?noext\",\n",
       "      \"vega-lib\": \"https://cdn.jsdelivr.net/npm/vega-lib?noext\",\n",
       "      \"vega-lite\": \"https://cdn.jsdelivr.net/npm/vega-lite@5.14.1?noext\",\n",
       "      \"vega-embed\": \"https://cdn.jsdelivr.net/npm/vega-embed@6?noext\",\n",
       "    };\n",
       "\n",
       "    function maybeLoadScript(lib, version) {\n",
       "      var key = `${lib.replace(\"-\", \"\")}_version`;\n",
       "      return (VEGA_DEBUG[key] == version) ?\n",
       "        Promise.resolve(paths[lib]) :\n",
       "        new Promise(function(resolve, reject) {\n",
       "          var s = document.createElement('script');\n",
       "          document.getElementsByTagName(\"head\")[0].appendChild(s);\n",
       "          s.async = true;\n",
       "          s.onload = () => {\n",
       "            VEGA_DEBUG[key] = version;\n",
       "            return resolve(paths[lib]);\n",
       "          };\n",
       "          s.onerror = () => reject(`Error loading script: ${paths[lib]}`);\n",
       "          s.src = paths[lib];\n",
       "        });\n",
       "    }\n",
       "\n",
       "    function showError(err) {\n",
       "      outputDiv.innerHTML = `<div class=\"error\" style=\"color:red;\">${err}</div>`;\n",
       "      throw err;\n",
       "    }\n",
       "\n",
       "    function displayChart(vegaEmbed) {\n",
       "      vegaEmbed(outputDiv, spec, embedOpt)\n",
       "        .catch(err => showError(`Javascript Error: ${err.message}<br>This usually means there's a typo in your chart specification. See the javascript console for the full traceback.`));\n",
       "    }\n",
       "\n",
       "    if(typeof define === \"function\" && define.amd) {\n",
       "      requirejs.config({paths});\n",
       "      require([\"vega-embed\"], displayChart, err => showError(`Error loading script: ${err.message}`));\n",
       "    } else {\n",
       "      maybeLoadScript(\"vega\", \"5\")\n",
       "        .then(() => maybeLoadScript(\"vega-lite\", \"5.14.1\"))\n",
       "        .then(() => maybeLoadScript(\"vega-embed\", \"6\"))\n",
       "        .catch(showError)\n",
       "        .then(() => displayChart(vegaEmbed));\n",
       "    }\n",
       "  })({\"$schema\": \"https://vega.github.io/schema/vega/v5.json\", \"data\": [{\"name\": \"source_0\"}, {\"name\": \"data_1\", \"values\": [{\"TOTAL COLLISIONS\": 470, \"TOTAL COLLISIONS_end\": 470.0, \"TOTAL COLLISIONS_start\": 0.0, \"VEHICLE TYPE CODE 1\": \"AMBULANCE\"}, {\"TOTAL COLLISIONS\": 2083, \"TOTAL COLLISIONS_end\": 2083.0, \"TOTAL COLLISIONS_start\": 0.0, \"VEHICLE TYPE CODE 1\": \"BICYCLE\"}, {\"TOTAL COLLISIONS\": 1430, \"TOTAL COLLISIONS_end\": 1430.0, \"TOTAL COLLISIONS_start\": 0.0, \"VEHICLE TYPE CODE 1\": \"BUS\"}, {\"TOTAL COLLISIONS\": 54690, \"TOTAL COLLISIONS_end\": 54690.0, \"TOTAL COLLISIONS_start\": 0.0, \"VEHICLE TYPE CODE 1\": \"CAR\"}, {\"TOTAL COLLISIONS\": 76, \"TOTAL COLLISIONS_end\": 76.0, \"TOTAL COLLISIONS_start\": 0.0, \"VEHICLE TYPE CODE 1\": \"FDNY\"}, {\"TOTAL COLLISIONS\": 1275, \"TOTAL COLLISIONS_end\": 1275.0, \"TOTAL COLLISIONS_start\": 0.0, \"VEHICLE TYPE CODE 1\": \"MOTORCYCLE\"}, {\"TOTAL COLLISIONS\": 414, \"TOTAL COLLISIONS_end\": 414.0, \"TOTAL COLLISIONS_start\": 0.0, \"VEHICLE TYPE CODE 1\": \"OTHERS\"}, {\"TOTAL COLLISIONS\": 324, \"TOTAL COLLISIONS_end\": 324.0, \"TOTAL COLLISIONS_start\": 0.0, \"VEHICLE TYPE CODE 1\": \"SCOOTER\"}, {\"TOTAL COLLISIONS\": 4806, \"TOTAL COLLISIONS_end\": 4806.0, \"TOTAL COLLISIONS_start\": 0.0, \"VEHICLE TYPE CODE 1\": \"TAXI\"}, {\"TOTAL COLLISIONS\": 1098, \"TOTAL COLLISIONS_end\": 1098.0, \"TOTAL COLLISIONS_start\": 0.0, \"VEHICLE TYPE CODE 1\": \"TRACTOR\"}, {\"TOTAL COLLISIONS\": 6684, \"TOTAL COLLISIONS_end\": 6684.0, \"TOTAL COLLISIONS_start\": 0.0, \"VEHICLE TYPE CODE 1\": \"TRUCK\"}, {\"TOTAL COLLISIONS\": 739, \"TOTAL COLLISIONS_end\": 739.0, \"TOTAL COLLISIONS_start\": 0.0, \"VEHICLE TYPE CODE 1\": \"UNKNOWN\"}, {\"TOTAL COLLISIONS\": 41651, \"TOTAL COLLISIONS_end\": 41651.0, \"TOTAL COLLISIONS_start\": 0.0, \"VEHICLE TYPE CODE 1\": \"VAN\"}]}, {\"name\": \"data_2\", \"values\": [{\"TOTAL COLLISIONS\": 470, \"TOTAL INJURED/KILLED\": 160.0, \"VEHICLE TYPE CODE 1\": \"AMBULANCE\"}, {\"TOTAL COLLISIONS\": 2083, \"TOTAL INJURED/KILLED\": 3765.0, \"VEHICLE TYPE CODE 1\": \"BICYCLE\"}, {\"TOTAL COLLISIONS\": 1430, \"TOTAL INJURED/KILLED\": 944.0, \"VEHICLE TYPE CODE 1\": \"BUS\"}, {\"TOTAL COLLISIONS\": 54690, \"TOTAL INJURED/KILLED\": 37634.0, \"VEHICLE TYPE CODE 1\": \"CAR\"}, {\"TOTAL COLLISIONS\": 76, \"TOTAL INJURED/KILLED\": 20.0, \"VEHICLE TYPE CODE 1\": \"FDNY\"}, {\"TOTAL COLLISIONS\": 1275, \"TOTAL INJURED/KILLED\": 1910.0, \"VEHICLE TYPE CODE 1\": \"MOTORCYCLE\"}, {\"TOTAL COLLISIONS\": 414, \"TOTAL INJURED/KILLED\": 216.0, \"VEHICLE TYPE CODE 1\": \"OTHERS\"}, {\"TOTAL COLLISIONS\": 324, \"TOTAL INJURED/KILLED\": 578.0, \"VEHICLE TYPE CODE 1\": \"SCOOTER\"}, {\"TOTAL COLLISIONS\": 4806, \"TOTAL INJURED/KILLED\": 3353.0, \"VEHICLE TYPE CODE 1\": \"TAXI\"}, {\"TOTAL COLLISIONS\": 1098, \"TOTAL INJURED/KILLED\": 340.0, \"VEHICLE TYPE CODE 1\": \"TRACTOR\"}, {\"TOTAL COLLISIONS\": 6684, \"TOTAL INJURED/KILLED\": 2874.0, \"VEHICLE TYPE CODE 1\": \"TRUCK\"}, {\"TOTAL COLLISIONS\": 739, \"TOTAL INJURED/KILLED\": 1108.0, \"VEHICLE TYPE CODE 1\": \"UNKNOWN\"}, {\"TOTAL COLLISIONS\": 41651, \"TOTAL INJURED/KILLED\": 26794.0, \"VEHICLE TYPE CODE 1\": \"VAN\"}]}, {\"name\": \"source_0_y_domain_VEHICLE TYPE CODE 1\", \"values\": [{\"VEHICLE TYPE CODE 1\": \"AMBULANCE\", \"sort_field\": 470}, {\"VEHICLE TYPE CODE 1\": \"BICYCLE\", \"sort_field\": 2083}, {\"VEHICLE TYPE CODE 1\": \"BUS\", \"sort_field\": 1430}, {\"VEHICLE TYPE CODE 1\": \"CAR\", \"sort_field\": 54690}, {\"VEHICLE TYPE CODE 1\": \"FDNY\", \"sort_field\": 76}, {\"VEHICLE TYPE CODE 1\": \"MOTORCYCLE\", \"sort_field\": 1275}, {\"VEHICLE TYPE CODE 1\": \"OTHERS\", \"sort_field\": 414}, {\"VEHICLE TYPE CODE 1\": \"SCOOTER\", \"sort_field\": 324}, {\"VEHICLE TYPE CODE 1\": \"TAXI\", \"sort_field\": 4806}, {\"VEHICLE TYPE CODE 1\": \"TRACTOR\", \"sort_field\": 1098}, {\"VEHICLE TYPE CODE 1\": \"TRUCK\", \"sort_field\": 6684}, {\"VEHICLE TYPE CODE 1\": \"UNKNOWN\", \"sort_field\": 739}, {\"VEHICLE TYPE CODE 1\": \"VAN\", \"sort_field\": 41651}]}, {\"name\": \"data_1_color_domain_VEHICLE TYPE CODE 1_0\", \"values\": [{\"VEHICLE TYPE CODE 1\": \"AMBULANCE\"}, {\"VEHICLE TYPE CODE 1\": \"BICYCLE\"}, {\"VEHICLE TYPE CODE 1\": \"BUS\"}, {\"VEHICLE TYPE CODE 1\": \"CAR\"}, {\"VEHICLE TYPE CODE 1\": \"FDNY\"}, {\"VEHICLE TYPE CODE 1\": \"MOTORCYCLE\"}, {\"VEHICLE TYPE CODE 1\": \"OTHERS\"}, {\"VEHICLE TYPE CODE 1\": \"SCOOTER\"}, {\"VEHICLE TYPE CODE 1\": \"TAXI\"}, {\"VEHICLE TYPE CODE 1\": \"TRACTOR\"}, {\"VEHICLE TYPE CODE 1\": \"TRUCK\"}, {\"VEHICLE TYPE CODE 1\": \"UNKNOWN\"}, {\"VEHICLE TYPE CODE 1\": \"VAN\"}]}, {\"name\": \"data_2_color_domain_VEHICLE TYPE CODE 1_1\", \"values\": [{\"VEHICLE TYPE CODE 1\": \"AMBULANCE\"}, {\"VEHICLE TYPE CODE 1\": \"BICYCLE\"}, {\"VEHICLE TYPE CODE 1\": \"BUS\"}, {\"VEHICLE TYPE CODE 1\": \"CAR\"}, {\"VEHICLE TYPE CODE 1\": \"FDNY\"}, {\"VEHICLE TYPE CODE 1\": \"MOTORCYCLE\"}, {\"VEHICLE TYPE CODE 1\": \"OTHERS\"}, {\"VEHICLE TYPE CODE 1\": \"SCOOTER\"}, {\"VEHICLE TYPE CODE 1\": \"TAXI\"}, {\"VEHICLE TYPE CODE 1\": \"TRACTOR\"}, {\"VEHICLE TYPE CODE 1\": \"TRUCK\"}, {\"VEHICLE TYPE CODE 1\": \"UNKNOWN\"}, {\"VEHICLE TYPE CODE 1\": \"VAN\"}]}], \"signals\": [{\"name\": \"y_step\", \"value\": 20}, {\"name\": \"height\", \"update\": \"bandspace(domain('y').length, 0.1, 0.05) * y_step\"}], \"marks\": [{\"type\": \"rect\", \"name\": \"layer_0_marks\", \"from\": {\"data\": \"data_1\"}, \"encode\": {\"update\": {\"description\": {\"signal\": \"\\\"Total Collisions: \\\" + (format(datum[\\\"TOTAL COLLISIONS\\\"], \\\"\\\")) + \\\"; Vehicle Type: \\\" + (isValid(datum[\\\"VEHICLE TYPE CODE 1\\\"]) ? datum[\\\"VEHICLE TYPE CODE 1\\\"] : \\\"\\\"+datum[\\\"VEHICLE TYPE CODE 1\\\"])\"}, \"x\": {\"field\": \"TOTAL COLLISIONS_end\", \"scale\": \"x\"}, \"fill\": {\"field\": \"VEHICLE TYPE CODE 1\", \"scale\": \"color\"}, \"ariaRoleDescription\": {\"value\": \"bar\"}, \"x2\": {\"field\": \"TOTAL COLLISIONS_start\", \"scale\": \"x\"}, \"yc\": {\"field\": \"VEHICLE TYPE CODE 1\", \"scale\": \"y\", \"band\": 0.5}, \"height\": {\"value\": 3}}}, \"style\": [\"bar\"]}, {\"type\": \"symbol\", \"name\": \"layer_1_marks\", \"from\": {\"data\": \"data_2\"}, \"encode\": {\"update\": {\"opacity\": {\"value\": 1}, \"tooltip\": {\"signal\": \"{\\\"VEHICLE TYPE CODE 1\\\": isValid(datum[\\\"VEHICLE TYPE CODE 1\\\"]) ? datum[\\\"VEHICLE TYPE CODE 1\\\"] : \\\"\\\"+datum[\\\"VEHICLE TYPE CODE 1\\\"], \\\"TOTAL COLLISIONS\\\": format(datum[\\\"TOTAL COLLISIONS\\\"], \\\"\\\"), \\\"TOTAL INJURED/KILLED\\\": format(datum[\\\"TOTAL INJURED/KILLED\\\"], \\\"\\\")}\"}, \"y\": {\"field\": \"VEHICLE TYPE CODE 1\", \"scale\": \"y\", \"band\": 0.5}, \"shape\": {\"value\": \"circle\"}, \"size\": {\"value\": 80}, \"description\": {\"signal\": \"\\\"Total Collisions: \\\" + (format(datum[\\\"TOTAL COLLISIONS\\\"], \\\"\\\")) + \\\"; Vehicle Type: \\\" + (isValid(datum[\\\"VEHICLE TYPE CODE 1\\\"]) ? datum[\\\"VEHICLE TYPE CODE 1\\\"] : \\\"\\\"+datum[\\\"VEHICLE TYPE CODE 1\\\"]) + \\\"; VEHICLE TYPE CODE 1: \\\" + (isValid(datum[\\\"VEHICLE TYPE CODE 1\\\"]) ? datum[\\\"VEHICLE TYPE CODE 1\\\"] : \\\"\\\"+datum[\\\"VEHICLE TYPE CODE 1\\\"]) + \\\"; TOTAL COLLISIONS: \\\" + (format(datum[\\\"TOTAL COLLISIONS\\\"], \\\"\\\")) + \\\"; TOTAL INJURED/KILLED: \\\" + (format(datum[\\\"TOTAL INJURED/KILLED\\\"], \\\"\\\"))\"}, \"fill\": {\"field\": \"VEHICLE TYPE CODE 1\", \"scale\": \"color\"}, \"ariaRoleDescription\": {\"value\": \"circle\"}, \"x\": {\"field\": \"TOTAL COLLISIONS\", \"scale\": \"x\"}}}, \"style\": [\"circle\"]}], \"scales\": [{\"name\": \"x\", \"type\": \"linear\", \"domain\": {\"fields\": [{\"data\": \"data_1\", \"field\": \"TOTAL COLLISIONS_start\"}, {\"data\": \"data_1\", \"field\": \"TOTAL COLLISIONS_end\"}, {\"data\": \"data_2\", \"field\": \"TOTAL COLLISIONS\"}]}, \"range\": [0, {\"signal\": \"width\"}], \"zero\": true, \"nice\": true}, {\"name\": \"y\", \"type\": \"band\", \"domain\": {\"data\": \"source_0_y_domain_VEHICLE TYPE CODE 1\", \"field\": \"VEHICLE TYPE CODE 1\", \"sort\": {\"op\": \"max\", \"field\": \"sort_field\", \"order\": \"descending\"}}, \"range\": {\"step\": {\"signal\": \"y_step\"}}, \"paddingOuter\": 0.05, \"paddingInner\": 0.1}, {\"name\": \"color\", \"type\": \"ordinal\", \"domain\": {\"fields\": [{\"data\": \"data_1_color_domain_VEHICLE TYPE CODE 1_0\", \"field\": \"VEHICLE TYPE CODE 1\"}, {\"data\": \"data_2_color_domain_VEHICLE TYPE CODE 1_1\", \"field\": \"VEHICLE TYPE CODE 1\"}], \"sort\": true}, \"range\": \"category\"}], \"axes\": [{\"scale\": \"x\", \"grid\": true, \"tickCount\": {\"signal\": \"ceil(width/40)\"}, \"labels\": false, \"minExtent\": 0, \"orient\": \"bottom\", \"domain\": false, \"zindex\": 0, \"aria\": false, \"gridScale\": \"y\", \"maxExtent\": 0, \"ticks\": false}, {\"scale\": \"y\", \"domain\": false, \"orient\": \"left\", \"maxExtent\": 0, \"minExtent\": 0, \"aria\": false, \"zindex\": 0, \"ticks\": false, \"grid\": true, \"gridScale\": \"x\", \"labels\": false}, {\"scale\": \"x\", \"zindex\": 0, \"tickCount\": {\"signal\": \"ceil(width/40)\"}, \"grid\": false, \"labelOverlap\": true, \"title\": \"Total Collisions\", \"orient\": \"bottom\", \"labelFlush\": true}, {\"scale\": \"y\", \"labelAlign\": \"right\", \"orient\": \"left\", \"labelAngle\": 0, \"grid\": false, \"title\": \"Vehicle Type\", \"zindex\": 0}], \"title\": {\"text\": \"Lollipop Plot of Collisions by Vehicle Type and Contributing Factor\", \"frame\": \"group\"}, \"padding\": 5, \"width\": 300, \"background\": \"white\", \"style\": \"cell\"}, {\"mode\": \"vega\"});\n",
       "</script>"
      ],
      "text/plain": [
       "alt.LayerChart(...)"
      ]
     },
     "execution_count": 19,
     "metadata": {},
     "output_type": "execute_result"
    }
   ],
   "source": [
    "df = collisions[['VEHICLE TYPE CODE 1', 'TOTAL INJURED/KILLED']]\n",
    "\n",
    "df1 = df.groupby('VEHICLE TYPE CODE 1').sum(\"TOTAL INJURED/KILLED\").reset_index()\n",
    "df2 = df.groupby('VEHICLE TYPE CODE 1').count().reset_index()\n",
    "\n",
    "df2.columns = ['VEHICLE TYPE CODE 1', 'TOTAL COLLISIONS']\n",
    "\n",
    "df = pd.merge(df1, df2, on='VEHICLE TYPE CODE 1')\n",
    "\n",
    "\n",
    "lolli = alt.Chart(df).mark_bar(\n",
    "    size=3\n",
    ").encode(\n",
    "    x=alt.X('TOTAL COLLISIONS:Q',\n",
    "            title='Total Collisions'),\n",
    "    y=alt.Y('VEHICLE TYPE CODE 1:N',\n",
    "            title='Vehicle Type',\n",
    "            sort=alt.EncodingSortField(field=\"TOTAL COLLISIONS\", order=\"descending\"),\n",
    "            axis=alt.Axis(labelAngle=0, grid=True)),\n",
    "    color=alt.Color('VEHICLE TYPE CODE 1:N',\n",
    "                    title='Vehicle Type',\n",
    "                    legend=None),\n",
    ")\n",
    "\n",
    "pop = alt.Chart(df).mark_circle(\n",
    "    tooltip=True,\n",
    "    size=80,\n",
    "    opacity=1\n",
    ").encode(\n",
    "    x=alt.X('TOTAL COLLISIONS:Q',\n",
    "            title='Total Collisions'),\n",
    "    y=alt.Y('VEHICLE TYPE CODE 1:N',\n",
    "            title='Vehicle Type',\n",
    "            sort=alt.EncodingSortField(\n",
    "                field=\"TOTAL COLLISIONS\",\n",
    "                order=\"descending\"),\n",
    "            axis=alt.Axis(labelAngle=0, grid=True)),\n",
    "    color=alt.Color('VEHICLE TYPE CODE 1:N',\n",
    "                    title='Vehicle Type',\n",
    "                    legend=None),\n",
    "    tooltip=['VEHICLE TYPE CODE 1:N', 'TOTAL COLLISIONS:Q', 'TOTAL INJURED/KILLED:Q']\n",
    ").properties(\n",
    "    title='Lollipop Plot of Collisions by Vehicle Type and Contributing Factor'\n",
    ")\n",
    "\n",
    "lolli + pop"
   ]
  },
  {
   "cell_type": "markdown",
   "metadata": {},
   "source": [
    "We decided that the best option in this case is the last iteration of the polar area chart. It solves the problem of less common classes being really difficult to differentiate and offers the actual count values so that the user can get an idea of how much difference is between the number of accidents of the different vehicle types. A possible problem is that for this type of chart so many instances could be difficult to interpret at first glance, but since we have chosen a proper palette, ordered the instances by value and written their values, we consider this is just a minor problem that should not affect much the aim of the visualization."
   ]
  }
 ],
 "metadata": {
  "kernelspec": {
   "display_name": "Python 3",
   "language": "python",
   "name": "python3"
  },
  "language_info": {
   "codemirror_mode": {
    "name": "ipython",
    "version": 3
   },
   "file_extension": ".py",
   "mimetype": "text/x-python",
   "name": "python",
   "nbconvert_exporter": "python",
   "pygments_lexer": "ipython3",
   "version": "3.9.13"
  }
 },
 "nbformat": 4,
 "nbformat_minor": 2
}
