{
 "cells": [
  {
   "cell_type": "code",
   "execution_count": 151,
   "metadata": {},
   "outputs": [
    {
     "data": {
      "text/plain": [
       "DataTransformerRegistry.enable('vegafusion')"
      ]
     },
     "execution_count": 151,
     "metadata": {},
     "output_type": "execute_result"
    }
   ],
   "source": [
    "import pandas as pd\n",
    "import altair as alt\n",
    "\n",
    "dir = '../Data'\n",
    "\n",
    "weather = pd.read_csv(f'{dir}/weather_clean.csv')\n",
    "collisions = pd.read_csv(f'{dir}/collisions_clean.csv')\n",
    "\n",
    "alt.data_transformers.enable(\"vegafusion\")"
   ]
  },
  {
   "cell_type": "code",
   "execution_count": 152,
   "metadata": {},
   "outputs": [],
   "source": [
    "# select the year from the CRASH DATE column\n",
    "collisions['YEAR'] = collisions['CRASH DATE'].astype(str).str[:4]"
   ]
  },
  {
   "cell_type": "markdown",
   "metadata": {},
   "source": [
    "## Is there any type of vehicle more prone to participate in accidents?"
   ]
  },
  {
   "cell_type": "code",
   "execution_count": 153,
   "metadata": {},
   "outputs": [
    {
     "data": {
      "text/plain": [
       "array(['VAN', 'CAR', 'BUS', 'TRACTOR', 'TAXI', 'SCOOTER', 'TRUCK',\n",
       "       'MOTORCYCLE', 'BICYCLE', 'OTHERS', 'AMBULANCE', 'FDNY', 'UNKNOWN'],\n",
       "      dtype=object)"
      ]
     },
     "execution_count": 153,
     "metadata": {},
     "output_type": "execute_result"
    }
   ],
   "source": [
    "collisions[\"VEHICLE TYPE CODE 1\"].unique()"
   ]
  },
  {
   "cell_type": "markdown",
   "metadata": {},
   "source": [
    "Given that we aggregated the type of vehicles to a total of just 14 classes, the bar chart is again the initial option that comes to our mind. "
   ]
  },
  {
   "cell_type": "code",
   "execution_count": 154,
   "metadata": {},
   "outputs": [
    {
     "data": {
      "text/html": [
       "\n",
       "<style>\n",
       "  #altair-viz-340ca1dcadae4ad2b58463cd28e29bf0.vega-embed {\n",
       "    width: 100%;\n",
       "    display: flex;\n",
       "  }\n",
       "\n",
       "  #altair-viz-340ca1dcadae4ad2b58463cd28e29bf0.vega-embed details,\n",
       "  #altair-viz-340ca1dcadae4ad2b58463cd28e29bf0.vega-embed details summary {\n",
       "    position: relative;\n",
       "  }\n",
       "</style>\n",
       "<div id=\"altair-viz-340ca1dcadae4ad2b58463cd28e29bf0\"></div>\n",
       "<script type=\"text/javascript\">\n",
       "  var VEGA_DEBUG = (typeof VEGA_DEBUG == \"undefined\") ? {} : VEGA_DEBUG;\n",
       "  (function(spec, embedOpt){\n",
       "    let outputDiv = document.currentScript.previousElementSibling;\n",
       "    if (outputDiv.id !== \"altair-viz-340ca1dcadae4ad2b58463cd28e29bf0\") {\n",
       "      outputDiv = document.getElementById(\"altair-viz-340ca1dcadae4ad2b58463cd28e29bf0\");\n",
       "    }\n",
       "    const paths = {\n",
       "      \"vega\": \"https://cdn.jsdelivr.net/npm/vega@5?noext\",\n",
       "      \"vega-lib\": \"https://cdn.jsdelivr.net/npm/vega-lib?noext\",\n",
       "      \"vega-lite\": \"https://cdn.jsdelivr.net/npm/vega-lite@5.15.1?noext\",\n",
       "      \"vega-embed\": \"https://cdn.jsdelivr.net/npm/vega-embed@6?noext\",\n",
       "    };\n",
       "\n",
       "    function maybeLoadScript(lib, version) {\n",
       "      var key = `${lib.replace(\"-\", \"\")}_version`;\n",
       "      return (VEGA_DEBUG[key] == version) ?\n",
       "        Promise.resolve(paths[lib]) :\n",
       "        new Promise(function(resolve, reject) {\n",
       "          var s = document.createElement('script');\n",
       "          document.getElementsByTagName(\"head\")[0].appendChild(s);\n",
       "          s.async = true;\n",
       "          s.onload = () => {\n",
       "            VEGA_DEBUG[key] = version;\n",
       "            return resolve(paths[lib]);\n",
       "          };\n",
       "          s.onerror = () => reject(`Error loading script: ${paths[lib]}`);\n",
       "          s.src = paths[lib];\n",
       "        });\n",
       "    }\n",
       "\n",
       "    function showError(err) {\n",
       "      outputDiv.innerHTML = `<div class=\"error\" style=\"color:red;\">${err}</div>`;\n",
       "      throw err;\n",
       "    }\n",
       "\n",
       "    function displayChart(vegaEmbed) {\n",
       "      vegaEmbed(outputDiv, spec, embedOpt)\n",
       "        .catch(err => showError(`Javascript Error: ${err.message}<br>This usually means there's a typo in your chart specification. See the javascript console for the full traceback.`));\n",
       "    }\n",
       "\n",
       "    if(typeof define === \"function\" && define.amd) {\n",
       "      requirejs.config({paths});\n",
       "      require([\"vega-embed\"], displayChart, err => showError(`Error loading script: ${err.message}`));\n",
       "    } else {\n",
       "      maybeLoadScript(\"vega\", \"5\")\n",
       "        .then(() => maybeLoadScript(\"vega-lite\", \"5.15.1\"))\n",
       "        .then(() => maybeLoadScript(\"vega-embed\", \"6\"))\n",
       "        .catch(showError)\n",
       "        .then(() => displayChart(vegaEmbed));\n",
       "    }\n",
       "  })({\"$schema\": \"https://vega.github.io/schema/vega/v5.json\", \"data\": [{\"name\": \"source_0\", \"values\": [{\"VEHICLE TYPE CODE 1\": \"VAN\", \"__count\": 41651}, {\"VEHICLE TYPE CODE 1\": \"CAR\", \"__count\": 54690}, {\"VEHICLE TYPE CODE 1\": \"BUS\", \"__count\": 1430}, {\"VEHICLE TYPE CODE 1\": \"TRACTOR\", \"__count\": 1098}, {\"VEHICLE TYPE CODE 1\": \"TAXI\", \"__count\": 4806}, {\"VEHICLE TYPE CODE 1\": \"SCOOTER\", \"__count\": 324}, {\"VEHICLE TYPE CODE 1\": \"TRUCK\", \"__count\": 6684}, {\"VEHICLE TYPE CODE 1\": \"MOTORCYCLE\", \"__count\": 1275}, {\"VEHICLE TYPE CODE 1\": \"BICYCLE\", \"__count\": 2083}, {\"VEHICLE TYPE CODE 1\": \"OTHERS\", \"__count\": 414}, {\"VEHICLE TYPE CODE 1\": \"AMBULANCE\", \"__count\": 470}, {\"VEHICLE TYPE CODE 1\": \"FDNY\", \"__count\": 76}, {\"VEHICLE TYPE CODE 1\": \"UNKNOWN\", \"__count\": 739}]}, {\"name\": \"source_0_x_domain_VEHICLE TYPE CODE 1\", \"values\": [{\"VEHICLE TYPE CODE 1\": \"VAN\"}, {\"VEHICLE TYPE CODE 1\": \"CAR\"}, {\"VEHICLE TYPE CODE 1\": \"BUS\"}, {\"VEHICLE TYPE CODE 1\": \"TRACTOR\"}, {\"VEHICLE TYPE CODE 1\": \"TAXI\"}, {\"VEHICLE TYPE CODE 1\": \"SCOOTER\"}, {\"VEHICLE TYPE CODE 1\": \"TRUCK\"}, {\"VEHICLE TYPE CODE 1\": \"MOTORCYCLE\"}, {\"VEHICLE TYPE CODE 1\": \"BICYCLE\"}, {\"VEHICLE TYPE CODE 1\": \"OTHERS\"}, {\"VEHICLE TYPE CODE 1\": \"AMBULANCE\"}, {\"VEHICLE TYPE CODE 1\": \"FDNY\"}, {\"VEHICLE TYPE CODE 1\": \"UNKNOWN\"}]}, {\"name\": \"source_0_y_domain___count\", \"values\": [{\"min\": 76, \"max\": 54690}]}], \"marks\": [{\"type\": \"rect\", \"name\": \"marks\", \"from\": {\"data\": \"source_0\"}, \"encode\": {\"update\": {\"description\": {\"signal\": \"\\\"Vehicle Type: \\\" + (isValid(datum[\\\"VEHICLE TYPE CODE 1\\\"]) ? datum[\\\"VEHICLE TYPE CODE 1\\\"] : \\\"\\\"+datum[\\\"VEHICLE TYPE CODE 1\\\"]) + \\\"; Number of Collisions: \\\" + (format(datum[\\\"__count\\\"], \\\"\\\"))\"}, \"x\": {\"field\": \"VEHICLE TYPE CODE 1\", \"scale\": \"x\"}, \"y2\": {\"value\": 0, \"scale\": \"y\"}, \"fill\": {\"value\": \"lightblue\"}, \"y\": {\"field\": \"__count\", \"scale\": \"y\"}, \"ariaRoleDescription\": {\"value\": \"bar\"}, \"width\": {\"signal\": \"max(0.25, bandwidth('x'))\"}}}, \"style\": [\"bar\"]}], \"scales\": [{\"name\": \"x\", \"type\": \"band\", \"domain\": {\"data\": \"source_0_x_domain_VEHICLE TYPE CODE 1\", \"field\": \"VEHICLE TYPE CODE 1\", \"sort\": true}, \"range\": [0, {\"signal\": \"width\"}], \"paddingOuter\": 0.05, \"paddingInner\": 0.1}, {\"name\": \"y\", \"type\": \"linear\", \"domain\": [{\"signal\": \"(data(\\\"source_0_y_domain___count\\\")[0] || {}).min\"}, {\"signal\": \"(data(\\\"source_0_y_domain___count\\\")[0] || {}).max\"}], \"range\": [{\"signal\": \"height\"}, 0], \"zero\": true, \"nice\": true}], \"axes\": [{\"scale\": \"y\", \"grid\": true, \"aria\": false, \"tickCount\": {\"signal\": \"ceil(height/40)\"}, \"maxExtent\": 0, \"ticks\": false, \"domain\": false, \"minExtent\": 0, \"orient\": \"left\", \"gridScale\": \"x\", \"labels\": false, \"zindex\": 0}, {\"scale\": \"x\", \"labelAngle\": 315, \"labelAlign\": \"right\", \"labelBaseline\": \"top\", \"zindex\": 0, \"grid\": false, \"orient\": \"bottom\", \"title\": \"Vehicle Type\"}, {\"scale\": \"y\", \"tickCount\": {\"signal\": \"ceil(height/40)\"}, \"orient\": \"left\", \"title\": \"Number of Collisions\", \"labelOverlap\": true, \"zindex\": 0, \"grid\": false}], \"title\": {\"text\": \"Number of Collisions by Vehicle Type\", \"frame\": \"group\"}, \"style\": \"cell\", \"height\": 200, \"background\": \"white\", \"width\": 500, \"padding\": 5}, {\"mode\": \"vega\"});\n",
       "</script>"
      ],
      "text/plain": [
       "alt.Chart(...)"
      ]
     },
     "execution_count": 154,
     "metadata": {},
     "output_type": "execute_result"
    }
   ],
   "source": [
    "df = collisions[['VEHICLE TYPE CODE 1']]\n",
    "\n",
    "alt.Chart(df).mark_bar().encode(\n",
    "    x=alt.X('VEHICLE TYPE CODE 1:N', title='Vehicle Type', axis=alt.Axis(labelAngle=-45)),\n",
    "    y=alt.Y('count():Q', title='Number of Collisions')\n",
    ").properties(\n",
    "    width=500,\n",
    "    height=200,\n",
    "    title='Number of Collisions by Vehicle Type'\n",
    ").configure_mark(\n",
    "    color='lightblue'\n",
    ")"
   ]
  },
  {
   "cell_type": "markdown",
   "metadata": {},
   "source": [
    "The result is decent but at the same time there are some classes barely noticeable. We want to clarify that the answer of this question is impossible with the available data, since we would need the traffic percenatge or proportion of every type of vehicle to determine if there is a vehicle more prone to have crashes than others. This happens because, for example, there are much more cars than ambulances, so the number of total car crashes is much bigger than the numbe of total ambulance crashes, and without the traffic proportions we can't really say if one of the vehicles is more prone to have an accident than the others. \n",
    "\n",
    "Having stated this, we thought that polar area charts could be a good option to make the classes with less crashes more noticeable. We are aware that the comparison between areas is more difficult, however we believe that the main (erroneous for the reasons previously explained) conclusions for the question are still clear enough and pretty understandable."
   ]
  },
  {
   "cell_type": "code",
   "execution_count": 209,
   "metadata": {},
   "outputs": [
    {
     "data": {
      "text/html": [
       "\n",
       "<style>\n",
       "  #altair-viz-fa23488608b14179ba1fccb6a3fb28fd.vega-embed {\n",
       "    width: 100%;\n",
       "    display: flex;\n",
       "  }\n",
       "\n",
       "  #altair-viz-fa23488608b14179ba1fccb6a3fb28fd.vega-embed details,\n",
       "  #altair-viz-fa23488608b14179ba1fccb6a3fb28fd.vega-embed details summary {\n",
       "    position: relative;\n",
       "  }\n",
       "</style>\n",
       "<div id=\"altair-viz-fa23488608b14179ba1fccb6a3fb28fd\"></div>\n",
       "<script type=\"text/javascript\">\n",
       "  var VEGA_DEBUG = (typeof VEGA_DEBUG == \"undefined\") ? {} : VEGA_DEBUG;\n",
       "  (function(spec, embedOpt){\n",
       "    let outputDiv = document.currentScript.previousElementSibling;\n",
       "    if (outputDiv.id !== \"altair-viz-fa23488608b14179ba1fccb6a3fb28fd\") {\n",
       "      outputDiv = document.getElementById(\"altair-viz-fa23488608b14179ba1fccb6a3fb28fd\");\n",
       "    }\n",
       "    const paths = {\n",
       "      \"vega\": \"https://cdn.jsdelivr.net/npm/vega@5?noext\",\n",
       "      \"vega-lib\": \"https://cdn.jsdelivr.net/npm/vega-lib?noext\",\n",
       "      \"vega-lite\": \"https://cdn.jsdelivr.net/npm/vega-lite@5.15.1?noext\",\n",
       "      \"vega-embed\": \"https://cdn.jsdelivr.net/npm/vega-embed@6?noext\",\n",
       "    };\n",
       "\n",
       "    function maybeLoadScript(lib, version) {\n",
       "      var key = `${lib.replace(\"-\", \"\")}_version`;\n",
       "      return (VEGA_DEBUG[key] == version) ?\n",
       "        Promise.resolve(paths[lib]) :\n",
       "        new Promise(function(resolve, reject) {\n",
       "          var s = document.createElement('script');\n",
       "          document.getElementsByTagName(\"head\")[0].appendChild(s);\n",
       "          s.async = true;\n",
       "          s.onload = () => {\n",
       "            VEGA_DEBUG[key] = version;\n",
       "            return resolve(paths[lib]);\n",
       "          };\n",
       "          s.onerror = () => reject(`Error loading script: ${paths[lib]}`);\n",
       "          s.src = paths[lib];\n",
       "        });\n",
       "    }\n",
       "\n",
       "    function showError(err) {\n",
       "      outputDiv.innerHTML = `<div class=\"error\" style=\"color:red;\">${err}</div>`;\n",
       "      throw err;\n",
       "    }\n",
       "\n",
       "    function displayChart(vegaEmbed) {\n",
       "      vegaEmbed(outputDiv, spec, embedOpt)\n",
       "        .catch(err => showError(`Javascript Error: ${err.message}<br>This usually means there's a typo in your chart specification. See the javascript console for the full traceback.`));\n",
       "    }\n",
       "\n",
       "    if(typeof define === \"function\" && define.amd) {\n",
       "      requirejs.config({paths});\n",
       "      require([\"vega-embed\"], displayChart, err => showError(`Error loading script: ${err.message}`));\n",
       "    } else {\n",
       "      maybeLoadScript(\"vega\", \"5\")\n",
       "        .then(() => maybeLoadScript(\"vega-lite\", \"5.15.1\"))\n",
       "        .then(() => maybeLoadScript(\"vega-embed\", \"6\"))\n",
       "        .catch(showError)\n",
       "        .then(() => displayChart(vegaEmbed));\n",
       "    }\n",
       "  })({\"$schema\": \"https://vega.github.io/schema/vega/v5.json\", \"data\": [{\"name\": \"source_0\", \"values\": [{\"VEHICLE TYPE CODE 1\": \"VAN\", \"__count\": 41651}, {\"VEHICLE TYPE CODE 1\": \"CAR\", \"__count\": 54690}, {\"VEHICLE TYPE CODE 1\": \"BUS\", \"__count\": 1430}, {\"VEHICLE TYPE CODE 1\": \"TRACTOR\", \"__count\": 1098}, {\"VEHICLE TYPE CODE 1\": \"TAXI\", \"__count\": 4806}, {\"VEHICLE TYPE CODE 1\": \"SCOOTER\", \"__count\": 324}, {\"VEHICLE TYPE CODE 1\": \"TRUCK\", \"__count\": 6684}, {\"VEHICLE TYPE CODE 1\": \"MOTORCYCLE\", \"__count\": 1275}, {\"VEHICLE TYPE CODE 1\": \"BICYCLE\", \"__count\": 2083}, {\"VEHICLE TYPE CODE 1\": \"OTHERS\", \"__count\": 414}, {\"VEHICLE TYPE CODE 1\": \"AMBULANCE\", \"__count\": 470}, {\"VEHICLE TYPE CODE 1\": \"FDNY\", \"__count\": 76}, {\"VEHICLE TYPE CODE 1\": \"UNKNOWN\", \"__count\": 739}]}, {\"name\": \"source_0_theta_domain_VEHICLE TYPE CODE 1\", \"values\": [{\"VEHICLE TYPE CODE 1\": \"VAN\"}, {\"VEHICLE TYPE CODE 1\": \"CAR\"}, {\"VEHICLE TYPE CODE 1\": \"BUS\"}, {\"VEHICLE TYPE CODE 1\": \"TRACTOR\"}, {\"VEHICLE TYPE CODE 1\": \"TAXI\"}, {\"VEHICLE TYPE CODE 1\": \"SCOOTER\"}, {\"VEHICLE TYPE CODE 1\": \"TRUCK\"}, {\"VEHICLE TYPE CODE 1\": \"MOTORCYCLE\"}, {\"VEHICLE TYPE CODE 1\": \"BICYCLE\"}, {\"VEHICLE TYPE CODE 1\": \"OTHERS\"}, {\"VEHICLE TYPE CODE 1\": \"AMBULANCE\"}, {\"VEHICLE TYPE CODE 1\": \"FDNY\"}, {\"VEHICLE TYPE CODE 1\": \"UNKNOWN\"}]}, {\"name\": \"source_0_color_domain_VEHICLE TYPE CODE 1\", \"values\": [{\"VEHICLE TYPE CODE 1\": \"VAN\"}, {\"VEHICLE TYPE CODE 1\": \"CAR\"}, {\"VEHICLE TYPE CODE 1\": \"BUS\"}, {\"VEHICLE TYPE CODE 1\": \"TRACTOR\"}, {\"VEHICLE TYPE CODE 1\": \"TAXI\"}, {\"VEHICLE TYPE CODE 1\": \"SCOOTER\"}, {\"VEHICLE TYPE CODE 1\": \"TRUCK\"}, {\"VEHICLE TYPE CODE 1\": \"MOTORCYCLE\"}, {\"VEHICLE TYPE CODE 1\": \"BICYCLE\"}, {\"VEHICLE TYPE CODE 1\": \"OTHERS\"}, {\"VEHICLE TYPE CODE 1\": \"AMBULANCE\"}, {\"VEHICLE TYPE CODE 1\": \"FDNY\"}, {\"VEHICLE TYPE CODE 1\": \"UNKNOWN\"}]}], \"marks\": [{\"type\": \"arc\", \"name\": \"marks\", \"from\": {\"data\": \"source_0\"}, \"encode\": {\"update\": {\"startAngle\": {\"field\": \"VEHICLE TYPE CODE 1\", \"scale\": \"theta\"}, \"fill\": {\"field\": \"VEHICLE TYPE CODE 1\", \"scale\": \"color\"}, \"endAngle\": {\"field\": \"VEHICLE TYPE CODE 1\", \"scale\": \"theta\", \"offset\": {\"signal\": \"bandwidth('theta')\"}}, \"description\": {\"signal\": \"\\\"VEHICLE TYPE CODE 1: \\\" + (isValid(datum[\\\"VEHICLE TYPE CODE 1\\\"]) ? datum[\\\"VEHICLE TYPE CODE 1\\\"] : \\\"\\\"+datum[\\\"VEHICLE TYPE CODE 1\\\"]) + \\\"; Count of Records: \\\" + (format(datum[\\\"__count\\\"], \\\"\\\"))\"}, \"innerRadius\": {\"value\": 20}, \"y\": {\"signal\": \"height\", \"mult\": 0.5}, \"outerRadius\": {\"field\": \"__count\", \"scale\": \"radius\"}, \"x\": {\"signal\": \"width\", \"mult\": 0.5}, \"stroke\": {\"value\": \"#fff\"}}}, \"style\": [\"arc\"]}], \"scales\": [{\"name\": \"theta\", \"type\": \"band\", \"domain\": {\"data\": \"source_0_theta_domain_VEHICLE TYPE CODE 1\", \"field\": \"VEHICLE TYPE CODE 1\", \"sort\": true}, \"range\": [0, 6.283185307179586]}, {\"name\": \"radius\", \"type\": \"sqrt\", \"domain\": {\"data\": \"source_0\", \"field\": \"__count\"}, \"range\": [20, {\"signal\": \"min(width,height)/2\"}], \"zero\": true}, {\"name\": \"color\", \"type\": \"ordinal\", \"domain\": {\"data\": \"source_0_color_domain_VEHICLE TYPE CODE 1\", \"field\": \"VEHICLE TYPE CODE 1\", \"sort\": true}, \"range\": \"category\"}], \"legends\": [{\"fill\": \"color\", \"symbolType\": \"circle\", \"title\": \"VEHICLE TYPE CODE 1\", \"encode\": {\"symbols\": {\"update\": {\"stroke\": {\"value\": \"#fff\"}}}}}], \"width\": 300, \"height\": 300, \"background\": \"white\", \"padding\": 5, \"style\": \"view\"}, {\"mode\": \"vega\"});\n",
       "</script>"
      ],
      "text/plain": [
       "alt.Chart(...)"
      ]
     },
     "execution_count": 209,
     "metadata": {},
     "output_type": "execute_result"
    }
   ],
   "source": [
    "df = collisions[['VEHICLE TYPE CODE 1']]\n",
    "\n",
    "alt.Chart(collisions).encode(\n",
    "    alt.Theta(\"VEHICLE TYPE CODE 1:N\").stack(True),\n",
    "    alt.Radius(\"count()\").scale(type=\"sqrt\", zero=True, rangeMin=20),\n",
    "    color=alt.Color(\"VEHICLE TYPE CODE 1:N\"),\n",
    ").mark_arc(innerRadius=20, stroke=\"#fff\")"
   ]
  },
  {
   "cell_type": "code",
   "execution_count": 157,
   "metadata": {},
   "outputs": [
    {
     "data": {
      "text/plain": [
       "Index(['COLLISION_ID', 'DAY NAME', 'CRASH DATE', 'CRASH MOMENT',\n",
       "       'CRASH TIME INTERVAL', 'BOROUGH', 'ZIP CODE', 'LOCATION', 'STREET NAME',\n",
       "       'NUMBER OF INJURED', 'NUMBER OF KILLED',\n",
       "       'CONTRIBUTING FACTOR VEHICLE 1', 'VEHICLE TYPE CODE 1', 'YEAR'],\n",
       "      dtype='object')"
      ]
     },
     "execution_count": 157,
     "metadata": {},
     "output_type": "execute_result"
    }
   ],
   "source": [
    "collisions.columns"
   ]
  },
  {
   "cell_type": "code",
   "execution_count": 158,
   "metadata": {},
   "outputs": [],
   "source": [
    "# create a new column that sums NUMBER OF PERSONS INJURED and NUMBER OF PERSONS KILLED\n",
    "collisions['TOTAL INJURED/KILLED'] = collisions['NUMBER OF INJURED'] + collisions['NUMBER OF KILLED']"
   ]
  },
  {
   "cell_type": "markdown",
   "metadata": {},
   "source": [
    "We consider that a lollipop chart can also be useful since it allows an easy comparison of several instances. The result is the following and the result is similar to the one of a typical barchart. Simple and effective, but with the same problem of some types of vehicle being unnoticeable and impossible to differentiate (the ones with the lowest counts of crashes)."
   ]
  },
  {
   "cell_type": "code",
   "execution_count": 207,
   "metadata": {},
   "outputs": [
    {
     "data": {
      "text/html": [
       "\n",
       "<style>\n",
       "  #altair-viz-8ccb0373f2e7486993a7ce6f612c4cd5.vega-embed {\n",
       "    width: 100%;\n",
       "    display: flex;\n",
       "  }\n",
       "\n",
       "  #altair-viz-8ccb0373f2e7486993a7ce6f612c4cd5.vega-embed details,\n",
       "  #altair-viz-8ccb0373f2e7486993a7ce6f612c4cd5.vega-embed details summary {\n",
       "    position: relative;\n",
       "  }\n",
       "</style>\n",
       "<div id=\"altair-viz-8ccb0373f2e7486993a7ce6f612c4cd5\"></div>\n",
       "<script type=\"text/javascript\">\n",
       "  var VEGA_DEBUG = (typeof VEGA_DEBUG == \"undefined\") ? {} : VEGA_DEBUG;\n",
       "  (function(spec, embedOpt){\n",
       "    let outputDiv = document.currentScript.previousElementSibling;\n",
       "    if (outputDiv.id !== \"altair-viz-8ccb0373f2e7486993a7ce6f612c4cd5\") {\n",
       "      outputDiv = document.getElementById(\"altair-viz-8ccb0373f2e7486993a7ce6f612c4cd5\");\n",
       "    }\n",
       "    const paths = {\n",
       "      \"vega\": \"https://cdn.jsdelivr.net/npm/vega@5?noext\",\n",
       "      \"vega-lib\": \"https://cdn.jsdelivr.net/npm/vega-lib?noext\",\n",
       "      \"vega-lite\": \"https://cdn.jsdelivr.net/npm/vega-lite@5.15.1?noext\",\n",
       "      \"vega-embed\": \"https://cdn.jsdelivr.net/npm/vega-embed@6?noext\",\n",
       "    };\n",
       "\n",
       "    function maybeLoadScript(lib, version) {\n",
       "      var key = `${lib.replace(\"-\", \"\")}_version`;\n",
       "      return (VEGA_DEBUG[key] == version) ?\n",
       "        Promise.resolve(paths[lib]) :\n",
       "        new Promise(function(resolve, reject) {\n",
       "          var s = document.createElement('script');\n",
       "          document.getElementsByTagName(\"head\")[0].appendChild(s);\n",
       "          s.async = true;\n",
       "          s.onload = () => {\n",
       "            VEGA_DEBUG[key] = version;\n",
       "            return resolve(paths[lib]);\n",
       "          };\n",
       "          s.onerror = () => reject(`Error loading script: ${paths[lib]}`);\n",
       "          s.src = paths[lib];\n",
       "        });\n",
       "    }\n",
       "\n",
       "    function showError(err) {\n",
       "      outputDiv.innerHTML = `<div class=\"error\" style=\"color:red;\">${err}</div>`;\n",
       "      throw err;\n",
       "    }\n",
       "\n",
       "    function displayChart(vegaEmbed) {\n",
       "      vegaEmbed(outputDiv, spec, embedOpt)\n",
       "        .catch(err => showError(`Javascript Error: ${err.message}<br>This usually means there's a typo in your chart specification. See the javascript console for the full traceback.`));\n",
       "    }\n",
       "\n",
       "    if(typeof define === \"function\" && define.amd) {\n",
       "      requirejs.config({paths});\n",
       "      require([\"vega-embed\"], displayChart, err => showError(`Error loading script: ${err.message}`));\n",
       "    } else {\n",
       "      maybeLoadScript(\"vega\", \"5\")\n",
       "        .then(() => maybeLoadScript(\"vega-lite\", \"5.15.1\"))\n",
       "        .then(() => maybeLoadScript(\"vega-embed\", \"6\"))\n",
       "        .catch(showError)\n",
       "        .then(() => displayChart(vegaEmbed));\n",
       "    }\n",
       "  })({\"$schema\": \"https://vega.github.io/schema/vega/v5.json\", \"data\": [{\"name\": \"source_0\"}, {\"name\": \"data_1\", \"values\": [{\"TOTAL COLLISIONS\": 470, \"TOTAL COLLISIONS_end\": 470.0, \"TOTAL COLLISIONS_start\": 0.0, \"VEHICLE TYPE CODE 1\": \"AMBULANCE\"}, {\"TOTAL COLLISIONS\": 2083, \"TOTAL COLLISIONS_end\": 2083.0, \"TOTAL COLLISIONS_start\": 0.0, \"VEHICLE TYPE CODE 1\": \"BICYCLE\"}, {\"TOTAL COLLISIONS\": 1430, \"TOTAL COLLISIONS_end\": 1430.0, \"TOTAL COLLISIONS_start\": 0.0, \"VEHICLE TYPE CODE 1\": \"BUS\"}, {\"TOTAL COLLISIONS\": 54690, \"TOTAL COLLISIONS_end\": 54690.0, \"TOTAL COLLISIONS_start\": 0.0, \"VEHICLE TYPE CODE 1\": \"CAR\"}, {\"TOTAL COLLISIONS\": 76, \"TOTAL COLLISIONS_end\": 76.0, \"TOTAL COLLISIONS_start\": 0.0, \"VEHICLE TYPE CODE 1\": \"FDNY\"}, {\"TOTAL COLLISIONS\": 1275, \"TOTAL COLLISIONS_end\": 1275.0, \"TOTAL COLLISIONS_start\": 0.0, \"VEHICLE TYPE CODE 1\": \"MOTORCYCLE\"}, {\"TOTAL COLLISIONS\": 414, \"TOTAL COLLISIONS_end\": 414.0, \"TOTAL COLLISIONS_start\": 0.0, \"VEHICLE TYPE CODE 1\": \"OTHERS\"}, {\"TOTAL COLLISIONS\": 324, \"TOTAL COLLISIONS_end\": 324.0, \"TOTAL COLLISIONS_start\": 0.0, \"VEHICLE TYPE CODE 1\": \"SCOOTER\"}, {\"TOTAL COLLISIONS\": 4806, \"TOTAL COLLISIONS_end\": 4806.0, \"TOTAL COLLISIONS_start\": 0.0, \"VEHICLE TYPE CODE 1\": \"TAXI\"}, {\"TOTAL COLLISIONS\": 1098, \"TOTAL COLLISIONS_end\": 1098.0, \"TOTAL COLLISIONS_start\": 0.0, \"VEHICLE TYPE CODE 1\": \"TRACTOR\"}, {\"TOTAL COLLISIONS\": 6684, \"TOTAL COLLISIONS_end\": 6684.0, \"TOTAL COLLISIONS_start\": 0.0, \"VEHICLE TYPE CODE 1\": \"TRUCK\"}, {\"TOTAL COLLISIONS\": 739, \"TOTAL COLLISIONS_end\": 739.0, \"TOTAL COLLISIONS_start\": 0.0, \"VEHICLE TYPE CODE 1\": \"UNKNOWN\"}, {\"TOTAL COLLISIONS\": 41651, \"TOTAL COLLISIONS_end\": 41651.0, \"TOTAL COLLISIONS_start\": 0.0, \"VEHICLE TYPE CODE 1\": \"VAN\"}]}, {\"name\": \"data_2\", \"values\": [{\"TOTAL COLLISIONS\": 470, \"TOTAL INJURED/KILLED\": 160.0, \"VEHICLE TYPE CODE 1\": \"AMBULANCE\"}, {\"TOTAL COLLISIONS\": 2083, \"TOTAL INJURED/KILLED\": 3765.0, \"VEHICLE TYPE CODE 1\": \"BICYCLE\"}, {\"TOTAL COLLISIONS\": 1430, \"TOTAL INJURED/KILLED\": 944.0, \"VEHICLE TYPE CODE 1\": \"BUS\"}, {\"TOTAL COLLISIONS\": 54690, \"TOTAL INJURED/KILLED\": 37634.0, \"VEHICLE TYPE CODE 1\": \"CAR\"}, {\"TOTAL COLLISIONS\": 76, \"TOTAL INJURED/KILLED\": 20.0, \"VEHICLE TYPE CODE 1\": \"FDNY\"}, {\"TOTAL COLLISIONS\": 1275, \"TOTAL INJURED/KILLED\": 1910.0, \"VEHICLE TYPE CODE 1\": \"MOTORCYCLE\"}, {\"TOTAL COLLISIONS\": 414, \"TOTAL INJURED/KILLED\": 216.0, \"VEHICLE TYPE CODE 1\": \"OTHERS\"}, {\"TOTAL COLLISIONS\": 324, \"TOTAL INJURED/KILLED\": 578.0, \"VEHICLE TYPE CODE 1\": \"SCOOTER\"}, {\"TOTAL COLLISIONS\": 4806, \"TOTAL INJURED/KILLED\": 3353.0, \"VEHICLE TYPE CODE 1\": \"TAXI\"}, {\"TOTAL COLLISIONS\": 1098, \"TOTAL INJURED/KILLED\": 340.0, \"VEHICLE TYPE CODE 1\": \"TRACTOR\"}, {\"TOTAL COLLISIONS\": 6684, \"TOTAL INJURED/KILLED\": 2874.0, \"VEHICLE TYPE CODE 1\": \"TRUCK\"}, {\"TOTAL COLLISIONS\": 739, \"TOTAL INJURED/KILLED\": 1108.0, \"VEHICLE TYPE CODE 1\": \"UNKNOWN\"}, {\"TOTAL COLLISIONS\": 41651, \"TOTAL INJURED/KILLED\": 26794.0, \"VEHICLE TYPE CODE 1\": \"VAN\"}]}, {\"name\": \"source_0_y_domain_VEHICLE TYPE CODE 1\", \"values\": [{\"VEHICLE TYPE CODE 1\": \"AMBULANCE\", \"sort_field\": 470}, {\"VEHICLE TYPE CODE 1\": \"BICYCLE\", \"sort_field\": 2083}, {\"VEHICLE TYPE CODE 1\": \"BUS\", \"sort_field\": 1430}, {\"VEHICLE TYPE CODE 1\": \"CAR\", \"sort_field\": 54690}, {\"VEHICLE TYPE CODE 1\": \"FDNY\", \"sort_field\": 76}, {\"VEHICLE TYPE CODE 1\": \"MOTORCYCLE\", \"sort_field\": 1275}, {\"VEHICLE TYPE CODE 1\": \"OTHERS\", \"sort_field\": 414}, {\"VEHICLE TYPE CODE 1\": \"SCOOTER\", \"sort_field\": 324}, {\"VEHICLE TYPE CODE 1\": \"TAXI\", \"sort_field\": 4806}, {\"VEHICLE TYPE CODE 1\": \"TRACTOR\", \"sort_field\": 1098}, {\"VEHICLE TYPE CODE 1\": \"TRUCK\", \"sort_field\": 6684}, {\"VEHICLE TYPE CODE 1\": \"UNKNOWN\", \"sort_field\": 739}, {\"VEHICLE TYPE CODE 1\": \"VAN\", \"sort_field\": 41651}]}, {\"name\": \"data_1_color_domain_VEHICLE TYPE CODE 1_0\", \"values\": [{\"VEHICLE TYPE CODE 1\": \"AMBULANCE\"}, {\"VEHICLE TYPE CODE 1\": \"BICYCLE\"}, {\"VEHICLE TYPE CODE 1\": \"BUS\"}, {\"VEHICLE TYPE CODE 1\": \"CAR\"}, {\"VEHICLE TYPE CODE 1\": \"FDNY\"}, {\"VEHICLE TYPE CODE 1\": \"MOTORCYCLE\"}, {\"VEHICLE TYPE CODE 1\": \"OTHERS\"}, {\"VEHICLE TYPE CODE 1\": \"SCOOTER\"}, {\"VEHICLE TYPE CODE 1\": \"TAXI\"}, {\"VEHICLE TYPE CODE 1\": \"TRACTOR\"}, {\"VEHICLE TYPE CODE 1\": \"TRUCK\"}, {\"VEHICLE TYPE CODE 1\": \"UNKNOWN\"}, {\"VEHICLE TYPE CODE 1\": \"VAN\"}]}, {\"name\": \"data_2_color_domain_VEHICLE TYPE CODE 1_1\", \"values\": [{\"VEHICLE TYPE CODE 1\": \"AMBULANCE\"}, {\"VEHICLE TYPE CODE 1\": \"BICYCLE\"}, {\"VEHICLE TYPE CODE 1\": \"BUS\"}, {\"VEHICLE TYPE CODE 1\": \"CAR\"}, {\"VEHICLE TYPE CODE 1\": \"FDNY\"}, {\"VEHICLE TYPE CODE 1\": \"MOTORCYCLE\"}, {\"VEHICLE TYPE CODE 1\": \"OTHERS\"}, {\"VEHICLE TYPE CODE 1\": \"SCOOTER\"}, {\"VEHICLE TYPE CODE 1\": \"TAXI\"}, {\"VEHICLE TYPE CODE 1\": \"TRACTOR\"}, {\"VEHICLE TYPE CODE 1\": \"TRUCK\"}, {\"VEHICLE TYPE CODE 1\": \"UNKNOWN\"}, {\"VEHICLE TYPE CODE 1\": \"VAN\"}]}], \"signals\": [{\"name\": \"y_step\", \"value\": 20}, {\"name\": \"height\", \"update\": \"bandspace(domain('y').length, 0.1, 0.05) * y_step\"}], \"marks\": [{\"type\": \"rect\", \"name\": \"layer_0_marks\", \"from\": {\"data\": \"data_1\"}, \"encode\": {\"update\": {\"x\": {\"field\": \"TOTAL COLLISIONS_end\", \"scale\": \"x\"}, \"fill\": {\"field\": \"VEHICLE TYPE CODE 1\", \"scale\": \"color\"}, \"ariaRoleDescription\": {\"value\": \"bar\"}, \"description\": {\"signal\": \"\\\"Total Collisions: \\\" + (format(datum[\\\"TOTAL COLLISIONS\\\"], \\\"\\\")) + \\\"; Vehicle Type: \\\" + (isValid(datum[\\\"VEHICLE TYPE CODE 1\\\"]) ? datum[\\\"VEHICLE TYPE CODE 1\\\"] : \\\"\\\"+datum[\\\"VEHICLE TYPE CODE 1\\\"])\"}, \"yc\": {\"field\": \"VEHICLE TYPE CODE 1\", \"scale\": \"y\", \"band\": 0.5}, \"height\": {\"value\": 3}, \"x2\": {\"field\": \"TOTAL COLLISIONS_start\", \"scale\": \"x\"}}}, \"style\": [\"bar\"]}, {\"type\": \"symbol\", \"name\": \"layer_1_marks\", \"from\": {\"data\": \"data_2\"}, \"encode\": {\"update\": {\"tooltip\": {\"signal\": \"{\\\"VEHICLE TYPE CODE 1\\\": isValid(datum[\\\"VEHICLE TYPE CODE 1\\\"]) ? datum[\\\"VEHICLE TYPE CODE 1\\\"] : \\\"\\\"+datum[\\\"VEHICLE TYPE CODE 1\\\"], \\\"TOTAL COLLISIONS\\\": format(datum[\\\"TOTAL COLLISIONS\\\"], \\\"\\\"), \\\"TOTAL INJURED/KILLED\\\": format(datum[\\\"TOTAL INJURED/KILLED\\\"], \\\"\\\")}\"}, \"shape\": {\"value\": \"circle\"}, \"description\": {\"signal\": \"\\\"Total Collisions: \\\" + (format(datum[\\\"TOTAL COLLISIONS\\\"], \\\"\\\")) + \\\"; Vehicle Type: \\\" + (isValid(datum[\\\"VEHICLE TYPE CODE 1\\\"]) ? datum[\\\"VEHICLE TYPE CODE 1\\\"] : \\\"\\\"+datum[\\\"VEHICLE TYPE CODE 1\\\"]) + \\\"; VEHICLE TYPE CODE 1: \\\" + (isValid(datum[\\\"VEHICLE TYPE CODE 1\\\"]) ? datum[\\\"VEHICLE TYPE CODE 1\\\"] : \\\"\\\"+datum[\\\"VEHICLE TYPE CODE 1\\\"]) + \\\"; TOTAL COLLISIONS: \\\" + (format(datum[\\\"TOTAL COLLISIONS\\\"], \\\"\\\")) + \\\"; TOTAL INJURED/KILLED: \\\" + (format(datum[\\\"TOTAL INJURED/KILLED\\\"], \\\"\\\"))\"}, \"size\": {\"value\": 80}, \"ariaRoleDescription\": {\"value\": \"circle\"}, \"opacity\": {\"value\": 1}, \"fill\": {\"field\": \"VEHICLE TYPE CODE 1\", \"scale\": \"color\"}, \"y\": {\"field\": \"VEHICLE TYPE CODE 1\", \"scale\": \"y\", \"band\": 0.5}, \"x\": {\"field\": \"TOTAL COLLISIONS\", \"scale\": \"x\"}}}, \"style\": [\"circle\"]}], \"scales\": [{\"name\": \"x\", \"type\": \"linear\", \"domain\": {\"fields\": [{\"data\": \"data_1\", \"field\": \"TOTAL COLLISIONS_start\"}, {\"data\": \"data_1\", \"field\": \"TOTAL COLLISIONS_end\"}, {\"data\": \"data_2\", \"field\": \"TOTAL COLLISIONS\"}]}, \"range\": [0, {\"signal\": \"width\"}], \"zero\": true, \"nice\": true}, {\"name\": \"y\", \"type\": \"band\", \"domain\": {\"data\": \"source_0_y_domain_VEHICLE TYPE CODE 1\", \"field\": \"VEHICLE TYPE CODE 1\", \"sort\": {\"op\": \"max\", \"field\": \"sort_field\", \"order\": \"descending\"}}, \"range\": {\"step\": {\"signal\": \"y_step\"}}, \"paddingInner\": 0.1, \"paddingOuter\": 0.05}, {\"name\": \"color\", \"type\": \"ordinal\", \"domain\": {\"fields\": [{\"data\": \"data_1_color_domain_VEHICLE TYPE CODE 1_0\", \"field\": \"VEHICLE TYPE CODE 1\"}, {\"data\": \"data_2_color_domain_VEHICLE TYPE CODE 1_1\", \"field\": \"VEHICLE TYPE CODE 1\"}], \"sort\": true}, \"range\": \"category\"}], \"axes\": [{\"scale\": \"x\", \"minExtent\": 0, \"maxExtent\": 0, \"zindex\": 0, \"tickCount\": {\"signal\": \"ceil(width/40)\"}, \"labels\": false, \"domain\": false, \"gridScale\": \"y\", \"aria\": false, \"ticks\": false, \"grid\": true, \"orient\": \"bottom\"}, {\"scale\": \"y\", \"gridScale\": \"x\", \"grid\": true, \"orient\": \"left\", \"maxExtent\": 0, \"minExtent\": 0, \"ticks\": false, \"domain\": false, \"zindex\": 0, \"labels\": false, \"aria\": false}, {\"scale\": \"x\", \"zindex\": 0, \"labelOverlap\": true, \"grid\": false, \"orient\": \"bottom\", \"labelFlush\": true, \"tickCount\": {\"signal\": \"ceil(width/40)\"}, \"title\": \"Total Collisions\"}, {\"scale\": \"y\", \"labelAngle\": 0, \"zindex\": 0, \"grid\": false, \"orient\": \"left\", \"title\": \"Vehicle Type\", \"labelAlign\": \"right\"}], \"title\": {\"text\": \"Lollipop Plot of Collisions by Vehicle Type and Contributing Factor\", \"frame\": \"group\"}, \"padding\": 5, \"width\": 300, \"style\": \"cell\", \"background\": \"white\"}, {\"mode\": \"vega\"});\n",
       "</script>"
      ],
      "text/plain": [
       "alt.LayerChart(...)"
      ]
     },
     "execution_count": 207,
     "metadata": {},
     "output_type": "execute_result"
    }
   ],
   "source": [
    "df = collisions[['VEHICLE TYPE CODE 1', 'TOTAL INJURED/KILLED']]\n",
    "\n",
    "df1 = df.groupby('VEHICLE TYPE CODE 1').sum(\"TOTAL INJURED/KILLED\").reset_index()\n",
    "df2 = df.groupby('VEHICLE TYPE CODE 1').count().reset_index()\n",
    "\n",
    "df2.columns = ['VEHICLE TYPE CODE 1', 'TOTAL COLLISIONS']\n",
    "\n",
    "df = pd.merge(df1, df2, on='VEHICLE TYPE CODE 1')\n",
    "\n",
    "\n",
    "lolli = alt.Chart(df).mark_bar(\n",
    "    size=3\n",
    ").encode(\n",
    "    x=alt.X('TOTAL COLLISIONS:Q',\n",
    "            title='Total Collisions'),\n",
    "    y=alt.Y('VEHICLE TYPE CODE 1:N',\n",
    "            title='Vehicle Type',\n",
    "            sort=alt.EncodingSortField(field=\"TOTAL COLLISIONS\", order=\"descending\"),\n",
    "            axis=alt.Axis(labelAngle=0, grid=True)),\n",
    "    color=alt.Color('VEHICLE TYPE CODE 1:N',\n",
    "                    title='Vehicle Type',\n",
    "                    legend=None),\n",
    ")\n",
    "\n",
    "pop = alt.Chart(df).mark_circle(\n",
    "    tooltip=True,\n",
    "    size=80,\n",
    "    opacity=1\n",
    ").encode(\n",
    "    x=alt.X('TOTAL COLLISIONS:Q',\n",
    "            title='Total Collisions'),\n",
    "    y=alt.Y('VEHICLE TYPE CODE 1:N',\n",
    "            title='Vehicle Type',\n",
    "            sort=alt.EncodingSortField(\n",
    "                field=\"TOTAL COLLISIONS\",\n",
    "                order=\"descending\"),\n",
    "            axis=alt.Axis(labelAngle=0, grid=True)),\n",
    "    color=alt.Color('VEHICLE TYPE CODE 1:N',\n",
    "                    title='Vehicle Type',\n",
    "                    legend=None),\n",
    "    tooltip=['VEHICLE TYPE CODE 1:N', 'TOTAL COLLISIONS:Q', 'TOTAL INJURED/KILLED:Q']\n",
    ").properties(\n",
    "    title='Lollipop Plot of Collisions by Vehicle Type and Contributing Factor'\n",
    ")\n",
    "\n",
    "lolli + pop"
   ]
  },
  {
   "cell_type": "markdown",
   "metadata": {},
   "source": [
    "Finally, to add some extra information to the plot, we decided to encode the total number of injured/killed per type of vehicle with the size of the lollipop. However this produces..."
   ]
  },
  {
   "cell_type": "markdown",
   "metadata": {},
   "source": [
    "BOLUDO, NORMALIZÁ EL NUMERO DE HERIDOS/MUERTOS POR EL NUMERO DE CRASHES PARA QUE SE PUEDAN VER MEJOR LAS BOLITAS"
   ]
  },
  {
   "cell_type": "code",
   "execution_count": 208,
   "metadata": {},
   "outputs": [
    {
     "data": {
      "text/html": [
       "\n",
       "<style>\n",
       "  #altair-viz-b00601192ba842b2bd9e96fd9195b0ef.vega-embed {\n",
       "    width: 100%;\n",
       "    display: flex;\n",
       "  }\n",
       "\n",
       "  #altair-viz-b00601192ba842b2bd9e96fd9195b0ef.vega-embed details,\n",
       "  #altair-viz-b00601192ba842b2bd9e96fd9195b0ef.vega-embed details summary {\n",
       "    position: relative;\n",
       "  }\n",
       "</style>\n",
       "<div id=\"altair-viz-b00601192ba842b2bd9e96fd9195b0ef\"></div>\n",
       "<script type=\"text/javascript\">\n",
       "  var VEGA_DEBUG = (typeof VEGA_DEBUG == \"undefined\") ? {} : VEGA_DEBUG;\n",
       "  (function(spec, embedOpt){\n",
       "    let outputDiv = document.currentScript.previousElementSibling;\n",
       "    if (outputDiv.id !== \"altair-viz-b00601192ba842b2bd9e96fd9195b0ef\") {\n",
       "      outputDiv = document.getElementById(\"altair-viz-b00601192ba842b2bd9e96fd9195b0ef\");\n",
       "    }\n",
       "    const paths = {\n",
       "      \"vega\": \"https://cdn.jsdelivr.net/npm/vega@5?noext\",\n",
       "      \"vega-lib\": \"https://cdn.jsdelivr.net/npm/vega-lib?noext\",\n",
       "      \"vega-lite\": \"https://cdn.jsdelivr.net/npm/vega-lite@5.15.1?noext\",\n",
       "      \"vega-embed\": \"https://cdn.jsdelivr.net/npm/vega-embed@6?noext\",\n",
       "    };\n",
       "\n",
       "    function maybeLoadScript(lib, version) {\n",
       "      var key = `${lib.replace(\"-\", \"\")}_version`;\n",
       "      return (VEGA_DEBUG[key] == version) ?\n",
       "        Promise.resolve(paths[lib]) :\n",
       "        new Promise(function(resolve, reject) {\n",
       "          var s = document.createElement('script');\n",
       "          document.getElementsByTagName(\"head\")[0].appendChild(s);\n",
       "          s.async = true;\n",
       "          s.onload = () => {\n",
       "            VEGA_DEBUG[key] = version;\n",
       "            return resolve(paths[lib]);\n",
       "          };\n",
       "          s.onerror = () => reject(`Error loading script: ${paths[lib]}`);\n",
       "          s.src = paths[lib];\n",
       "        });\n",
       "    }\n",
       "\n",
       "    function showError(err) {\n",
       "      outputDiv.innerHTML = `<div class=\"error\" style=\"color:red;\">${err}</div>`;\n",
       "      throw err;\n",
       "    }\n",
       "\n",
       "    function displayChart(vegaEmbed) {\n",
       "      vegaEmbed(outputDiv, spec, embedOpt)\n",
       "        .catch(err => showError(`Javascript Error: ${err.message}<br>This usually means there's a typo in your chart specification. See the javascript console for the full traceback.`));\n",
       "    }\n",
       "\n",
       "    if(typeof define === \"function\" && define.amd) {\n",
       "      requirejs.config({paths});\n",
       "      require([\"vega-embed\"], displayChart, err => showError(`Error loading script: ${err.message}`));\n",
       "    } else {\n",
       "      maybeLoadScript(\"vega\", \"5\")\n",
       "        .then(() => maybeLoadScript(\"vega-lite\", \"5.15.1\"))\n",
       "        .then(() => maybeLoadScript(\"vega-embed\", \"6\"))\n",
       "        .catch(showError)\n",
       "        .then(() => displayChart(vegaEmbed));\n",
       "    }\n",
       "  })({\"$schema\": \"https://vega.github.io/schema/vega/v5.json\", \"data\": [{\"name\": \"source_0\"}, {\"name\": \"data_1\", \"values\": [{\"TOTAL COLLISIONS\": 470, \"TOTAL COLLISIONS_end\": 470.0, \"TOTAL COLLISIONS_start\": 0.0, \"VEHICLE TYPE CODE 1\": \"AMBULANCE\"}, {\"TOTAL COLLISIONS\": 2083, \"TOTAL COLLISIONS_end\": 2083.0, \"TOTAL COLLISIONS_start\": 0.0, \"VEHICLE TYPE CODE 1\": \"BICYCLE\"}, {\"TOTAL COLLISIONS\": 1430, \"TOTAL COLLISIONS_end\": 1430.0, \"TOTAL COLLISIONS_start\": 0.0, \"VEHICLE TYPE CODE 1\": \"BUS\"}, {\"TOTAL COLLISIONS\": 54690, \"TOTAL COLLISIONS_end\": 54690.0, \"TOTAL COLLISIONS_start\": 0.0, \"VEHICLE TYPE CODE 1\": \"CAR\"}, {\"TOTAL COLLISIONS\": 76, \"TOTAL COLLISIONS_end\": 76.0, \"TOTAL COLLISIONS_start\": 0.0, \"VEHICLE TYPE CODE 1\": \"FDNY\"}, {\"TOTAL COLLISIONS\": 1275, \"TOTAL COLLISIONS_end\": 1275.0, \"TOTAL COLLISIONS_start\": 0.0, \"VEHICLE TYPE CODE 1\": \"MOTORCYCLE\"}, {\"TOTAL COLLISIONS\": 414, \"TOTAL COLLISIONS_end\": 414.0, \"TOTAL COLLISIONS_start\": 0.0, \"VEHICLE TYPE CODE 1\": \"OTHERS\"}, {\"TOTAL COLLISIONS\": 324, \"TOTAL COLLISIONS_end\": 324.0, \"TOTAL COLLISIONS_start\": 0.0, \"VEHICLE TYPE CODE 1\": \"SCOOTER\"}, {\"TOTAL COLLISIONS\": 4806, \"TOTAL COLLISIONS_end\": 4806.0, \"TOTAL COLLISIONS_start\": 0.0, \"VEHICLE TYPE CODE 1\": \"TAXI\"}, {\"TOTAL COLLISIONS\": 1098, \"TOTAL COLLISIONS_end\": 1098.0, \"TOTAL COLLISIONS_start\": 0.0, \"VEHICLE TYPE CODE 1\": \"TRACTOR\"}, {\"TOTAL COLLISIONS\": 6684, \"TOTAL COLLISIONS_end\": 6684.0, \"TOTAL COLLISIONS_start\": 0.0, \"VEHICLE TYPE CODE 1\": \"TRUCK\"}, {\"TOTAL COLLISIONS\": 739, \"TOTAL COLLISIONS_end\": 739.0, \"TOTAL COLLISIONS_start\": 0.0, \"VEHICLE TYPE CODE 1\": \"UNKNOWN\"}, {\"TOTAL COLLISIONS\": 41651, \"TOTAL COLLISIONS_end\": 41651.0, \"TOTAL COLLISIONS_start\": 0.0, \"VEHICLE TYPE CODE 1\": \"VAN\"}]}, {\"name\": \"data_2\", \"values\": [{\"TOTAL COLLISIONS\": 470, \"TOTAL INJURED/KILLED\": 160.0, \"VEHICLE TYPE CODE 1\": \"AMBULANCE\"}, {\"TOTAL COLLISIONS\": 2083, \"TOTAL INJURED/KILLED\": 3765.0, \"VEHICLE TYPE CODE 1\": \"BICYCLE\"}, {\"TOTAL COLLISIONS\": 1430, \"TOTAL INJURED/KILLED\": 944.0, \"VEHICLE TYPE CODE 1\": \"BUS\"}, {\"TOTAL COLLISIONS\": 54690, \"TOTAL INJURED/KILLED\": 37634.0, \"VEHICLE TYPE CODE 1\": \"CAR\"}, {\"TOTAL COLLISIONS\": 76, \"TOTAL INJURED/KILLED\": 20.0, \"VEHICLE TYPE CODE 1\": \"FDNY\"}, {\"TOTAL COLLISIONS\": 1275, \"TOTAL INJURED/KILLED\": 1910.0, \"VEHICLE TYPE CODE 1\": \"MOTORCYCLE\"}, {\"TOTAL COLLISIONS\": 414, \"TOTAL INJURED/KILLED\": 216.0, \"VEHICLE TYPE CODE 1\": \"OTHERS\"}, {\"TOTAL COLLISIONS\": 324, \"TOTAL INJURED/KILLED\": 578.0, \"VEHICLE TYPE CODE 1\": \"SCOOTER\"}, {\"TOTAL COLLISIONS\": 4806, \"TOTAL INJURED/KILLED\": 3353.0, \"VEHICLE TYPE CODE 1\": \"TAXI\"}, {\"TOTAL COLLISIONS\": 1098, \"TOTAL INJURED/KILLED\": 340.0, \"VEHICLE TYPE CODE 1\": \"TRACTOR\"}, {\"TOTAL COLLISIONS\": 6684, \"TOTAL INJURED/KILLED\": 2874.0, \"VEHICLE TYPE CODE 1\": \"TRUCK\"}, {\"TOTAL COLLISIONS\": 739, \"TOTAL INJURED/KILLED\": 1108.0, \"VEHICLE TYPE CODE 1\": \"UNKNOWN\"}, {\"TOTAL COLLISIONS\": 41651, \"TOTAL INJURED/KILLED\": 26794.0, \"VEHICLE TYPE CODE 1\": \"VAN\"}]}, {\"name\": \"source_0_y_domain_VEHICLE TYPE CODE 1\", \"values\": [{\"VEHICLE TYPE CODE 1\": \"AMBULANCE\", \"sort_field\": 470}, {\"VEHICLE TYPE CODE 1\": \"BICYCLE\", \"sort_field\": 2083}, {\"VEHICLE TYPE CODE 1\": \"BUS\", \"sort_field\": 1430}, {\"VEHICLE TYPE CODE 1\": \"CAR\", \"sort_field\": 54690}, {\"VEHICLE TYPE CODE 1\": \"FDNY\", \"sort_field\": 76}, {\"VEHICLE TYPE CODE 1\": \"MOTORCYCLE\", \"sort_field\": 1275}, {\"VEHICLE TYPE CODE 1\": \"OTHERS\", \"sort_field\": 414}, {\"VEHICLE TYPE CODE 1\": \"SCOOTER\", \"sort_field\": 324}, {\"VEHICLE TYPE CODE 1\": \"TAXI\", \"sort_field\": 4806}, {\"VEHICLE TYPE CODE 1\": \"TRACTOR\", \"sort_field\": 1098}, {\"VEHICLE TYPE CODE 1\": \"TRUCK\", \"sort_field\": 6684}, {\"VEHICLE TYPE CODE 1\": \"UNKNOWN\", \"sort_field\": 739}, {\"VEHICLE TYPE CODE 1\": \"VAN\", \"sort_field\": 41651}]}, {\"name\": \"data_1_color_domain_VEHICLE TYPE CODE 1_0\", \"values\": [{\"VEHICLE TYPE CODE 1\": \"AMBULANCE\"}, {\"VEHICLE TYPE CODE 1\": \"BICYCLE\"}, {\"VEHICLE TYPE CODE 1\": \"BUS\"}, {\"VEHICLE TYPE CODE 1\": \"CAR\"}, {\"VEHICLE TYPE CODE 1\": \"FDNY\"}, {\"VEHICLE TYPE CODE 1\": \"MOTORCYCLE\"}, {\"VEHICLE TYPE CODE 1\": \"OTHERS\"}, {\"VEHICLE TYPE CODE 1\": \"SCOOTER\"}, {\"VEHICLE TYPE CODE 1\": \"TAXI\"}, {\"VEHICLE TYPE CODE 1\": \"TRACTOR\"}, {\"VEHICLE TYPE CODE 1\": \"TRUCK\"}, {\"VEHICLE TYPE CODE 1\": \"UNKNOWN\"}, {\"VEHICLE TYPE CODE 1\": \"VAN\"}]}, {\"name\": \"data_2_color_domain_VEHICLE TYPE CODE 1_1\", \"values\": [{\"VEHICLE TYPE CODE 1\": \"AMBULANCE\"}, {\"VEHICLE TYPE CODE 1\": \"BICYCLE\"}, {\"VEHICLE TYPE CODE 1\": \"BUS\"}, {\"VEHICLE TYPE CODE 1\": \"CAR\"}, {\"VEHICLE TYPE CODE 1\": \"FDNY\"}, {\"VEHICLE TYPE CODE 1\": \"MOTORCYCLE\"}, {\"VEHICLE TYPE CODE 1\": \"OTHERS\"}, {\"VEHICLE TYPE CODE 1\": \"SCOOTER\"}, {\"VEHICLE TYPE CODE 1\": \"TAXI\"}, {\"VEHICLE TYPE CODE 1\": \"TRACTOR\"}, {\"VEHICLE TYPE CODE 1\": \"TRUCK\"}, {\"VEHICLE TYPE CODE 1\": \"UNKNOWN\"}, {\"VEHICLE TYPE CODE 1\": \"VAN\"}]}, {\"name\": \"data_2_size_domain_TOTAL INJURED/KILLED\", \"values\": [{\"min\": 20.0, \"max\": 37634.0}]}], \"signals\": [{\"name\": \"y_step\", \"value\": 20}, {\"name\": \"height\", \"update\": \"bandspace(domain('y').length, 0.1, 0.05) * y_step\"}], \"marks\": [{\"type\": \"rect\", \"name\": \"layer_0_marks\", \"from\": {\"data\": \"data_1\"}, \"encode\": {\"update\": {\"height\": {\"value\": 2}, \"fill\": {\"field\": \"VEHICLE TYPE CODE 1\", \"scale\": \"color\"}, \"description\": {\"signal\": \"\\\"Total Collisions: \\\" + (format(datum[\\\"TOTAL COLLISIONS\\\"], \\\"\\\")) + \\\"; Vehicle Type: \\\" + (isValid(datum[\\\"VEHICLE TYPE CODE 1\\\"]) ? datum[\\\"VEHICLE TYPE CODE 1\\\"] : \\\"\\\"+datum[\\\"VEHICLE TYPE CODE 1\\\"])\"}, \"x\": {\"field\": \"TOTAL COLLISIONS_end\", \"scale\": \"x\"}, \"x2\": {\"field\": \"TOTAL COLLISIONS_start\", \"scale\": \"x\"}, \"ariaRoleDescription\": {\"value\": \"bar\"}, \"yc\": {\"field\": \"VEHICLE TYPE CODE 1\", \"scale\": \"y\", \"band\": 0.5}}}, \"style\": [\"bar\"]}, {\"type\": \"symbol\", \"name\": \"layer_1_marks\", \"from\": {\"data\": \"data_2\"}, \"encode\": {\"update\": {\"opacity\": {\"value\": 1}, \"y\": {\"field\": \"VEHICLE TYPE CODE 1\", \"scale\": \"y\", \"band\": 0.5}, \"ariaRoleDescription\": {\"value\": \"circle\"}, \"x\": {\"field\": \"TOTAL COLLISIONS\", \"scale\": \"x\"}, \"description\": {\"signal\": \"\\\"Total Collisions: \\\" + (format(datum[\\\"TOTAL COLLISIONS\\\"], \\\"\\\")) + \\\"; Vehicle Type: \\\" + (isValid(datum[\\\"VEHICLE TYPE CODE 1\\\"]) ? datum[\\\"VEHICLE TYPE CODE 1\\\"] : \\\"\\\"+datum[\\\"VEHICLE TYPE CODE 1\\\"]) + \\\"; Total Injured/Killed: \\\" + (format(datum[\\\"TOTAL INJURED/KILLED\\\"], \\\"\\\")) + \\\"; VEHICLE TYPE CODE 1: \\\" + (isValid(datum[\\\"VEHICLE TYPE CODE 1\\\"]) ? datum[\\\"VEHICLE TYPE CODE 1\\\"] : \\\"\\\"+datum[\\\"VEHICLE TYPE CODE 1\\\"]) + \\\"; TOTAL COLLISIONS: \\\" + (format(datum[\\\"TOTAL COLLISIONS\\\"], \\\"\\\")) + \\\"; TOTAL INJURED/KILLED: \\\" + (format(datum[\\\"TOTAL INJURED/KILLED\\\"], \\\"\\\"))\"}, \"tooltip\": {\"signal\": \"{\\\"VEHICLE TYPE CODE 1\\\": isValid(datum[\\\"VEHICLE TYPE CODE 1\\\"]) ? datum[\\\"VEHICLE TYPE CODE 1\\\"] : \\\"\\\"+datum[\\\"VEHICLE TYPE CODE 1\\\"], \\\"TOTAL COLLISIONS\\\": format(datum[\\\"TOTAL COLLISIONS\\\"], \\\"\\\"), \\\"TOTAL INJURED/KILLED\\\": format(datum[\\\"TOTAL INJURED/KILLED\\\"], \\\"\\\")}\"}, \"size\": {\"field\": \"TOTAL INJURED/KILLED\", \"scale\": \"size\"}, \"fill\": {\"field\": \"VEHICLE TYPE CODE 1\", \"scale\": \"color\"}, \"shape\": {\"value\": \"circle\"}}}, \"style\": [\"circle\"]}], \"scales\": [{\"name\": \"x\", \"type\": \"linear\", \"domain\": {\"fields\": [{\"data\": \"data_1\", \"field\": \"TOTAL COLLISIONS_start\"}, {\"data\": \"data_1\", \"field\": \"TOTAL COLLISIONS_end\"}, {\"data\": \"data_2\", \"field\": \"TOTAL COLLISIONS\"}]}, \"range\": [0, {\"signal\": \"width\"}], \"nice\": true, \"zero\": true}, {\"name\": \"y\", \"type\": \"band\", \"domain\": {\"data\": \"source_0_y_domain_VEHICLE TYPE CODE 1\", \"field\": \"VEHICLE TYPE CODE 1\", \"sort\": {\"op\": \"max\", \"field\": \"sort_field\", \"order\": \"descending\"}}, \"range\": {\"step\": {\"signal\": \"y_step\"}}, \"paddingInner\": 0.1, \"paddingOuter\": 0.05}, {\"name\": \"color\", \"type\": \"ordinal\", \"domain\": {\"fields\": [{\"data\": \"data_1_color_domain_VEHICLE TYPE CODE 1_0\", \"field\": \"VEHICLE TYPE CODE 1\"}, {\"data\": \"data_2_color_domain_VEHICLE TYPE CODE 1_1\", \"field\": \"VEHICLE TYPE CODE 1\"}], \"sort\": true}, \"range\": \"category\"}, {\"name\": \"size\", \"type\": \"linear\", \"domain\": [{\"signal\": \"(data(\\\"data_2_size_domain_TOTAL INJURED/KILLED\\\")[0] || {}).min\"}, {\"signal\": \"(data(\\\"data_2_size_domain_TOTAL INJURED/KILLED\\\")[0] || {}).max\"}], \"range\": [0, 361], \"zero\": true}], \"axes\": [{\"scale\": \"x\", \"ticks\": false, \"domain\": false, \"aria\": false, \"zindex\": 0, \"orient\": \"bottom\", \"tickCount\": {\"signal\": \"ceil(width/40)\"}, \"grid\": true, \"gridScale\": \"y\", \"labels\": false, \"maxExtent\": 0, \"minExtent\": 0}, {\"scale\": \"y\", \"grid\": true, \"domain\": false, \"maxExtent\": 0, \"aria\": false, \"ticks\": false, \"gridScale\": \"x\", \"orient\": \"left\", \"minExtent\": 0, \"labels\": false, \"zindex\": 0}, {\"scale\": \"x\", \"grid\": false, \"zindex\": 0, \"orient\": \"bottom\", \"title\": \"Total Collisions\", \"labelFlush\": true, \"labelOverlap\": true, \"tickCount\": {\"signal\": \"ceil(width/40)\"}}, {\"scale\": \"y\", \"zindex\": 0, \"grid\": false, \"orient\": \"left\", \"title\": \"Vehicle Type\", \"labelAngle\": 0, \"labelAlign\": \"right\"}], \"title\": {\"text\": \"Lollipop Plot of Collisions by Vehicle Type and Contributing Factor\", \"frame\": \"group\"}, \"style\": \"cell\", \"legends\": [{\"title\": \"Total Injured/Killed\", \"size\": \"size\", \"symbolType\": \"circle\", \"encode\": {\"symbols\": {\"update\": {\"fill\": {\"value\": \"black\"}, \"fillOpacity\": {\"value\": 1}, \"opacity\": {\"value\": 1}, \"stroke\": {\"value\": \"transparent\"}}}}}], \"padding\": 5, \"background\": \"white\", \"width\": 300}, {\"mode\": \"vega\"});\n",
       "</script>"
      ],
      "text/plain": [
       "alt.LayerChart(...)"
      ]
     },
     "execution_count": 208,
     "metadata": {},
     "output_type": "execute_result"
    }
   ],
   "source": [
    "lolli = alt.Chart(df).mark_bar(\n",
    "    size=2\n",
    ").encode(\n",
    "    x=alt.X('TOTAL COLLISIONS:Q',\n",
    "            title='Total Collisions'),\n",
    "    y=alt.Y('VEHICLE TYPE CODE 1:N',\n",
    "            title='Vehicle Type',\n",
    "            sort=alt.EncodingSortField(field=\"TOTAL COLLISIONS\", order=\"descending\"),\n",
    "            axis=alt.Axis(labelAngle=0, grid=True)),\n",
    "    color=alt.Color('VEHICLE TYPE CODE 1:N',\n",
    "                    title='Vehicle Type',\n",
    "                    legend=None),\n",
    ")\n",
    "\n",
    "pop = alt.Chart(df).mark_circle(\n",
    "    tooltip=True,\n",
    "    opacity=1\n",
    ").encode(\n",
    "    x=alt.X('TOTAL COLLISIONS:Q',\n",
    "            title='Total Collisions'),\n",
    "    y=alt.Y('VEHICLE TYPE CODE 1:N',\n",
    "            title='Vehicle Type',\n",
    "            sort=alt.EncodingSortField(\n",
    "                field=\"TOTAL COLLISIONS\",\n",
    "                order=\"descending\"),\n",
    "            axis=alt.Axis(labelAngle=0, grid=True)),\n",
    "    size=alt.Size('TOTAL INJURED/KILLED:Q',\n",
    "                    title='Total Injured/Killed'),\n",
    "    color=alt.Color('VEHICLE TYPE CODE 1:N',\n",
    "                    title='Vehicle Type',\n",
    "                    legend=None),\n",
    "    tooltip=['VEHICLE TYPE CODE 1:N', 'TOTAL COLLISIONS:Q', 'TOTAL INJURED/KILLED:Q']\n",
    ").properties(\n",
    "    title='Lollipop Plot of Collisions by Vehicle Type and Contributing Factor'\n",
    ")\n",
    "\n",
    "lolli + pop"
   ]
  }
 ],
 "metadata": {
  "kernelspec": {
   "display_name": "Python 3",
   "language": "python",
   "name": "python3"
  },
  "language_info": {
   "codemirror_mode": {
    "name": "ipython",
    "version": 3
   },
   "file_extension": ".py",
   "mimetype": "text/x-python",
   "name": "python",
   "nbconvert_exporter": "python",
   "pygments_lexer": "ipython3",
   "version": "3.11.5"
  }
 },
 "nbformat": 4,
 "nbformat_minor": 2
}
