{
 "cells": [
  {
   "cell_type": "code",
   "execution_count": null,
   "metadata": {},
   "outputs": [],
   "source": [
    "import pandas as pd\n",
    "import altair as alt\n",
    "\n",
    "dir = '../Data'\n",
    "\n",
    "weather = pd.read_csv(f'{dir}/weather_clean.csv')\n",
    "collisions = pd.read_csv(f'{dir}/collisions_clean.csv')\n",
    "\n",
    "alt.data_transformers.enable(\"vegafusion\")"
   ]
  },
  {
   "cell_type": "code",
   "execution_count": null,
   "metadata": {},
   "outputs": [],
   "source": [
    "# select the year from the CRASH DATE column\n",
    "collisions['YEAR'] = collisions['CRASH DATE'].astype(str).str[:4]"
   ]
  },
  {
   "cell_type": "markdown",
   "metadata": {},
   "source": [
    "## Are accidents more frequent during weekdays or weekends? Is there any difference between before COVID-19 and after?"
   ]
  },
  {
   "cell_type": "code",
   "execution_count": null,
   "metadata": {},
   "outputs": [],
   "source": [
    "# create a new dataframe with the required columns\n",
    "df = collisions.loc[:, ['YEAR', 'DAY NAME']]\n",
    "df.insert(0, 'COUNT', 1)\n",
    "collisions['WEEKDAY'] = collisions['DAY NAME'].apply(lambda x: 'Weekday' if x in ['Monday', 'Tuesday', 'Wednesday', 'Thursday', 'Friday'] else 'Weekend')\n",
    "\n",
    "df['WEEKDAY'] = df['DAY NAME'].apply(lambda x: 'Weekday' if x in ['Monday', 'Tuesday', 'Wednesday', 'Thursday', 'Friday'] else 'Weekend')\n",
    "\n",
    "# group the data by year and weekday/weekend\n",
    "df = df.groupby(['YEAR', 'WEEKDAY']).count().reset_index()\n",
    "# divide count by 5 if it is a weekday\n",
    "df['COUNT'] = df.apply(lambda x: x['COUNT']/5 if x['WEEKDAY'] == 'Weekday' else x['COUNT']/2, axis=1)"
   ]
  },
  {
   "cell_type": "code",
   "execution_count": null,
   "metadata": {},
   "outputs": [],
   "source": [
    "slope = alt.Chart(df).mark_line().encode(\n",
    "    x=alt.X('YEAR:N', title='Year', axis=alt.Axis(labelAngle=0)),\n",
    "    y=alt.Y('COUNT:Q', title='Collisions per Day'),\n",
    "    color=alt.Color('WEEKDAY:N', legend=alt.Legend(title='Day Type'))\n",
    ")\n",
    "\n",
    "pts = alt.Chart(df).mark_point(\n",
    "    filled=True,\n",
    "    opacity=1\n",
    ").encode(\n",
    "    x=alt.X('YEAR:N', title='Year', axis=alt.Axis(labelAngle=0)),\n",
    "    y=alt.Y('COUNT:Q', title='Collisions per Day'),\n",
    "    color=alt.Color('WEEKDAY:N', legend=None)\n",
    ")\n",
    "alt.layer(slope, pts).properties(width=100, height=300, title='Collisions per Day Type by Year')"
   ]
  },
  {
   "cell_type": "code",
   "execution_count": null,
   "metadata": {},
   "outputs": [],
   "source": [
    "df = collisions.groupby('YEAR')[['NUMBER OF INJURED', 'NUMBER OF KILLED']].sum().reset_index()\n",
    "df['TOTAL INJURED/KILLED'] = df['NUMBER OF INJURED'] + df['NUMBER OF KILLED']\n",
    "\n",
    "df2 = collisions.groupby('YEAR')[['COLLISION_ID']].count()\n",
    "\n",
    "df = df.merge(df2, on='YEAR')\n",
    "\n",
    "df['TOTAL PER 10'] = 10 * df['TOTAL INJURED/KILLED'] / df['COLLISION_ID']\n",
    "df = df.reset_index()\n",
    "df"
   ]
  },
  {
   "cell_type": "code",
   "execution_count": null,
   "metadata": {},
   "outputs": [],
   "source": [
    "len(collisions['VEHICLE TYPE CODE 1'].unique())"
   ]
  },
  {
   "cell_type": "code",
   "execution_count": null,
   "metadata": {},
   "outputs": [],
   "source": [
    "data = pd.DataFrame([dict(id=i) for i in range(1, 21)])\n",
    "\n",
    "data['color'] = ['kill/injured' if i < 6 else 'non' for i in range(1, 11)] + ['kill/injured' if i < 10 else 'non' for i in range(1, 11)]\n",
    "\n",
    "data['year'] = ['2018'] * 10 + ['2020'] * 10\n",
    "data.head()"
   ]
  },
  {
   "cell_type": "code",
   "execution_count": null,
   "metadata": {},
   "outputs": [],
   "source": [
    "\n",
    "car = (\"M640 320V368C640 385.7 625.7 400 608 400H574.7C567.1 445.4 527.6 480 480 480C432.4 480 392.9 445.4 385.3 400H254.7C247.1 445.4 207.6 480 160 480C112.4 480 72.94 445.4 65.33 400H32C14.33 400 0 385.7 0 368V256C0 228.9 16.81 205.8 40.56 196.4L82.2 92.35C96.78 55.9 132.1 32 171.3 32H353.2C382.4 32 409.1 45.26 428.2 68.03L528.2 193C591.2 200.1 640 254.8 640 319.1V320zM171.3 96C158.2 96 146.5 103.1 141.6 116.1L111.3 192H224V96H171.3zM272 192H445.4L378.2 108C372.2 100.4 362.1 96 353.2 96H272V192zM525.3 400C527 394.1 528 389.6 528 384C528 357.5 506.5 336 480 336C453.5 336 432 357.5 432 384C432 389.6 432.1 394.1 434.7 400C441.3 418.6 459.1 432 480 432C500.9 432 518.7 418.6 525.3 400zM205.3 400C207 394.1 208 389.6 208 384C208 357.5 186.5 336 160 336C133.5 336 112 357.5 112 384C112 389.6 112.1 394.1 114.7 400C121.3 418.6 139.1 432 160 432C180.9 432 198.7 418.6 205.3 400z\"\n",
    ")\n",
    "\n",
    "alt.Chart(data).transform_calculate(\n",
    "    row=\"ceil(datum.id/10)\"\n",
    ").transform_calculate(\n",
    "    col=\"datum.id - datum.row*10\"\n",
    ").mark_point(\n",
    "    filled=True,\n",
    "    size=0.04\n",
    ").encode(\n",
    "    alt.X(\"col:O\", axis=None),\n",
    "    alt.Y(\"row:O\", axis=None),\n",
    "    alt.ShapeValue(car),\n",
    "    alt.Row(\"year:O\",\n",
    "            spacing=0,\n",
    "            header=alt.Header(labelAngle=-90, title='Year')),\n",
    "    color=alt.Color('color:N',\n",
    "                    scale=alt.Scale(domain=['kill/injured', 'non'],range=['#d62728', '#ff7f0e']),\n",
    "                    legend=None)\n",
    ").transform_window(\n",
    "    x='rank(id)',\n",
    "    groupby=['year']\n",
    ").properties(\n",
    "    width=900,\n",
    "    height=130,\n",
    "    title='Count of Collisions with Injuries and Kills out of 10'\n",
    ")"
   ]
  },
  {
   "cell_type": "markdown",
   "metadata": {},
   "source": [
    "The first and simpler option is to make a barplot. Since we want the names of the days to be legible the idea is to make an horizontal bar chart."
   ]
  },
  {
   "cell_type": "code",
   "execution_count": null,
   "metadata": {},
   "outputs": [],
   "source": [
    "alt.Chart(collisions).mark_bar().encode(\n",
    "    x=alt.X('count():Q',\n",
    "            title='Number of Collisions'),\n",
    "    y=alt.Y('DAY NAME:O',\n",
    "            sort=['Monday', 'Tuesday', 'Wednesday', 'Thursday', 'Friday', 'Saturday', 'Sunday'],\n",
    "            title='Day of the Week'),\n",
    "    color=alt.Color('DAY NAME:O',\n",
    "                    scale=alt.Scale(domain=['Monday', 'Tuesday', 'Wednesday', 'Thursday', 'Friday', 'Saturday', 'Sunday'],\n",
    "                                    range=['lightgray', 'lightgray', 'lightgray', 'lightgray', 'lightgray', '#fcef00', '#fcef00']),\n",
    "                                    legend=None)\n",
    ").properties(\n",
    "    width=500,\n",
    "    height=200,\n",
    "    title='Number of Collisions by Day of the Week'\n",
    ")"
   ]
  },
  {
   "cell_type": "markdown",
   "metadata": {},
   "source": [
    "As mentioned, this option is simple but effective in its task. However, we also intend to show if there is a difference between before and after COVID-19 (that is between 2018 and 2020), so in future iterations of the visualization we should take this into account.\n",
    "\n",
    "The next visualizaiton intends to answer the same question, but also tries to show if there is a time period of the day (morning, afternoon, night) that has more crashes than others. Nevertheless, the outcome is not really useful since the comparison between bars and inside bars is pretty diffuclt, moreover, the colors catch the attention so it's also more difficult (it takes longer since there are more variables encoded) than in the previous visualization to identify the days with more crashes."
   ]
  },
  {
   "cell_type": "code",
   "execution_count": null,
   "metadata": {},
   "outputs": [],
   "source": [
    "bars = alt.Chart(collisions[['DAY NAME', 'CRASH MOMENT']]).mark_bar().transform_calculate(\n",
    "    order=\"{'Morning': 1, 'Afternoon': 2, 'Night': 3}[datum['CRASH MOMENT']]\"\n",
    ").encode(\n",
    "    x=alt.X('count():Q',\n",
    "            title='Number of Collisions',\n",
    "            stack='zero'),\n",
    "    y=alt.Y('DAY NAME:N',\n",
    "            sort=['Monday', 'Tuesday', 'Wednesday', 'Thursday', 'Friday', 'Saturday', 'Sunday'],\n",
    "            title='Day of the Week'),\n",
    "    color=alt.Color('CRASH MOMENT:N',\n",
    "                    title='Moment of the Day',\n",
    "                    scale=alt.Scale(domain=['Morning', 'Afternoon', 'Night'],\n",
    "                                    range=['lightblue', 'lightgreen', 'pink'])),\n",
    "    order=alt.Order('order:O')\n",
    ").properties(\n",
    "    width=500,\n",
    "    height=200,\n",
    "    title='Number of Collisions by Day of the Week'\n",
    ")\n",
    "\n",
    "text = alt.Chart(collisions[['DAY NAME', 'CRASH MOMENT']]).mark_text(\n",
    "    align='right',\n",
    "    color='black',\n",
    "    baseline='middle'\n",
    ").transform_calculate(\n",
    "    order=\"{'Morning': 1, 'Afternoon': 2, 'Night': 3}[datum['CRASH MOMENT']]\"\n",
    ").encode(\n",
    "   x=alt.X('count():Q',\n",
    "            title='Number of Collisions',\n",
    "            stack='zero'),\n",
    "    y=alt.Y('DAY NAME:N',\n",
    "            sort=['Monday', 'Tuesday', 'Wednesday', 'Thursday', 'Friday', 'Saturday', 'Sunday'],\n",
    "            title='Day of the Week'),\n",
    "    detail=alt.Detail('CRASH MOMENT:N'),\n",
    "    text=alt.Text('count():Q'),\n",
    "    order=alt.Order('order:O')\n",
    ")\n",
    "bars + text"
   ]
  },
  {
   "cell_type": "markdown",
   "metadata": {},
   "source": [
    "To deal with the differentiation between 2018 and 2020, an interesting option is to do a paired horizontal bar chart. Since there is only two classes inside every row, the comaprison between instances from different rows is not as difficult as it would be if there were more categories. Therefor, we consider this visualization to accomplish its objectives, but we will keep iterating to see if a better result can be found."
   ]
  },
  {
   "cell_type": "code",
   "execution_count": null,
   "metadata": {},
   "outputs": [],
   "source": [
    "df = collisions[['YEAR', 'DAY NAME']]\n",
    "\n",
    "alt.Chart(df).transform_aggregate(\n",
    "    count='count()',\n",
    "    groupby=['DAY NAME', 'YEAR']\n",
    ").mark_bar().encode(\n",
    "    x=alt.X('count:Q',\n",
    "            title='Number of Collisions'),\n",
    "    y=alt.Y('YEAR:O',\n",
    "            axis=alt.Axis(grid=False, ticks=False, labels=False),\n",
    "            title=''),\n",
    "    color=alt.Color('YEAR:N',\n",
    "                    scale=alt.Scale(domain=['2018', '2020'],\n",
    "                                    range=['lightblue', 'lightgreen']),\n",
    "                    legend=alt.Legend(title='Year')),\n",
    "    row=alt.Row('DAY NAME:O',\n",
    "                      header=alt.Header(title='Day of the Week'),\n",
    "                    #   spacing=9,\n",
    "                      sort=['Monday', 'Tuesday', 'Wednesday', 'Thursday', 'Friday', 'Saturday', 'Sunday'],\n",
    "                      title='Day of the Week')\n",
    ").properties(\n",
    "    title='Number of Collisions by Day of the Week and Year'\n",
    ")"
   ]
  },
  {
   "cell_type": "code",
   "execution_count": null,
   "metadata": {},
   "outputs": [],
   "source": [
    "collisions.columns"
   ]
  },
  {
   "cell_type": "code",
   "execution_count": null,
   "metadata": {},
   "outputs": [],
   "source": [
    "df = collisions[['YEAR', 'DAY NAME', 'WEEKDAY']]\n",
    "\n",
    "alt.Chart(df).transform_aggregate(\n",
    "    count='count()',\n",
    "    groupby=['WEEKDAY', 'YEAR']\n",
    ").mark_bar().encode(\n",
    "    x=alt.X('count:Q',\n",
    "            title='Number of Collisions'),\n",
    "    y=alt.Y('YEAR:O',\n",
    "            axis=alt.Axis(grid=False, ticks=False, labels=False),\n",
    "            title=''),\n",
    "    color=alt.Color('YEAR:N',\n",
    "                    scale=alt.Scale(domain=['2018', '2020'],\n",
    "                                    range=['lightblue', 'lightgreen']),\n",
    "                    legend=alt.Legend(title='Year')),\n",
    "    row=alt.Row('WEEKDAY:O',\n",
    "                      header=alt.Header(title='Day of the Week', labelAngle=0),\n",
    "                    #   spacing=9,\n",
    "                      sort=['Monday', 'Tuesday', 'Wednesday', 'Thursday', 'Friday', 'Saturday', 'Sunday'],\n",
    "                      title='Day of the Week')\n",
    ").properties(\n",
    "    title='Number of Collisions by Day of the Week and Year'\n",
    ")"
   ]
  },
  {
   "cell_type": "markdown",
   "metadata": {},
   "source": [
    "Another option we considered useful was a small multiples of the initial barchart, one for each year, since we consider that the fact of only havig two barcharts that share indexes and are aligned makes the comparison between instances of the different charts pretty easy and, of course, the comparison between instances of the same chart is as good as for the initial plot."
   ]
  },
  {
   "cell_type": "code",
   "execution_count": null,
   "metadata": {},
   "outputs": [],
   "source": [
    "alt.Chart(collisions).mark_bar().encode(\n",
    "    x=alt.X('count():Q'),\n",
    "    y=alt.Y('DAY NAME:O',\n",
    "            title='Day of the Week',\n",
    "            sort=alt.SortField(field='DAY NAME', order='ascending')),\n",
    "    color=alt.Color('YEAR:O',\n",
    "                    scale=alt.Scale(domain=['2018', '2020'], range=['lightblue', 'lightgreen']),\n",
    "                    legend=None),\n",
    "    column=alt.Column('YEAR:O', title='Year'),\n",
    "    # row=alt.Row('WEEKDAY:O')\n",
    ").properties(\n",
    "    width=200,\n",
    "    height=200,\n",
    "    title='Number of Collisions by Day of the Week (2018 vs. 2020)'\n",
    ")"
   ]
  },
  {
   "cell_type": "code",
   "execution_count": null,
   "metadata": {},
   "outputs": [],
   "source": [
    "alt.Chart(collisions).mark_bar(\n",
    "    opacity=0.4\n",
    ").encode(\n",
    "    x=alt.X('count():Q'),\n",
    "    y=alt.Y('DAY NAME:O',\n",
    "            title='Day of the Week',\n",
    "            sort=alt.SortField(field='DAY NAME', order='ascending')),\n",
    "    color=alt.Color('YEAR:O',\n",
    "                    scale=alt.Scale(domain=['2018', '2020'], range=['blue', 'green']),\n",
    "                    legend=None),\n",
    "    # column=alt.Column('YEAR:O', title='Year'),\n",
    "    # row=alt.Row('WEEKDAY:O')\n",
    ").transform_filter(\n",
    "    alt.datum.YEAR == '2018'\n",
    ").properties(\n",
    "    width=600,\n",
    "    height=200,\n",
    "    title='Number of Collisions by Day of the Week (2018 vs. 2020)'\n",
    ") +alt.Chart(collisions).mark_bar(\n",
    "    opacity=0.4\n",
    ").encode(\n",
    "    x=alt.X('count():Q'),\n",
    "    y=alt.Y('DAY NAME:O',\n",
    "            title='Day of the Week',\n",
    "            sort=alt.SortField(field='DAY NAME', order='ascending')),\n",
    "    color=alt.Color('YEAR:O',\n",
    "                    scale=alt.Scale(domain=['2018', '2020'], range=['blue', 'green']),\n",
    "                    legend=None),\n",
    "    # column=alt.Column('YEAR:O', title='Year'),\n",
    "    # row=alt.Row('WEEKDAY:O')\n",
    ").transform_filter(\n",
    "    alt.datum.YEAR == '2020'\n",
    ").properties(\n",
    "    width=600,\n",
    "    height=200,\n",
    "    title='Number of Collisions by Day of the Week (2018 vs. 2020)'\n",
    ")"
   ]
  }
 ],
 "metadata": {
  "kernelspec": {
   "display_name": "Python 3",
   "language": "python",
   "name": "python3"
  },
  "language_info": {
   "codemirror_mode": {
    "name": "ipython",
    "version": 3
   },
   "file_extension": ".py",
   "mimetype": "text/x-python",
   "name": "python",
   "nbconvert_exporter": "python",
   "pygments_lexer": "ipython3",
   "version": "3.11.5"
  }
 },
 "nbformat": 4,
 "nbformat_minor": 2
}
