{
 "cells": [
  {
   "cell_type": "code",
   "execution_count": null,
   "metadata": {},
   "outputs": [],
   "source": [
    "#pip install h3pandas"
   ]
  },
  {
   "cell_type": "code",
   "execution_count": null,
   "metadata": {},
   "outputs": [],
   "source": [
    "import pandas as pd\n",
    "import altair as alt\n",
    "import geopandas as gpd\n",
    "import os\n",
    "import h3pandas as h3\n",
    "\n",
    "dir = '../Data'\n",
    "\n",
    "weather = pd.read_csv(f'{dir}/weather_clean.csv')\n",
    "collisions = pd.read_csv(f'{dir}/collisions_clean.csv')\n",
    "nyc_map = gpd.read_file(f'{dir}/new-york-city-boroughs-ny_.geojson')\n",
    "\n",
    "\n",
    "alt.data_transformers.enable(\"vegafusion\")\n",
    "\n",
    "collisions['YEAR'] = collisions['CRASH DATE'].astype(str).str[:4]"
   ]
  },
  {
   "cell_type": "code",
   "execution_count": null,
   "metadata": {},
   "outputs": [],
   "source": [
    "# create a new column that sums NUMBER OF PERSONS INJURED and NUMBER OF PERSONS KILLED\n",
    "collisions['TOTAL INJURED/KILLED'] = collisions['NUMBER OF INJURED'] + collisions['NUMBER OF KILLED']\n",
    "\n",
    "collisions = collisions[collisions['LATITUDE'].notna() &  collisions['LONGITUDE'].notna() & collisions['BOROUGH'].notna() & collisions['BOROUGH'].notna()]"
   ]
  },
  {
   "cell_type": "markdown",
   "metadata": {},
   "source": [
    "## Are there any areas with a larger number of accidents?"
   ]
  },
  {
   "cell_type": "markdown",
   "metadata": {},
   "source": [
    "https://vega.github.io/vega/docs/schemes/"
   ]
  },
  {
   "cell_type": "markdown",
   "metadata": {},
   "source": [
    "This is the map of New York City diveded in boroughs, we first thought about using a dot map. However, the great amount of instances, the limited space for the visualizations and the restriction of not using interactive plots, made us change our mind after some simple tries."
   ]
  },
  {
   "cell_type": "code",
   "execution_count": null,
   "metadata": {},
   "outputs": [],
   "source": [
    "nyc = alt.Chart(nyc_map).mark_geoshape(\n",
    "    stroke='white',\n",
    "    strokeWidth=1,\n",
    "    filled=True\n",
    ").encode(\n",
    "    color=alt.Color('name',\n",
    "                    scale=alt.Scale(scheme='greys'),\n",
    "                    # scale=alt.Scale(scheme='purples'),\n",
    "                    # scale=alt.Scale(scheme='tealblues'),\n",
    "                    title='Borough'),\n",
    ").project(\n",
    "    type='identity', reflectY=True\n",
    ")\n",
    "nyc"
   ]
  },
  {
   "cell_type": "code",
   "execution_count": null,
   "metadata": {},
   "outputs": [],
   "source": [
    "nyc_map_hex = nyc_map.h3.polyfill_resample(8)\n",
    "nyc_map_hex = nyc_map_hex.reset_index()\n",
    "nyc_map_hex.head()"
   ]
  },
  {
   "cell_type": "code",
   "execution_count": null,
   "metadata": {},
   "outputs": [],
   "source": [
    "df = nyc_map_hex[['h3_polyfill', 'name', 'geometry']]\n",
    "nyc_map_hex = nyc_map.h3.polyfill_resample(8)\n",
    "nyc_map_hex = nyc_map_hex.reset_index()\n",
    "nyc_map_hex.head()"
   ]
  },
  {
   "cell_type": "markdown",
   "metadata": {},
   "source": [
    "We decided to do a choroleth map, but diving the main regions into smaller geometrical forms (hexagons), so the areas would be easier to compare. We use a sequential palette that represnets the quantites aggrupaetd in every hexagon, so the user can see in which areas thers a larger concentration of accidents. We decided to keep the shape of the original map to make orientation easier for the user."
   ]
  },
  {
   "cell_type": "code",
   "execution_count": null,
   "metadata": {},
   "outputs": [],
   "source": [
    "# PONER LOS NOMBRES DE LOS BOROUGHS"
   ]
  },
  {
   "cell_type": "code",
   "execution_count": null,
   "metadata": {},
   "outputs": [],
   "source": [
    "# if os.path.exists(f'{dir}/nyc_hex_map.json'):\n",
    "#     df = pd.read_json(f'{dir}/nyc_hex_map.json')\n",
    "# else:\n",
    "#     collisions_geo = gpd.GeoDataFrame(collisions, geometry=gpd.points_from_xy(collisions['LONGITUDE'], collisions['LATITUDE']))\n",
    "\n",
    "#     collisions_geo.crs = nyc_map_hex.crs\n",
    "    \n",
    "#     df = collisions_geo.sjoin(nyc_map_hex, how='right')\n",
    "#     # save to csv\n",
    "#     df.to_json(f'{dir}/nyc_hex_map.json', orient='records', na='null')"
   ]
  },
  {
   "cell_type": "code",
   "execution_count": null,
   "metadata": {},
   "outputs": [],
   "source": [
    "collisions_geo = gpd.GeoDataFrame(collisions, geometry=gpd.points_from_xy(collisions['LONGITUDE'], collisions['LATITUDE']))\n",
    "\n",
    "collisions_geo.crs = nyc_map_hex.crs\n",
    "\n",
    "df = collisions_geo.sjoin(nyc_map_hex, how='right')\n",
    "\n",
    "tmp = df.groupby(['h3_polyfill', 'name']).count().reset_index()\n",
    "tmp = tmp[['h3_polyfill', 'name', 'COLLISION_ID']]\n",
    "tmp.columns = ['h3_polyfill', 'name', 'count']"
   ]
  },
  {
   "cell_type": "code",
   "execution_count": null,
   "metadata": {},
   "outputs": [],
   "source": [
    "df = df.merge(tmp, on=['h3_polyfill', 'name'], how='left')\n",
    "\n",
    "df = df[['h3_polyfill', 'name', 'count', 'geometry']]\n",
    "\n",
    "df = df.drop_duplicates(subset=['h3_polyfill', 'name'])\n",
    "\n",
    "c1 = alt.Chart(df).mark_geoshape(\n",
    "    stroke='white',\n",
    "    strokeWidth=1,\n",
    "    filled=True\n",
    ").encode(\n",
    "    color=alt.Color('count:Q',\n",
    "                    # scale=alt.Scale(scheme='greys'),\n",
    "                    # scale=alt.Scale(scheme='tealblues'),\n",
    "                    scale=alt.Scale(range=['#B3E9C7', '#5603ad']),\n",
    "                    title='Borough'),\n",
    ").project(\n",
    "    type='identity', reflectY=True\n",
    ").properties(\n",
    "    width=500,\n",
    "    height=500\n",
    ")\n",
    "\n",
    "c2 = alt.Chart(nyc_map).mark_geoshape(\n",
    "    stroke='#1d3557',\n",
    "    strokeWidth=1,\n",
    "    filled=False\n",
    ").project(\n",
    "    type='identity', reflectY=True\n",
    ").properties(\n",
    "    width=500,\n",
    "    height=500\n",
    ")\n",
    "\n",
    "c1 + c2"
   ]
  },
  {
   "cell_type": "code",
   "execution_count": null,
   "metadata": {},
   "outputs": [],
   "source": [
    "nyc_map_hex.crs"
   ]
  },
  {
   "cell_type": "code",
   "execution_count": null,
   "metadata": {},
   "outputs": [],
   "source": [
    "nyc_map.crs"
   ]
  },
  {
   "cell_type": "code",
   "execution_count": null,
   "metadata": {},
   "outputs": [],
   "source": [
    "# select LATITUDE and LONGITUDE columns and convert them to a GeoDataFrame\n",
    "collisions_geo = gpd.GeoDataFrame(collisions[['LATITUDE', 'LONGITUDE', 'BOROUGH', 'ZIP CODE', 'TOTAL INJURED/KILLED']], geometry=gpd.points_from_xy(collisions.LONGITUDE, collisions.LATITUDE))\n",
    "\n",
    "collisions_geo.crs = \"EPSG:4326\"\n",
    "collisions_geo.crs"
   ]
  },
  {
   "cell_type": "code",
   "execution_count": null,
   "metadata": {},
   "outputs": [],
   "source": [
    "nyc_map_hex.head(1)"
   ]
  },
  {
   "cell_type": "code",
   "execution_count": null,
   "metadata": {},
   "outputs": [],
   "source": [
    "df = collisions[['BOROUGH', 'CRASH DATE']].groupby('BOROUGH').count().reset_index().head()\n",
    "df.columns = ['BOROUGH', 'COLLISION COUNT']\n",
    "\n",
    "df2 = collisions[['BOROUGH', 'TOTAL INJURED/KILLED']].groupby('BOROUGH').sum().reset_index().head()\n",
    "\n",
    "df3 = collisions[['BOROUGH', 'LONGITUDE', 'LATITUDE']].groupby('BOROUGH').mean().reset_index().head()\n",
    "df3.columns = ['BOROUGH', 'MEAN LONGITUDE', 'MEAN LATITUDE']\n",
    "\n",
    "df = df.merge(df2, on='BOROUGH', how='left')\n",
    "df = df.merge(df3, on='BOROUGH', how='left')\n",
    "df"
   ]
  },
  {
   "cell_type": "markdown",
   "metadata": {},
   "source": [
    "ESTO NO SE QUE WEA ES PERO NO SE ME EJECUTA ASÍ QUE LO COMENTÉ"
   ]
  },
  {
   "cell_type": "code",
   "execution_count": null,
   "metadata": {},
   "outputs": [],
   "source": [
    "circles = alt.Chart(df).mark_circle(\n",
    "    tooltip=True,\n",
    "    filled=True,\n",
    "    opacity=1\n",
    ").encode(\n",
    "    x=alt.X('MEAN LONGITUDE:Q', axis=None),\n",
    "    y=alt.Y('MEAN LATITUDE:Q', axis=None),\n",
    "    size=alt.Size('COLLISION COUNT:Q',\n",
    "                  title='Collision Count')\n",
    ").properties(\n",
    "    title='Number of Collisions by Borough'\n",
    ")\n",
    "\n",
    "circles2 = alt.Chart().mark_circle(\n",
    "    tooltip=True,\n",
    "    filled=True,\n",
    "    opacity=1\n",
    ").encode(\n",
    "    x=alt.X('MEAN LONGITUDE:Q', axis=None),\n",
    "    y=alt.Y('MEAN LATITUDE:Q', axis=None),\n",
    "    size=alt.Size('TOTAL INJURED/KILLED:Q',\n",
    "                  title='Total Injured/Killed')\n",
    ").properties(\n",
    "    title='Number of Injured/Killed by Borough'\n",
    ")\n",
    "\n",
    "nyc + circles | nyc + circles2"
   ]
  },
  {
   "cell_type": "code",
   "execution_count": null,
   "metadata": {},
   "outputs": [],
   "source": [
    "population = pd.DataFrame({\n",
    "    'BOROUGH': ['BRONX', 'BROOKLYN', 'MANHATTAN', 'QUEENS', 'STATEN ISLAND'],\n",
    "    'POPULATION_2018': [1438000000, 2601000000, 1632000000, 2299000000, 474101],\n",
    "    'POPULATION_2020': [1427000000, 2577000000, 1629000000, 2271000000, 475596],\n",
    "    'CAR OWNERSHIP': [0.40, 0.44, 0.22, 0.62, 0.83]\n",
    "})\n",
    "\n",
    "population['MEAN POPULATION'] = population[['POPULATION_2018', 'POPULATION_2020']].mean(axis=1)\n",
    "\n",
    "population"
   ]
  },
  {
   "cell_type": "code",
   "execution_count": null,
   "metadata": {},
   "outputs": [],
   "source": [
    "total_population = population['MEAN POPULATION'].sum()\n",
    "\n",
    "df = collisions[['BOROUGH', 'CRASH TIME INTERVAL']]\n",
    "df.insert(0, 'COUNT', 1)\n",
    "\n",
    "df = df.groupby(['BOROUGH', 'CRASH TIME INTERVAL']).count().reset_index()\n",
    "df = df.merge(population[['BOROUGH', 'MEAN POPULATION', 'CAR OWNERSHIP']], on='BOROUGH', how='left')\n",
    "\n",
    "df['NORMALIZED COUNT'] = df['COUNT'] * df['CAR OWNERSHIP'] \n",
    "\n",
    "df.describe()"
   ]
  },
  {
   "cell_type": "markdown",
   "metadata": {},
   "source": [
    "Although we consider the map to be a pretty good option, we also thought that a linechart representing the normalized count of accidents along the day hours for each borough could also be a good option to answer the proposed question. We normalized the count of accidents with the information of the follwoing [article](https://edc.nyc/article/new-yorkers-and-their-cars), which especifies the percentage of people in every borough owns a car. This also helps give an extra view on the most common hour of the day were accidents occur."
   ]
  },
  {
   "cell_type": "code",
   "execution_count": null,
   "metadata": {},
   "outputs": [],
   "source": [
    "# poner grid en las X"
   ]
  },
  {
   "cell_type": "code",
   "execution_count": null,
   "metadata": {},
   "outputs": [],
   "source": [
    "alt.Chart(df).mark_line(\n",
    "    tooltip=True,\n",
    "    size=2\n",
    ").encode(\n",
    "    x=alt.X('CRASH TIME INTERVAL:N',\n",
    "            title='Crash Time Interval',\n",
    "            axis=alt.Axis(labelAngle=0)),\n",
    "    y=alt.Y('NORMALIZED COUNT:Q',\n",
    "            title='Number of Collisions normalized by Car Ownership Data'),\n",
    "    color=alt.Color('BOROUGH:N',\n",
    "                    scale=alt.Scale(range=['#a3ffd6', '#d69bf5', '#ff8080', '#80ff80', '#80bfff']),\n",
    "                    title='Borough')\n",
    ").properties(\n",
    "    title='Normalized Number of Collisions by Time Interval'\n",
    ")"
   ]
  },
  {
   "cell_type": "markdown",
   "metadata": {},
   "source": [
    "DECISION FINAL: USAR LOS DOS O SOLO EL MAPA, YA VEMOS"
   ]
  }
 ],
 "metadata": {
  "kernelspec": {
   "display_name": "Python 3",
   "language": "python",
   "name": "python3"
  },
  "language_info": {
   "codemirror_mode": {
    "name": "ipython",
    "version": 3
   },
   "file_extension": ".py",
   "mimetype": "text/x-python",
   "name": "python",
   "nbconvert_exporter": "python",
   "pygments_lexer": "ipython3",
   "version": "3.11.5"
  }
 },
 "nbformat": 4,
 "nbformat_minor": 2
}
