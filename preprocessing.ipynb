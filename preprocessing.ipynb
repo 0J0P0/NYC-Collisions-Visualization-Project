{
 "cells": [
  {
   "cell_type": "markdown",
   "metadata": {},
   "source": [
    "# Visualization Project"
   ]
  },
  {
   "cell_type": "markdown",
   "metadata": {},
   "source": [
    "---\n",
    "**Authors**:\n",
    "-  *Juan P. Zaldivar E.*\n",
    "-  *Enrique Millán X.*\n",
    "---"
   ]
  },
  {
   "cell_type": "code",
   "execution_count": 136,
   "metadata": {},
   "outputs": [],
   "source": [
    "# nyc = gpd.read_file('Data/new-york-city-boroughs-ny_.geojson')\n",
    "\n",
    "# alt.Chart(nyc).mark_geoshape(\n",
    "#     stroke='white',\n",
    "#     strokeWidth=1\n",
    "# ).encode(\n",
    "#     color=alt.Color('name:N'),\n",
    "#     tooltip=['name:N']\n",
    "# ).properties(\n",
    "#     width=500,\n",
    "#     height=500\n",
    "# )"
   ]
  },
  {
   "cell_type": "markdown",
   "metadata": {},
   "source": [
    "## Introduction"
   ]
  },
  {
   "cell_type": "markdown",
   "metadata": {},
   "source": [
    "This file contains the preprocessing required for the datasets. The datasets are:\n",
    "- Colissions dataset.\n",
    "- Weather dataset.\n",
    "- New York Map.\n",
    "\n",
    "\n",
    "<!-- explicar que primer se hace una exploracion visual y luego el preprocesing? -->"
   ]
  },
  {
   "cell_type": "markdown",
   "metadata": {},
   "source": [
    "### Dataset obtention"
   ]
  },
  {
   "cell_type": "markdown",
   "metadata": {},
   "source": [
    "The [*collision*](https://data.cityofnewyork.us/Public-Safety/Motor-Vehicle-Collisions-Crashes/h9gi-nx95) dataset was already given by the instructors of the project.\n",
    "\n",
    "The *weather* dataset was obtained following the next steps:\n",
    "\n",
    "- Visit the [NOAA Climate Data Online Search](https://www.ncdc.noaa.gov/cdo-web/search) web page.\n",
    "\n",
    "- Select the following options:\n",
    "  - `Weather Observation Type/Dataset -> Daily Summaries, Date Range -> 2018-01-01 to 2020-12-31, Search For -> Cities, Search Term -> New York City.`\n",
    "\n",
    "- Look for \"*New York, NY US*\" and click in ADD TO CART. Now, click the cart in the top right corner.\n",
    "\n",
    "- Select \"*Custom GHCN-Daily CSV*\", and the date previously selected (2018-01-01 to 2020-12-31). We are selecting more information than needed (to avoid disjoint downloads), but we will later filter it with ``Pandas`` and ``Open Refine``. Click continue.\n",
    "\n",
    "- Fill the three options, and select \"*metric units*\".\n",
    "\n",
    "- Fill all the options remaining and click continue. There are some options that will be probably not needed, but we will further analyze this when cleaning the datasets.\n",
    "\n",
    "- Type the email where you want to receive the data so the order can start.\n",
    "\n",
    "The *map* dataset was obtained following the next steps:"
   ]
  },
  {
   "cell_type": "markdown",
   "metadata": {},
   "source": [
    "The datasets are located in the folder `Data/` and the results are saved in the folder `Data/Preprocessed/`. Following are the loading of each dataset and the import of the required libraries."
   ]
  },
  {
   "cell_type": "markdown",
   "metadata": {},
   "source": [
    "### Libraries"
   ]
  },
  {
   "cell_type": "code",
   "execution_count": null,
   "metadata": {},
   "outputs": [],
   "source": []
  },
  {
   "cell_type": "code",
   "execution_count": 137,
   "metadata": {},
   "outputs": [],
   "source": [
    "import os\n",
    "import re\n",
    "import geopy as gp\n",
    "import numpy as np\n",
    "import pandas as pd\n",
    "import altair as alt\n",
    "import geopandas as gpd\n",
    "from uszipcode import SearchEngine\n",
    "from Modules import collision_preprocessing as cp"
   ]
  },
  {
   "cell_type": "code",
   "execution_count": 138,
   "metadata": {},
   "outputs": [],
   "source": [
    "# !pip install numpy\n",
    "# comentar las versiones de los paquetes"
   ]
  },
  {
   "cell_type": "markdown",
   "metadata": {},
   "source": [
    "## Dataset preprocessing"
   ]
  },
  {
   "cell_type": "markdown",
   "metadata": {},
   "source": [
    "The preprocessing of the files was done conjointly with OpenRefine and the proposed python libraries in order to be able to take advantages of both tools."
   ]
  },
  {
   "cell_type": "code",
   "execution_count": 139,
   "metadata": {
    "tags": [
     "parameters"
    ]
   },
   "outputs": [],
   "source": [
    "dir = './Data'\n",
    "temp_pre = './Data/tmp_pre'\n",
    "colission_exists = False"
   ]
  },
  {
   "cell_type": "markdown",
   "metadata": {},
   "source": [
    "## Collision dataset preprocessing"
   ]
  },
  {
   "cell_type": "markdown",
   "metadata": {},
   "source": [
    "The original dataset was first loaded into a ``Pandas`` dataframe in order to filter the desired range of dates. The reason lays in a more efficient way to filter the data, taking the size of the original dataset into account. This volumn of data made the computational process in OpenRefine very slow and ineffcient. After this initial filtering, the dataset was exported to a ``.csv`` file and loaded into OpenRefine."
   ]
  },
  {
   "cell_type": "code",
   "execution_count": 140,
   "metadata": {},
   "outputs": [
    {
     "data": {
      "text/plain": [
       "(115740, 29)"
      ]
     },
     "execution_count": 140,
     "metadata": {},
     "output_type": "execute_result"
    }
   ],
   "source": [
    "if os.path.exists(f'{dir}/collisions_2018-2020.csv'):\n",
    "    collision = pd.read_csv(f'{dir}/collisions_2018-2020.csv')\n",
    "    colission_exists = True\n",
    "else:\n",
    "    collision = pd.read_csv(f'{dir}/collisions.csv')\n",
    "\n",
    "collision.shape"
   ]
  },
  {
   "cell_type": "code",
   "execution_count": 141,
   "metadata": {},
   "outputs": [
    {
     "data": {
      "text/html": [
       "<div>\n",
       "<style scoped>\n",
       "    .dataframe tbody tr th:only-of-type {\n",
       "        vertical-align: middle;\n",
       "    }\n",
       "\n",
       "    .dataframe tbody tr th {\n",
       "        vertical-align: top;\n",
       "    }\n",
       "\n",
       "    .dataframe thead th {\n",
       "        text-align: right;\n",
       "    }\n",
       "</style>\n",
       "<table border=\"1\" class=\"dataframe\">\n",
       "  <thead>\n",
       "    <tr style=\"text-align: right;\">\n",
       "      <th></th>\n",
       "      <th>CRASH DATE</th>\n",
       "      <th>CRASH TIME</th>\n",
       "      <th>BOROUGH</th>\n",
       "      <th>ZIP CODE</th>\n",
       "      <th>LATITUDE</th>\n",
       "      <th>LONGITUDE</th>\n",
       "      <th>LOCATION</th>\n",
       "      <th>ON STREET NAME</th>\n",
       "      <th>CROSS STREET NAME</th>\n",
       "      <th>OFF STREET NAME</th>\n",
       "      <th>...</th>\n",
       "      <th>CONTRIBUTING FACTOR VEHICLE 2</th>\n",
       "      <th>CONTRIBUTING FACTOR VEHICLE 3</th>\n",
       "      <th>CONTRIBUTING FACTOR VEHICLE 4</th>\n",
       "      <th>CONTRIBUTING FACTOR VEHICLE 5</th>\n",
       "      <th>COLLISION_ID</th>\n",
       "      <th>VEHICLE TYPE CODE 1</th>\n",
       "      <th>VEHICLE TYPE CODE 2</th>\n",
       "      <th>VEHICLE TYPE CODE 3</th>\n",
       "      <th>VEHICLE TYPE CODE 4</th>\n",
       "      <th>VEHICLE TYPE CODE 5</th>\n",
       "    </tr>\n",
       "  </thead>\n",
       "  <tbody>\n",
       "    <tr>\n",
       "      <th>0</th>\n",
       "      <td>2020-09-06</td>\n",
       "      <td>18:05</td>\n",
       "      <td>NaN</td>\n",
       "      <td>NaN</td>\n",
       "      <td>40.771038</td>\n",
       "      <td>-73.83413</td>\n",
       "      <td>(40.771038, -73.83413)</td>\n",
       "      <td>WHITESTONE EXPRESSWAY</td>\n",
       "      <td>NaN</td>\n",
       "      <td>NaN</td>\n",
       "      <td>...</td>\n",
       "      <td>Following Too Closely</td>\n",
       "      <td>NaN</td>\n",
       "      <td>NaN</td>\n",
       "      <td>NaN</td>\n",
       "      <td>4345591</td>\n",
       "      <td>Station Wagon/Sport Utility Vehicle</td>\n",
       "      <td>Motorcycle</td>\n",
       "      <td>NaN</td>\n",
       "      <td>NaN</td>\n",
       "      <td>NaN</td>\n",
       "    </tr>\n",
       "    <tr>\n",
       "      <th>1</th>\n",
       "      <td>2020-09-20</td>\n",
       "      <td>9:14</td>\n",
       "      <td>NaN</td>\n",
       "      <td>NaN</td>\n",
       "      <td>40.722095</td>\n",
       "      <td>-73.77772</td>\n",
       "      <td>(40.722095, -73.77772)</td>\n",
       "      <td>GRAND CENTRAL PKWY</td>\n",
       "      <td>NaN</td>\n",
       "      <td>NaN</td>\n",
       "      <td>...</td>\n",
       "      <td>Unspecified</td>\n",
       "      <td>NaN</td>\n",
       "      <td>NaN</td>\n",
       "      <td>NaN</td>\n",
       "      <td>4459141</td>\n",
       "      <td>Sedan</td>\n",
       "      <td>Pick-up Truck</td>\n",
       "      <td>NaN</td>\n",
       "      <td>NaN</td>\n",
       "      <td>NaN</td>\n",
       "    </tr>\n",
       "    <tr>\n",
       "      <th>2</th>\n",
       "      <td>2020-09-24</td>\n",
       "      <td>22:00</td>\n",
       "      <td>MANHATTAN</td>\n",
       "      <td>10039.0</td>\n",
       "      <td>40.824757</td>\n",
       "      <td>-73.94052</td>\n",
       "      <td>(40.824757, -73.94052)</td>\n",
       "      <td>8 AVENUE</td>\n",
       "      <td>WEST 148 STREET</td>\n",
       "      <td>NaN</td>\n",
       "      <td>...</td>\n",
       "      <td>Driver Inattention/Distraction</td>\n",
       "      <td>NaN</td>\n",
       "      <td>NaN</td>\n",
       "      <td>NaN</td>\n",
       "      <td>4461437</td>\n",
       "      <td>Sedan</td>\n",
       "      <td>Motorscooter</td>\n",
       "      <td>NaN</td>\n",
       "      <td>NaN</td>\n",
       "      <td>NaN</td>\n",
       "    </tr>\n",
       "    <tr>\n",
       "      <th>3</th>\n",
       "      <td>2020-08-06</td>\n",
       "      <td>5:30</td>\n",
       "      <td>NaN</td>\n",
       "      <td>NaN</td>\n",
       "      <td>NaN</td>\n",
       "      <td>NaN</td>\n",
       "      <td>NaN</td>\n",
       "      <td>NaN</td>\n",
       "      <td>NaN</td>\n",
       "      <td>120       Huge Grant Circle</td>\n",
       "      <td>...</td>\n",
       "      <td>Unspecified</td>\n",
       "      <td>NaN</td>\n",
       "      <td>NaN</td>\n",
       "      <td>NaN</td>\n",
       "      <td>4336560</td>\n",
       "      <td>Sedan</td>\n",
       "      <td>Station Wagon/Sport Utility Vehicle</td>\n",
       "      <td>NaN</td>\n",
       "      <td>NaN</td>\n",
       "      <td>NaN</td>\n",
       "    </tr>\n",
       "    <tr>\n",
       "      <th>4</th>\n",
       "      <td>2020-08-01</td>\n",
       "      <td>17:16</td>\n",
       "      <td>BRONX</td>\n",
       "      <td>10462.0</td>\n",
       "      <td>40.840508</td>\n",
       "      <td>-73.85515</td>\n",
       "      <td>(40.840508, -73.85515)</td>\n",
       "      <td>METROPOLITAN AVENUE</td>\n",
       "      <td>LINDEN DRIVE</td>\n",
       "      <td>NaN</td>\n",
       "      <td>...</td>\n",
       "      <td>Unspecified</td>\n",
       "      <td>NaN</td>\n",
       "      <td>NaN</td>\n",
       "      <td>NaN</td>\n",
       "      <td>4334713</td>\n",
       "      <td>Sedan</td>\n",
       "      <td>E-Bike</td>\n",
       "      <td>NaN</td>\n",
       "      <td>NaN</td>\n",
       "      <td>NaN</td>\n",
       "    </tr>\n",
       "  </tbody>\n",
       "</table>\n",
       "<p>5 rows × 29 columns</p>\n",
       "</div>"
      ],
      "text/plain": [
       "   CRASH DATE CRASH TIME    BOROUGH  ZIP CODE   LATITUDE  LONGITUDE  \\\n",
       "0  2020-09-06      18:05        NaN       NaN  40.771038  -73.83413   \n",
       "1  2020-09-20       9:14        NaN       NaN  40.722095  -73.77772   \n",
       "2  2020-09-24      22:00  MANHATTAN   10039.0  40.824757  -73.94052   \n",
       "3  2020-08-06       5:30        NaN       NaN        NaN        NaN   \n",
       "4  2020-08-01      17:16      BRONX   10462.0  40.840508  -73.85515   \n",
       "\n",
       "                 LOCATION         ON STREET NAME CROSS STREET NAME  \\\n",
       "0  (40.771038, -73.83413)  WHITESTONE EXPRESSWAY               NaN   \n",
       "1  (40.722095, -73.77772)     GRAND CENTRAL PKWY               NaN   \n",
       "2  (40.824757, -73.94052)               8 AVENUE   WEST 148 STREET   \n",
       "3                     NaN                    NaN               NaN   \n",
       "4  (40.840508, -73.85515)    METROPOLITAN AVENUE      LINDEN DRIVE   \n",
       "\n",
       "               OFF STREET NAME  ...   CONTRIBUTING FACTOR VEHICLE 2  \\\n",
       "0                          NaN  ...           Following Too Closely   \n",
       "1                          NaN  ...                     Unspecified   \n",
       "2                          NaN  ...  Driver Inattention/Distraction   \n",
       "3  120       Huge Grant Circle  ...                     Unspecified   \n",
       "4                          NaN  ...                     Unspecified   \n",
       "\n",
       "   CONTRIBUTING FACTOR VEHICLE 3  CONTRIBUTING FACTOR VEHICLE 4  \\\n",
       "0                            NaN                            NaN   \n",
       "1                            NaN                            NaN   \n",
       "2                            NaN                            NaN   \n",
       "3                            NaN                            NaN   \n",
       "4                            NaN                            NaN   \n",
       "\n",
       "   CONTRIBUTING FACTOR VEHICLE 5  COLLISION_ID  \\\n",
       "0                            NaN       4345591   \n",
       "1                            NaN       4459141   \n",
       "2                            NaN       4461437   \n",
       "3                            NaN       4336560   \n",
       "4                            NaN       4334713   \n",
       "\n",
       "                   VEHICLE TYPE CODE 1                  VEHICLE TYPE CODE 2  \\\n",
       "0  Station Wagon/Sport Utility Vehicle                           Motorcycle   \n",
       "1                                Sedan                        Pick-up Truck   \n",
       "2                                Sedan                         Motorscooter   \n",
       "3                                Sedan  Station Wagon/Sport Utility Vehicle   \n",
       "4                                Sedan                               E-Bike   \n",
       "\n",
       "   VEHICLE TYPE CODE 3 VEHICLE TYPE CODE 4 VEHICLE TYPE CODE 5  \n",
       "0                  NaN                 NaN                 NaN  \n",
       "1                  NaN                 NaN                 NaN  \n",
       "2                  NaN                 NaN                 NaN  \n",
       "3                  NaN                 NaN                 NaN  \n",
       "4                  NaN                 NaN                 NaN  \n",
       "\n",
       "[5 rows x 29 columns]"
      ]
     },
     "execution_count": 141,
     "metadata": {},
     "output_type": "execute_result"
    }
   ],
   "source": [
    "collision.head()"
   ]
  },
  {
   "cell_type": "markdown",
   "metadata": {},
   "source": [
    "If the filtered version does not exist, we proceed with the filtering. To filter the data to the summer of 2018 and 2020, the first step is to change the data type of the **CRASH DATE** attribute."
   ]
  },
  {
   "cell_type": "code",
   "execution_count": 142,
   "metadata": {},
   "outputs": [
    {
     "data": {
      "text/plain": [
       "(115740, 29)"
      ]
     },
     "execution_count": 142,
     "metadata": {},
     "output_type": "execute_result"
    }
   ],
   "source": [
    "if not colission_exists:\n",
    "    collision['CRASH DATE'] = pd.to_datetime(collision['CRASH DATE'])\n",
    "\n",
    "    collision = collision[((collision['CRASH DATE'] >= '2018-06-01') & (collision['CRASH DATE'] <= '2018-09-30')) | ((collision['CRASH DATE'] >= '2020-06-01') & (collision['CRASH DATE'] <= '2020-09-30'))]\n",
    "    collision.to_csv(f'{dir}/collisions_2018-2020.csv', index=False)\n",
    "\n",
    "collision.shape"
   ]
  },
  {
   "cell_type": "markdown",
   "metadata": {},
   "source": [
    "After the filtering, the dataset was exported to a ``.csv`` file and loaded into OpenRefine. The procedure and reasoning taken in OpenRefine will be explained and justified in the present section."
   ]
  },
  {
   "cell_type": "markdown",
   "metadata": {},
   "source": [
    "### Data exploration?\n",
    "\n",
    "\n",
    "The collision table incorporates information pertaining to individual crash events, with each row representing a distinct collision incident. The dataframe compile details from all police reported motor vehicle collisions in NYC. \n",
    "\n",
    "<!-- ...se hace una breve descripcion de la exploracion? -->"
   ]
  },
  {
   "cell_type": "markdown",
   "metadata": {},
   "source": [
    "### Data selection and transformation"
   ]
  },
  {
   "cell_type": "markdown",
   "metadata": {},
   "source": [
    "All of the following transformations were applied with OpenRefine, but some comprobations to justify the transformations are carried on in this section of the notebook."
   ]
  },
  {
   "cell_type": "markdown",
   "metadata": {},
   "source": [
    "At first glance, **ON STREET NAME** and **OFF STREET NAME** seem to be the same attribute, but with different names. After looking at the description of the attributes in the web site of the dataset, the following descriptions:\n",
    "\n",
    "- **ON STREET NAME**: *Street on which the collision occurred*.\n",
    "- **OFF STREET NAME**: *Street address if known*.\n",
    "\n",
    "Which gives the idea that both attributes contain approximatelly the same information. Furthermore, there are no rows with both attributes filled, which makes the idea of merging both attributes plausible."
   ]
  },
  {
   "cell_type": "code",
   "execution_count": 143,
   "metadata": {},
   "outputs": [
    {
     "data": {
      "text/plain": [
       "(0, 29)"
      ]
     },
     "execution_count": 143,
     "metadata": {},
     "output_type": "execute_result"
    }
   ],
   "source": [
    "collision[(collision['ON STREET NAME'].notnull()) & (collision['OFF STREET NAME'].notnull())].shape"
   ]
  },
  {
   "cell_type": "code",
   "execution_count": 144,
   "metadata": {},
   "outputs": [
    {
     "data": {
      "text/plain": [
       "(115514, 29)"
      ]
     },
     "execution_count": 144,
     "metadata": {},
     "output_type": "execute_result"
    }
   ],
   "source": [
    "collision[(collision['ON STREET NAME'].notnull()) | (collision['OFF STREET NAME'].notnull())].shape"
   ]
  },
  {
   "cell_type": "markdown",
   "metadata": {},
   "source": [
    "The resulting attribute after merging both columns is called **STREET NAME** and contains the street name/address where the collision occurred, with no missing values. Some rows will have a more detail description of the street, while others will only have the name of the street. \n",
    "\n",
    "<!-- This is not a problem, since the attribute will be used to join the dataset with the weather dataset, and the weather dataset only contains the name of the street. -->"
   ]
  },
  {
   "cell_type": "markdown",
   "metadata": {},
   "source": [
    "**CROSS STREET**, which iss the third attribute related to the street enviroment can be dropped since is not useful for the intended analysis."
   ]
  },
  {
   "cell_type": "markdown",
   "metadata": {},
   "source": [
    "Similarly, **LOCATION** seems to contain the tuple (**LATITUDE**, **LONGITUDE**), so we could, a priori, remove the two extra attributes."
   ]
  },
  {
   "cell_type": "code",
   "execution_count": 145,
   "metadata": {},
   "outputs": [
    {
     "data": {
      "text/plain": [
       "(108073, 29)"
      ]
     },
     "execution_count": 145,
     "metadata": {},
     "output_type": "execute_result"
    }
   ],
   "source": [
    "collision[(collision['LOCATION'].notnull()) & (collision['LATITUDE'].notnull()) & (collision['LONGITUDE'].notnull())].shape"
   ]
  },
  {
   "cell_type": "markdown",
   "metadata": {},
   "source": [
    "The number of rows where the three attributes are not missing does not cover the total number of rows, but there are no rows where the **LOCATION** attribute is missing and at least one of the other two attributes is not missing."
   ]
  },
  {
   "cell_type": "code",
   "execution_count": 146,
   "metadata": {},
   "outputs": [
    {
     "data": {
      "text/plain": [
       "(0, 29)"
      ]
     },
     "execution_count": 146,
     "metadata": {},
     "output_type": "execute_result"
    }
   ],
   "source": [
    "collision[(collision['LOCATION'].isnull()) & (collision['LATITUDE'].isnull()) & (collision['LONGITUDE'].notnull()) | (collision['LATITUDE'].notnull()) & (collision['LONGITUDE'].isnull())].shape"
   ]
  },
  {
   "cell_type": "code",
   "execution_count": 147,
   "metadata": {},
   "outputs": [
    {
     "data": {
      "text/plain": [
       "(7667, 29)"
      ]
     },
     "execution_count": 147,
     "metadata": {},
     "output_type": "execute_result"
    }
   ],
   "source": [
    "collision[(collision['LOCATION'].isnull())].shape"
   ]
  },
  {
   "cell_type": "markdown",
   "metadata": {},
   "source": [
    "Which makes the rest of the rows (7667) with missing values in the three attributes. This means that the **LATITUDE** and **LONGITUDE** attributes can be removed, since the **LOCATION** attribute contains the same information. With this transformation, the number of attributes is reduced by two."
   ]
  },
  {
   "cell_type": "markdown",
   "metadata": {},
   "source": [
    "Regarding vehicle information, the statement of the project specifies that the interest is only on the first vehicle, so we can drop all columns that refer to other vehicles (*VEHICLE TYPE 2*, *VEHICLE TYPE 3*, etc. and *CONTRIBUTING FACTOR VEHICLE 2*, etc.)."
   ]
  },
  {
   "cell_type": "markdown",
   "metadata": {},
   "source": []
  },
  {
   "cell_type": "code",
   "execution_count": 148,
   "metadata": {},
   "outputs": [
    {
     "data": {
      "text/plain": [
       "False"
      ]
     },
     "execution_count": 148,
     "metadata": {},
     "output_type": "execute_result"
    }
   ],
   "source": [
    "collision['NUMBER OF PERSONS INJURED'].equals(collision['NUMBER OF PEDESTRIANS INJURED'] + collision['NUMBER OF CYCLIST INJURED'] + collision['NUMBER OF MOTORIST INJURED'])"
   ]
  },
  {
   "cell_type": "code",
   "execution_count": 149,
   "metadata": {},
   "outputs": [
    {
     "data": {
      "text/plain": [
       "False"
      ]
     },
     "execution_count": 149,
     "metadata": {},
     "output_type": "execute_result"
    }
   ],
   "source": [
    "collision['NUMBER OF PERSONS INJURED'].equals(collision['NUMBER OF PEDESTRIANS INJURED'] + collision['NUMBER OF CYCLIST INJURED'])"
   ]
  },
  {
   "cell_type": "code",
   "execution_count": 150,
   "metadata": {},
   "outputs": [
    {
     "data": {
      "text/plain": [
       "False"
      ]
     },
     "execution_count": 150,
     "metadata": {},
     "output_type": "execute_result"
    }
   ],
   "source": [
    "collision['NUMBER OF PERSONS INJURED'].equals(collision['NUMBER OF PEDESTRIANS INJURED'])\n"
   ]
  },
  {
   "cell_type": "code",
   "execution_count": null,
   "metadata": {},
   "outputs": [],
   "source": []
  },
  {
   "cell_type": "markdown",
   "metadata": {},
   "source": []
  },
  {
   "cell_type": "markdown",
   "metadata": {},
   "source": [
    "### Data type conversion"
   ]
  },
  {
   "cell_type": "code",
   "execution_count": 151,
   "metadata": {},
   "outputs": [],
   "source": [
    "# no es mejor poner las palabras a minúsculas para mejor visualización?"
   ]
  },
  {
   "cell_type": "markdown",
   "metadata": {},
   "source": [
    "The data conversion was done in OpenRefine. The **CRASH DATE** attribute was converted to a date type. The **COLLISION ID** and **CRASH TIME** were set as strings for the time being.\n",
    "\n",
    " The attributes relating the greographic location of the collision were set as strings with some special remarks. All the values were set to uppercase and the extra spaces were removed (if any). The reason for this was to ease the work of the clusterization method used to collectively inspect and edit cells in the case that there were some values that were not correctly or consistently written.\n",
    "\n",
    " This clusterization was done with the *key collision* method and the *fingerprint* keying function. No significant variations were found after a copuble iterations in the values of the attributes but the ones commented above.\n",
    "\n",
    " The same clustering was done for the rest of geographical attributes, with the same keying function. Nevertheless, no results appeared in the clusterization, which means that the values were already consistent. To verify the result, a NN was done as well but did not find any significant variation."
   ]
  },
  {
   "cell_type": "markdown",
   "metadata": {},
   "source": [
    "For the attributes refering to the number of persons involved in the collision, the data type was set to integer. The reason for this is that the values are discrete and the values are not expected to be negative.\n",
    "\n",
    "The vehicle and factors attributes were left as strings for the time being. Opposed to the greographical attributes, the values of these attributes did not have extra spaces or inconsistent values, so in the clusterization no variations were found. This could lead to the conclusion that the values were inserted in a controlled manner, which is not the case for the greographical attributes."
   ]
  },
  {
   "cell_type": "markdown",
   "metadata": {},
   "source": [
    "### a"
   ]
  },
  {
   "cell_type": "markdown",
   "metadata": {},
   "source": []
  },
  {
   "cell_type": "code",
   "execution_count": 152,
   "metadata": {},
   "outputs": [
    {
     "data": {
      "text/html": [
       "<div>\n",
       "<style scoped>\n",
       "    .dataframe tbody tr th:only-of-type {\n",
       "        vertical-align: middle;\n",
       "    }\n",
       "\n",
       "    .dataframe tbody tr th {\n",
       "        vertical-align: top;\n",
       "    }\n",
       "\n",
       "    .dataframe thead th {\n",
       "        text-align: right;\n",
       "    }\n",
       "</style>\n",
       "<table border=\"1\" class=\"dataframe\">\n",
       "  <thead>\n",
       "    <tr style=\"text-align: right;\">\n",
       "      <th></th>\n",
       "      <th>COLLISION_ID</th>\n",
       "      <th>CRASH DATE</th>\n",
       "      <th>CRASH TIME</th>\n",
       "      <th>BOROUGH</th>\n",
       "      <th>ZIP CODE</th>\n",
       "      <th>LOCATION</th>\n",
       "      <th>STREET NAME</th>\n",
       "      <th>NUMBER OF INJURED</th>\n",
       "      <th>NUMBER OF KILLED</th>\n",
       "      <th>CONTRIBUTING FACTOR VEHICLE 1</th>\n",
       "      <th>VEHICLE TYPE CODE 1</th>\n",
       "    </tr>\n",
       "  </thead>\n",
       "  <tbody>\n",
       "    <tr>\n",
       "      <th>0</th>\n",
       "      <td>4345591</td>\n",
       "      <td>2020-09-06T00:00:00Z</td>\n",
       "      <td>18:05</td>\n",
       "      <td>NaN</td>\n",
       "      <td>NaN</td>\n",
       "      <td>(40.771038, -73.83413)</td>\n",
       "      <td>WHITESTONE EXPRESSWAY</td>\n",
       "      <td>0.0</td>\n",
       "      <td>2.0</td>\n",
       "      <td>Unsafe Lane Changing</td>\n",
       "      <td>VAN</td>\n",
       "    </tr>\n",
       "    <tr>\n",
       "      <th>1</th>\n",
       "      <td>4459141</td>\n",
       "      <td>2020-09-20T00:00:00Z</td>\n",
       "      <td>9:14</td>\n",
       "      <td>NaN</td>\n",
       "      <td>NaN</td>\n",
       "      <td>(40.722095, -73.77772)</td>\n",
       "      <td>GRAND CENTRAL PKWY</td>\n",
       "      <td>0.0</td>\n",
       "      <td>0.0</td>\n",
       "      <td>Driver Inattention/Distraction</td>\n",
       "      <td>CAR</td>\n",
       "    </tr>\n",
       "    <tr>\n",
       "      <th>2</th>\n",
       "      <td>4461437</td>\n",
       "      <td>2020-09-24T00:00:00Z</td>\n",
       "      <td>22:00</td>\n",
       "      <td>MANHATTAN</td>\n",
       "      <td>10039.0</td>\n",
       "      <td>(40.824757, -73.94052)</td>\n",
       "      <td>8 AVENUE</td>\n",
       "      <td>0.0</td>\n",
       "      <td>0.0</td>\n",
       "      <td>Pedestrian/Bicyclist/Other Pedestrian Error/Co...</td>\n",
       "      <td>CAR</td>\n",
       "    </tr>\n",
       "    <tr>\n",
       "      <th>3</th>\n",
       "      <td>4336560</td>\n",
       "      <td>2020-08-06T00:00:00Z</td>\n",
       "      <td>5:30</td>\n",
       "      <td>NaN</td>\n",
       "      <td>NaN</td>\n",
       "      <td>NaN</td>\n",
       "      <td>120 HUGE GRANT CIRCLE</td>\n",
       "      <td>2.0</td>\n",
       "      <td>0.0</td>\n",
       "      <td>Unspecified</td>\n",
       "      <td>CAR</td>\n",
       "    </tr>\n",
       "    <tr>\n",
       "      <th>4</th>\n",
       "      <td>4334713</td>\n",
       "      <td>2020-08-01T00:00:00Z</td>\n",
       "      <td>17:16</td>\n",
       "      <td>BRONX</td>\n",
       "      <td>10462.0</td>\n",
       "      <td>(40.840508, -73.85515)</td>\n",
       "      <td>METROPOLITAN AVENUE</td>\n",
       "      <td>0.0</td>\n",
       "      <td>2.0</td>\n",
       "      <td>Failure to Yield Right-of-Way</td>\n",
       "      <td>CAR</td>\n",
       "    </tr>\n",
       "  </tbody>\n",
       "</table>\n",
       "</div>"
      ],
      "text/plain": [
       "   COLLISION_ID            CRASH DATE CRASH TIME    BOROUGH  ZIP CODE  \\\n",
       "0       4345591  2020-09-06T00:00:00Z      18:05        NaN       NaN   \n",
       "1       4459141  2020-09-20T00:00:00Z       9:14        NaN       NaN   \n",
       "2       4461437  2020-09-24T00:00:00Z      22:00  MANHATTAN   10039.0   \n",
       "3       4336560  2020-08-06T00:00:00Z       5:30        NaN       NaN   \n",
       "4       4334713  2020-08-01T00:00:00Z      17:16      BRONX   10462.0   \n",
       "\n",
       "                 LOCATION            STREET NAME  NUMBER OF INJURED  \\\n",
       "0  (40.771038, -73.83413)  WHITESTONE EXPRESSWAY                0.0   \n",
       "1  (40.722095, -73.77772)     GRAND CENTRAL PKWY                0.0   \n",
       "2  (40.824757, -73.94052)               8 AVENUE                0.0   \n",
       "3                     NaN  120 HUGE GRANT CIRCLE                2.0   \n",
       "4  (40.840508, -73.85515)    METROPOLITAN AVENUE                0.0   \n",
       "\n",
       "   NUMBER OF KILLED                      CONTRIBUTING FACTOR VEHICLE 1  \\\n",
       "0               2.0                               Unsafe Lane Changing   \n",
       "1               0.0                     Driver Inattention/Distraction   \n",
       "2               0.0  Pedestrian/Bicyclist/Other Pedestrian Error/Co...   \n",
       "3               0.0                                        Unspecified   \n",
       "4               2.0                      Failure to Yield Right-of-Way   \n",
       "\n",
       "  VEHICLE TYPE CODE 1  \n",
       "0                 VAN  \n",
       "1                 CAR  \n",
       "2                 CAR  \n",
       "3                 CAR  \n",
       "4                 CAR  "
      ]
     },
     "execution_count": 152,
     "metadata": {},
     "output_type": "execute_result"
    }
   ],
   "source": [
    "precollision = pd.read_csv(f'{dir}/collisions_2018-2020_prepro_v1.csv')\n",
    "precollision.head()"
   ]
  },
  {
   "cell_type": "markdown",
   "metadata": {},
   "source": [
    "<!-- SCOOTER, TRUCK, CAR, VAN, MOTORCYCLE, BICYCLE, BUS, TAXI, AMBULANCE, FDNY, OTHER, UNKNOWN, SCOOTER, MILITAR, TRACTOR,  -->"
   ]
  },
  {
   "cell_type": "code",
   "execution_count": 159,
   "metadata": {},
   "outputs": [
    {
     "data": {
      "text/plain": [
       "array(['VAN', 'CAR', 'BUS', 'TRACTOR', 'TAXI', 'SCOOTER', 'TRUCK',\n",
       "       'MOTORCYCLE', 'BICYCLE', 'PK', 'TANK', 'AMBULANCE', 'MOPED',\n",
       "       'FDNY', 'UNKNOWN', 'OTHERS', 'CHASSIS CAB', 'BULK AGRICULTURE',\n",
       "       'SWT', 'MESSAGE SI', 'BOX', 'PC', 'SLINGSHOT', 'DOT EQUIPM', 'J1',\n",
       "       'DRILL RIG', 'E REVEL SC', 'UTV', 'JOHN DEERE', 'F150XL PIC', '1C',\n",
       "       'SANIT', 'RV', 'STAK', '2- TO', 'MOTORIZED HOME', 'PAS', 'PALLET',\n",
       "       'UHAUL', 'LOADE', 'NEW Y', 'STREE', 'SPRIN', 'RGS', 'POSTO',\n",
       "       'SGWS', 'OMR', 'HEAVY', 'ACCES', 'DEMA-', 'BK', 'NYPD'],\n",
       "      dtype=object)"
      ]
     },
     "execution_count": 159,
     "metadata": {},
     "output_type": "execute_result"
    }
   ],
   "source": [
    "precollision['VEHICLE TYPE CODE 1'].unique()"
   ]
  },
  {
   "cell_type": "code",
   "execution_count": 158,
   "metadata": {},
   "outputs": [],
   "source": [
    "# precollision['VEHICLE TYPE CODE 1'] = precollision['VEHICLE TYPE CODE 1'].replace(\n",
    "    # ['SUV', 'FLAT', '3-DOOR', 'CHEVY EXPR', 'PC', 'ELEC. UNIC'], 'CAR')\n",
    "\n",
    "# precollision['VEHICLE TYPE CODE 1'] = precollision['VEHICLE TYPE CODE 1'].replace(\n",
    "#     ['99999'], 'UNKNOWN')\n",
    "# precollision['VEHICLE TYPE CODE 1'].fillna('UNKNOWN', inplace=True)\n",
    "\n",
    "\n",
    "precollision['VEHICLE TYPE CODE 1'] = precollision['VEHICLE TYPE CODE 1'].replace(\n",
    "    ['BULK AGRICULTURE', ], 'OTHERS')\n",
    "\n",
    "precollision['VEHICLE TYPE CODE 1'] = precollision['VEHICLE TYPE CODE 1'].replace(\n",
    "    ['BOX', ], 'TRUCK')\n",
    "\n",
    "precollision['VEHICLE TYPE CODE 1'] = precollision['VEHICLE TYPE CODE 1'].replace(\n",
    "    ['MOTORIZED HOME', ], 'VAN')"
   ]
  },
  {
   "cell_type": "markdown",
   "metadata": {},
   "source": [
    "### Missing values"
   ]
  },
  {
   "cell_type": "markdown",
   "metadata": {},
   "source": [
    "It has already been mentioned the existence of some missing values. In the previous section, the verification of missing values was done with the ``.isnull()`` method of ``Pandas``. However, this method does not take into account the ``NaN`` values. In order to check the existence of ``NaN`` values, the ``.isna()`` method was used."
   ]
  },
  {
   "cell_type": "code",
   "execution_count": 104,
   "metadata": {},
   "outputs": [
    {
     "data": {
      "text/plain": [
       "Series([], dtype: bool)"
      ]
     },
     "execution_count": 104,
     "metadata": {},
     "output_type": "execute_result"
    }
   ],
   "source": [
    "comp = (precollision.isnull().sum() == precollision.isna().sum())\n",
    "comp[comp == False]"
   ]
  },
  {
   "cell_type": "markdown",
   "metadata": {},
   "source": [
    "As seen previously, all the missing values of the dataset are detected both with ``.isnull()`` and ``.isna()``. After this check, we could group the attributes with missign values in three separeted clusters:\n",
    "- Geographical attributes\n",
    "- Injured/Killed attributes\n",
    "- Vehicle attributes"
   ]
  },
  {
   "cell_type": "code",
   "execution_count": 105,
   "metadata": {},
   "outputs": [
    {
     "data": {
      "text/plain": [
       "COLLISION_ID                         0\n",
       "CRASH DATE                           0\n",
       "CRASH TIME                           0\n",
       "BOROUGH                          40671\n",
       "ZIP CODE                         40686\n",
       "LOCATION                          7667\n",
       "STREET NAME                        226\n",
       "NUMBER OF INJURED                    2\n",
       "NUMBER OF KILLED                     4\n",
       "CONTRIBUTING FACTOR VEHICLE 1      351\n",
       "VEHICLE TYPE CODE 1                730\n",
       "dtype: int64"
      ]
     },
     "execution_count": 105,
     "metadata": {},
     "output_type": "execute_result"
    }
   ],
   "source": [
    "precollision.isnull().sum()"
   ]
  },
  {
   "cell_type": "markdown",
   "metadata": {},
   "source": [
    "#### Derivation of geographic attributes"
   ]
  },
  {
   "cell_type": "markdown",
   "metadata": {},
   "source": [
    "The first cluster is formed with reference to the geographicals attributes. The attributes in this cluster are:\n",
    "- **BOROUGH**\n",
    "- **ZIP CODE**\n",
    "- **LOCATION**\n",
    "- **STREET NAME**\n",
    "- **CROSS STREET NAME**\n",
    "\n",
    "Notice that the attributes with the less missing values is **STREET NAME** with only a $0.20\\%$ of the entire dataset, partially thanks to the merge of **ON STREET** and **OFF STREET** attributes in the previous sections. We used this information to impute the missing coordinates of the **LOCATION** attribute and the rest of the attributes sequentially.\n"
   ]
  },
  {
   "cell_type": "code",
   "execution_count": 106,
   "metadata": {},
   "outputs": [],
   "source": [
    "# from arcgis.gis import GIS\n",
    "# from arcgis.geocoding import geocode"
   ]
  },
  {
   "cell_type": "code",
   "execution_count": 107,
   "metadata": {},
   "outputs": [],
   "source": [
    "# gis = GIS(profile = 'Myaaap')\n",
    "\n",
    "# locations = []\n",
    "# for index in precollision.shape[0]:\n",
    "#     res = geocode(precollision['STREET NAME'][index], max_locations=1)\n",
    "#     if res:\n",
    "#         locations.append(res[0]['location'])\n",
    "#     else:\n",
    "#         locations.append(None)"
   ]
  },
  {
   "cell_type": "code",
   "execution_count": 108,
   "metadata": {},
   "outputs": [],
   "source": [
    "# (precollision['LOCATION'][0], precollision['STREET NAME'][0] ,res[0]['address'], res[0]['location'])"
   ]
  },
  {
   "cell_type": "code",
   "execution_count": 109,
   "metadata": {},
   "outputs": [
    {
     "data": {
      "text/plain": [
       "(7667, 226)"
      ]
     },
     "execution_count": 109,
     "metadata": {},
     "output_type": "execute_result"
    }
   ],
   "source": [
    "precollision['LOCATION'].isnull().sum(), precollision['STREET NAME'].isnull().sum()"
   ]
  },
  {
   "cell_type": "code",
   "execution_count": 110,
   "metadata": {},
   "outputs": [
    {
     "data": {
      "text/plain": [
       "67"
      ]
     },
     "execution_count": 110,
     "metadata": {},
     "output_type": "execute_result"
    }
   ],
   "source": [
    "precollision[(precollision['LOCATION'].isnull()) & (precollision['STREET NAME'].isnull())].shape[0]"
   ]
  },
  {
   "cell_type": "code",
   "execution_count": 111,
   "metadata": {},
   "outputs": [
    {
     "data": {
      "text/plain": [
       "1897"
      ]
     },
     "execution_count": 111,
     "metadata": {},
     "output_type": "execute_result"
    }
   ],
   "source": [
    "street_unique = precollision[precollision['LOCATION'].isnull()]['STREET NAME'].unique()\n",
    "len(street_unique)"
   ]
  },
  {
   "cell_type": "code",
   "execution_count": 112,
   "metadata": {},
   "outputs": [],
   "source": [
    "# from geopy.geocoders import Nominatim\n",
    "\n",
    "# geolocator = Nominatim(user_agent=\"GEoNYC\")\n",
    "\n",
    "# locations = []\n",
    "# for street in street_unique:\n",
    "#     try:\n",
    "#         location = geolocator.geocode(street + ', New York City, New York, USA')\n",
    "#         locations.append(location)\n",
    "#     except:\n",
    "#         locations.append(None)"
   ]
  },
  {
   "cell_type": "code",
   "execution_count": 113,
   "metadata": {},
   "outputs": [],
   "source": [
    "# save locations in a file\n",
    "# import pickle\n",
    "# with open(f'{dir}/locations.pkl', 'wb') as f:\n",
    "#     pickle.dump(locations, f)\n"
   ]
  },
  {
   "cell_type": "code",
   "execution_count": 114,
   "metadata": {},
   "outputs": [
    {
     "data": {
      "text/plain": [
       "(7667, 40686)"
      ]
     },
     "execution_count": 114,
     "metadata": {},
     "output_type": "execute_result"
    }
   ],
   "source": [
    "precollision['LOCATION'].isnull().sum(), precollision['ZIP CODE'].isnull().sum()"
   ]
  },
  {
   "cell_type": "code",
   "execution_count": 115,
   "metadata": {},
   "outputs": [],
   "source": [
    "# download locations\n",
    "import pickle\n",
    "with open(f'{dir}/locations.pkl', 'rb') as f:\n",
    "    locations = pickle.load(f)"
   ]
  },
  {
   "cell_type": "code",
   "execution_count": 116,
   "metadata": {},
   "outputs": [
    {
     "data": {
      "text/plain": [
       "1897"
      ]
     },
     "execution_count": 116,
     "metadata": {},
     "output_type": "execute_result"
    }
   ],
   "source": [
    "len(locations)"
   ]
  },
  {
   "cell_type": "code",
   "execution_count": 117,
   "metadata": {},
   "outputs": [
    {
     "data": {
      "text/plain": [
       "603"
      ]
     },
     "execution_count": 117,
     "metadata": {},
     "output_type": "execute_result"
    }
   ],
   "source": [
    "# count the number of None in locations\n",
    "count = 0\n",
    "for location in locations:\n",
    "    if location is None:\n",
    "        count += 1\n",
    "count"
   ]
  },
  {
   "cell_type": "code",
   "execution_count": 118,
   "metadata": {},
   "outputs": [],
   "source": [
    "zipcodes = []; boroughs = []; coord = []\n",
    "\n",
    "for location in locations:\n",
    "    if location:\n",
    "        zipcode = re.findall(r'\\d{5}', location.address)\n",
    "        coord.append('(' + str(location.latitude) + ', ' + str(location.longitude) + ')')\n",
    "        # boroughs.append(location.raw['display_name'].split(', ')[-6])\n",
    "        if zipcode:\n",
    "            zipcodes.append(zipcode[0])\n",
    "        else:\n",
    "            zipcodes.append(None)\n",
    "    else:\n",
    "        zipcodes.append(None)\n",
    "        coord.append(None)\n",
    "        boroughs.append(None)"
   ]
  },
  {
   "cell_type": "code",
   "execution_count": 119,
   "metadata": {},
   "outputs": [
    {
     "data": {
      "text/plain": [
       "(1897, 1897, 603)"
      ]
     },
     "execution_count": 119,
     "metadata": {},
     "output_type": "execute_result"
    }
   ],
   "source": [
    "len(zipcodes), len(coord), len(boroughs)"
   ]
  },
  {
   "cell_type": "code",
   "execution_count": 120,
   "metadata": {},
   "outputs": [
    {
     "name": "stderr",
     "output_type": "stream",
     "text": [
      "C:\\Users\\jpniz\\AppData\\Local\\Temp\\ipykernel_21196\\1134399385.py:18: FutureWarning: Setting an item of incompatible dtype is deprecated and will raise in a future error of pandas. Value '11368' has dtype incompatible with float64, please explicitly cast to a compatible dtype first.\n",
      "  precollision.at[index, 'ZIP CODE'] = zipcodes[street_index]\n"
     ]
    }
   ],
   "source": [
    "# Iterate over the rows of the DataFrame\n",
    "for index, row in precollision.iterrows():\n",
    "    street_name = row['STREET NAME']\n",
    "    location = row['LOCATION']\n",
    "    zip_code = row['ZIP CODE']\n",
    "\n",
    "    # Check if 'LOCATION' is NaN\n",
    "    if pd.isnull(location):\n",
    "\n",
    "        if street_name and street_name in street_unique:\n",
    "            street_index = np.where(street_unique == street_name)[0][0]\n",
    "            precollision.at[index, 'LOCATION'] = coord[street_index]\n",
    "\n",
    "    if pd.isnull(zip_code):\n",
    "\n",
    "        if street_name and street_name in street_unique:\n",
    "            street_index = np.where(street_unique == street_name)[0][0]\n",
    "            precollision.at[index, 'ZIP CODE'] = zipcodes[street_index]"
   ]
  },
  {
   "cell_type": "code",
   "execution_count": 121,
   "metadata": {},
   "outputs": [
    {
     "data": {
      "text/plain": [
       "(2248, 16137)"
      ]
     },
     "execution_count": 121,
     "metadata": {},
     "output_type": "execute_result"
    }
   ],
   "source": [
    "precollision['LOCATION'].isnull().sum(), precollision['ZIP CODE'].isnull().sum()\n",
    "# porq solo 2248 y no menos?????"
   ]
  },
  {
   "cell_type": "markdown",
   "metadata": {},
   "source": []
  },
  {
   "cell_type": "code",
   "execution_count": 122,
   "metadata": {},
   "outputs": [],
   "source": [
    "# precollision['ZIP CODE'] = precollision['ZIP CODE'].fillna(-1)\n",
    "precollision['LOCATION'] = precollision['LOCATION'].fillna('(-1,-1)')"
   ]
  },
  {
   "cell_type": "code",
   "execution_count": 123,
   "metadata": {},
   "outputs": [],
   "source": [
    "if os.path.exists(f'{dir}/collisions_2018-2020_prepro_v2.csv'):\n",
    "    precollision = pd.read_csv(f'{dir}/collisions_2018-2020_prepro_v2.csv')\n",
    "    zipcodes = precollision['DERIVATED ZIP']\n",
    "else:\n",
    "    search = SearchEngine()\n",
    "\n",
    "    def get_zipcode(df, location):\n",
    "        if df[location] == '(-1,-1)':\n",
    "            return np.nan\n",
    "\n",
    "        lat, lon = df[location].replace('(', '').replace(')', '').split(',')\n",
    "        result = search.by_coordinates(float(lat), float(lon))\n",
    "        if len(result) > 0:\n",
    "            return result[0]\n",
    "        return np.nan\n",
    "\n",
    "    info = precollision.apply(get_zipcode, axis=1, location='LOCATION')\n",
    "    precollision['DERIVATED ZIP'] = info\n",
    "    precollision.to_csv(f'{dir}/collisions_2018-2020_prepro_v2.csv', index=False)"
   ]
  },
  {
   "cell_type": "code",
   "execution_count": 124,
   "metadata": {},
   "outputs": [
    {
     "name": "stdout",
     "output_type": "stream",
     "text": [
      "40686 40686\n",
      "40671 40671\n"
     ]
    }
   ],
   "source": [
    "print(precollision['ZIP CODE'].isnull().sum(), precollision['ZIP CODE'].isna().sum())\n",
    "print(precollision['BOROUGH'].isnull().sum(), precollision['BOROUGH'].isna().sum())"
   ]
  },
  {
   "cell_type": "code",
   "execution_count": 125,
   "metadata": {},
   "outputs": [
    {
     "name": "stderr",
     "output_type": "stream",
     "text": [
      "C:\\Users\\jpniz\\AppData\\Local\\Temp\\ipykernel_21196\\2263233568.py:4: FutureWarning: Setting an item of incompatible dtype is deprecated and will raise in a future error of pandas. Value '['11354' '11432' nan ... '10029' '11235' '10452']' has dtype incompatible with float64, please explicitly cast to a compatible dtype first.\n",
      "  precollision['ZIP CODE'].fillna(zipcodes, inplace=True)\n"
     ]
    }
   ],
   "source": [
    "zipcodes = precollision['DERIVATED ZIP'].str.extract(r\"zipcode='(\\d+)'\", expand=False)\n",
    "boroughs = precollision['DERIVATED ZIP'].str.extract(r\"major_city='(\\w+)'\", expand=False)\n",
    "\n",
    "precollision['ZIP CODE'].fillna(zipcodes, inplace=True)\n",
    "precollision['BOROUGH'].fillna(boroughs, inplace=True)"
   ]
  },
  {
   "cell_type": "code",
   "execution_count": 126,
   "metadata": {},
   "outputs": [
    {
     "name": "stdout",
     "output_type": "stream",
     "text": [
      "5440 5440\n",
      "19984 19984\n"
     ]
    }
   ],
   "source": [
    "print(precollision['ZIP CODE'].isnull().sum(), precollision['ZIP CODE'].isna().sum())\n",
    "print(precollision['BOROUGH'].isnull().sum(), precollision['BOROUGH'].isna().sum())"
   ]
  },
  {
   "cell_type": "markdown",
   "metadata": {},
   "source": [
    "#### Derivation of vehicle attributes"
   ]
  },
  {
   "cell_type": "code",
   "execution_count": 127,
   "metadata": {},
   "outputs": [],
   "source": [
    "# poner unespecified en factor $i$ si el vehiculo $i$ es no null y factor $i$ es null\n",
    "# o\n",
    "# poner unknown en vehiculo $i$ si el vehiculo $i$ es null y factor $i$ no es null\n",
    "\n",
    "# son disjuntas estas operaciones?????????????"
   ]
  },
  {
   "cell_type": "markdown",
   "metadata": {},
   "source": [
    "In some rows of the dataset, the **CONTRIBUTING FACTOR VEHICLE** is missing but the **VEHICLE TYPE CODE** is not. This suggests that the vehicle type is known, but the factor that contributed to the collision is not. In order to fill this missing values, the factor was set as *unespecified*. This was done for all the rows and columns where the **CONTRIBUTING FACTOR VEHICLE** was missing with the above condition."
   ]
  },
  {
   "cell_type": "code",
   "execution_count": 128,
   "metadata": {},
   "outputs": [],
   "source": [
    "cp.imputation_with_ref_col(precollision, 'CONTRIBUTING FACTOR VEHICLE', 'VEHICLE TYPE CODE', 'Unspecified', 1, 1)"
   ]
  },
  {
   "cell_type": "markdown",
   "metadata": {},
   "source": [
    "Likewise, in some rows of the dataset, the **VEHICLE TYPE CODE** is missing but the **CONTRIBUTING FACTOR VEHICLE** is not. This suggests that the factor that contributed to the collision is known, but the vehicle type is not. In order to fill this missing values, the vehicle type was set as *unknown*. This was done for all the rows and columns where the **VEHICLE TYPE CODE** was missing with the above condition."
   ]
  },
  {
   "cell_type": "code",
   "execution_count": 129,
   "metadata": {},
   "outputs": [],
   "source": [
    "cp.imputation_with_ref_col(precollision, 'VEHICLE TYPE CODE', 'CONTRIBUTING FACTOR VEHICLE', 'UNKNOWN', 1, 1)"
   ]
  },
  {
   "cell_type": "code",
   "execution_count": 130,
   "metadata": {},
   "outputs": [
    {
     "data": {
      "text/plain": [
       "COLLISION_ID                          0\n",
       "CRASH DATE                            0\n",
       "CRASH TIME                            0\n",
       "BOROUGH                           19984\n",
       "ZIP CODE                           5440\n",
       "LOCATION                              0\n",
       "STREET NAME                         226\n",
       "CROSS STREET NAME                 60179\n",
       "NUMBER OF PERSONS INJURED             2\n",
       "NUMBER OF PERSONS KILLED              4\n",
       "NUMBER OF PEDESTRIANS INJURED         0\n",
       "NUMBER OF PEDESTRIANS KILLED          0\n",
       "NUMBER OF CYCLIST INJURED             0\n",
       "NUMBER OF CYCLIST KILLED              0\n",
       "NUMBER OF MOTORIST INJURED            0\n",
       "NUMBER OF MOTORIST KILLED             0\n",
       "CONTRIBUTING FACTOR VEHICLE 1       288\n",
       "CONTRIBUTING FACTOR VEHICLE 2     19593\n",
       "CONTRIBUTING FACTOR VEHICLE 3    106611\n",
       "CONTRIBUTING FACTOR VEHICLE 4    113552\n",
       "CONTRIBUTING FACTOR VEHICLE 5    115126\n",
       "VEHICLE TYPE CODE 1                 288\n",
       "VEHICLE TYPE CODE 2               27447\n",
       "VEHICLE TYPE CODE 3              107096\n",
       "VEHICLE TYPE CODE 4              113658\n",
       "VEHICLE TYPE CODE 5              115154\n",
       "DERIVATED ZIP                      7678\n",
       "dtype: int64"
      ]
     },
     "execution_count": 130,
     "metadata": {},
     "output_type": "execute_result"
    }
   ],
   "source": [
    "precollision.isnull().sum()"
   ]
  },
  {
   "cell_type": "markdown",
   "metadata": {},
   "source": [
    "<!-- comentar la reduccion de missing values -->\n",
    "\n",
    "Notice that the only missing values in the **CONTRIBUTING FACTOR VEHICLE** attribute and **VEHICLE TYPE CODE** attribute are in the same rows. This means that the number of missing values in the **CONTRIBUTING FACTOR VEHICLE** attribute and **VEHICLE TYPE CODE** attribute is the same."
   ]
  },
  {
   "cell_type": "code",
   "execution_count": 131,
   "metadata": {},
   "outputs": [],
   "source": [
    "# como se hace para imputar los missing de los dos campos a la vez?\n",
    "\n",
    "# code 1 como unespecified/unknown\n",
    "# code resto no existent"
   ]
  },
  {
   "cell_type": "markdown",
   "metadata": {},
   "source": [
    "#### Derivation of number of person attributes"
   ]
  },
  {
   "cell_type": "code",
   "execution_count": 132,
   "metadata": {},
   "outputs": [],
   "source": [
    "# como se hace para imputar los missing del numero de personas? o mejor se elimina?"
   ]
  },
  {
   "cell_type": "code",
   "execution_count": 133,
   "metadata": {},
   "outputs": [
    {
     "data": {
      "text/html": [
       "<div>\n",
       "<style scoped>\n",
       "    .dataframe tbody tr th:only-of-type {\n",
       "        vertical-align: middle;\n",
       "    }\n",
       "\n",
       "    .dataframe tbody tr th {\n",
       "        vertical-align: top;\n",
       "    }\n",
       "\n",
       "    .dataframe thead th {\n",
       "        text-align: right;\n",
       "    }\n",
       "</style>\n",
       "<table border=\"1\" class=\"dataframe\">\n",
       "  <thead>\n",
       "    <tr style=\"text-align: right;\">\n",
       "      <th></th>\n",
       "      <th>COLLISION_ID</th>\n",
       "      <th>CRASH DATE</th>\n",
       "      <th>CRASH TIME</th>\n",
       "      <th>BOROUGH</th>\n",
       "      <th>ZIP CODE</th>\n",
       "      <th>LOCATION</th>\n",
       "      <th>STREET NAME</th>\n",
       "      <th>CROSS STREET NAME</th>\n",
       "      <th>NUMBER OF PERSONS INJURED</th>\n",
       "      <th>NUMBER OF PERSONS KILLED</th>\n",
       "      <th>...</th>\n",
       "      <th>CONTRIBUTING FACTOR VEHICLE 2</th>\n",
       "      <th>CONTRIBUTING FACTOR VEHICLE 3</th>\n",
       "      <th>CONTRIBUTING FACTOR VEHICLE 4</th>\n",
       "      <th>CONTRIBUTING FACTOR VEHICLE 5</th>\n",
       "      <th>VEHICLE TYPE CODE 1</th>\n",
       "      <th>VEHICLE TYPE CODE 2</th>\n",
       "      <th>VEHICLE TYPE CODE 3</th>\n",
       "      <th>VEHICLE TYPE CODE 4</th>\n",
       "      <th>VEHICLE TYPE CODE 5</th>\n",
       "      <th>DERIVATED ZIP</th>\n",
       "    </tr>\n",
       "  </thead>\n",
       "  <tbody>\n",
       "    <tr>\n",
       "      <th>42087</th>\n",
       "      <td>4026403</td>\n",
       "      <td>2018-09-30T00:00:00Z</td>\n",
       "      <td>6:30</td>\n",
       "      <td>QUEENS</td>\n",
       "      <td>11368.0</td>\n",
       "      <td>(40.749767, -73.86381)</td>\n",
       "      <td>102-21 ROOSEVELT AVENUE</td>\n",
       "      <td>NaN</td>\n",
       "      <td>NaN</td>\n",
       "      <td>NaN</td>\n",
       "      <td>...</td>\n",
       "      <td>NaN</td>\n",
       "      <td>NaN</td>\n",
       "      <td>NaN</td>\n",
       "      <td>NaN</td>\n",
       "      <td>TAXI</td>\n",
       "      <td>NaN</td>\n",
       "      <td>NaN</td>\n",
       "      <td>NaN</td>\n",
       "      <td>NaN</td>\n",
       "      <td>SimpleZipcode(zipcode='11372', zipcode_type='S...</td>\n",
       "    </tr>\n",
       "    <tr>\n",
       "      <th>62406</th>\n",
       "      <td>4026219</td>\n",
       "      <td>2018-08-08T00:00:00Z</td>\n",
       "      <td>13:45</td>\n",
       "      <td>STATEN ISLAND</td>\n",
       "      <td>10312.0</td>\n",
       "      <td>(40.562523, -74.19211)</td>\n",
       "      <td>1531 ARTHUR KILL ROAD</td>\n",
       "      <td>NaN</td>\n",
       "      <td>1.0</td>\n",
       "      <td>NaN</td>\n",
       "      <td>...</td>\n",
       "      <td>NaN</td>\n",
       "      <td>NaN</td>\n",
       "      <td>NaN</td>\n",
       "      <td>NaN</td>\n",
       "      <td>SEDAN</td>\n",
       "      <td>NaN</td>\n",
       "      <td>NaN</td>\n",
       "      <td>NaN</td>\n",
       "      <td>NaN</td>\n",
       "      <td>SimpleZipcode(zipcode='10312', zipcode_type='S...</td>\n",
       "    </tr>\n",
       "    <tr>\n",
       "      <th>69596</th>\n",
       "      <td>4026267</td>\n",
       "      <td>2018-08-23T00:00:00Z</td>\n",
       "      <td>8:45</td>\n",
       "      <td>MANHATTAN</td>\n",
       "      <td>10001.0</td>\n",
       "      <td>(40.74528, -73.99254)</td>\n",
       "      <td>135 WEST 26 STREET</td>\n",
       "      <td>NaN</td>\n",
       "      <td>0.0</td>\n",
       "      <td>NaN</td>\n",
       "      <td>...</td>\n",
       "      <td>NaN</td>\n",
       "      <td>NaN</td>\n",
       "      <td>NaN</td>\n",
       "      <td>NaN</td>\n",
       "      <td>SEDAN</td>\n",
       "      <td>NaN</td>\n",
       "      <td>NaN</td>\n",
       "      <td>NaN</td>\n",
       "      <td>NaN</td>\n",
       "      <td>SimpleZipcode(zipcode='10098', zipcode_type='S...</td>\n",
       "    </tr>\n",
       "    <tr>\n",
       "      <th>90894</th>\n",
       "      <td>4026185</td>\n",
       "      <td>2018-07-23T00:00:00Z</td>\n",
       "      <td>12:50</td>\n",
       "      <td>BROOKLYN</td>\n",
       "      <td>11221.0</td>\n",
       "      <td>(40.68603, -73.93268)</td>\n",
       "      <td>STUYVESANT AVENUE</td>\n",
       "      <td>PUTNAM AVENUE</td>\n",
       "      <td>NaN</td>\n",
       "      <td>0.0</td>\n",
       "      <td>...</td>\n",
       "      <td>NaN</td>\n",
       "      <td>NaN</td>\n",
       "      <td>NaN</td>\n",
       "      <td>NaN</td>\n",
       "      <td>SEDAN</td>\n",
       "      <td>NaN</td>\n",
       "      <td>NaN</td>\n",
       "      <td>NaN</td>\n",
       "      <td>NaN</td>\n",
       "      <td>SimpleZipcode(zipcode='11221', zipcode_type='S...</td>\n",
       "    </tr>\n",
       "    <tr>\n",
       "      <th>114639</th>\n",
       "      <td>4026046</td>\n",
       "      <td>2018-06-05T00:00:00Z</td>\n",
       "      <td>5:19</td>\n",
       "      <td>BRONX</td>\n",
       "      <td>10459.0</td>\n",
       "      <td>(40.826992, -73.88984)</td>\n",
       "      <td>1145 WEST FARMS ROAD</td>\n",
       "      <td>NaN</td>\n",
       "      <td>1.0</td>\n",
       "      <td>NaN</td>\n",
       "      <td>...</td>\n",
       "      <td>NaN</td>\n",
       "      <td>NaN</td>\n",
       "      <td>NaN</td>\n",
       "      <td>NaN</td>\n",
       "      <td>STATION WAGON/SPORT UTILITY VEHICLE</td>\n",
       "      <td>NaN</td>\n",
       "      <td>NaN</td>\n",
       "      <td>NaN</td>\n",
       "      <td>NaN</td>\n",
       "      <td>SimpleZipcode(zipcode='10459', zipcode_type='S...</td>\n",
       "    </tr>\n",
       "  </tbody>\n",
       "</table>\n",
       "<p>5 rows × 27 columns</p>\n",
       "</div>"
      ],
      "text/plain": [
       "        COLLISION_ID            CRASH DATE CRASH TIME        BOROUGH ZIP CODE  \\\n",
       "42087        4026403  2018-09-30T00:00:00Z       6:30         QUEENS  11368.0   \n",
       "62406        4026219  2018-08-08T00:00:00Z      13:45  STATEN ISLAND  10312.0   \n",
       "69596        4026267  2018-08-23T00:00:00Z       8:45      MANHATTAN  10001.0   \n",
       "90894        4026185  2018-07-23T00:00:00Z      12:50       BROOKLYN  11221.0   \n",
       "114639       4026046  2018-06-05T00:00:00Z       5:19          BRONX  10459.0   \n",
       "\n",
       "                      LOCATION              STREET NAME CROSS STREET NAME  \\\n",
       "42087   (40.749767, -73.86381)  102-21 ROOSEVELT AVENUE               NaN   \n",
       "62406   (40.562523, -74.19211)    1531 ARTHUR KILL ROAD               NaN   \n",
       "69596    (40.74528, -73.99254)       135 WEST 26 STREET               NaN   \n",
       "90894    (40.68603, -73.93268)        STUYVESANT AVENUE     PUTNAM AVENUE   \n",
       "114639  (40.826992, -73.88984)     1145 WEST FARMS ROAD               NaN   \n",
       "\n",
       "        NUMBER OF PERSONS INJURED  NUMBER OF PERSONS KILLED  ...  \\\n",
       "42087                         NaN                       NaN  ...   \n",
       "62406                         1.0                       NaN  ...   \n",
       "69596                         0.0                       NaN  ...   \n",
       "90894                         NaN                       0.0  ...   \n",
       "114639                        1.0                       NaN  ...   \n",
       "\n",
       "        CONTRIBUTING FACTOR VEHICLE 2  CONTRIBUTING FACTOR VEHICLE 3  \\\n",
       "42087                             NaN                            NaN   \n",
       "62406                             NaN                            NaN   \n",
       "69596                             NaN                            NaN   \n",
       "90894                             NaN                            NaN   \n",
       "114639                            NaN                            NaN   \n",
       "\n",
       "        CONTRIBUTING FACTOR VEHICLE 4  CONTRIBUTING FACTOR VEHICLE 5  \\\n",
       "42087                             NaN                            NaN   \n",
       "62406                             NaN                            NaN   \n",
       "69596                             NaN                            NaN   \n",
       "90894                             NaN                            NaN   \n",
       "114639                            NaN                            NaN   \n",
       "\n",
       "                        VEHICLE TYPE CODE 1  VEHICLE TYPE CODE 2  \\\n",
       "42087                                  TAXI                  NaN   \n",
       "62406                                 SEDAN                  NaN   \n",
       "69596                                 SEDAN                  NaN   \n",
       "90894                                 SEDAN                  NaN   \n",
       "114639  STATION WAGON/SPORT UTILITY VEHICLE                  NaN   \n",
       "\n",
       "       VEHICLE TYPE CODE 3 VEHICLE TYPE CODE 4 VEHICLE TYPE CODE 5  \\\n",
       "42087                  NaN                 NaN                 NaN   \n",
       "62406                  NaN                 NaN                 NaN   \n",
       "69596                  NaN                 NaN                 NaN   \n",
       "90894                  NaN                 NaN                 NaN   \n",
       "114639                 NaN                 NaN                 NaN   \n",
       "\n",
       "                                            DERIVATED ZIP  \n",
       "42087   SimpleZipcode(zipcode='11372', zipcode_type='S...  \n",
       "62406   SimpleZipcode(zipcode='10312', zipcode_type='S...  \n",
       "69596   SimpleZipcode(zipcode='10098', zipcode_type='S...  \n",
       "90894   SimpleZipcode(zipcode='11221', zipcode_type='S...  \n",
       "114639  SimpleZipcode(zipcode='10459', zipcode_type='S...  \n",
       "\n",
       "[5 rows x 27 columns]"
      ]
     },
     "execution_count": 133,
     "metadata": {},
     "output_type": "execute_result"
    }
   ],
   "source": [
    "precollision[precollision['NUMBER OF PERSONS INJURED'].isnull() | precollision['NUMBER OF PERSONS KILLED'].isnull()]"
   ]
  },
  {
   "cell_type": "markdown",
   "metadata": {},
   "source": [
    "Since the resulting rows with missing values of the number of persons involved in the collision are a small fraction of the total dataset, we decided to set them to 0, assuming that there were no persons involved in the collision.\n",
    "\n",
    "Given the small percentage of the rows $0.01$, we think that there would not be a significant impact in the final visualization whether we set the missing values to 0 or we drop the rows with missing values. However, we decided to set the missing values to 0 in order to keep the rows and not lose information."
   ]
  },
  {
   "cell_type": "code",
   "execution_count": 134,
   "metadata": {},
   "outputs": [],
   "source": [
    "precollision['NUMBER OF PERSONS INJURED'].fillna(0, inplace=True)\n",
    "precollision['NUMBER OF PERSONS KILLED'].fillna(0, inplace=True)"
   ]
  }
 ],
 "metadata": {
  "kernelspec": {
   "display_name": "Python 3",
   "language": "python",
   "name": "python3"
  },
  "language_info": {
   "codemirror_mode": {
    "name": "ipython",
    "version": 3
   },
   "file_extension": ".py",
   "mimetype": "text/x-python",
   "name": "python",
   "nbconvert_exporter": "python",
   "pygments_lexer": "ipython3",
   "version": "3.11.5"
  }
 },
 "nbformat": 4,
 "nbformat_minor": 2
}
