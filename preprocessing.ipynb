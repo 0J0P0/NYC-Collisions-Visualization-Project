{
 "cells": [
  {
   "cell_type": "markdown",
   "metadata": {},
   "source": [
    "# Visualization Project"
   ]
  },
  {
   "cell_type": "markdown",
   "metadata": {},
   "source": [
    "---\n",
    "**Authors**:\n",
    "-  *Juan P. Zaldivar E.*\n",
    "-  *Enrique Millán X.*\n",
    "---"
   ]
  },
  {
   "cell_type": "markdown",
   "metadata": {},
   "source": [
    "## Introduction"
   ]
  },
  {
   "cell_type": "markdown",
   "metadata": {},
   "source": [
    "This file contains the preprocessing required for the datasets. The datasets are:\n",
    "- Colissions dataset.\n",
    "- Weather dataset.\n",
    "- New York Map.\n",
    "\n",
    "\n",
    "<!-- explicar que primer se hace una exploracion visual y luego el preprocesing? -->"
   ]
  },
  {
   "cell_type": "markdown",
   "metadata": {},
   "source": [
    "### Dataset obtention"
   ]
  },
  {
   "cell_type": "markdown",
   "metadata": {},
   "source": [
    "The [*collision*](https://data.cityofnewyork.us/Public-Safety/Motor-Vehicle-Collisions-Crashes/h9gi-nx95) dataset was already given by the instructors of the project.\n",
    "\n",
    "The *weather* dataset was obtained following the next steps:\n",
    "\n",
    "- Visit the [NOAA Climate Data Online Search](https://www.ncdc.noaa.gov/cdo-web/search) web page.\n",
    "\n",
    "- Select the following options:\n",
    "  - `Weather Observation Type/Dataset -> Daily Summaries, Date Range -> 2018-01-01 to 2020-12-31, Search For -> Cities, Search Term -> New York City.`\n",
    "\n",
    "- Look for \"*New York, NY US*\" and click in ADD TO CART. Now, click the cart in the top right corner.\n",
    "\n",
    "- Select \"*Custom GHCN-Daily CSV*\", and the date previously selected (2018-01-01 to 2020-12-31). We are selecting more information than needed (to avoid disjoint downloads), but we will later filter it with ``Pandas`` and ``Open Refine``. Click continue.\n",
    "\n",
    "- Fill the three options, and select \"*metric units*\".\n",
    "\n",
    "- Fill all the options remaining and click continue. There are some options that will be probably not needed, but we will further analyze this when cleaning the datasets.\n",
    "\n",
    "- Type the email where you want to receive the data so the order can start.\n",
    "\n",
    "The *map* dataset was obtained following the next steps:"
   ]
  },
  {
   "cell_type": "markdown",
   "metadata": {},
   "source": [
    "The datasets are located in the folder `Data/` and the results are saved in the folder `Data/Preprocessed/`. Following are the loading of each dataset and the import of the required libraries."
   ]
  },
  {
   "cell_type": "markdown",
   "metadata": {},
   "source": [
    "### Libraries"
   ]
  },
  {
   "cell_type": "code",
   "execution_count": 337,
   "metadata": {},
   "outputs": [],
   "source": [
    "import os\n",
    "import geopy as gp\n",
    "import numpy as np\n",
    "import pandas as pd\n",
    "from uszipcode import SearchEngine\n",
    "from Modules import collision_preprocessing as cp"
   ]
  },
  {
   "cell_type": "code",
   "execution_count": 338,
   "metadata": {},
   "outputs": [],
   "source": [
    "# !pip install numpy\n",
    "# comentar las versiones de los paquetes"
   ]
  },
  {
   "cell_type": "markdown",
   "metadata": {},
   "source": [
    "## Dataset preprocessing"
   ]
  },
  {
   "cell_type": "markdown",
   "metadata": {},
   "source": [
    "The preprocessing of the files was done conjuntly with OpenRefine and the python libraries in order to be able to take advantages of both tools."
   ]
  },
  {
   "cell_type": "code",
   "execution_count": 339,
   "metadata": {
    "tags": [
     "parameters"
    ]
   },
   "outputs": [],
   "source": [
    "dir = './Data'\n",
    "temp_pre = './Data/tmp_pre'\n",
    "colission_exists = False"
   ]
  },
  {
   "cell_type": "markdown",
   "metadata": {},
   "source": [
    "## Collision dataset preprocessing"
   ]
  },
  {
   "cell_type": "markdown",
   "metadata": {},
   "source": [
    "The original dataset was first loaded into a ``Pandas`` dataframe in order to filter the desired range of dates. The reason lays in a more efficient way to filter the data, taking the size of the original dataset into account. This volumn of data made the computational process in OpenRefine very slow and ineffcient. After this initial filtering, the dataset was exported to a ``.csv`` file and loaded into OpenRefine."
   ]
  },
  {
   "cell_type": "code",
   "execution_count": 340,
   "metadata": {},
   "outputs": [
    {
     "data": {
      "text/plain": [
       "(115740, 29)"
      ]
     },
     "execution_count": 340,
     "metadata": {},
     "output_type": "execute_result"
    }
   ],
   "source": [
    "if os.path.exists(f'{dir}/collisions_2018-2020.csv'):\n",
    "    collision = pd.read_csv(f'{dir}/collisions_2018-2020.csv')\n",
    "    colission_exists = True\n",
    "else:\n",
    "    collision = pd.read_csv(f'{dir}/collisions.csv')\n",
    "\n",
    "collision.shape"
   ]
  },
  {
   "cell_type": "code",
   "execution_count": 341,
   "metadata": {},
   "outputs": [
    {
     "data": {
      "text/html": [
       "<div>\n",
       "<style scoped>\n",
       "    .dataframe tbody tr th:only-of-type {\n",
       "        vertical-align: middle;\n",
       "    }\n",
       "\n",
       "    .dataframe tbody tr th {\n",
       "        vertical-align: top;\n",
       "    }\n",
       "\n",
       "    .dataframe thead th {\n",
       "        text-align: right;\n",
       "    }\n",
       "</style>\n",
       "<table border=\"1\" class=\"dataframe\">\n",
       "  <thead>\n",
       "    <tr style=\"text-align: right;\">\n",
       "      <th></th>\n",
       "      <th>CRASH DATE</th>\n",
       "      <th>CRASH TIME</th>\n",
       "      <th>BOROUGH</th>\n",
       "      <th>ZIP CODE</th>\n",
       "      <th>LATITUDE</th>\n",
       "      <th>LONGITUDE</th>\n",
       "      <th>LOCATION</th>\n",
       "      <th>ON STREET NAME</th>\n",
       "      <th>CROSS STREET NAME</th>\n",
       "      <th>OFF STREET NAME</th>\n",
       "      <th>...</th>\n",
       "      <th>CONTRIBUTING FACTOR VEHICLE 2</th>\n",
       "      <th>CONTRIBUTING FACTOR VEHICLE 3</th>\n",
       "      <th>CONTRIBUTING FACTOR VEHICLE 4</th>\n",
       "      <th>CONTRIBUTING FACTOR VEHICLE 5</th>\n",
       "      <th>COLLISION_ID</th>\n",
       "      <th>VEHICLE TYPE CODE 1</th>\n",
       "      <th>VEHICLE TYPE CODE 2</th>\n",
       "      <th>VEHICLE TYPE CODE 3</th>\n",
       "      <th>VEHICLE TYPE CODE 4</th>\n",
       "      <th>VEHICLE TYPE CODE 5</th>\n",
       "    </tr>\n",
       "  </thead>\n",
       "  <tbody>\n",
       "    <tr>\n",
       "      <th>0</th>\n",
       "      <td>2020-09-06</td>\n",
       "      <td>18:05</td>\n",
       "      <td>NaN</td>\n",
       "      <td>NaN</td>\n",
       "      <td>40.771038</td>\n",
       "      <td>-73.83413</td>\n",
       "      <td>(40.771038, -73.83413)</td>\n",
       "      <td>WHITESTONE EXPRESSWAY</td>\n",
       "      <td>NaN</td>\n",
       "      <td>NaN</td>\n",
       "      <td>...</td>\n",
       "      <td>Following Too Closely</td>\n",
       "      <td>NaN</td>\n",
       "      <td>NaN</td>\n",
       "      <td>NaN</td>\n",
       "      <td>4345591</td>\n",
       "      <td>Station Wagon/Sport Utility Vehicle</td>\n",
       "      <td>Motorcycle</td>\n",
       "      <td>NaN</td>\n",
       "      <td>NaN</td>\n",
       "      <td>NaN</td>\n",
       "    </tr>\n",
       "    <tr>\n",
       "      <th>1</th>\n",
       "      <td>2020-09-20</td>\n",
       "      <td>9:14</td>\n",
       "      <td>NaN</td>\n",
       "      <td>NaN</td>\n",
       "      <td>40.722095</td>\n",
       "      <td>-73.77772</td>\n",
       "      <td>(40.722095, -73.77772)</td>\n",
       "      <td>GRAND CENTRAL PKWY</td>\n",
       "      <td>NaN</td>\n",
       "      <td>NaN</td>\n",
       "      <td>...</td>\n",
       "      <td>Unspecified</td>\n",
       "      <td>NaN</td>\n",
       "      <td>NaN</td>\n",
       "      <td>NaN</td>\n",
       "      <td>4459141</td>\n",
       "      <td>Sedan</td>\n",
       "      <td>Pick-up Truck</td>\n",
       "      <td>NaN</td>\n",
       "      <td>NaN</td>\n",
       "      <td>NaN</td>\n",
       "    </tr>\n",
       "    <tr>\n",
       "      <th>2</th>\n",
       "      <td>2020-09-24</td>\n",
       "      <td>22:00</td>\n",
       "      <td>MANHATTAN</td>\n",
       "      <td>10039.0</td>\n",
       "      <td>40.824757</td>\n",
       "      <td>-73.94052</td>\n",
       "      <td>(40.824757, -73.94052)</td>\n",
       "      <td>8 AVENUE</td>\n",
       "      <td>WEST 148 STREET</td>\n",
       "      <td>NaN</td>\n",
       "      <td>...</td>\n",
       "      <td>Driver Inattention/Distraction</td>\n",
       "      <td>NaN</td>\n",
       "      <td>NaN</td>\n",
       "      <td>NaN</td>\n",
       "      <td>4461437</td>\n",
       "      <td>Sedan</td>\n",
       "      <td>Motorscooter</td>\n",
       "      <td>NaN</td>\n",
       "      <td>NaN</td>\n",
       "      <td>NaN</td>\n",
       "    </tr>\n",
       "    <tr>\n",
       "      <th>3</th>\n",
       "      <td>2020-08-06</td>\n",
       "      <td>5:30</td>\n",
       "      <td>NaN</td>\n",
       "      <td>NaN</td>\n",
       "      <td>NaN</td>\n",
       "      <td>NaN</td>\n",
       "      <td>NaN</td>\n",
       "      <td>NaN</td>\n",
       "      <td>NaN</td>\n",
       "      <td>120       Huge Grant Circle</td>\n",
       "      <td>...</td>\n",
       "      <td>Unspecified</td>\n",
       "      <td>NaN</td>\n",
       "      <td>NaN</td>\n",
       "      <td>NaN</td>\n",
       "      <td>4336560</td>\n",
       "      <td>Sedan</td>\n",
       "      <td>Station Wagon/Sport Utility Vehicle</td>\n",
       "      <td>NaN</td>\n",
       "      <td>NaN</td>\n",
       "      <td>NaN</td>\n",
       "    </tr>\n",
       "    <tr>\n",
       "      <th>4</th>\n",
       "      <td>2020-08-01</td>\n",
       "      <td>17:16</td>\n",
       "      <td>BRONX</td>\n",
       "      <td>10462.0</td>\n",
       "      <td>40.840508</td>\n",
       "      <td>-73.85515</td>\n",
       "      <td>(40.840508, -73.85515)</td>\n",
       "      <td>METROPOLITAN AVENUE</td>\n",
       "      <td>LINDEN DRIVE</td>\n",
       "      <td>NaN</td>\n",
       "      <td>...</td>\n",
       "      <td>Unspecified</td>\n",
       "      <td>NaN</td>\n",
       "      <td>NaN</td>\n",
       "      <td>NaN</td>\n",
       "      <td>4334713</td>\n",
       "      <td>Sedan</td>\n",
       "      <td>E-Bike</td>\n",
       "      <td>NaN</td>\n",
       "      <td>NaN</td>\n",
       "      <td>NaN</td>\n",
       "    </tr>\n",
       "  </tbody>\n",
       "</table>\n",
       "<p>5 rows × 29 columns</p>\n",
       "</div>"
      ],
      "text/plain": [
       "   CRASH DATE CRASH TIME    BOROUGH  ZIP CODE   LATITUDE  LONGITUDE  \\\n",
       "0  2020-09-06      18:05        NaN       NaN  40.771038  -73.83413   \n",
       "1  2020-09-20       9:14        NaN       NaN  40.722095  -73.77772   \n",
       "2  2020-09-24      22:00  MANHATTAN   10039.0  40.824757  -73.94052   \n",
       "3  2020-08-06       5:30        NaN       NaN        NaN        NaN   \n",
       "4  2020-08-01      17:16      BRONX   10462.0  40.840508  -73.85515   \n",
       "\n",
       "                 LOCATION         ON STREET NAME CROSS STREET NAME  \\\n",
       "0  (40.771038, -73.83413)  WHITESTONE EXPRESSWAY               NaN   \n",
       "1  (40.722095, -73.77772)     GRAND CENTRAL PKWY               NaN   \n",
       "2  (40.824757, -73.94052)               8 AVENUE   WEST 148 STREET   \n",
       "3                     NaN                    NaN               NaN   \n",
       "4  (40.840508, -73.85515)    METROPOLITAN AVENUE      LINDEN DRIVE   \n",
       "\n",
       "               OFF STREET NAME  ...   CONTRIBUTING FACTOR VEHICLE 2  \\\n",
       "0                          NaN  ...           Following Too Closely   \n",
       "1                          NaN  ...                     Unspecified   \n",
       "2                          NaN  ...  Driver Inattention/Distraction   \n",
       "3  120       Huge Grant Circle  ...                     Unspecified   \n",
       "4                          NaN  ...                     Unspecified   \n",
       "\n",
       "   CONTRIBUTING FACTOR VEHICLE 3  CONTRIBUTING FACTOR VEHICLE 4  \\\n",
       "0                            NaN                            NaN   \n",
       "1                            NaN                            NaN   \n",
       "2                            NaN                            NaN   \n",
       "3                            NaN                            NaN   \n",
       "4                            NaN                            NaN   \n",
       "\n",
       "   CONTRIBUTING FACTOR VEHICLE 5  COLLISION_ID  \\\n",
       "0                            NaN       4345591   \n",
       "1                            NaN       4459141   \n",
       "2                            NaN       4461437   \n",
       "3                            NaN       4336560   \n",
       "4                            NaN       4334713   \n",
       "\n",
       "                   VEHICLE TYPE CODE 1                  VEHICLE TYPE CODE 2  \\\n",
       "0  Station Wagon/Sport Utility Vehicle                           Motorcycle   \n",
       "1                                Sedan                        Pick-up Truck   \n",
       "2                                Sedan                         Motorscooter   \n",
       "3                                Sedan  Station Wagon/Sport Utility Vehicle   \n",
       "4                                Sedan                               E-Bike   \n",
       "\n",
       "   VEHICLE TYPE CODE 3 VEHICLE TYPE CODE 4 VEHICLE TYPE CODE 5  \n",
       "0                  NaN                 NaN                 NaN  \n",
       "1                  NaN                 NaN                 NaN  \n",
       "2                  NaN                 NaN                 NaN  \n",
       "3                  NaN                 NaN                 NaN  \n",
       "4                  NaN                 NaN                 NaN  \n",
       "\n",
       "[5 rows x 29 columns]"
      ]
     },
     "execution_count": 341,
     "metadata": {},
     "output_type": "execute_result"
    }
   ],
   "source": [
    "collision.head()"
   ]
  },
  {
   "cell_type": "markdown",
   "metadata": {},
   "source": [
    "If the filtered version does not exist, we proceed with the filtering. To filter the data to the summer of 2018 and 2020, the first step is to change the data type of the **CRASH DATE** attribute."
   ]
  },
  {
   "cell_type": "code",
   "execution_count": 342,
   "metadata": {},
   "outputs": [
    {
     "data": {
      "text/plain": [
       "(115740, 29)"
      ]
     },
     "execution_count": 342,
     "metadata": {},
     "output_type": "execute_result"
    }
   ],
   "source": [
    "if not colission_exists:\n",
    "    collision['CRASH DATE'] = pd.to_datetime(collision['CRASH DATE'])\n",
    "\n",
    "    collision = collision[((collision['CRASH DATE'] >= '2018-06-01') & (collision['CRASH DATE'] <= '2018-09-30')) | ((collision['CRASH DATE'] >= '2020-06-01') & (collision['CRASH DATE'] <= '2020-09-30'))]\n",
    "    collision.to_csv(f'{dir}/collisions_2018-2020.csv', index=False)\n",
    "\n",
    "collision.shape"
   ]
  },
  {
   "cell_type": "markdown",
   "metadata": {},
   "source": [
    "### Data exploration?\n",
    "\n",
    "The collision table incorporates information pertaining to individual crash events, with each row representing a distinct collision incident. The dataframe compile details from all police reported motor vehicle collisions in NYC. \n",
    "\n",
    "<!-- ...se hace una breve descripcion de la exploracion? -->"
   ]
  },
  {
   "cell_type": "markdown",
   "metadata": {},
   "source": [
    "After the filtering, the dataset was exported to a ``.csv`` file and loaded into OpenRefine. The procedure and reasoning taken in OpenRefine will be explained and justified in the present section."
   ]
  },
  {
   "cell_type": "markdown",
   "metadata": {},
   "source": [
    "### Data selection"
   ]
  },
  {
   "cell_type": "markdown",
   "metadata": {},
   "source": [
    "At first glance, **ON STREET NAME** and **OFF STREET NAME** seem to be the same attribute, but with different names. After looking at the description of the attributes in the web site of the dataset, the following descriptions:\n",
    "\n",
    "- **ON STREET NAME**: *Street on which the collision occurred*.\n",
    "- **OFF STREET NAME**: *Street address if known*.\n",
    "\n",
    "Which gives the idea that both attributes contain approximatelly the same information. Furthermore, there are no rows with both attributes filled, which makes the idea of merging both attributes plausible."
   ]
  },
  {
   "cell_type": "code",
   "execution_count": 343,
   "metadata": {},
   "outputs": [
    {
     "data": {
      "text/plain": [
       "(0, 29)"
      ]
     },
     "execution_count": 343,
     "metadata": {},
     "output_type": "execute_result"
    }
   ],
   "source": [
    "collision[(collision['ON STREET NAME'].notnull()) & (collision['OFF STREET NAME'].notnull())].shape"
   ]
  },
  {
   "cell_type": "code",
   "execution_count": 344,
   "metadata": {},
   "outputs": [
    {
     "data": {
      "text/plain": [
       "(115514, 29)"
      ]
     },
     "execution_count": 344,
     "metadata": {},
     "output_type": "execute_result"
    }
   ],
   "source": [
    "collision[(collision['ON STREET NAME'].notnull()) | (collision['OFF STREET NAME'].notnull())].shape"
   ]
  },
  {
   "cell_type": "markdown",
   "metadata": {},
   "source": [
    "The resulting attribute after merging both columns is called **STREET NAME** and contains the street name/address where the collision occurred, with no missing values. Some rows will have a more detail description of the street, while others will only have the name of the street. \n",
    "\n",
    "<!-- This is not a problem, since the attribute will be used to join the dataset with the weather dataset, and the weather dataset only contains the name of the street. -->"
   ]
  },
  {
   "cell_type": "markdown",
   "metadata": {},
   "source": [
    "**CROSS STREET**, which was the third attribute related to the street enviroment could be dropped since at first glance does not seem to be useful for the analysis. However, we have decided to keep the attribute for teh time being since it could can contribute some extra information to the final visualization."
   ]
  },
  {
   "cell_type": "markdown",
   "metadata": {},
   "source": [
    "Similarly, **LOCATION** seems to contain the tuple (**LATITUDE**, **LONGITUDE**), so we could, a priori, remove the two extra attributes."
   ]
  },
  {
   "cell_type": "code",
   "execution_count": 345,
   "metadata": {},
   "outputs": [
    {
     "data": {
      "text/plain": [
       "(108073, 29)"
      ]
     },
     "execution_count": 345,
     "metadata": {},
     "output_type": "execute_result"
    }
   ],
   "source": [
    "collision[(collision['LOCATION'].notnull()) & (collision['LATITUDE'].notnull()) & (collision['LONGITUDE'].notnull())].shape"
   ]
  },
  {
   "cell_type": "markdown",
   "metadata": {},
   "source": [
    "The number of rows where the three attributes are not missing does not cover the total number of rows, but there are no rows where the **LOCATION** attribute is missing and at least one of the other two attributes is not missing."
   ]
  },
  {
   "cell_type": "code",
   "execution_count": 346,
   "metadata": {},
   "outputs": [
    {
     "data": {
      "text/plain": [
       "(0, 29)"
      ]
     },
     "execution_count": 346,
     "metadata": {},
     "output_type": "execute_result"
    }
   ],
   "source": [
    "collision[(collision['LOCATION'].isnull()) & (collision['LATITUDE'].isnull()) & (collision['LONGITUDE'].notnull()) | (collision['LATITUDE'].notnull()) & (collision['LONGITUDE'].isnull())].shape"
   ]
  },
  {
   "cell_type": "code",
   "execution_count": 347,
   "metadata": {},
   "outputs": [
    {
     "data": {
      "text/plain": [
       "(7667, 29)"
      ]
     },
     "execution_count": 347,
     "metadata": {},
     "output_type": "execute_result"
    }
   ],
   "source": [
    "collision[(collision['LOCATION'].isnull())].shape"
   ]
  },
  {
   "cell_type": "markdown",
   "metadata": {},
   "source": [
    "Which makes the rest of the rows (7667) with missing values in the three attributes. This means that the **LATITUDE** and **LONGITUDE** attributes can be removed, since the **LOCATION** attribute contains the same information. By this the number of attributes is reduced by two."
   ]
  },
  {
   "cell_type": "markdown",
   "metadata": {},
   "source": [
    "### Data type conversion"
   ]
  },
  {
   "cell_type": "markdown",
   "metadata": {},
   "source": [
    "se ha realizado un cluster (con el metodo *key collision* y funcion de keying *fingerprint*) de STREET NAME y se han unido las celdas con nombres semejantes.\n",
    "\n",
    "Luego se han eliminado los espacios sobrantes de la columna STREET NAME."
   ]
  },
  {
   "cell_type": "markdown",
   "metadata": {},
   "source": []
  },
  {
   "cell_type": "markdown",
   "metadata": {},
   "source": [
    "---"
   ]
  },
  {
   "cell_type": "markdown",
   "metadata": {},
   "source": [
    "---"
   ]
  },
  {
   "cell_type": "code",
   "execution_count": 348,
   "metadata": {},
   "outputs": [],
   "source": [
    "# collision['LATITUDE'].fillna(-1, inplace=True)\n",
    "# collision['LONGITUDE'].fillna(-1, inplace=True)\n",
    "\n",
    "# def get_zipcode(df, geolocator, lat_field, lon_field):\n",
    "#     if df[lat_field] == -1 or df[lon_field] == -1:\n",
    "#         return np.nan\n",
    "#     location = geolocator.reverse((float(df[lat_field]), float(df[lon_field])))\n",
    "#     return location.raw['address']['postcode']\n",
    "\n",
    "\n",
    "# geolocator = gp.Nominatim(user_agent='myAAA')\n",
    "\n",
    "# zipcodes = collision.apply(get_zipcode, axis=1, geolocator=geolocator, lat_field='LATITUDE', lon_field='LONGITUDE')"
   ]
  },
  {
   "cell_type": "markdown",
   "metadata": {},
   "source": [
    "### a"
   ]
  },
  {
   "cell_type": "markdown",
   "metadata": {},
   "source": []
  },
  {
   "cell_type": "code",
   "execution_count": 349,
   "metadata": {},
   "outputs": [
    {
     "data": {
      "text/html": [
       "<div>\n",
       "<style scoped>\n",
       "    .dataframe tbody tr th:only-of-type {\n",
       "        vertical-align: middle;\n",
       "    }\n",
       "\n",
       "    .dataframe tbody tr th {\n",
       "        vertical-align: top;\n",
       "    }\n",
       "\n",
       "    .dataframe thead th {\n",
       "        text-align: right;\n",
       "    }\n",
       "</style>\n",
       "<table border=\"1\" class=\"dataframe\">\n",
       "  <thead>\n",
       "    <tr style=\"text-align: right;\">\n",
       "      <th></th>\n",
       "      <th>COLLISION_ID</th>\n",
       "      <th>CRASH DATE</th>\n",
       "      <th>CRASH TIME</th>\n",
       "      <th>BOROUGH</th>\n",
       "      <th>ZIP CODE</th>\n",
       "      <th>LOCATION</th>\n",
       "      <th>STREET NAME</th>\n",
       "      <th>CROSS STREET NAME</th>\n",
       "      <th>NUMBER OF PERSONS INJURED</th>\n",
       "      <th>NUMBER OF PERSONS KILLED</th>\n",
       "      <th>...</th>\n",
       "      <th>CONTRIBUTING FACTOR VEHICLE 1</th>\n",
       "      <th>CONTRIBUTING FACTOR VEHICLE 2</th>\n",
       "      <th>CONTRIBUTING FACTOR VEHICLE 3</th>\n",
       "      <th>CONTRIBUTING FACTOR VEHICLE 4</th>\n",
       "      <th>CONTRIBUTING FACTOR VEHICLE 5</th>\n",
       "      <th>VEHICLE TYPE CODE 1</th>\n",
       "      <th>VEHICLE TYPE CODE 2</th>\n",
       "      <th>VEHICLE TYPE CODE 3</th>\n",
       "      <th>VEHICLE TYPE CODE 4</th>\n",
       "      <th>VEHICLE TYPE CODE 5</th>\n",
       "    </tr>\n",
       "  </thead>\n",
       "  <tbody>\n",
       "    <tr>\n",
       "      <th>0</th>\n",
       "      <td>4345591</td>\n",
       "      <td>2020-09-06T00:00:00Z</td>\n",
       "      <td>18:05</td>\n",
       "      <td>NaN</td>\n",
       "      <td>NaN</td>\n",
       "      <td>(40.771038, -73.83413)</td>\n",
       "      <td>WHITESTONE EXPRESSWAY</td>\n",
       "      <td>NaN</td>\n",
       "      <td>0.0</td>\n",
       "      <td>1.0</td>\n",
       "      <td>...</td>\n",
       "      <td>Unsafe Lane Changing</td>\n",
       "      <td>Following Too Closely</td>\n",
       "      <td>NaN</td>\n",
       "      <td>NaN</td>\n",
       "      <td>NaN</td>\n",
       "      <td>STATION WAGON/SPORT UTILITY VEHICLE</td>\n",
       "      <td>MOTORCYCLE</td>\n",
       "      <td>NaN</td>\n",
       "      <td>NaN</td>\n",
       "      <td>NaN</td>\n",
       "    </tr>\n",
       "    <tr>\n",
       "      <th>1</th>\n",
       "      <td>4459141</td>\n",
       "      <td>2020-09-20T00:00:00Z</td>\n",
       "      <td>9:14</td>\n",
       "      <td>NaN</td>\n",
       "      <td>NaN</td>\n",
       "      <td>(40.722095, -73.77772)</td>\n",
       "      <td>GRAND CENTRAL PKWY</td>\n",
       "      <td>NaN</td>\n",
       "      <td>0.0</td>\n",
       "      <td>0.0</td>\n",
       "      <td>...</td>\n",
       "      <td>Driver Inattention/Distraction</td>\n",
       "      <td>Unspecified</td>\n",
       "      <td>NaN</td>\n",
       "      <td>NaN</td>\n",
       "      <td>NaN</td>\n",
       "      <td>SEDAN</td>\n",
       "      <td>PICK-UP TRUCK</td>\n",
       "      <td>NaN</td>\n",
       "      <td>NaN</td>\n",
       "      <td>NaN</td>\n",
       "    </tr>\n",
       "    <tr>\n",
       "      <th>2</th>\n",
       "      <td>4461437</td>\n",
       "      <td>2020-09-24T00:00:00Z</td>\n",
       "      <td>22:00</td>\n",
       "      <td>MANHATTAN</td>\n",
       "      <td>10039.0</td>\n",
       "      <td>(40.824757, -73.94052)</td>\n",
       "      <td>8 AVENUE</td>\n",
       "      <td>WEST 148 STREET</td>\n",
       "      <td>0.0</td>\n",
       "      <td>0.0</td>\n",
       "      <td>...</td>\n",
       "      <td>Pedestrian/Bicyclist/Other Pedestrian Error/Co...</td>\n",
       "      <td>Driver Inattention/Distraction</td>\n",
       "      <td>NaN</td>\n",
       "      <td>NaN</td>\n",
       "      <td>NaN</td>\n",
       "      <td>SEDAN</td>\n",
       "      <td>MOTORSCOOTER</td>\n",
       "      <td>NaN</td>\n",
       "      <td>NaN</td>\n",
       "      <td>NaN</td>\n",
       "    </tr>\n",
       "    <tr>\n",
       "      <th>3</th>\n",
       "      <td>4336560</td>\n",
       "      <td>2020-08-06T00:00:00Z</td>\n",
       "      <td>5:30</td>\n",
       "      <td>NaN</td>\n",
       "      <td>NaN</td>\n",
       "      <td>NaN</td>\n",
       "      <td>120 HUGE GRANT CIRCLE</td>\n",
       "      <td>NaN</td>\n",
       "      <td>1.0</td>\n",
       "      <td>0.0</td>\n",
       "      <td>...</td>\n",
       "      <td>Unspecified</td>\n",
       "      <td>Unspecified</td>\n",
       "      <td>NaN</td>\n",
       "      <td>NaN</td>\n",
       "      <td>NaN</td>\n",
       "      <td>SEDAN</td>\n",
       "      <td>STATION WAGON/SPORT UTILITY VEHICLE</td>\n",
       "      <td>NaN</td>\n",
       "      <td>NaN</td>\n",
       "      <td>NaN</td>\n",
       "    </tr>\n",
       "    <tr>\n",
       "      <th>4</th>\n",
       "      <td>4334713</td>\n",
       "      <td>2020-08-01T00:00:00Z</td>\n",
       "      <td>17:16</td>\n",
       "      <td>BRONX</td>\n",
       "      <td>10462.0</td>\n",
       "      <td>(40.840508, -73.85515)</td>\n",
       "      <td>METROPOLITAN AVENUE</td>\n",
       "      <td>LINDEN DRIVE</td>\n",
       "      <td>0.0</td>\n",
       "      <td>1.0</td>\n",
       "      <td>...</td>\n",
       "      <td>Failure to Yield Right-of-Way</td>\n",
       "      <td>Unspecified</td>\n",
       "      <td>NaN</td>\n",
       "      <td>NaN</td>\n",
       "      <td>NaN</td>\n",
       "      <td>SEDAN</td>\n",
       "      <td>E-BIKE</td>\n",
       "      <td>NaN</td>\n",
       "      <td>NaN</td>\n",
       "      <td>NaN</td>\n",
       "    </tr>\n",
       "  </tbody>\n",
       "</table>\n",
       "<p>5 rows × 26 columns</p>\n",
       "</div>"
      ],
      "text/plain": [
       "   COLLISION_ID            CRASH DATE CRASH TIME    BOROUGH  ZIP CODE  \\\n",
       "0       4345591  2020-09-06T00:00:00Z      18:05        NaN       NaN   \n",
       "1       4459141  2020-09-20T00:00:00Z       9:14        NaN       NaN   \n",
       "2       4461437  2020-09-24T00:00:00Z      22:00  MANHATTAN   10039.0   \n",
       "3       4336560  2020-08-06T00:00:00Z       5:30        NaN       NaN   \n",
       "4       4334713  2020-08-01T00:00:00Z      17:16      BRONX   10462.0   \n",
       "\n",
       "                 LOCATION            STREET NAME CROSS STREET NAME  \\\n",
       "0  (40.771038, -73.83413)  WHITESTONE EXPRESSWAY               NaN   \n",
       "1  (40.722095, -73.77772)     GRAND CENTRAL PKWY               NaN   \n",
       "2  (40.824757, -73.94052)               8 AVENUE   WEST 148 STREET   \n",
       "3                     NaN  120 HUGE GRANT CIRCLE               NaN   \n",
       "4  (40.840508, -73.85515)    METROPOLITAN AVENUE      LINDEN DRIVE   \n",
       "\n",
       "   NUMBER OF PERSONS INJURED  NUMBER OF PERSONS KILLED  ...  \\\n",
       "0                        0.0                       1.0  ...   \n",
       "1                        0.0                       0.0  ...   \n",
       "2                        0.0                       0.0  ...   \n",
       "3                        1.0                       0.0  ...   \n",
       "4                        0.0                       1.0  ...   \n",
       "\n",
       "                       CONTRIBUTING FACTOR VEHICLE 1  \\\n",
       "0                               Unsafe Lane Changing   \n",
       "1                     Driver Inattention/Distraction   \n",
       "2  Pedestrian/Bicyclist/Other Pedestrian Error/Co...   \n",
       "3                                        Unspecified   \n",
       "4                      Failure to Yield Right-of-Way   \n",
       "\n",
       "    CONTRIBUTING FACTOR VEHICLE 2  CONTRIBUTING FACTOR VEHICLE 3  \\\n",
       "0           Following Too Closely                            NaN   \n",
       "1                     Unspecified                            NaN   \n",
       "2  Driver Inattention/Distraction                            NaN   \n",
       "3                     Unspecified                            NaN   \n",
       "4                     Unspecified                            NaN   \n",
       "\n",
       "   CONTRIBUTING FACTOR VEHICLE 4  CONTRIBUTING FACTOR VEHICLE 5  \\\n",
       "0                            NaN                            NaN   \n",
       "1                            NaN                            NaN   \n",
       "2                            NaN                            NaN   \n",
       "3                            NaN                            NaN   \n",
       "4                            NaN                            NaN   \n",
       "\n",
       "                   VEHICLE TYPE CODE 1                  VEHICLE TYPE CODE 2  \\\n",
       "0  STATION WAGON/SPORT UTILITY VEHICLE                           MOTORCYCLE   \n",
       "1                                SEDAN                        PICK-UP TRUCK   \n",
       "2                                SEDAN                         MOTORSCOOTER   \n",
       "3                                SEDAN  STATION WAGON/SPORT UTILITY VEHICLE   \n",
       "4                                SEDAN                               E-BIKE   \n",
       "\n",
       "  VEHICLE TYPE CODE 3 VEHICLE TYPE CODE 4 VEHICLE TYPE CODE 5  \n",
       "0                 NaN                 NaN                 NaN  \n",
       "1                 NaN                 NaN                 NaN  \n",
       "2                 NaN                 NaN                 NaN  \n",
       "3                 NaN                 NaN                 NaN  \n",
       "4                 NaN                 NaN                 NaN  \n",
       "\n",
       "[5 rows x 26 columns]"
      ]
     },
     "execution_count": 349,
     "metadata": {},
     "output_type": "execute_result"
    }
   ],
   "source": [
    "precollision = pd.read_csv(f'{dir}/collisions_2018-2020_prepro_v1.csv')\n",
    "precollision.head()"
   ]
  },
  {
   "cell_type": "markdown",
   "metadata": {},
   "source": [
    "### Missing values"
   ]
  },
  {
   "cell_type": "markdown",
   "metadata": {},
   "source": [
    "It has already been mentioned the existence of some missing values. In the previous section, the verification of missing values was done with the ``.isnull()`` method of ``Pandas``. However, this method does not take into account the ``NaN`` values. In order to check the existence of ``NaN`` values, the ``.isna()`` method was used."
   ]
  },
  {
   "cell_type": "code",
   "execution_count": 350,
   "metadata": {},
   "outputs": [
    {
     "data": {
      "text/plain": [
       "Series([], dtype: bool)"
      ]
     },
     "execution_count": 350,
     "metadata": {},
     "output_type": "execute_result"
    }
   ],
   "source": [
    "comp = (precollision.isnull().sum() == precollision.isna().sum())\n",
    "comp[comp == False]"
   ]
  },
  {
   "cell_type": "code",
   "execution_count": 351,
   "metadata": {},
   "outputs": [
    {
     "data": {
      "text/plain": [
       "COLLISION_ID                          0\n",
       "CRASH DATE                            0\n",
       "CRASH TIME                            0\n",
       "BOROUGH                           40671\n",
       "ZIP CODE                          40686\n",
       "LOCATION                           7667\n",
       "STREET NAME                         226\n",
       "CROSS STREET NAME                 60179\n",
       "NUMBER OF PERSONS INJURED             2\n",
       "NUMBER OF PERSONS KILLED              4\n",
       "NUMBER OF PEDESTRIANS INJURED         0\n",
       "NUMBER OF PEDESTRIANS KILLED          0\n",
       "NUMBER OF CYCLIST INJURED             0\n",
       "NUMBER OF CYCLIST KILLED              0\n",
       "NUMBER OF MOTORIST INJURED            0\n",
       "NUMBER OF MOTORIST KILLED             0\n",
       "CONTRIBUTING FACTOR VEHICLE 1       351\n",
       "CONTRIBUTING FACTOR VEHICLE 2     19593\n",
       "CONTRIBUTING FACTOR VEHICLE 3    106611\n",
       "CONTRIBUTING FACTOR VEHICLE 4    113552\n",
       "CONTRIBUTING FACTOR VEHICLE 5    115126\n",
       "VEHICLE TYPE CODE 1                 730\n",
       "VEHICLE TYPE CODE 2               27447\n",
       "VEHICLE TYPE CODE 3              107096\n",
       "VEHICLE TYPE CODE 4              113658\n",
       "VEHICLE TYPE CODE 5              115154\n",
       "dtype: int64"
      ]
     },
     "execution_count": 351,
     "metadata": {},
     "output_type": "execute_result"
    }
   ],
   "source": [
    "precollision.isnull().sum()"
   ]
  },
  {
   "cell_type": "markdown",
   "metadata": {},
   "source": [
    "#### Derivation of geographic attributes"
   ]
  },
  {
   "cell_type": "code",
   "execution_count": 352,
   "metadata": {},
   "outputs": [
    {
     "data": {
      "text/plain": [
       "40686"
      ]
     },
     "execution_count": 352,
     "metadata": {},
     "output_type": "execute_result"
    }
   ],
   "source": [
    "precollision['ZIP CODE'].isnull().sum()"
   ]
  },
  {
   "cell_type": "code",
   "execution_count": 353,
   "metadata": {},
   "outputs": [],
   "source": [
    "precollision['ZIP CODE'] = precollision['ZIP CODE'].fillna(-1)\n",
    "precollision['LOCATION'] = precollision['LOCATION'].fillna('(-1,-1)')"
   ]
  },
  {
   "cell_type": "code",
   "execution_count": 354,
   "metadata": {},
   "outputs": [
    {
     "data": {
      "text/plain": [
       "'(40.771038, -73.83413)'"
      ]
     },
     "execution_count": 354,
     "metadata": {},
     "output_type": "execute_result"
    }
   ],
   "source": [
    "precollision['LOCATION'][0]"
   ]
  },
  {
   "cell_type": "code",
   "execution_count": 355,
   "metadata": {},
   "outputs": [
    {
     "data": {
      "text/plain": [
       "SimpleZipcode(zipcode='11354', zipcode_type='STANDARD', major_city='Flushing', post_office_city='Flushing, NY', common_city_list=['Flushing'], county='Queens County', state='NY', lat=40.77, lng=-73.84, timezone='America/New_York', radius_in_miles=2.0, area_code_list='347,718,917,929', population=54878, population_density=25324.0, land_area_in_sqmi=2.17, water_area_in_sqmi=0.03, housing_units=22201, occupied_housing_units=20120, median_home_value=380600, median_household_income=46566, bounds_west=-73.850061, bounds_east=-73.803985, bounds_north=40.778617, bounds_south=40.754438)"
      ]
     },
     "execution_count": 355,
     "metadata": {},
     "output_type": "execute_result"
    }
   ],
   "source": [
    "# search.by_coordinates(40.771038, -73.83413)[0]"
   ]
  },
  {
   "cell_type": "code",
   "execution_count": 356,
   "metadata": {},
   "outputs": [],
   "source": [
    "# geolocator = gp.Nominatim(user_agent='myAAA')"
   ]
  },
  {
   "cell_type": "code",
   "execution_count": 357,
   "metadata": {},
   "outputs": [],
   "source": [
    "# import geopandas as gpd\n",
    "# gdf = gpd.GeoDataFrame(collision, geometry=gpd.points_from_xy(collision.LONGITUDE, collision.LATITUDE, crs=\"EPSG:4326\"))"
   ]
  },
  {
   "cell_type": "code",
   "execution_count": 358,
   "metadata": {},
   "outputs": [],
   "source": [
    "zipcodes = None"
   ]
  },
  {
   "cell_type": "code",
   "execution_count": 359,
   "metadata": {},
   "outputs": [],
   "source": [
    "if os.path.exists(f'{dir}/collisions_2018-2020_prepro_v2.csv'):\n",
    "    precollision = pd.read_csv(f'{dir}/collisions_2018-2020_prepro_v2.csv')\n",
    "    zipcodes = precollision['DERIVATED ZIP']\n",
    "else:\n",
    "    if zipcodes is None:\n",
    "        search = SearchEngine()\n",
    "\n",
    "        def get_zipcode(df, location):\n",
    "            if df[location] == '(-1,-1)':\n",
    "                return np.nan\n",
    "\n",
    "            lat, lon = df[location].replace('(', '').replace(')', '').split(',')\n",
    "            result = search.by_coordinates(float(lat), float(lon))\n",
    "            if len(result) > 0:\n",
    "                return result[0]\n",
    "            else:\n",
    "                return np.nan\n",
    "\n",
    "        zipcodes = precollision.apply(get_zipcode, axis=1, location='LOCATION')\n",
    "        precollision['DERIVATED ZIP'] = zipcodes\n",
    "        precollision.to_csv(f'{dir}/collisions_2018-2020_prepro_v2.csv', index=False)"
   ]
  },
  {
   "cell_type": "code",
   "execution_count": 372,
   "metadata": {},
   "outputs": [
    {
     "data": {
      "text/plain": [
       "SimpleZipcode(zipcode='11354', zipcode_type='STANDARD', major_city='Flushing', post_office_city='Flushing, NY', common_city_list=['Flushing'], county='Queens County', state='NY', lat=40.77, lng=-73.84, timezone='America/New_York', radius_in_miles=2.0, area_code_list='347,718,917,929', population=54878, population_density=25324.0, land_area_in_sqmi=2.17, water_area_in_sqmi=0.03, housing_units=22201, occupied_housing_units=20120, median_home_value=380600, median_household_income=46566, bounds_west=-73.850061, bounds_east=-73.803985, bounds_north=40.778617, bounds_south=40.754438)"
      ]
     },
     "execution_count": 372,
     "metadata": {},
     "output_type": "execute_result"
    }
   ],
   "source": [
    "precollision['DERIVATED ZIP'][0]"
   ]
  },
  {
   "cell_type": "code",
   "execution_count": 360,
   "metadata": {},
   "outputs": [],
   "source": [
    "# def get_zipcode(df, geolocator, location):\n",
    "#     if df[location] == '(-1,-1)':\n",
    "#         return np.nan\n",
    "    \n",
    "#     loc = df[location].strip('()')\n",
    "#     location = geolocator.geocode(loc)\n",
    "#     if location is None:\n",
    "#         return np.nan\n",
    "#     return location.raw['display_name'].split()\n",
    "\n",
    "# zipcodes = precollision.apply(get_zipcode, axis=1, geolocator=geolocator, location='LOCATION')"
   ]
  },
  {
   "cell_type": "code",
   "execution_count": 361,
   "metadata": {},
   "outputs": [],
   "source": [
    "# def get_zipcode(df, geolocator, location):\n",
    "#     if df[location] == '(-1,-1)':\n",
    "#         return np.nan\n",
    "    \n",
    "#     loc = df[location].strip('()')\n",
    "#     lat, lon = loc.split(', ')\n",
    "#     res = geolocator.reverse((float(lat), float(lon)))\n",
    "#     if 'address' in res.raw and 'postcode' in res.raw['address']:\n",
    "#         return np.nan\n",
    "#     return res.raw['address']\n",
    "\n",
    "# zipcodes = precollision.apply(get_zipcode, axis=1, geolocator=geolocator, location='LOCATION')"
   ]
  },
  {
   "cell_type": "code",
   "execution_count": 362,
   "metadata": {},
   "outputs": [],
   "source": [
    "# for index, row in precollision.iterrows():\n",
    "#     if row['ZIP CODE'] == -1:\n",
    "#         if row['LOCATION'] != '(-1,-1)':\n",
    "#             loc = row['LOCATION'].strip('()')\n",
    "#             lat, lon = loc.split(', ')\n",
    "            \n",
    "#             location = geolocator.reverse((float(lat), float(lon)))\n",
    "#             if location is not None and 'address' in location.raw and 'postcode' in location.raw['address']:\n",
    "#                 precollision.loc[index, 'ZIP CODE'] = location.raw['address']['postcode']"
   ]
  },
  {
   "cell_type": "code",
   "execution_count": 363,
   "metadata": {},
   "outputs": [
    {
     "data": {
      "text/plain": [
       "0"
      ]
     },
     "execution_count": 363,
     "metadata": {},
     "output_type": "execute_result"
    }
   ],
   "source": [
    "precollision['ZIP CODE'].isnull().sum()"
   ]
  },
  {
   "cell_type": "markdown",
   "metadata": {},
   "source": [
    "#### Derivation of vehicle attributes"
   ]
  },
  {
   "cell_type": "code",
   "execution_count": 364,
   "metadata": {},
   "outputs": [],
   "source": [
    "# poner unespecified en factor $i$ si el vehiculo $i$ es no null y factor $i$ es null\n",
    "# o\n",
    "# poner unknown en vehiculo $i$ si el vehiculo $i$ es null y factor $i$ no es null\n",
    "\n",
    "# son disjuntas estas operaciones?????????????"
   ]
  },
  {
   "cell_type": "markdown",
   "metadata": {},
   "source": [
    "In some rows of the dataset, the **CONTRIBUTING FACTOR VEHICLE** is missing but the **VEHICLE TYPE CODE** is not. This suggests that the vehicle type is known, but the factor that contributed to the collision is not. In order to fill this missing values, the factor was set as *unespecified*. This was done for all the rows and columns where the **CONTRIBUTING FACTOR VEHICLE** was missing with the above condition."
   ]
  },
  {
   "cell_type": "code",
   "execution_count": 365,
   "metadata": {},
   "outputs": [],
   "source": [
    "cp.imputation_with_ref_col(precollision, 'CONTRIBUTING FACTOR VEHICLE', 'VEHICLE TYPE CODE', 'Unspecified', 1, 5)"
   ]
  },
  {
   "cell_type": "markdown",
   "metadata": {},
   "source": [
    "Likewise, in some rows of the dataset, the **VEHICLE TYPE CODE** is missing but the **CONTRIBUTING FACTOR VEHICLE** is not. This suggests that the factor that contributed to the collision is known, but the vehicle type is not. In order to fill this missing values, the vehicle type was set as *unknown*. This was done for all the rows and columns where the **VEHICLE TYPE CODE** was missing with the above condition."
   ]
  },
  {
   "cell_type": "code",
   "execution_count": 366,
   "metadata": {},
   "outputs": [],
   "source": [
    "cp.imputation_with_ref_col(precollision, 'VEHICLE TYPE CODE', 'CONTRIBUTING FACTOR VEHICLE', 'UNKNOWN', 1, 5)"
   ]
  },
  {
   "cell_type": "code",
   "execution_count": 367,
   "metadata": {},
   "outputs": [
    {
     "data": {
      "text/plain": [
       "COLLISION_ID                          0\n",
       "CRASH DATE                            0\n",
       "CRASH TIME                            0\n",
       "BOROUGH                           40671\n",
       "ZIP CODE                              0\n",
       "LOCATION                              0\n",
       "STREET NAME                         226\n",
       "CROSS STREET NAME                 60179\n",
       "NUMBER OF PERSONS INJURED             2\n",
       "NUMBER OF PERSONS KILLED              4\n",
       "NUMBER OF PEDESTRIANS INJURED         0\n",
       "NUMBER OF PEDESTRIANS KILLED          0\n",
       "NUMBER OF CYCLIST INJURED             0\n",
       "NUMBER OF CYCLIST KILLED              0\n",
       "NUMBER OF MOTORIST INJURED            0\n",
       "NUMBER OF MOTORIST KILLED             0\n",
       "CONTRIBUTING FACTOR VEHICLE 1       288\n",
       "CONTRIBUTING FACTOR VEHICLE 2     18852\n",
       "CONTRIBUTING FACTOR VEHICLE 3    106550\n",
       "CONTRIBUTING FACTOR VEHICLE 4    113540\n",
       "CONTRIBUTING FACTOR VEHICLE 5    115123\n",
       "VEHICLE TYPE CODE 1                 288\n",
       "VEHICLE TYPE CODE 2               18852\n",
       "VEHICLE TYPE CODE 3              106550\n",
       "VEHICLE TYPE CODE 4              113540\n",
       "VEHICLE TYPE CODE 5              115123\n",
       "DERIVATED ZIP                      7678\n",
       "dtype: int64"
      ]
     },
     "execution_count": 367,
     "metadata": {},
     "output_type": "execute_result"
    }
   ],
   "source": [
    "precollision.isnull().sum()"
   ]
  },
  {
   "cell_type": "markdown",
   "metadata": {},
   "source": [
    "<!-- comentar la reduccion de missing values -->\n",
    "\n",
    "Notice that the only missing values in the **CONTRIBUTING FACTOR VEHICLE** attribute and **VEHICLE TYPE CODE** attribute are in the same rows. This means that the number of missing values in the **CONTRIBUTING FACTOR VEHICLE** attribute and **VEHICLE TYPE CODE** attribute is the same."
   ]
  },
  {
   "cell_type": "code",
   "execution_count": 368,
   "metadata": {},
   "outputs": [],
   "source": [
    "# como se hace para imputar los missing de los dos campos a la vez?"
   ]
  },
  {
   "cell_type": "markdown",
   "metadata": {},
   "source": [
    "#### Derivation of number of person attributes"
   ]
  },
  {
   "cell_type": "code",
   "execution_count": 369,
   "metadata": {},
   "outputs": [],
   "source": [
    "# como se hace para imputar los missing del numero de personas? o mejor se elimina?"
   ]
  },
  {
   "cell_type": "code",
   "execution_count": 370,
   "metadata": {},
   "outputs": [
    {
     "data": {
      "text/html": [
       "<div>\n",
       "<style scoped>\n",
       "    .dataframe tbody tr th:only-of-type {\n",
       "        vertical-align: middle;\n",
       "    }\n",
       "\n",
       "    .dataframe tbody tr th {\n",
       "        vertical-align: top;\n",
       "    }\n",
       "\n",
       "    .dataframe thead th {\n",
       "        text-align: right;\n",
       "    }\n",
       "</style>\n",
       "<table border=\"1\" class=\"dataframe\">\n",
       "  <thead>\n",
       "    <tr style=\"text-align: right;\">\n",
       "      <th></th>\n",
       "      <th>COLLISION_ID</th>\n",
       "      <th>CRASH DATE</th>\n",
       "      <th>CRASH TIME</th>\n",
       "      <th>BOROUGH</th>\n",
       "      <th>ZIP CODE</th>\n",
       "      <th>LOCATION</th>\n",
       "      <th>STREET NAME</th>\n",
       "      <th>CROSS STREET NAME</th>\n",
       "      <th>NUMBER OF PERSONS INJURED</th>\n",
       "      <th>NUMBER OF PERSONS KILLED</th>\n",
       "      <th>...</th>\n",
       "      <th>CONTRIBUTING FACTOR VEHICLE 2</th>\n",
       "      <th>CONTRIBUTING FACTOR VEHICLE 3</th>\n",
       "      <th>CONTRIBUTING FACTOR VEHICLE 4</th>\n",
       "      <th>CONTRIBUTING FACTOR VEHICLE 5</th>\n",
       "      <th>VEHICLE TYPE CODE 1</th>\n",
       "      <th>VEHICLE TYPE CODE 2</th>\n",
       "      <th>VEHICLE TYPE CODE 3</th>\n",
       "      <th>VEHICLE TYPE CODE 4</th>\n",
       "      <th>VEHICLE TYPE CODE 5</th>\n",
       "      <th>DERIVATED ZIP</th>\n",
       "    </tr>\n",
       "  </thead>\n",
       "  <tbody>\n",
       "    <tr>\n",
       "      <th>42087</th>\n",
       "      <td>4026403</td>\n",
       "      <td>2018-09-30T00:00:00Z</td>\n",
       "      <td>6:30</td>\n",
       "      <td>QUEENS</td>\n",
       "      <td>11368.0</td>\n",
       "      <td>(40.749767, -73.86381)</td>\n",
       "      <td>102-21 ROOSEVELT AVENUE</td>\n",
       "      <td>NaN</td>\n",
       "      <td>NaN</td>\n",
       "      <td>NaN</td>\n",
       "      <td>...</td>\n",
       "      <td>NaN</td>\n",
       "      <td>NaN</td>\n",
       "      <td>NaN</td>\n",
       "      <td>NaN</td>\n",
       "      <td>TAXI</td>\n",
       "      <td>NaN</td>\n",
       "      <td>NaN</td>\n",
       "      <td>NaN</td>\n",
       "      <td>NaN</td>\n",
       "      <td>SimpleZipcode(zipcode='11372', zipcode_type='S...</td>\n",
       "    </tr>\n",
       "    <tr>\n",
       "      <th>62406</th>\n",
       "      <td>4026219</td>\n",
       "      <td>2018-08-08T00:00:00Z</td>\n",
       "      <td>13:45</td>\n",
       "      <td>STATEN ISLAND</td>\n",
       "      <td>10312.0</td>\n",
       "      <td>(40.562523, -74.19211)</td>\n",
       "      <td>1531 ARTHUR KILL ROAD</td>\n",
       "      <td>NaN</td>\n",
       "      <td>1.0</td>\n",
       "      <td>NaN</td>\n",
       "      <td>...</td>\n",
       "      <td>NaN</td>\n",
       "      <td>NaN</td>\n",
       "      <td>NaN</td>\n",
       "      <td>NaN</td>\n",
       "      <td>SEDAN</td>\n",
       "      <td>NaN</td>\n",
       "      <td>NaN</td>\n",
       "      <td>NaN</td>\n",
       "      <td>NaN</td>\n",
       "      <td>SimpleZipcode(zipcode='10312', zipcode_type='S...</td>\n",
       "    </tr>\n",
       "    <tr>\n",
       "      <th>69596</th>\n",
       "      <td>4026267</td>\n",
       "      <td>2018-08-23T00:00:00Z</td>\n",
       "      <td>8:45</td>\n",
       "      <td>MANHATTAN</td>\n",
       "      <td>10001.0</td>\n",
       "      <td>(40.74528, -73.99254)</td>\n",
       "      <td>135 WEST 26 STREET</td>\n",
       "      <td>NaN</td>\n",
       "      <td>0.0</td>\n",
       "      <td>NaN</td>\n",
       "      <td>...</td>\n",
       "      <td>NaN</td>\n",
       "      <td>NaN</td>\n",
       "      <td>NaN</td>\n",
       "      <td>NaN</td>\n",
       "      <td>SEDAN</td>\n",
       "      <td>NaN</td>\n",
       "      <td>NaN</td>\n",
       "      <td>NaN</td>\n",
       "      <td>NaN</td>\n",
       "      <td>SimpleZipcode(zipcode='10098', zipcode_type='S...</td>\n",
       "    </tr>\n",
       "    <tr>\n",
       "      <th>90894</th>\n",
       "      <td>4026185</td>\n",
       "      <td>2018-07-23T00:00:00Z</td>\n",
       "      <td>12:50</td>\n",
       "      <td>BROOKLYN</td>\n",
       "      <td>11221.0</td>\n",
       "      <td>(40.68603, -73.93268)</td>\n",
       "      <td>STUYVESANT AVENUE</td>\n",
       "      <td>PUTNAM AVENUE</td>\n",
       "      <td>NaN</td>\n",
       "      <td>0.0</td>\n",
       "      <td>...</td>\n",
       "      <td>NaN</td>\n",
       "      <td>NaN</td>\n",
       "      <td>NaN</td>\n",
       "      <td>NaN</td>\n",
       "      <td>SEDAN</td>\n",
       "      <td>NaN</td>\n",
       "      <td>NaN</td>\n",
       "      <td>NaN</td>\n",
       "      <td>NaN</td>\n",
       "      <td>SimpleZipcode(zipcode='11221', zipcode_type='S...</td>\n",
       "    </tr>\n",
       "    <tr>\n",
       "      <th>114639</th>\n",
       "      <td>4026046</td>\n",
       "      <td>2018-06-05T00:00:00Z</td>\n",
       "      <td>5:19</td>\n",
       "      <td>BRONX</td>\n",
       "      <td>10459.0</td>\n",
       "      <td>(40.826992, -73.88984)</td>\n",
       "      <td>1145 WEST FARMS ROAD</td>\n",
       "      <td>NaN</td>\n",
       "      <td>1.0</td>\n",
       "      <td>NaN</td>\n",
       "      <td>...</td>\n",
       "      <td>NaN</td>\n",
       "      <td>NaN</td>\n",
       "      <td>NaN</td>\n",
       "      <td>NaN</td>\n",
       "      <td>STATION WAGON/SPORT UTILITY VEHICLE</td>\n",
       "      <td>NaN</td>\n",
       "      <td>NaN</td>\n",
       "      <td>NaN</td>\n",
       "      <td>NaN</td>\n",
       "      <td>SimpleZipcode(zipcode='10459', zipcode_type='S...</td>\n",
       "    </tr>\n",
       "  </tbody>\n",
       "</table>\n",
       "<p>5 rows × 27 columns</p>\n",
       "</div>"
      ],
      "text/plain": [
       "        COLLISION_ID            CRASH DATE CRASH TIME        BOROUGH  \\\n",
       "42087        4026403  2018-09-30T00:00:00Z       6:30         QUEENS   \n",
       "62406        4026219  2018-08-08T00:00:00Z      13:45  STATEN ISLAND   \n",
       "69596        4026267  2018-08-23T00:00:00Z       8:45      MANHATTAN   \n",
       "90894        4026185  2018-07-23T00:00:00Z      12:50       BROOKLYN   \n",
       "114639       4026046  2018-06-05T00:00:00Z       5:19          BRONX   \n",
       "\n",
       "        ZIP CODE                LOCATION              STREET NAME  \\\n",
       "42087    11368.0  (40.749767, -73.86381)  102-21 ROOSEVELT AVENUE   \n",
       "62406    10312.0  (40.562523, -74.19211)    1531 ARTHUR KILL ROAD   \n",
       "69596    10001.0   (40.74528, -73.99254)       135 WEST 26 STREET   \n",
       "90894    11221.0   (40.68603, -73.93268)        STUYVESANT AVENUE   \n",
       "114639   10459.0  (40.826992, -73.88984)     1145 WEST FARMS ROAD   \n",
       "\n",
       "       CROSS STREET NAME  NUMBER OF PERSONS INJURED  NUMBER OF PERSONS KILLED  \\\n",
       "42087                NaN                        NaN                       NaN   \n",
       "62406                NaN                        1.0                       NaN   \n",
       "69596                NaN                        0.0                       NaN   \n",
       "90894      PUTNAM AVENUE                        NaN                       0.0   \n",
       "114639               NaN                        1.0                       NaN   \n",
       "\n",
       "        ...  CONTRIBUTING FACTOR VEHICLE 2  CONTRIBUTING FACTOR VEHICLE 3  \\\n",
       "42087   ...                            NaN                            NaN   \n",
       "62406   ...                            NaN                            NaN   \n",
       "69596   ...                            NaN                            NaN   \n",
       "90894   ...                            NaN                            NaN   \n",
       "114639  ...                            NaN                            NaN   \n",
       "\n",
       "        CONTRIBUTING FACTOR VEHICLE 4  CONTRIBUTING FACTOR VEHICLE 5  \\\n",
       "42087                             NaN                            NaN   \n",
       "62406                             NaN                            NaN   \n",
       "69596                             NaN                            NaN   \n",
       "90894                             NaN                            NaN   \n",
       "114639                            NaN                            NaN   \n",
       "\n",
       "                        VEHICLE TYPE CODE 1  VEHICLE TYPE CODE 2  \\\n",
       "42087                                  TAXI                  NaN   \n",
       "62406                                 SEDAN                  NaN   \n",
       "69596                                 SEDAN                  NaN   \n",
       "90894                                 SEDAN                  NaN   \n",
       "114639  STATION WAGON/SPORT UTILITY VEHICLE                  NaN   \n",
       "\n",
       "       VEHICLE TYPE CODE 3 VEHICLE TYPE CODE 4 VEHICLE TYPE CODE 5  \\\n",
       "42087                  NaN                 NaN                 NaN   \n",
       "62406                  NaN                 NaN                 NaN   \n",
       "69596                  NaN                 NaN                 NaN   \n",
       "90894                  NaN                 NaN                 NaN   \n",
       "114639                 NaN                 NaN                 NaN   \n",
       "\n",
       "                                            DERIVATED ZIP  \n",
       "42087   SimpleZipcode(zipcode='11372', zipcode_type='S...  \n",
       "62406   SimpleZipcode(zipcode='10312', zipcode_type='S...  \n",
       "69596   SimpleZipcode(zipcode='10098', zipcode_type='S...  \n",
       "90894   SimpleZipcode(zipcode='11221', zipcode_type='S...  \n",
       "114639  SimpleZipcode(zipcode='10459', zipcode_type='S...  \n",
       "\n",
       "[5 rows x 27 columns]"
      ]
     },
     "execution_count": 370,
     "metadata": {},
     "output_type": "execute_result"
    }
   ],
   "source": [
    "precollision[precollision['NUMBER OF PERSONS INJURED'].isnull() | precollision['NUMBER OF PERSONS KILLED'].isnull()]"
   ]
  }
 ],
 "metadata": {
  "kernelspec": {
   "display_name": "Python 3",
   "language": "python",
   "name": "python3"
  },
  "language_info": {
   "codemirror_mode": {
    "name": "ipython",
    "version": 3
   },
   "file_extension": ".py",
   "mimetype": "text/x-python",
   "name": "python",
   "nbconvert_exporter": "python",
   "pygments_lexer": "ipython3",
   "version": "3.11.5"
  }
 },
 "nbformat": 4,
 "nbformat_minor": 2
}
