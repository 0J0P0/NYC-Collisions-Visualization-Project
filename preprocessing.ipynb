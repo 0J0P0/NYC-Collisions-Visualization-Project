{
 "cells": [
  {
   "cell_type": "markdown",
   "metadata": {},
   "source": [
    "# Preprocesing"
   ]
  },
  {
   "cell_type": "markdown",
   "metadata": {},
   "source": [
    "---\n",
    "**Authors**:\n",
    "-  *Juan P. Zaldivar E.*\n",
    "-  *Enrique Millán X.*\n",
    "---"
   ]
  },
  {
   "cell_type": "markdown",
   "metadata": {},
   "source": [
    "## Introduction"
   ]
  },
  {
   "cell_type": "markdown",
   "metadata": {},
   "source": [
    "This file contains the preprocessing required for the datasets. The datasets are:\n",
    "- Colissions dataset.\n",
    "- Weather dataset.\n",
    "- New York Map.\n",
    "\n",
    "\n",
    "<!-- explicar que primer se hace una exploracion visual y luego el preprocesing? -->"
   ]
  },
  {
   "cell_type": "markdown",
   "metadata": {},
   "source": [
    "The datasets are located in the folder `Data/` and the results are saved in the folder `Data/Preprocessed/`. Following are the loading of each dataset and the import of the required libraries."
   ]
  },
  {
   "cell_type": "code",
   "execution_count": 1,
   "metadata": {},
   "outputs": [],
   "source": [
    "# !pip install numpy\n",
    "# comentar las versiones de los paquetes"
   ]
  },
  {
   "cell_type": "markdown",
   "metadata": {},
   "source": [
    "### Import libraries"
   ]
  },
  {
   "cell_type": "code",
   "execution_count": 2,
   "metadata": {},
   "outputs": [],
   "source": [
    "import os\n",
    "import numpy as np\n",
    "import pandas as pd"
   ]
  },
  {
   "cell_type": "markdown",
   "metadata": {},
   "source": [
    "## Dataset obtaintion\n",
    "\n",
    "The *weather* dataset was obtained following the next steps:\n",
    "\n",
    "- Visit the [NOAA Climate Data Online Search](https://www.ncdc.noaa.gov/cdo-web/search)\n",
    "\n",
    "- Select the following options:  Weather Observation Type/Dataset -> Daily Summaries, Date Range -> 2018-01-01 to 2020-12-31, Search For -> Cities, Search Term -> New York City. \n",
    "\n",
    "- Look for \"New York, NY US\" and click in *ADD TO CART*. Now, click the cart in the top right corner.\n",
    "\n",
    "- Select \"Custom GHCN-Daily CSV\", and the date previously selected (2018-01-01 to 2020-12-31). We are selecting more information than needed, but we will later clean it with Pandas and Open Refine. Click continue.\n",
    "\n",
    "- Fill the three options, and select metric units.\n",
    "\n",
    "- Fill all the options remaining and click continue. There are some options that will be probably not needed, but we will further analyze this when cleaning the datsaets.\n",
    "\n",
    "- Type the email where you want to receive the data so the order can start.\n",
    "\n",
    "The *map* dataset was obtained following the next steps:\n"
   ]
  },
  {
   "cell_type": "markdown",
   "metadata": {},
   "source": [
    "## Load datasets"
   ]
  },
  {
   "cell_type": "code",
   "execution_count": 3,
   "metadata": {},
   "outputs": [],
   "source": [
    "dir = './Data'\n",
    "colission_exists = False"
   ]
  },
  {
   "cell_type": "markdown",
   "metadata": {},
   "source": [
    "### Colissions dataset"
   ]
  },
  {
   "cell_type": "code",
   "execution_count": 4,
   "metadata": {},
   "outputs": [
    {
     "data": {
      "text/plain": [
       "((115740, 29),\n",
       " Index(['CRASH DATE', 'CRASH TIME', 'BOROUGH', 'ZIP CODE', 'LATITUDE',\n",
       "        'LONGITUDE', 'LOCATION', 'ON STREET NAME', 'CROSS STREET NAME',\n",
       "        'OFF STREET NAME', 'NUMBER OF PERSONS INJURED',\n",
       "        'NUMBER OF PERSONS KILLED', 'NUMBER OF PEDESTRIANS INJURED',\n",
       "        'NUMBER OF PEDESTRIANS KILLED', 'NUMBER OF CYCLIST INJURED',\n",
       "        'NUMBER OF CYCLIST KILLED', 'NUMBER OF MOTORIST INJURED',\n",
       "        'NUMBER OF MOTORIST KILLED', 'CONTRIBUTING FACTOR VEHICLE 1',\n",
       "        'CONTRIBUTING FACTOR VEHICLE 2', 'CONTRIBUTING FACTOR VEHICLE 3',\n",
       "        'CONTRIBUTING FACTOR VEHICLE 4', 'CONTRIBUTING FACTOR VEHICLE 5',\n",
       "        'COLLISION_ID', 'VEHICLE TYPE CODE 1', 'VEHICLE TYPE CODE 2',\n",
       "        'VEHICLE TYPE CODE 3', 'VEHICLE TYPE CODE 4', 'VEHICLE TYPE CODE 5'],\n",
       "       dtype='object'))"
      ]
     },
     "execution_count": 4,
     "metadata": {},
     "output_type": "execute_result"
    }
   ],
   "source": [
    "if os.path.exists(f'{dir}/collisions_2018-2020.csv'):\n",
    "    collision = pd.read_csv(f'{dir}/collisions_2018-2020.csv')\n",
    "    colission_exists = True\n",
    "else:\n",
    "    collision = pd.read_csv(f'{dir}/collisions.csv')\n",
    "\n",
    "collision.shape, collision.columns"
   ]
  },
  {
   "cell_type": "code",
   "execution_count": 5,
   "metadata": {},
   "outputs": [
    {
     "data": {
      "text/html": [
       "<div>\n",
       "<style scoped>\n",
       "    .dataframe tbody tr th:only-of-type {\n",
       "        vertical-align: middle;\n",
       "    }\n",
       "\n",
       "    .dataframe tbody tr th {\n",
       "        vertical-align: top;\n",
       "    }\n",
       "\n",
       "    .dataframe thead th {\n",
       "        text-align: right;\n",
       "    }\n",
       "</style>\n",
       "<table border=\"1\" class=\"dataframe\">\n",
       "  <thead>\n",
       "    <tr style=\"text-align: right;\">\n",
       "      <th></th>\n",
       "      <th>CRASH DATE</th>\n",
       "      <th>CRASH TIME</th>\n",
       "      <th>BOROUGH</th>\n",
       "      <th>ZIP CODE</th>\n",
       "      <th>LATITUDE</th>\n",
       "      <th>LONGITUDE</th>\n",
       "      <th>LOCATION</th>\n",
       "      <th>ON STREET NAME</th>\n",
       "      <th>CROSS STREET NAME</th>\n",
       "      <th>OFF STREET NAME</th>\n",
       "      <th>...</th>\n",
       "      <th>CONTRIBUTING FACTOR VEHICLE 2</th>\n",
       "      <th>CONTRIBUTING FACTOR VEHICLE 3</th>\n",
       "      <th>CONTRIBUTING FACTOR VEHICLE 4</th>\n",
       "      <th>CONTRIBUTING FACTOR VEHICLE 5</th>\n",
       "      <th>COLLISION_ID</th>\n",
       "      <th>VEHICLE TYPE CODE 1</th>\n",
       "      <th>VEHICLE TYPE CODE 2</th>\n",
       "      <th>VEHICLE TYPE CODE 3</th>\n",
       "      <th>VEHICLE TYPE CODE 4</th>\n",
       "      <th>VEHICLE TYPE CODE 5</th>\n",
       "    </tr>\n",
       "  </thead>\n",
       "  <tbody>\n",
       "    <tr>\n",
       "      <th>0</th>\n",
       "      <td>2020-09-06</td>\n",
       "      <td>18:05</td>\n",
       "      <td>NaN</td>\n",
       "      <td>NaN</td>\n",
       "      <td>40.771038</td>\n",
       "      <td>-73.83413</td>\n",
       "      <td>(40.771038, -73.83413)</td>\n",
       "      <td>WHITESTONE EXPRESSWAY</td>\n",
       "      <td>NaN</td>\n",
       "      <td>NaN</td>\n",
       "      <td>...</td>\n",
       "      <td>Following Too Closely</td>\n",
       "      <td>NaN</td>\n",
       "      <td>NaN</td>\n",
       "      <td>NaN</td>\n",
       "      <td>4345591</td>\n",
       "      <td>Station Wagon/Sport Utility Vehicle</td>\n",
       "      <td>Motorcycle</td>\n",
       "      <td>NaN</td>\n",
       "      <td>NaN</td>\n",
       "      <td>NaN</td>\n",
       "    </tr>\n",
       "    <tr>\n",
       "      <th>1</th>\n",
       "      <td>2020-09-20</td>\n",
       "      <td>9:14</td>\n",
       "      <td>NaN</td>\n",
       "      <td>NaN</td>\n",
       "      <td>40.722095</td>\n",
       "      <td>-73.77772</td>\n",
       "      <td>(40.722095, -73.77772)</td>\n",
       "      <td>GRAND CENTRAL PKWY</td>\n",
       "      <td>NaN</td>\n",
       "      <td>NaN</td>\n",
       "      <td>...</td>\n",
       "      <td>Unspecified</td>\n",
       "      <td>NaN</td>\n",
       "      <td>NaN</td>\n",
       "      <td>NaN</td>\n",
       "      <td>4459141</td>\n",
       "      <td>Sedan</td>\n",
       "      <td>Pick-up Truck</td>\n",
       "      <td>NaN</td>\n",
       "      <td>NaN</td>\n",
       "      <td>NaN</td>\n",
       "    </tr>\n",
       "    <tr>\n",
       "      <th>2</th>\n",
       "      <td>2020-09-24</td>\n",
       "      <td>22:00</td>\n",
       "      <td>MANHATTAN</td>\n",
       "      <td>10039.0</td>\n",
       "      <td>40.824757</td>\n",
       "      <td>-73.94052</td>\n",
       "      <td>(40.824757, -73.94052)</td>\n",
       "      <td>8 AVENUE</td>\n",
       "      <td>WEST 148 STREET</td>\n",
       "      <td>NaN</td>\n",
       "      <td>...</td>\n",
       "      <td>Driver Inattention/Distraction</td>\n",
       "      <td>NaN</td>\n",
       "      <td>NaN</td>\n",
       "      <td>NaN</td>\n",
       "      <td>4461437</td>\n",
       "      <td>Sedan</td>\n",
       "      <td>Motorscooter</td>\n",
       "      <td>NaN</td>\n",
       "      <td>NaN</td>\n",
       "      <td>NaN</td>\n",
       "    </tr>\n",
       "    <tr>\n",
       "      <th>3</th>\n",
       "      <td>2020-08-06</td>\n",
       "      <td>5:30</td>\n",
       "      <td>NaN</td>\n",
       "      <td>NaN</td>\n",
       "      <td>NaN</td>\n",
       "      <td>NaN</td>\n",
       "      <td>NaN</td>\n",
       "      <td>NaN</td>\n",
       "      <td>NaN</td>\n",
       "      <td>120       Huge Grant Circle</td>\n",
       "      <td>...</td>\n",
       "      <td>Unspecified</td>\n",
       "      <td>NaN</td>\n",
       "      <td>NaN</td>\n",
       "      <td>NaN</td>\n",
       "      <td>4336560</td>\n",
       "      <td>Sedan</td>\n",
       "      <td>Station Wagon/Sport Utility Vehicle</td>\n",
       "      <td>NaN</td>\n",
       "      <td>NaN</td>\n",
       "      <td>NaN</td>\n",
       "    </tr>\n",
       "    <tr>\n",
       "      <th>4</th>\n",
       "      <td>2020-08-01</td>\n",
       "      <td>17:16</td>\n",
       "      <td>BRONX</td>\n",
       "      <td>10462.0</td>\n",
       "      <td>40.840508</td>\n",
       "      <td>-73.85515</td>\n",
       "      <td>(40.840508, -73.85515)</td>\n",
       "      <td>METROPOLITAN AVENUE</td>\n",
       "      <td>LINDEN DRIVE</td>\n",
       "      <td>NaN</td>\n",
       "      <td>...</td>\n",
       "      <td>Unspecified</td>\n",
       "      <td>NaN</td>\n",
       "      <td>NaN</td>\n",
       "      <td>NaN</td>\n",
       "      <td>4334713</td>\n",
       "      <td>Sedan</td>\n",
       "      <td>E-Bike</td>\n",
       "      <td>NaN</td>\n",
       "      <td>NaN</td>\n",
       "      <td>NaN</td>\n",
       "    </tr>\n",
       "  </tbody>\n",
       "</table>\n",
       "<p>5 rows × 29 columns</p>\n",
       "</div>"
      ],
      "text/plain": [
       "   CRASH DATE CRASH TIME    BOROUGH  ZIP CODE   LATITUDE  LONGITUDE  \\\n",
       "0  2020-09-06      18:05        NaN       NaN  40.771038  -73.83413   \n",
       "1  2020-09-20       9:14        NaN       NaN  40.722095  -73.77772   \n",
       "2  2020-09-24      22:00  MANHATTAN   10039.0  40.824757  -73.94052   \n",
       "3  2020-08-06       5:30        NaN       NaN        NaN        NaN   \n",
       "4  2020-08-01      17:16      BRONX   10462.0  40.840508  -73.85515   \n",
       "\n",
       "                 LOCATION         ON STREET NAME CROSS STREET NAME  \\\n",
       "0  (40.771038, -73.83413)  WHITESTONE EXPRESSWAY               NaN   \n",
       "1  (40.722095, -73.77772)     GRAND CENTRAL PKWY               NaN   \n",
       "2  (40.824757, -73.94052)               8 AVENUE   WEST 148 STREET   \n",
       "3                     NaN                    NaN               NaN   \n",
       "4  (40.840508, -73.85515)    METROPOLITAN AVENUE      LINDEN DRIVE   \n",
       "\n",
       "               OFF STREET NAME  ...   CONTRIBUTING FACTOR VEHICLE 2  \\\n",
       "0                          NaN  ...           Following Too Closely   \n",
       "1                          NaN  ...                     Unspecified   \n",
       "2                          NaN  ...  Driver Inattention/Distraction   \n",
       "3  120       Huge Grant Circle  ...                     Unspecified   \n",
       "4                          NaN  ...                     Unspecified   \n",
       "\n",
       "   CONTRIBUTING FACTOR VEHICLE 3  CONTRIBUTING FACTOR VEHICLE 4  \\\n",
       "0                            NaN                            NaN   \n",
       "1                            NaN                            NaN   \n",
       "2                            NaN                            NaN   \n",
       "3                            NaN                            NaN   \n",
       "4                            NaN                            NaN   \n",
       "\n",
       "   CONTRIBUTING FACTOR VEHICLE 5  COLLISION_ID  \\\n",
       "0                            NaN       4345591   \n",
       "1                            NaN       4459141   \n",
       "2                            NaN       4461437   \n",
       "3                            NaN       4336560   \n",
       "4                            NaN       4334713   \n",
       "\n",
       "                   VEHICLE TYPE CODE 1                  VEHICLE TYPE CODE 2  \\\n",
       "0  Station Wagon/Sport Utility Vehicle                           Motorcycle   \n",
       "1                                Sedan                        Pick-up Truck   \n",
       "2                                Sedan                         Motorscooter   \n",
       "3                                Sedan  Station Wagon/Sport Utility Vehicle   \n",
       "4                                Sedan                               E-Bike   \n",
       "\n",
       "   VEHICLE TYPE CODE 3 VEHICLE TYPE CODE 4 VEHICLE TYPE CODE 5  \n",
       "0                  NaN                 NaN                 NaN  \n",
       "1                  NaN                 NaN                 NaN  \n",
       "2                  NaN                 NaN                 NaN  \n",
       "3                  NaN                 NaN                 NaN  \n",
       "4                  NaN                 NaN                 NaN  \n",
       "\n",
       "[5 rows x 29 columns]"
      ]
     },
     "execution_count": 5,
     "metadata": {},
     "output_type": "execute_result"
    }
   ],
   "source": [
    "collision.head()"
   ]
  },
  {
   "cell_type": "markdown",
   "metadata": {},
   "source": [
    "To filter the data to the summer of 2018 and 2020, the first step is to change the data type of the *CRASH DATE* attribute."
   ]
  },
  {
   "cell_type": "code",
   "execution_count": 6,
   "metadata": {},
   "outputs": [
    {
     "data": {
      "text/html": [
       "<div>\n",
       "<style scoped>\n",
       "    .dataframe tbody tr th:only-of-type {\n",
       "        vertical-align: middle;\n",
       "    }\n",
       "\n",
       "    .dataframe tbody tr th {\n",
       "        vertical-align: top;\n",
       "    }\n",
       "\n",
       "    .dataframe thead th {\n",
       "        text-align: right;\n",
       "    }\n",
       "</style>\n",
       "<table border=\"1\" class=\"dataframe\">\n",
       "  <thead>\n",
       "    <tr style=\"text-align: right;\">\n",
       "      <th></th>\n",
       "      <th>CRASH DATE</th>\n",
       "      <th>CRASH TIME</th>\n",
       "      <th>BOROUGH</th>\n",
       "      <th>ZIP CODE</th>\n",
       "      <th>LATITUDE</th>\n",
       "      <th>LONGITUDE</th>\n",
       "      <th>LOCATION</th>\n",
       "      <th>ON STREET NAME</th>\n",
       "      <th>CROSS STREET NAME</th>\n",
       "      <th>OFF STREET NAME</th>\n",
       "      <th>...</th>\n",
       "      <th>CONTRIBUTING FACTOR VEHICLE 2</th>\n",
       "      <th>CONTRIBUTING FACTOR VEHICLE 3</th>\n",
       "      <th>CONTRIBUTING FACTOR VEHICLE 4</th>\n",
       "      <th>CONTRIBUTING FACTOR VEHICLE 5</th>\n",
       "      <th>COLLISION_ID</th>\n",
       "      <th>VEHICLE TYPE CODE 1</th>\n",
       "      <th>VEHICLE TYPE CODE 2</th>\n",
       "      <th>VEHICLE TYPE CODE 3</th>\n",
       "      <th>VEHICLE TYPE CODE 4</th>\n",
       "      <th>VEHICLE TYPE CODE 5</th>\n",
       "    </tr>\n",
       "  </thead>\n",
       "  <tbody>\n",
       "    <tr>\n",
       "      <th>0</th>\n",
       "      <td>2020-09-06</td>\n",
       "      <td>18:05</td>\n",
       "      <td>NaN</td>\n",
       "      <td>NaN</td>\n",
       "      <td>40.771038</td>\n",
       "      <td>-73.83413</td>\n",
       "      <td>(40.771038, -73.83413)</td>\n",
       "      <td>WHITESTONE EXPRESSWAY</td>\n",
       "      <td>NaN</td>\n",
       "      <td>NaN</td>\n",
       "      <td>...</td>\n",
       "      <td>Following Too Closely</td>\n",
       "      <td>NaN</td>\n",
       "      <td>NaN</td>\n",
       "      <td>NaN</td>\n",
       "      <td>4345591</td>\n",
       "      <td>Station Wagon/Sport Utility Vehicle</td>\n",
       "      <td>Motorcycle</td>\n",
       "      <td>NaN</td>\n",
       "      <td>NaN</td>\n",
       "      <td>NaN</td>\n",
       "    </tr>\n",
       "    <tr>\n",
       "      <th>1</th>\n",
       "      <td>2020-09-20</td>\n",
       "      <td>9:14</td>\n",
       "      <td>NaN</td>\n",
       "      <td>NaN</td>\n",
       "      <td>40.722095</td>\n",
       "      <td>-73.77772</td>\n",
       "      <td>(40.722095, -73.77772)</td>\n",
       "      <td>GRAND CENTRAL PKWY</td>\n",
       "      <td>NaN</td>\n",
       "      <td>NaN</td>\n",
       "      <td>...</td>\n",
       "      <td>Unspecified</td>\n",
       "      <td>NaN</td>\n",
       "      <td>NaN</td>\n",
       "      <td>NaN</td>\n",
       "      <td>4459141</td>\n",
       "      <td>Sedan</td>\n",
       "      <td>Pick-up Truck</td>\n",
       "      <td>NaN</td>\n",
       "      <td>NaN</td>\n",
       "      <td>NaN</td>\n",
       "    </tr>\n",
       "    <tr>\n",
       "      <th>2</th>\n",
       "      <td>2020-09-24</td>\n",
       "      <td>22:00</td>\n",
       "      <td>MANHATTAN</td>\n",
       "      <td>10039.0</td>\n",
       "      <td>40.824757</td>\n",
       "      <td>-73.94052</td>\n",
       "      <td>(40.824757, -73.94052)</td>\n",
       "      <td>8 AVENUE</td>\n",
       "      <td>WEST 148 STREET</td>\n",
       "      <td>NaN</td>\n",
       "      <td>...</td>\n",
       "      <td>Driver Inattention/Distraction</td>\n",
       "      <td>NaN</td>\n",
       "      <td>NaN</td>\n",
       "      <td>NaN</td>\n",
       "      <td>4461437</td>\n",
       "      <td>Sedan</td>\n",
       "      <td>Motorscooter</td>\n",
       "      <td>NaN</td>\n",
       "      <td>NaN</td>\n",
       "      <td>NaN</td>\n",
       "    </tr>\n",
       "    <tr>\n",
       "      <th>3</th>\n",
       "      <td>2020-08-06</td>\n",
       "      <td>5:30</td>\n",
       "      <td>NaN</td>\n",
       "      <td>NaN</td>\n",
       "      <td>NaN</td>\n",
       "      <td>NaN</td>\n",
       "      <td>NaN</td>\n",
       "      <td>NaN</td>\n",
       "      <td>NaN</td>\n",
       "      <td>120       Huge Grant Circle</td>\n",
       "      <td>...</td>\n",
       "      <td>Unspecified</td>\n",
       "      <td>NaN</td>\n",
       "      <td>NaN</td>\n",
       "      <td>NaN</td>\n",
       "      <td>4336560</td>\n",
       "      <td>Sedan</td>\n",
       "      <td>Station Wagon/Sport Utility Vehicle</td>\n",
       "      <td>NaN</td>\n",
       "      <td>NaN</td>\n",
       "      <td>NaN</td>\n",
       "    </tr>\n",
       "    <tr>\n",
       "      <th>4</th>\n",
       "      <td>2020-08-01</td>\n",
       "      <td>17:16</td>\n",
       "      <td>BRONX</td>\n",
       "      <td>10462.0</td>\n",
       "      <td>40.840508</td>\n",
       "      <td>-73.85515</td>\n",
       "      <td>(40.840508, -73.85515)</td>\n",
       "      <td>METROPOLITAN AVENUE</td>\n",
       "      <td>LINDEN DRIVE</td>\n",
       "      <td>NaN</td>\n",
       "      <td>...</td>\n",
       "      <td>Unspecified</td>\n",
       "      <td>NaN</td>\n",
       "      <td>NaN</td>\n",
       "      <td>NaN</td>\n",
       "      <td>4334713</td>\n",
       "      <td>Sedan</td>\n",
       "      <td>E-Bike</td>\n",
       "      <td>NaN</td>\n",
       "      <td>NaN</td>\n",
       "      <td>NaN</td>\n",
       "    </tr>\n",
       "  </tbody>\n",
       "</table>\n",
       "<p>5 rows × 29 columns</p>\n",
       "</div>"
      ],
      "text/plain": [
       "  CRASH DATE CRASH TIME    BOROUGH  ZIP CODE   LATITUDE  LONGITUDE  \\\n",
       "0 2020-09-06      18:05        NaN       NaN  40.771038  -73.83413   \n",
       "1 2020-09-20       9:14        NaN       NaN  40.722095  -73.77772   \n",
       "2 2020-09-24      22:00  MANHATTAN   10039.0  40.824757  -73.94052   \n",
       "3 2020-08-06       5:30        NaN       NaN        NaN        NaN   \n",
       "4 2020-08-01      17:16      BRONX   10462.0  40.840508  -73.85515   \n",
       "\n",
       "                 LOCATION         ON STREET NAME CROSS STREET NAME  \\\n",
       "0  (40.771038, -73.83413)  WHITESTONE EXPRESSWAY               NaN   \n",
       "1  (40.722095, -73.77772)     GRAND CENTRAL PKWY               NaN   \n",
       "2  (40.824757, -73.94052)               8 AVENUE   WEST 148 STREET   \n",
       "3                     NaN                    NaN               NaN   \n",
       "4  (40.840508, -73.85515)    METROPOLITAN AVENUE      LINDEN DRIVE   \n",
       "\n",
       "               OFF STREET NAME  ...   CONTRIBUTING FACTOR VEHICLE 2  \\\n",
       "0                          NaN  ...           Following Too Closely   \n",
       "1                          NaN  ...                     Unspecified   \n",
       "2                          NaN  ...  Driver Inattention/Distraction   \n",
       "3  120       Huge Grant Circle  ...                     Unspecified   \n",
       "4                          NaN  ...                     Unspecified   \n",
       "\n",
       "   CONTRIBUTING FACTOR VEHICLE 3  CONTRIBUTING FACTOR VEHICLE 4  \\\n",
       "0                            NaN                            NaN   \n",
       "1                            NaN                            NaN   \n",
       "2                            NaN                            NaN   \n",
       "3                            NaN                            NaN   \n",
       "4                            NaN                            NaN   \n",
       "\n",
       "   CONTRIBUTING FACTOR VEHICLE 5  COLLISION_ID  \\\n",
       "0                            NaN       4345591   \n",
       "1                            NaN       4459141   \n",
       "2                            NaN       4461437   \n",
       "3                            NaN       4336560   \n",
       "4                            NaN       4334713   \n",
       "\n",
       "                   VEHICLE TYPE CODE 1                  VEHICLE TYPE CODE 2  \\\n",
       "0  Station Wagon/Sport Utility Vehicle                           Motorcycle   \n",
       "1                                Sedan                        Pick-up Truck   \n",
       "2                                Sedan                         Motorscooter   \n",
       "3                                Sedan  Station Wagon/Sport Utility Vehicle   \n",
       "4                                Sedan                               E-Bike   \n",
       "\n",
       "   VEHICLE TYPE CODE 3 VEHICLE TYPE CODE 4 VEHICLE TYPE CODE 5  \n",
       "0                  NaN                 NaN                 NaN  \n",
       "1                  NaN                 NaN                 NaN  \n",
       "2                  NaN                 NaN                 NaN  \n",
       "3                  NaN                 NaN                 NaN  \n",
       "4                  NaN                 NaN                 NaN  \n",
       "\n",
       "[5 rows x 29 columns]"
      ]
     },
     "execution_count": 6,
     "metadata": {},
     "output_type": "execute_result"
    }
   ],
   "source": [
    "collision['CRASH DATE'] = pd.to_datetime(collision['CRASH DATE'])\n",
    "collision.head()"
   ]
  },
  {
   "cell_type": "markdown",
   "metadata": {},
   "source": [
    "If the filtered version does not exist, we proceed with the filtering."
   ]
  },
  {
   "cell_type": "code",
   "execution_count": 7,
   "metadata": {},
   "outputs": [
    {
     "data": {
      "text/plain": [
       "(115740, 29)"
      ]
     },
     "execution_count": 7,
     "metadata": {},
     "output_type": "execute_result"
    }
   ],
   "source": [
    "if not colission_exists:\n",
    "    collision = collision[((collision['CRASH DATE'] >= '2018-06-01') & (collision['CRASH DATE'] <= '2018-09-30')) | ((collision['CRASH DATE'] >= '2020-06-01') & (collision['CRASH DATE'] <= '2020-09-30'))]\n",
    "    collision.to_csv(f'{dir}/colissions_2018-2020.csv', index=False)\n",
    "\n",
    "collision.shape"
   ]
  },
  {
   "cell_type": "markdown",
   "metadata": {},
   "source": [
    "## Colission dataset preprocessing"
   ]
  },
  {
   "cell_type": "markdown",
   "metadata": {},
   "source": [
    "*ON STREET NAME* and *OFF STREET NAME* apparantly give the same information. Moreover, apparently, there are no rows taht contain both this attributes, so that is a reason to think of merging both columns."
   ]
  },
  {
   "cell_type": "markdown",
   "metadata": {},
   "source": [
    "We first check if there is a row that contains both of these attributes. Getting as result that there are no rows satisfying this condition."
   ]
  },
  {
   "cell_type": "code",
   "execution_count": 17,
   "metadata": {},
   "outputs": [
    {
     "data": {
      "text/plain": [
       "(0, 29)"
      ]
     },
     "execution_count": 17,
     "metadata": {},
     "output_type": "execute_result"
    }
   ],
   "source": [
    "collision[(collision['ON STREET NAME'].notnull()) & (collision['OFF STREET NAME'].notnull())].shape"
   ]
  },
  {
   "cell_type": "code",
   "execution_count": 9,
   "metadata": {},
   "outputs": [
    {
     "data": {
      "text/plain": [
       "(115514, 29)"
      ]
     },
     "execution_count": 9,
     "metadata": {},
     "output_type": "execute_result"
    }
   ],
   "source": [
    "collision[(collision['ON STREET NAME'].notnull()) | (collision['OFF STREET NAME'].notnull())].shape"
   ]
  },
  {
   "cell_type": "markdown",
   "metadata": {},
   "source": [
    "---"
   ]
  },
  {
   "cell_type": "markdown",
   "metadata": {},
   "source": [
    "*LOCATION* and *LATITUDE & LONGITUDE* seem to give th exact same information so let's check if we can remove the latter."
   ]
  },
  {
   "cell_type": "code",
   "execution_count": 10,
   "metadata": {},
   "outputs": [
    {
     "data": {
      "text/plain": [
       "(108073, 29)"
      ]
     },
     "execution_count": 10,
     "metadata": {},
     "output_type": "execute_result"
    }
   ],
   "source": [
    "# mirara si todas las que tienen longitud y latitud tienen location para ver si se pueden eliminar\n",
    "collision[(collision['LOCATION'].notnull()) & (collision['LATITUDE'].notnull()) & (collision['LONGITUDE'].notnull())].shape"
   ]
  },
  {
   "cell_type": "code",
   "execution_count": 11,
   "metadata": {},
   "outputs": [
    {
     "data": {
      "text/plain": [
       "(7667, 29)"
      ]
     },
     "execution_count": 11,
     "metadata": {},
     "output_type": "execute_result"
    }
   ],
   "source": [
    "# todas las que tienen location tienen longitud y latitud, por lo que podemos precindir de las columnas de longitud y latitud\n",
    "collision[(collision['LOCATION'].isnull())].shape"
   ]
  },
  {
   "cell_type": "code",
   "execution_count": 12,
   "metadata": {},
   "outputs": [
    {
     "data": {
      "text/plain": [
       "(0, 29)"
      ]
     },
     "execution_count": 12,
     "metadata": {},
     "output_type": "execute_result"
    }
   ],
   "source": [
    "collision[(collision['LOCATION'].isnull()) & (collision['LATITUDE'].notnull()) & (collision['LONGITUDE'].notnull())].shape"
   ]
  },
  {
   "cell_type": "code",
   "execution_count": 13,
   "metadata": {},
   "outputs": [
    {
     "data": {
      "text/plain": [
       "(0, 29)"
      ]
     },
     "execution_count": 13,
     "metadata": {},
     "output_type": "execute_result"
    }
   ],
   "source": [
    "collision[(collision['LATITUDE'].isnull()) & (collision['LONGITUDE'].notnull()) | (collision['LATITUDE'].notnull()) & (collision['LONGITUDE'].isnull())].shape"
   ]
  },
  {
   "cell_type": "markdown",
   "metadata": {},
   "source": [
    "---\n",
    "CROSS STREET se podria eliminar, ya que es la calle mas cercana y no aporta valor."
   ]
  },
  {
   "cell_type": "markdown",
   "metadata": {},
   "source": [
    "---\n",
    "se ha realizado un cluster (con el metodo *key collision* y funcion de keying *fingerprint*) de STREET NAME y se han unido las celdas con nombres semejantes.\n",
    "\n",
    "Luego se han eliminado los espacios sobrantes de la columna STREET NAME."
   ]
  },
  {
   "cell_type": "markdown",
   "metadata": {},
   "source": [
    "---"
   ]
  },
  {
   "cell_type": "markdown",
   "metadata": {},
   "source": [
    "solo hay 6 valores null"
   ]
  },
  {
   "cell_type": "code",
   "execution_count": 14,
   "metadata": {},
   "outputs": [
    {
     "name": "stdout",
     "output_type": "stream",
     "text": [
      "2 4 0 0 0 0 0 0\n"
     ]
    }
   ],
   "source": [
    "print(collision['NUMBER OF PERSONS INJURED'].isnull().sum(),\n",
    "collision['NUMBER OF PERSONS KILLED'].isnull().sum(),\n",
    "collision['NUMBER OF PEDESTRIANS INJURED'].isnull().sum(),\n",
    "collision['NUMBER OF PEDESTRIANS KILLED'].isnull().sum(),\n",
    "collision['NUMBER OF CYCLIST INJURED'].isnull().sum(),\n",
    "collision['NUMBER OF CYCLIST KILLED'].isnull().sum(),\n",
    "collision['NUMBER OF MOTORIST INJURED'].isnull().sum(),\n",
    "collision['NUMBER OF MOTORIST KILLED'].isnull().sum())"
   ]
  },
  {
   "cell_type": "code",
   "execution_count": 15,
   "metadata": {},
   "outputs": [
    {
     "name": "stdout",
     "output_type": "stream",
     "text": [
      "2 4 0 0 0 0 0 0\n"
     ]
    }
   ],
   "source": [
    "print(collision['NUMBER OF PERSONS INJURED'].isna().sum(),\n",
    "collision['NUMBER OF PERSONS KILLED'].isna().sum(),\n",
    "collision['NUMBER OF PEDESTRIANS INJURED'].isna().sum(),\n",
    "collision['NUMBER OF PEDESTRIANS KILLED'].isna().sum(),\n",
    "collision['NUMBER OF CYCLIST INJURED'].isna().sum(),\n",
    "collision['NUMBER OF CYCLIST KILLED'].isna().sum(),\n",
    "collision['NUMBER OF MOTORIST INJURED'].isna().sum(),\n",
    "collision['NUMBER OF MOTORIST KILLED'].isna().sum())"
   ]
  }
 ],
 "metadata": {
  "kernelspec": {
   "display_name": "Python 3",
   "language": "python",
   "name": "python3"
  },
  "language_info": {
   "codemirror_mode": {
    "name": "ipython",
    "version": 3
   },
   "file_extension": ".py",
   "mimetype": "text/x-python",
   "name": "python",
   "nbconvert_exporter": "python",
   "pygments_lexer": "ipython3",
   "version": "3.9.13"
  }
 },
 "nbformat": 4,
 "nbformat_minor": 2
}
