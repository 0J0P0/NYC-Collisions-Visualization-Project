{
 "cells": [
  {
   "cell_type": "code",
   "execution_count": null,
   "metadata": {},
   "outputs": [],
   "source": [
    "import geopandas as gpd\n",
    "import altair as alt\n",
    "import pandas as pd"
   ]
  },
  {
   "cell_type": "code",
   "execution_count": null,
   "metadata": {},
   "outputs": [],
   "source": [
    "dir = './Data'\n",
    "collisions = pd.read_csv(dir + '/collisions_clean.csv')"
   ]
  },
  {
   "cell_type": "markdown",
   "metadata": {},
   "source": [
    "# Which weather condition and type of vehicle were present in the majority of accidents each month? And in the combination of all the months?"
   ]
  },
  {
   "cell_type": "code",
   "execution_count": null,
   "metadata": {},
   "outputs": [],
   "source": [
    "import altair as alt\n",
    "from vega_datasets import data\n",
    "\n",
    "source = data.iris()\n",
    "\n",
    "alt.Chart(source, width=500).transform_window(\n",
    "    index='count()'\n",
    ").transform_fold(\n",
    "    ['petalLength', 'petalWidth', 'sepalLength', 'sepalWidth']\n",
    ").mark_line().encode(\n",
    "    x='key:N',\n",
    "    y='value:Q',\n",
    "    color='species:N',\n",
    "    detail='index:N',\n",
    "    opacity=alt.value(0.5)\n",
    ").interactive()"
   ]
  },
  {
   "cell_type": "code",
   "execution_count": null,
   "metadata": {},
   "outputs": [],
   "source": [
    "import altair as alt\n",
    "from vega_datasets import data\n",
    "\n",
    "source = data.unemployment_across_industries.url\n",
    "\n",
    "alt.Chart(source).mark_area().encode(\n",
    "    alt.X('yearmonth(date):T').axis(format='%Y', domain=False, tickSize=0),\n",
    "    alt.Y('sum(count):Q').stack('center').axis(None),\n",
    "    alt.Color('series:N').scale(scheme='category20b')\n",
    ")\n"
   ]
  },
  {
   "cell_type": "markdown",
   "metadata": {},
   "source": [
    "# In which area and at what hour did the majority of accidents each month happen? And in the combination of all the months?"
   ]
  },
  {
   "cell_type": "code",
   "execution_count": null,
   "metadata": {},
   "outputs": [],
   "source": [
    "nyc_map = gpd.read_file('Data/new-york-city-zipcodes-ny_.geojson')\n",
    "\n",
    "click = alt.selection_point(fields=['postalCode'])\n",
    "\n",
    "nyc = alt.Chart(nyc_map).mark_geoshape(\n",
    "    stroke='white',\n",
    "    strokeWidth=1,\n",
    "    filled=True,\n",
    "    tooltip=True\n",
    ").encode(\n",
    "    color=alt.Color('borough:N',\n",
    "                    scale=alt.Scale(scheme='yellowgreenblue'),\n",
    "                    legend=None),\n",
    "    opacity=alt.condition(click, alt.value(1), alt.value(0.2)),\n",
    "    tooltip=[alt.Tooltip('postalCode:N', title='Zip Code'), \n",
    "             alt.Tooltip('borough:N', title='Borough')]\n",
    ").project(\n",
    "    type='identity', reflectY=True\n",
    ")\n",
    "\n",
    "nyc.add_params(click)"
   ]
  },
  {
   "cell_type": "code",
   "execution_count": null,
   "metadata": {},
   "outputs": [],
   "source": [
    "nyc_map = gpd.read_file('Data/new-york-city-boroughs-ny_.geojson')\n",
    "nyc_map = nyc_map[['name', 'geometry']]\n",
    "df = collisions[['BOROUGH']]\n",
    "\n",
    "\n",
    "click = alt.selection_point(fields=['name'], on='mouseover')\n",
    "# click = alt.selection_multi(fields=['name'])\n",
    "\n",
    "nyc = alt.Chart(nyc_map).mark_geoshape(\n",
    "    stroke='white',\n",
    "    strokeWidth=1,\n",
    "    filled=True,\n",
    "    tooltip=True\n",
    ").encode(\n",
    "    color=alt.Color('name:N',\n",
    "                    scale=alt.Scale(scheme='yellowgreenblue'),\n",
    "                    legend=None),\n",
    "    opacity=alt.condition(click, alt.value(1), alt.value(0.2)),\n",
    "    tooltip=[alt.Tooltip('name:N', title='Borough')]\n",
    ").project(\n",
    "    type='identity', reflectY=True\n",
    ").properties(\n",
    "    width=500,\n",
    "    height=500\n",
    ")\n",
    "\n",
    "\n",
    "bars = alt.Chart(df).mark_bar().transform_lookup(\n",
    "    lookup='BOROUGH',\n",
    "    from_=alt.LookupData(data=nyc_map, key='name', fields=['name', 'name'])\n",
    ").encode(\n",
    "    x=alt.X('count():Q', title='Number of Collisions'),\n",
    "    y=alt.Y('name:N',\n",
    "            sort='-x',\n",
    "            title='Borough'),\n",
    "    color=alt.Color('name:N', legend=None),\n",
    "    opacity=alt.condition(click, alt.value(1), alt.value(0.2)),\n",
    "    tooltip=[alt.Tooltip('name:N', title='Borough'), \n",
    "             alt.Tooltip('count():Q', title='Number of Collisions')]\n",
    ").properties(\n",
    "    width=500,\n",
    "    height=500\n",
    ")\n",
    "\n",
    "(bars | nyc).add_params(click)"
   ]
  },
  {
   "cell_type": "markdown",
   "metadata": {},
   "source": [
    "# Which area presented the majority of taxi accidents during rainy days in June on Mondays at noon, 12am?"
   ]
  },
  {
   "cell_type": "code",
   "execution_count": null,
   "metadata": {},
   "outputs": [],
   "source": []
  },
  {
   "cell_type": "markdown",
   "metadata": {},
   "source": [
    "# Which day had more accidents during clear days in July in Manhattan?"
   ]
  },
  {
   "cell_type": "code",
   "execution_count": null,
   "metadata": {},
   "outputs": [],
   "source": []
  }
 ],
 "metadata": {
  "kernelspec": {
   "display_name": "Python 3",
   "language": "python",
   "name": "python3"
  },
  "language_info": {
   "codemirror_mode": {
    "name": "ipython",
    "version": 3
   },
   "file_extension": ".py",
   "mimetype": "text/x-python",
   "name": "python",
   "nbconvert_exporter": "python",
   "pygments_lexer": "ipython3",
   "version": "3.11.5"
  }
 },
 "nbformat": 4,
 "nbformat_minor": 2
}
